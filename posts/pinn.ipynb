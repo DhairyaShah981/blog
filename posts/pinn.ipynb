{
 "cells": [
  {
   "cell_type": "raw",
   "id": "3c92aaa4",
   "metadata": {},
   "source": [
    "---\n",
    "author: Nipun Batra\n",
    "badges: true\n",
    "categories:\n",
    "- ML\n",
    "date: '2023-05-5'\n",
    "output-file: pinn.html\n",
    "title: PINN\n",
    "toc: true\n",
    "\n",
    "---"
   ]
  },
  {
   "attachments": {},
   "cell_type": "markdown",
   "id": "77e01cd2",
   "metadata": {},
   "source": [
    "### Introduction\n",
    "\n",
    "PINNs are a class of neural networks for solving partial differential equations. They are trained to minimize the residual of the differential equation, and the boundary and initial conditions. This is done by defining a loss function that is the sum of the mean squared error of the differential equation and the boundary and initial conditions. The loss function is minimized using gradient descent.\n",
    "\n",
    "\n",
    "Reference: https://www.youtube.com/watch?v=LQ33-GeD-4Y\n",
    "\n",
    "Let us assume our true function is:\n",
    "\n",
    "$$u(x) = e^{ax} + x$$\n",
    "\n",
    "We have:\n",
    "\n",
    "$$\\frac{du}{dx} = ae^{ax} + 1$$\n",
    "\n",
    "$$\\frac{d^2u}{dx^2} = a^2e^{ax}$$\n",
    "\n",
    "We can create a differential equation from this:\n",
    "\n",
    "$$\\frac{d^2u}{dx^2} - a\\frac{du}{dx} = a$$\n",
    "\n",
    "We can also create a boundary condition from this:\n",
    "\n",
    "$$u(0) = 1$$\n",
    "$$u(1) = e^a + 1$$\n"
   ]
  },
  {
   "cell_type": "code",
   "execution_count": 1,
   "id": "e9308833",
   "metadata": {},
   "outputs": [],
   "source": [
    "import torch\n",
    "import torch.nn as nn\n",
    "import torch.nn.functional as F\n",
    "import matplotlib.pyplot as plt\n",
    "%matplotlib inline"
   ]
  },
  {
   "cell_type": "code",
   "execution_count": 2,
   "id": "e5101f90",
   "metadata": {},
   "outputs": [],
   "source": [
    "x_lin = torch.linspace(0, 1, 100)\n",
    "a = 2\n",
    "u_true = torch.e**(a*x_lin) +   x_lin"
   ]
  },
  {
   "cell_type": "code",
   "execution_count": 3,
   "id": "7ea062f4",
   "metadata": {},
   "outputs": [
    {
     "data": {
      "text/plain": [
       "[<matplotlib.lines.Line2D at 0x7efbc8253be0>]"
      ]
     },
     "execution_count": 3,
     "metadata": {},
     "output_type": "execute_result"
    },
    {
     "data": {
      "image/png": "[encoded data removed]",
      "text/plain": [
       "<Figure size 432x288 with 1 Axes>"
      ]
     },
     "metadata": {
      "needs_background": "light"
     },
     "output_type": "display_data"
    }
   ],
   "source": [
    "plt.plot(x_lin, u_true)"
   ]
  },
  {
   "cell_type": "code",
   "execution_count": 4,
   "id": "73281726",
   "metadata": {},
   "outputs": [],
   "source": [
    "class MLP(nn.Module):\n",
    "    def __init__(self, n_input=1, n_hidden=5, n_output=1):\n",
    "        super(MLP, self).__init__()\n",
    "        self.fc1 = nn.Linear(n_input, n_hidden)\n",
    "        self.fc2 = nn.Linear(n_hidden, n_hidden)\n",
    "        self.fc3 = nn.Linear(n_hidden, n_output)\n",
    "        \n",
    "    def forward(self, x):\n",
    "        x = torch.sin(self.fc1(x))\n",
    "        x = torch.sin(self.fc2(x))\n",
    "        x = self.fc3(x)\n",
    "        return x"
   ]
  },
  {
   "cell_type": "code",
   "execution_count": 5,
   "id": "4f81ca0f",
   "metadata": {},
   "outputs": [],
   "source": [
    "device = torch.device(\"cuda\" if torch.cuda.is_available() else \"cpu\")"
   ]
  },
  {
   "cell_type": "code",
   "execution_count": 6,
   "id": "35aed9d7",
   "metadata": {},
   "outputs": [
    {
     "data": {
      "text/plain": [
       "MLP(\n",
       "  (fc1): Linear(in_features=1, out_features=20, bias=True)\n",
       "  (fc2): Linear(in_features=20, out_features=20, bias=True)\n",
       "  (fc3): Linear(in_features=20, out_features=1, bias=True)\n",
       ")"
      ]
     },
     "execution_count": 6,
     "metadata": {},
     "output_type": "execute_result"
    }
   ],
   "source": [
    "u_model = MLP(n_hidden=20).to(device)\n",
    "u_model"
   ]
  },
  {
   "cell_type": "code",
   "execution_count": 7,
   "id": "fb778810",
   "metadata": {},
   "outputs": [
    {
     "name": "stdout",
     "output_type": "stream",
     "text": [
      "tensor([[0.1620],\n",
      "        [0.1934],\n",
      "        [0.0714],\n",
      "        [0.0571],\n",
      "        [0.1903],\n",
      "        [0.1520],\n",
      "        [0.1660],\n",
      "        [0.0063],\n",
      "        [0.0372],\n",
      "        [0.0696]], device='cuda:0', grad_fn=<AddmmBackward0>)\n"
     ]
    }
   ],
   "source": [
    "# Let us compute du/dx for any x vector\n",
    "\n",
    "x_vec = torch.randn(10, 1, requires_grad=True).to(device)\n",
    "u_vec = u_model(x_vec)\n",
    "print(u_vec)"
   ]
  },
  {
   "cell_type": "code",
   "execution_count": 8,
   "id": "958c95b9",
   "metadata": {},
   "outputs": [],
   "source": [
    "du_dx  = torch.autograd.grad(u_vec, # Whose gradient we want\n",
    "                            x_vec, # WRT what we want the gradient\n",
    "                            torch.ones_like(u_vec), # Shape of the gradient\n",
    "                            create_graph=True)[0] # We want to differentiate again"
   ]
  },
  {
   "cell_type": "code",
   "execution_count": 9,
   "id": "a1b32a5f",
   "metadata": {},
   "outputs": [
    {
     "data": {
      "text/plain": [
       "tensor([[-0.0515],\n",
       "        [-0.0306],\n",
       "        [-0.1101],\n",
       "        [-0.1171],\n",
       "        [-0.0325],\n",
       "        [-0.0587],\n",
       "        [-0.0487],\n",
       "        [-0.1360],\n",
       "        [-0.1257],\n",
       "        [-0.1111]], device='cuda:0', grad_fn=<MmBackward0>)"
      ]
     },
     "execution_count": 9,
     "metadata": {},
     "output_type": "execute_result"
    }
   ],
   "source": [
    "du_dx"
   ]
  },
  {
   "cell_type": "code",
   "execution_count": 10,
   "id": "1f91d673",
   "metadata": {},
   "outputs": [],
   "source": [
    "# Now, let us compute d2u/dx2 for any x vector\n",
    "\n",
    "x_vec = torch.randn(10, 1, requires_grad=True).to(device)\n",
    "u_vec = u_model(x_vec)\n",
    "du_dx  = torch.autograd.grad(u_vec, # Whose gradient we want\n",
    "                            x_vec, # WRT what we want the gradient\n",
    "                            torch.ones_like(u_vec), # Shape of the gradient\n",
    "                            create_graph=True)[0] # We want to differentiate again\n",
    "\n",
    "d2u_dx2  = torch.autograd.grad(du_dx, # Whose gradient we want\n",
    "                            x_vec, # WRT what we want the gradient\n",
    "                            torch.ones_like(du_dx), # Shape of the gradient\n",
    "                            create_graph=True)[0] # We want to differentiate again\n"
   ]
  },
  {
   "cell_type": "code",
   "execution_count": 11,
   "id": "29351f95",
   "metadata": {},
   "outputs": [
    {
     "data": {
      "text/plain": [
       "tensor([[-0.0410],\n",
       "        [-0.0573],\n",
       "        [-0.0434],\n",
       "        [-0.0512],\n",
       "        [ 0.0402],\n",
       "        [-0.0564],\n",
       "        [ 0.0408],\n",
       "        [-0.0561],\n",
       "        [-0.0580],\n",
       "        [-0.0543]], device='cuda:0', grad_fn=<MmBackward0>)"
      ]
     },
     "execution_count": 11,
     "metadata": {},
     "output_type": "execute_result"
    }
   ],
   "source": [
    "d2u_dx2"
   ]
  },
  {
   "cell_type": "code",
   "execution_count": 12,
   "id": "f744e353",
   "metadata": {},
   "outputs": [],
   "source": [
    "# PDE loss\n",
    "\n",
    "def pde_loss(model, x):\n",
    "    u = model(x)\n",
    "    du_dx = torch.autograd.grad(u, # Whose gradient we want\n",
    "                            x, # WRT what we want the gradient\n",
    "                            torch.ones_like(u), # Shape of the gradient\n",
    "                            create_graph=True)[0] # We want to differentiate again\n",
    "    d2u_dx2 = torch.autograd.grad(du_dx, # Whose gradient we want\n",
    "                            x, # WRT what we want the gradient\n",
    "                            torch.ones_like(du_dx), # Shape of the gradient\n",
    "                            create_graph=True)[0] # We want to differentiate again\n",
    "    \n",
    "    # Our PDE is d2u/dx2 -a*du/dx = a\n",
    "    # Loss = (d2u/dx2 -a*du/dx - a)**2\n",
    "    loss = (d2u_dx2 - a*du_dx - a)**2\n",
    "    return loss.mean()\n",
    "    "
   ]
  },
  {
   "cell_type": "code",
   "execution_count": 13,
   "id": "bc60dd9b",
   "metadata": {},
   "outputs": [],
   "source": [
    "# Boundary loss\n",
    "def boundary_loss(model):\n",
    "    # Boundary condition u(0) = 1\n",
    "    x = torch.tensor([[0.0]]).to(device)\n",
    "    u = model(x)\n",
    "    loss = (u - 1)**2\n",
    "    \n",
    "    # Boundary condition u(1) = e^a + 1\n",
    "    x = torch.tensor([[1.0]]).to(device)\n",
    "    u = model(x)\n",
    "    loss += (u - torch.e**(a) - 1)**2\n",
    "    return loss.mean()"
   ]
  },
  {
   "cell_type": "code",
   "execution_count": 14,
   "id": "76fed0ac",
   "metadata": {},
   "outputs": [
    {
     "name": "stdout",
     "output_type": "stream",
     "text": [
      "Epoch: 0, Loss: 76.9179\n",
      "Epoch: 50, Loss: 44.1352\n",
      "Epoch: 100, Loss: 32.6026\n",
      "Epoch: 150, Loss: 29.2667\n",
      "Epoch: 200, Loss: 26.7229\n",
      "Epoch: 250, Loss: 25.0849\n",
      "Epoch: 300, Loss: 21.3763\n",
      "Epoch: 350, Loss: 15.6775\n",
      "Epoch: 400, Loss: 9.4585\n",
      "Epoch: 450, Loss: 5.4534\n",
      "Epoch: 500, Loss: 2.9488\n",
      "Epoch: 550, Loss: 1.8614\n",
      "Epoch: 600, Loss: 1.1479\n",
      "Epoch: 650, Loss: 0.7941\n",
      "Epoch: 700, Loss: 0.5778\n",
      "Epoch: 750, Loss: 0.4576\n",
      "Epoch: 800, Loss: 0.4216\n",
      "Epoch: 850, Loss: 0.3251\n",
      "Epoch: 900, Loss: 0.2402\n",
      "Epoch: 950, Loss: 0.2836\n",
      "Epoch: 1000, Loss: 0.1607\n",
      "Epoch: 1050, Loss: 0.1918\n",
      "Epoch: 1100, Loss: 0.1569\n",
      "Epoch: 1150, Loss: 0.1289\n",
      "Epoch: 1200, Loss: 0.1106\n",
      "Epoch: 1250, Loss: 0.0871\n",
      "Epoch: 1300, Loss: 0.0962\n",
      "Epoch: 1350, Loss: 0.0702\n",
      "Epoch: 1400, Loss: 0.0816\n",
      "Epoch: 1450, Loss: 0.0658\n",
      "Epoch: 1500, Loss: 0.0581\n",
      "Epoch: 1550, Loss: 0.0451\n",
      "Epoch: 1600, Loss: 0.0355\n",
      "Epoch: 1650, Loss: 0.0454\n",
      "Epoch: 1700, Loss: 0.0382\n",
      "Epoch: 1750, Loss: 0.0327\n",
      "Epoch: 1800, Loss: 0.0364\n",
      "Epoch: 1850, Loss: 0.0294\n",
      "Epoch: 1900, Loss: 0.0345\n",
      "Epoch: 1950, Loss: 0.0343\n",
      "Epoch: 2000, Loss: 0.0241\n",
      "Epoch: 2050, Loss: 0.0319\n",
      "Epoch: 2100, Loss: 0.0325\n",
      "Epoch: 2150, Loss: 0.0250\n",
      "Epoch: 2200, Loss: 0.0284\n",
      "Epoch: 2250, Loss: 0.0255\n",
      "Epoch: 2300, Loss: 0.0237\n",
      "Epoch: 2350, Loss: 0.0262\n",
      "Epoch: 2400, Loss: 0.0189\n",
      "Epoch: 2450, Loss: 0.0204\n",
      "Epoch: 2500, Loss: 0.0233\n",
      "Epoch: 2550, Loss: 0.0200\n",
      "Epoch: 2600, Loss: 0.0197\n",
      "Epoch: 2650, Loss: 0.0192\n",
      "Epoch: 2700, Loss: 0.0222\n",
      "Epoch: 2750, Loss: 0.0213\n",
      "Epoch: 2800, Loss: 0.0224\n",
      "Epoch: 2850, Loss: 0.0182\n",
      "Epoch: 2900, Loss: 0.0208\n",
      "Epoch: 2950, Loss: 0.0232\n",
      "Epoch: 3000, Loss: 0.0184\n",
      "Epoch: 3050, Loss: 0.0231\n",
      "Epoch: 3100, Loss: 0.0180\n",
      "Epoch: 3150, Loss: 0.0121\n",
      "Epoch: 3200, Loss: 0.0151\n",
      "Epoch: 3250, Loss: 0.0164\n",
      "Epoch: 3300, Loss: 0.0129\n",
      "Epoch: 3350, Loss: 0.0136\n",
      "Epoch: 3400, Loss: 0.0177\n",
      "Epoch: 3450, Loss: 0.0135\n",
      "Epoch: 3500, Loss: 0.0123\n",
      "Epoch: 3550, Loss: 0.0130\n",
      "Epoch: 3600, Loss: 0.0090\n",
      "Epoch: 3650, Loss: 0.0113\n",
      "Epoch: 3700, Loss: 0.0156\n",
      "Epoch: 3750, Loss: 0.0106\n",
      "Epoch: 3800, Loss: 0.0127\n",
      "Epoch: 3850, Loss: 0.0098\n",
      "Epoch: 3900, Loss: 0.0113\n",
      "Epoch: 3950, Loss: 0.0124\n",
      "Epoch: 4000, Loss: 0.0081\n",
      "Epoch: 4050, Loss: 0.0081\n",
      "Epoch: 4100, Loss: 0.0097\n",
      "Epoch: 4150, Loss: 0.0070\n",
      "Epoch: 4200, Loss: 0.0110\n",
      "Epoch: 4250, Loss: 0.0090\n",
      "Epoch: 4300, Loss: 0.0072\n",
      "Epoch: 4350, Loss: 0.0092\n",
      "Epoch: 4400, Loss: 0.0085\n",
      "Epoch: 4450, Loss: 0.0076\n",
      "Epoch: 4500, Loss: 0.0086\n",
      "Epoch: 4550, Loss: 0.0100\n",
      "Epoch: 4600, Loss: 0.0075\n",
      "Epoch: 4650, Loss: 0.0063\n",
      "Epoch: 4700, Loss: 0.0052\n",
      "Epoch: 4750, Loss: 0.0059\n",
      "Epoch: 4800, Loss: 0.0054\n",
      "Epoch: 4850, Loss: 0.0058\n",
      "Epoch: 4900, Loss: 0.0044\n",
      "Epoch: 4950, Loss: 0.0107\n"
     ]
    }
   ],
   "source": [
    "# Training loop\n",
    "u_model = MLP(n_hidden=30).to(device)\n",
    "\n",
    "optimizer = torch.optim.Adam(u_model.parameters(), lr=0.001)\n",
    "\n",
    "for epoch in range(5000):\n",
    "    optimizer.zero_grad()\n",
    "    x_vec = torch.rand((400, 1), requires_grad=True).to(device)\n",
    "    loss = pde_loss(u_model, x_vec) + boundary_loss(u_model)\n",
    "    loss.backward()\n",
    "    optimizer.step()\n",
    "    if epoch % 50 == 0:\n",
    "        print(\"Epoch: {}, Loss: {:.4f}\".format(epoch, loss.item()))\n",
    "\n",
    "\n",
    "    "
   ]
  },
  {
   "cell_type": "code",
   "execution_count": 15,
   "id": "ffeaaee5",
   "metadata": {},
   "outputs": [
    {
     "data": {
      "text/plain": [
       "<matplotlib.legend.Legend at 0x7efbb83029d0>"
      ]
     },
     "execution_count": 15,
     "metadata": {},
     "output_type": "execute_result"
    },
    {
     "data": {
      "image/png": "[encoded data removed]",
      "text/plain": [
       "<Figure size 432x288 with 1 Axes>"
      ]
     },
     "metadata": {
      "needs_background": "light"
     },
     "output_type": "display_data"
    }
   ],
   "source": [
    "# Plotting the results\n",
    "x_lin = torch.linspace(0, 1, 100).to(device)\n",
    "u_true = torch.e**(a*x_lin) +   x_lin\n",
    "u_pred = u_model(x_lin.unsqueeze(1)).cpu().detach()\n",
    "\n",
    "plt.plot(x_lin.cpu(), u_true.cpu(), label=\"True\")\n",
    "plt.plot(x_lin.cpu(), u_pred, label=\"Predicted\")\n",
    "plt.legend()"
   ]
  }
 ],
 "metadata": {
  "kernelspec": {
   "display_name": "base",
   "language": "python",
   "name": "python3"
  },
  "language_info": {
   "codemirror_mode": {
    "name": "ipython",
    "version": 3
   },
   "file_extension": ".py",
   "mimetype": "text/x-python",
   "name": "python",
   "nbconvert_exporter": "python",
   "pygments_lexer": "ipython3",
   "version": "3.9.7"
  },
  "vscode": {
   "interpreter": {
    "hash": "a5a8a649fae9f7dd41e8adc1d2fca9d99b1b7a58cc684de3b9310442441ba4ba"
   }
  }
 },
 "nbformat": 4,
 "nbformat_minor": 5
}
