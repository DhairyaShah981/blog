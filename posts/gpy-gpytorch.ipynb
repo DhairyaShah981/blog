{
 "cells": [
  {
   "cell_type": "raw",
   "metadata": {},
   "source": [
    "---\n",
    "author: Nipun Batra\n",
    "badges: true\n",
    "categories:\n",
    "- ML\n",
    "date: '2023-02-06'\n",
    "output-file: gpy-gpytorch.html\n",
    "title: GPy and gpytorch\n",
    "toc: true\n",
    "\n",
    "---"
   ]
  },
  {
   "cell_type": "markdown",
   "id": "b7e27521",
   "metadata": {},
   "source": [
    "### In this notebook, we will show how to configure GPy and gpytorch to give the same loss for a simple GP regression problem."
   ]
  },
  {
   "cell_type": "code",
   "execution_count": 1,
   "id": "2446ff8f",
   "metadata": {},
   "outputs": [
    {
     "name": "stdout",
     "output_type": "stream",
     "text": [
      "GPy loss: 106.72974515800342\n",
      "gpytorch loss: 106.72974586486816\n"
     ]
    }
   ],
   "source": [
    "import numpy as np\n",
    "import GPy\n",
    "import gpytorch\n",
    "import torch\n",
    "\n",
    "# Generate the 1D regression dataset\n",
    "np.random.seed(0)\n",
    "N = 100\n",
    "X = np.linspace(0, 1, N).reshape(-1, 1)\n",
    "y = np.sin(2 * np.pi * X).ravel() + 0.05 * np.random.randn(N)\n",
    "\n",
    "# Create the GPy model\n",
    "kernel = GPy.kern.RBF(input_dim=1, lengthscale=1)\n",
    "gpy_model = GPy.models.GPRegression(X, y.reshape(-1, 1), kernel)\n",
    "\n",
    "# Evaluate the GPy loss\n",
    "gpy_loss = -gpy_model.log_likelihood()\n",
    "\n",
    "# Create the gpytorch model\n",
    "class GPRegressionModel(gpytorch.models.ExactGP):\n",
    "    def __init__(self, train_x, train_y, likelihood):\n",
    "        super(GPRegressionModel, self).__init__(train_x, train_y, likelihood)\n",
    "        self.mean_module = gpytorch.means.ConstantMean()\n",
    "        self.covar_module = gpytorch.kernels.ScaleKernel(gpytorch.kernels.RBFKernel())\n",
    "\n",
    "    def forward(self, x):\n",
    "        mean_x = self.mean_module(x)\n",
    "        covar_x = self.covar_module(x)\n",
    "        return gpytorch.distributions.MultivariateNormal(mean_x, covar_x)\n",
    "\n",
    "# Initialize the likelihood and model\n",
    "likelihood = gpytorch.likelihoods.GaussianLikelihood()\n",
    "\n",
    "# Set likelihood noise to the GPy value\n",
    "likelihood.noise = gpy_model.likelihood.variance[0]\n",
    "\n",
    "gpytorch_model = GPRegressionModel(torch.from_numpy(X).float(), torch.from_numpy(y).float(), likelihood)\n",
    "\n",
    "# Set the kernel parameters to the GPy values\n",
    "gpytorch_model.covar_module.base_kernel.lengthscale = gpy_model.kern.lengthscale[0]\n",
    "gpytorch_model.covar_module.outputscale = gpy_model.kern.variance[0]\n",
    "\n",
    "# Confirm that the GPy and gpytorch models have the same parameters\n",
    "assert gpy_model.kern.lengthscale[0] == gpytorch_model.covar_module.base_kernel.lengthscale.item()\n",
    "assert gpy_model.kern.variance[0] == gpytorch_model.covar_module.outputscale.item()\n",
    "assert gpy_model.likelihood.variance[0] == gpytorch_model.likelihood.noise.item()\n",
    "\n",
    "# Find the gpytorch loss\n",
    "output = gpytorch_model(torch.from_numpy(X).float())\n",
    "# MLL\n",
    "mll = gpytorch.mlls.ExactMarginalLogLikelihood(likelihood, gpytorch_model)\n",
    "\n",
    "# Find the gpytorch loss\n",
    "gpytorch_loss = -mll(output, torch.from_numpy(y).float())\n",
    "\n",
    "# Print the losses\n",
    "print('GPy loss: {}'.format(gpy_loss))\n",
    "# We multiply by N because the gpytorch loss is the average loss per data point\n",
    "print('gpytorch loss: {}'.format(gpytorch_loss.item()*N))"
   ]
  }
 ],
 "metadata": {
  "kernelspec": {
   "display_name": "base",
   "language": "python",
   "name": "python3"
  },
  "language_info": {
   "codemirror_mode": {
    "name": "ipython",
    "version": 3
   },
   "file_extension": ".py",
   "mimetype": "text/x-python",
   "name": "python",
   "nbconvert_exporter": "python",
   "pygments_lexer": "ipython3",
   "version": "3.9.15"
  },
  "vscode": {
   "interpreter": {
    "hash": "a5a8a649fae9f7dd41e8adc1d2fca9d99b1b7a58cc684de3b9310442441ba4ba"
   }
  }
 },
 "nbformat": 4,
 "nbformat_minor": 5
}
