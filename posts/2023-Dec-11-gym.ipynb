{
 "cells": [
  {
   "cell_type": "raw",
   "id": "12a1fd37",
   "metadata": {},
   "source": [
    "---\n",
    "author: Nipun Batra\n",
    "badges: true\n",
    "categories:\n",
    "- ML\n",
    "date: '2023-12-11'\n",
    "output-file: rl.html\n",
    "title: Super Reinforcement Learning\n",
    "toc: true\n",
    "\n",
    "---\n",
    "\n"
   ]
  },
  {
   "attachments": {},
   "cell_type": "markdown",
   "id": "c576bebd",
   "metadata": {},
   "source": [
    "### Basic Imports"
   ]
  },
  {
   "cell_type": "code",
   "execution_count": 20,
   "id": "f41ca63d",
   "metadata": {},
   "outputs": [],
   "source": [
    "import matplotlib.pyplot as plt\n",
    "import torch\n",
    "import gymnasium as gym\n",
    "import numpy as np\n",
    "\n",
    "%matplotlib inline\n",
    "%config InlineBackend.figure_format='retina'"
   ]
  },
  {
   "cell_type": "code",
   "execution_count": 2,
   "metadata": {},
   "outputs": [
    {
     "data": {
      "text/plain": [
       "['CartPole-v0',\n",
       " 'CartPole-v1',\n",
       " 'MountainCar-v0',\n",
       " 'MountainCarContinuous-v0',\n",
       " 'Pendulum-v1',\n",
       " 'Acrobot-v1',\n",
       " 'phys2d/CartPole-v0',\n",
       " 'phys2d/CartPole-v1',\n",
       " 'phys2d/Pendulum-v0',\n",
       " 'LunarLander-v2',\n",
       " 'LunarLanderContinuous-v2',\n",
       " 'BipedalWalker-v3',\n",
       " 'BipedalWalkerHardcore-v3',\n",
       " 'CarRacing-v2',\n",
       " 'Blackjack-v1',\n",
       " 'FrozenLake-v1',\n",
       " 'FrozenLake8x8-v1',\n",
       " 'CliffWalking-v0',\n",
       " 'Taxi-v3',\n",
       " 'tabular/Blackjack-v0',\n",
       " 'tabular/CliffWalking-v0',\n",
       " 'Reacher-v2',\n",
       " 'Reacher-v4',\n",
       " 'Pusher-v2',\n",
       " 'Pusher-v4',\n",
       " 'InvertedPendulum-v2',\n",
       " 'InvertedPendulum-v4',\n",
       " 'InvertedDoublePendulum-v2',\n",
       " 'InvertedDoublePendulum-v4',\n",
       " 'HalfCheetah-v2',\n",
       " 'HalfCheetah-v3',\n",
       " 'HalfCheetah-v4',\n",
       " 'Hopper-v2',\n",
       " 'Hopper-v3',\n",
       " 'Hopper-v4',\n",
       " 'Swimmer-v2',\n",
       " 'Swimmer-v3',\n",
       " 'Swimmer-v4',\n",
       " 'Walker2d-v2',\n",
       " 'Walker2d-v3',\n",
       " 'Walker2d-v4',\n",
       " 'Ant-v2',\n",
       " 'Ant-v3',\n",
       " 'Ant-v4',\n",
       " 'Humanoid-v2',\n",
       " 'Humanoid-v3',\n",
       " 'Humanoid-v4',\n",
       " 'HumanoidStandup-v2',\n",
       " 'HumanoidStandup-v4',\n",
       " 'GymV21Environment-v0',\n",
       " 'GymV26Environment-v0']"
      ]
     },
     "execution_count": 2,
     "metadata": {},
     "output_type": "execute_result"
    }
   ],
   "source": [
    "# List of environments\n",
    "list(gym.envs.registry.keys())"
   ]
  },
  {
   "cell_type": "code",
   "execution_count": 3,
   "metadata": {},
   "outputs": [
    {
     "name": "stderr",
     "output_type": "stream",
     "text": [
      "/Users/nipun/miniconda3/lib/python3.9/site-packages/gymnasium/envs/registration.py:513: DeprecationWarning: \u001b[33mWARN: The environment CartPole-v0 is out of date. You should consider upgrading to version `v1`.\u001b[0m\n",
      "  logger.deprecation(\n"
     ]
    }
   ],
   "source": [
    "env = gym.make(\"CartPole-v0\", render_mode=\"human\")\n",
    "observation, info = env.reset(seed=42)"
   ]
  },
  {
   "cell_type": "code",
   "execution_count": 4,
   "metadata": {},
   "outputs": [
    {
     "data": {
      "text/plain": [
       "Discrete(2)"
      ]
     },
     "execution_count": 4,
     "metadata": {},
     "output_type": "execute_result"
    }
   ],
   "source": [
    "env.action_space"
   ]
  },
  {
   "cell_type": "code",
   "execution_count": 5,
   "metadata": {},
   "outputs": [
    {
     "data": {
      "text/plain": [
       "0"
      ]
     },
     "execution_count": 5,
     "metadata": {},
     "output_type": "execute_result"
    }
   ],
   "source": [
    "env.action_space.sample()"
   ]
  },
  {
   "cell_type": "code",
   "execution_count": 6,
   "metadata": {},
   "outputs": [
    {
     "data": {
      "text/plain": [
       "0"
      ]
     },
     "execution_count": 6,
     "metadata": {},
     "output_type": "execute_result"
    }
   ],
   "source": [
    "env.action_space.sample()"
   ]
  },
  {
   "cell_type": "code",
   "execution_count": 7,
   "metadata": {},
   "outputs": [
    {
     "name": "stdout",
     "output_type": "stream",
     "text": [
      "Box([-4.8000002e+00 -3.4028235e+38 -4.1887903e-01 -3.4028235e+38], [4.8000002e+00 3.4028235e+38 4.1887903e-01 3.4028235e+38], (4,), float32)\n"
     ]
    }
   ],
   "source": [
    "print(env.observation_space)"
   ]
  },
  {
   "cell_type": "code",
   "execution_count": 8,
   "metadata": {},
   "outputs": [],
   "source": [
    "for _ in range(100):\n",
    "   action = env.action_space.sample()  # this is where you would insert your policy\n",
    "   observation, reward, terminated, truncated, info = env.step(action)\n",
    "\n",
    "   if terminated or truncated:\n",
    "      observation, info = env.reset()\n",
    "\n"
   ]
  },
  {
   "cell_type": "code",
   "execution_count": 12,
   "metadata": {},
   "outputs": [
    {
     "name": "stdout",
     "output_type": "stream",
     "text": [
      "Episode finished after 8 timesteps\n",
      "Episode finished after 17 timesteps\n",
      "Episode finished after 27 timesteps\n",
      "Episode finished after 37 timesteps\n",
      "Episode finished after 46 timesteps\n",
      "Episode finished after 54 timesteps\n",
      "Episode finished after 64 timesteps\n",
      "Episode finished after 73 timesteps\n",
      "Episode finished after 83 timesteps\n",
      "Episode finished after 93 timesteps\n"
     ]
    }
   ],
   "source": [
    "# Now, let us take only the action 1\n",
    "observation, info = env.reset(seed=42)\n",
    "for i in range(100):\n",
    "   action = 0  # this is where you would insert your policy\n",
    "   observation, reward, terminated, truncated, info = env.step(action)\n",
    "\n",
    "   if terminated or truncated:\n",
    "        print(\"Episode finished after {} timesteps\".format(i+1))\n",
    "        observation, info = env.reset()"
   ]
  },
  {
   "cell_type": "code",
   "execution_count": 26,
   "metadata": {},
   "outputs": [],
   "source": [
    "# Create a q table\n",
    "num_states = env.observation_space.shape[0]\n",
    "num_actions = env.action_space.n\n"
   ]
  },
  {
   "cell_type": "code",
   "execution_count": 59,
   "metadata": {},
   "outputs": [],
   "source": [
    "i = 1\n",
    "bins = np.linspace(env.observation_space.low[i], env.observation_space.high[i], num_bins[i] + 1)[1:-1]"
   ]
  },
  {
   "cell_type": "code",
   "execution_count": 63,
   "metadata": {},
   "outputs": [
    {
     "data": {
      "text/plain": [
       "array([7])"
      ]
     },
     "execution_count": 63,
     "metadata": {},
     "output_type": "execute_result"
    }
   ],
   "source": [
    "np.digitize([env.observation_space.low[2]], bins)"
   ]
  },
  {
   "cell_type": "code",
   "execution_count": 99,
   "metadata": {},
   "outputs": [],
   "source": [
    "# Define the number of bins for each dimension\n",
    "num_bins = [3, 3, 3, 3]  # Adjust these values based on your preference\n",
    "\n",
    "# Discretize the continuous state space\n",
    "def discretize_state(state, num_bins):\n",
    "    state_discrete = []\n",
    "    for i in range(len(state)):\n",
    "        bins = np.linspace(env.observation_space.low[i], env.observation_space.high[i], num_bins[i] + 1)[1:-1]\n",
    "        state_discrete.append(np.digitize(state[i], bins))\n",
    "    return tuple(state_discrete)\n",
    "\n",
    "\n",
    "# Initialize Q-table with zeros\n",
    "q_table = 1e-2*torch.randn(num_bins + [env.action_space.n])\n",
    "\n",
    "def update_q_table(q_table, state, action, reward, next_state, learning_rate, discount_factor):\n",
    "    state = tuple(state)\n",
    "    next_state = tuple(next_state)\n",
    "    q_table[state][action] = (1 - learning_rate) * q_table[state][action] + learning_rate * (reward + discount_factor * torch.max(q_table[next_state]))\n",
    "\n",
    "    return q_table"
   ]
  },
  {
   "cell_type": "code",
   "execution_count": 100,
   "metadata": {},
   "outputs": [
    {
     "data": {
      "text/plain": [
       "tensor([[[[[ 0.0003, -0.0164],\n",
       "           [-0.0066, -0.0123],\n",
       "           [-0.0020, -0.0066]],\n",
       "\n",
       "          [[ 0.0140,  0.0090],\n",
       "           [-0.0116,  0.0231],\n",
       "           [ 0.0031, -0.0010]],\n",
       "\n",
       "          [[ 0.0121,  0.0208],\n",
       "           [-0.0023, -0.0126],\n",
       "           [ 0.0163,  0.0042]]],\n",
       "\n",
       "\n",
       "         [[[ 0.0097, -0.0119],\n",
       "           [-0.0123,  0.0099],\n",
       "           [-0.0013,  0.0010]],\n",
       "\n",
       "          [[ 0.0209,  0.0026],\n",
       "           [-0.0195,  0.0041],\n",
       "           [-0.0099, -0.0078]],\n",
       "\n",
       "          [[-0.0035,  0.0008],\n",
       "           [ 0.0115, -0.0144],\n",
       "           [-0.0160,  0.0070]]],\n",
       "\n",
       "\n",
       "         [[[-0.0112, -0.0223],\n",
       "           [-0.0097,  0.0071],\n",
       "           [ 0.0129,  0.0088]],\n",
       "\n",
       "          [[ 0.0082,  0.0146],\n",
       "           [-0.0008, -0.0076],\n",
       "           [ 0.0041, -0.0039]],\n",
       "\n",
       "          [[ 0.0014,  0.0015],\n",
       "           [ 0.0046,  0.0244],\n",
       "           [-0.0038,  0.0122]]]],\n",
       "\n",
       "\n",
       "\n",
       "        [[[[ 0.0010,  0.0007],\n",
       "           [-0.0169, -0.0045],\n",
       "           [-0.0164, -0.0050]],\n",
       "\n",
       "          [[-0.0079, -0.0085],\n",
       "           [ 0.0078, -0.0072],\n",
       "           [-0.0204, -0.0249]],\n",
       "\n",
       "          [[ 0.0093,  0.0161],\n",
       "           [ 0.0042,  0.0019],\n",
       "           [-0.0062, -0.0085]]],\n",
       "\n",
       "\n",
       "         [[[ 0.0038,  0.0045],\n",
       "           [ 0.0106,  0.0087],\n",
       "           [ 0.0012, -0.0024]],\n",
       "\n",
       "          [[ 0.0148,  0.0127],\n",
       "           [ 0.0059,  0.0148],\n",
       "           [ 0.0075, -0.0032]],\n",
       "\n",
       "          [[-0.0160,  0.0056],\n",
       "           [-0.0156, -0.0129],\n",
       "           [ 0.0055, -0.0089]]],\n",
       "\n",
       "\n",
       "         [[[ 0.0071,  0.0224],\n",
       "           [-0.0014, -0.0146],\n",
       "           [ 0.0055, -0.0037]],\n",
       "\n",
       "          [[ 0.0101,  0.0052],\n",
       "           [ 0.0103, -0.0091],\n",
       "           [ 0.0132,  0.0055]],\n",
       "\n",
       "          [[-0.0008,  0.0241],\n",
       "           [-0.0195,  0.0115],\n",
       "           [-0.0165, -0.0068]]]],\n",
       "\n",
       "\n",
       "\n",
       "        [[[[ 0.0028,  0.0051],\n",
       "           [ 0.0056, -0.0025],\n",
       "           [ 0.0075, -0.0114]],\n",
       "\n",
       "          [[-0.0013, -0.0074],\n",
       "           [ 0.0086, -0.0125],\n",
       "           [-0.0140, -0.0217]],\n",
       "\n",
       "          [[-0.0125,  0.0022],\n",
       "           [-0.0010,  0.0142],\n",
       "           [ 0.0019, -0.0038]]],\n",
       "\n",
       "\n",
       "         [[[ 0.0041,  0.0007],\n",
       "           [-0.0042,  0.0151],\n",
       "           [ 0.0067, -0.0067]],\n",
       "\n",
       "          [[ 0.0072, -0.0263],\n",
       "           [-0.0084,  0.0122],\n",
       "           [-0.0015, -0.0004]],\n",
       "\n",
       "          [[-0.0149,  0.0111],\n",
       "           [ 0.0030, -0.0091],\n",
       "           [-0.0121,  0.0127]]],\n",
       "\n",
       "\n",
       "         [[[ 0.0050, -0.0017],\n",
       "           [-0.0040,  0.0099],\n",
       "           [-0.0021, -0.0062]],\n",
       "\n",
       "          [[-0.0026, -0.0048],\n",
       "           [-0.0002,  0.0143],\n",
       "           [-0.0086,  0.0055]],\n",
       "\n",
       "          [[ 0.0176,  0.0029],\n",
       "           [-0.0067,  0.0101],\n",
       "           [ 0.0047,  0.0129]]]]])"
      ]
     },
     "execution_count": 100,
     "metadata": {},
     "output_type": "execute_result"
    }
   ],
   "source": [
    "q_table"
   ]
  },
  {
   "cell_type": "code",
   "execution_count": 101,
   "metadata": {},
   "outputs": [],
   "source": [
    "# Learn the q table\n",
    "\n",
    "# Hyperparameters\n",
    "learning_rate = 0.1\n",
    "discount_factor = 0.9\n"
   ]
  },
  {
   "cell_type": "code",
   "execution_count": 102,
   "metadata": {},
   "outputs": [],
   "source": [
    "# Learn q-table without epsilon greedy approach and print rewards\n",
    "num_episodes = 50\n",
    "render_mode = False\n",
    "\n",
    "    "
   ]
  },
  {
   "cell_type": "code",
   "execution_count": 103,
   "metadata": {},
   "outputs": [
    {
     "name": "stdout",
     "output_type": "stream",
     "text": [
      "All possible states:\n",
      "Box([-4.8000002e+00 -3.4028235e+38 -4.1887903e-01 -3.4028235e+38], [4.8000002e+00 3.4028235e+38 4.1887903e-01 3.4028235e+38], (4,), float32)\n"
     ]
    }
   ],
   "source": [
    "# Print all possible states\n",
    "print(\"All possible states:\")\n",
    "print(env.observation_space)"
   ]
  },
  {
   "cell_type": "code",
   "execution_count": 104,
   "metadata": {},
   "outputs": [
    {
     "name": "stdout",
     "output_type": "stream",
     "text": [
      "Sample State: [ 2.7051659e+00 -1.5201922e+38 -2.6240057e-01 -7.0476830e+37]\n",
      "Sample State: [ 5.9647828e-01  1.7090080e+38 -1.7759679e-01  1.2014864e+38]\n",
      "Sample State: [3.5260351e+00 3.2534387e+38 2.8506801e-01 2.4451416e+38]\n",
      "Sample State: [ 2.9073255e+00 -2.6790161e+38 -2.9842880e-01 -9.2181645e+37]\n",
      "Sample State: [ 3.7392182e+00 -2.4017081e+38  2.4199644e-01  2.9771261e+38]\n",
      "Sample State: [-1.6355207e+00 -2.4831722e+38  3.3985817e-01 -3.2439041e+38]\n",
      "Sample State: [-1.1353507e+00  1.9392829e+38  3.3289015e-01  3.0479645e+38]\n",
      "Sample State: [3.0383275e+00 2.9051530e+38 3.7706238e-01 1.9133415e+38]\n",
      "Sample State: [-1.2916708e+00  5.8141520e+37 -1.1080918e-01 -6.8264896e+37]\n",
      "Sample State: [ 2.1536710e+00 -3.1940789e+38 -4.0808445e-01 -8.4556874e+37]\n"
     ]
    }
   ],
   "source": [
    "# Print some sample states\n",
    "for _ in range(10):\n",
    "    state = env.observation_space.sample()\n",
    "    print(\"Sample State:\", state)"
   ]
  },
  {
   "cell_type": "code",
   "execution_count": 107,
   "metadata": {},
   "outputs": [
    {
     "name": "stdout",
     "output_type": "stream",
     "text": [
      "Episode: 0\n",
      "Episode reward: 8.0\n",
      "Episode: 1\n",
      "Episode reward: 9.0\n",
      "Episode: 2\n",
      "Episode reward: 10.0\n",
      "Episode: 3\n",
      "Episode reward: 10.0\n",
      "Episode: 4\n",
      "Episode reward: 10.0\n",
      "Episode: 5\n",
      "Episode reward: 9.0\n",
      "Episode: 6\n",
      "Episode reward: 9.0\n",
      "Episode: 7\n",
      "Episode reward: 10.0\n",
      "Episode: 8\n",
      "Episode reward: 9.0\n",
      "Episode: 9\n",
      "Episode reward: 10.0\n",
      "Episode: 10\n",
      "Episode reward: 10.0\n",
      "Episode: 11\n",
      "Episode reward: 9.0\n",
      "Episode: 12\n",
      "Episode reward: 9.0\n",
      "Episode: 13\n",
      "Episode reward: 10.0\n",
      "Episode: 14\n",
      "Episode reward: 10.0\n",
      "Episode: 15\n",
      "Episode reward: 9.0\n",
      "Episode: 16\n",
      "Episode reward: 8.0\n",
      "Episode: 17\n",
      "Episode reward: 9.0\n",
      "Episode: 18\n",
      "Episode reward: 9.0\n",
      "Episode: 19\n",
      "Episode reward: 9.0\n",
      "Episode: 20\n",
      "Episode reward: 8.0\n",
      "Episode: 21\n",
      "Episode reward: 10.0\n",
      "Episode: 22\n",
      "Episode reward: 8.0\n",
      "Episode: 23\n",
      "Episode reward: 8.0\n",
      "Episode: 24\n",
      "Episode reward: 10.0\n",
      "Episode: 25\n",
      "Episode reward: 9.0\n",
      "Episode: 26\n",
      "Episode reward: 8.0\n",
      "Episode: 27\n",
      "Episode reward: 8.0\n",
      "Episode: 28\n",
      "Episode reward: 10.0\n",
      "Episode: 29\n",
      "Episode reward: 9.0\n",
      "Episode: 30\n",
      "Episode reward: 8.0\n",
      "Episode: 31\n",
      "Episode reward: 10.0\n",
      "Episode: 32\n",
      "Episode reward: 9.0\n",
      "Episode: 33\n",
      "Episode reward: 10.0\n",
      "Episode: 34\n",
      "Episode reward: 9.0\n",
      "Episode: 35\n",
      "Episode reward: 11.0\n",
      "Episode: 36\n",
      "Episode reward: 10.0\n",
      "Episode: 37\n",
      "Episode reward: 8.0\n",
      "Episode: 38\n",
      "Episode reward: 10.0\n",
      "Episode: 39\n",
      "Episode reward: 8.0\n",
      "Episode: 40\n",
      "Episode reward: 10.0\n",
      "Episode: 41\n",
      "Episode reward: 9.0\n",
      "Episode: 42\n",
      "Episode reward: 10.0\n",
      "Episode: 43\n",
      "Episode reward: 8.0\n",
      "Episode: 44\n",
      "Episode reward: 9.0\n",
      "Episode: 45\n",
      "Episode reward: 10.0\n",
      "Episode: 46\n",
      "Episode reward: 9.0\n",
      "Episode: 47\n",
      "Episode reward: 9.0\n",
      "Episode: 48\n",
      "Episode reward: 9.0\n",
      "Episode: 49\n",
      "Episode reward: 9.0\n",
      "Learned Q-table:\n",
      "tensor([[[[[ 2.5774e-04, -1.6386e-02],\n",
      "           [-6.6059e-03, -1.2301e-02],\n",
      "           [-1.9540e-03, -6.5953e-03]],\n",
      "\n",
      "          [[ 1.4049e-02,  8.9660e-03],\n",
      "           [-1.1570e-02,  2.3123e-02],\n",
      "           [ 3.0566e-03, -1.0416e-03]],\n",
      "\n",
      "          [[ 1.2075e-02,  2.0824e-02],\n",
      "           [-2.3481e-03, -1.2590e-02],\n",
      "           [ 1.6281e-02,  4.2098e-03]]],\n",
      "\n",
      "\n",
      "         [[[ 9.7180e-03, -1.1887e-02],\n",
      "           [-1.2298e-02,  9.9179e-03],\n",
      "           [-1.3349e-03,  9.6772e-04]],\n",
      "\n",
      "          [[ 2.0868e-02,  2.6027e-03],\n",
      "           [-1.9472e-02,  4.0829e-03],\n",
      "           [-9.9453e-03, -7.8108e-03]],\n",
      "\n",
      "          [[-3.5114e-03,  8.3449e-04],\n",
      "           [ 1.1458e-02, -1.4358e-02],\n",
      "           [-1.6030e-02,  7.0141e-03]]],\n",
      "\n",
      "\n",
      "         [[[-1.1180e-02, -2.2336e-02],\n",
      "           [-9.6797e-03,  7.0699e-03],\n",
      "           [ 1.2940e-02,  8.7505e-03]],\n",
      "\n",
      "          [[ 8.1591e-03,  1.4591e-02],\n",
      "           [-8.2323e-04, -7.5956e-03],\n",
      "           [ 4.1017e-03, -3.9041e-03]],\n",
      "\n",
      "          [[ 1.3982e-03,  1.5428e-03],\n",
      "           [ 4.5702e-03,  2.4447e-02],\n",
      "           [-3.8499e-03,  1.2206e-02]]]],\n",
      "\n",
      "\n",
      "\n",
      "        [[[[ 9.5825e-04,  6.5356e-04],\n",
      "           [-1.6917e-02, -4.4886e-03],\n",
      "           [-1.6378e-02, -4.9732e-03]],\n",
      "\n",
      "          [[-7.8593e-03, -8.5154e-03],\n",
      "           [ 7.7686e-03, -7.1885e-03],\n",
      "           [-2.0450e-02, -2.4888e-02]],\n",
      "\n",
      "          [[ 9.2768e-03,  1.6148e-02],\n",
      "           [ 4.1603e-03,  1.9358e-03],\n",
      "           [-6.2031e-03, -8.5290e-03]]],\n",
      "\n",
      "\n",
      "         [[[ 3.7850e-03,  4.5296e-03],\n",
      "           [ 7.5043e+00,  8.7035e-03],\n",
      "           [ 1.1955e-03, -2.3893e-03]],\n",
      "\n",
      "          [[ 1.4752e-02,  1.2745e-02],\n",
      "           [ 5.8729e-03,  8.4895e+00],\n",
      "           [ 7.5059e-03, -3.2212e-03]],\n",
      "\n",
      "          [[-1.5970e-02,  5.5587e-03],\n",
      "           [-1.5641e-02, -1.2862e-02],\n",
      "           [ 5.4951e-03, -8.9383e-03]]],\n",
      "\n",
      "\n",
      "         [[[ 7.0806e-03,  2.2394e-02],\n",
      "           [-1.3594e-03, -1.4554e-02],\n",
      "           [ 5.4938e-03, -3.7047e-03]],\n",
      "\n",
      "          [[ 1.0082e-02,  5.1565e-03],\n",
      "           [ 1.0319e-02, -9.1123e-03],\n",
      "           [ 1.3201e-02,  5.4954e-03]],\n",
      "\n",
      "          [[-7.8168e-04,  2.4071e-02],\n",
      "           [-1.9452e-02,  1.1501e-02],\n",
      "           [-1.6482e-02, -6.7994e-03]]]],\n",
      "\n",
      "\n",
      "\n",
      "        [[[[ 2.7583e-03,  5.0975e-03],\n",
      "           [ 5.6140e-03, -2.4850e-03],\n",
      "           [ 7.4893e-03, -1.1398e-02]],\n",
      "\n",
      "          [[-1.3201e-03, -7.3656e-03],\n",
      "           [ 8.5875e-03, -1.2533e-02],\n",
      "           [-1.3983e-02, -2.1707e-02]],\n",
      "\n",
      "          [[-1.2484e-02,  2.2155e-03],\n",
      "           [-1.0199e-03,  1.4230e-02],\n",
      "           [ 1.8682e-03, -3.7607e-03]]],\n",
      "\n",
      "\n",
      "         [[[ 4.1444e-03,  6.7304e-04],\n",
      "           [-4.1720e-03,  1.5125e-02],\n",
      "           [ 6.7321e-03, -6.7075e-03]],\n",
      "\n",
      "          [[ 7.2062e-03, -2.6330e-02],\n",
      "           [-8.4435e-03,  1.2237e-02],\n",
      "           [-1.4670e-03, -4.3704e-04]],\n",
      "\n",
      "          [[-1.4862e-02,  1.1071e-02],\n",
      "           [ 2.9910e-03, -9.0951e-03],\n",
      "           [-1.2098e-02,  1.2734e-02]]],\n",
      "\n",
      "\n",
      "         [[[ 4.9769e-03, -1.7016e-03],\n",
      "           [-3.9668e-03,  9.9020e-03],\n",
      "           [-2.0652e-03, -6.1593e-03]],\n",
      "\n",
      "          [[-2.5633e-03, -4.7999e-03],\n",
      "           [-2.4177e-04,  1.4281e-02],\n",
      "           [-8.6366e-03,  5.5457e-03]],\n",
      "\n",
      "          [[ 1.7575e-02,  2.9216e-03],\n",
      "           [-6.7075e-03,  1.0145e-02],\n",
      "           [ 4.7358e-03,  1.2916e-02]]]]])\n"
     ]
    }
   ],
   "source": [
    "rewards = []  # List to store rewards for each episode\n",
    "\n",
    "# Training loop\n",
    "for episode in range(num_episodes):\n",
    "    print(\"Episode:\", episode)\n",
    "    state, info = env.reset(seed=episode)\n",
    "    state = discretize_state(state, num_bins)\n",
    "    episode_reward = 0\n",
    "\n",
    "    while True:\n",
    "        # Choose action using the current Q-table\n",
    "        action = torch.argmax(q_table[state]).item()\n",
    "\n",
    "        # Take the chosen action and observe the next state and reward\n",
    "        next_state, reward, terminated, truncated, info = env.step(action)\n",
    "        next_state = discretize_state(next_state, num_bins)\n",
    "\n",
    "        # Update the Q-table using the Q-learning update rule\n",
    "        q_table = update_q_table(q_table, state, action, reward, next_state, learning_rate, discount_factor)\n",
    "\n",
    "        episode_reward += reward\n",
    "        state = next_state\n",
    "\n",
    "        if truncated or terminated:\n",
    "            break\n",
    "    rewards.append(episode_reward)\n",
    "    print(\"Episode reward:\", episode_reward)\n",
    "\n",
    "# Print the learned Q-table\n",
    "print(\"Learned Q-table:\")\n",
    "print(q_table)"
   ]
  },
  {
   "cell_type": "code",
   "execution_count": 108,
   "metadata": {},
   "outputs": [
    {
     "data": {
      "text/plain": [
       "[<matplotlib.lines.Line2D at 0x158a98310>]"
      ]
     },
     "execution_count": 108,
     "metadata": {},
     "output_type": "execute_result"
    },
    {
     "data": {
      "image/png": "[encoded data removed]",
      "text/plain": [
       "<Figure size 640x480 with 1 Axes>"
      ]
     },
     "metadata": {
      "image/png": {
       "height": 413,
       "width": 556
      }
     },
     "output_type": "display_data"
    }
   ],
   "source": [
    "plt.plot(rewards)"
   ]
  },
  {
   "cell_type": "code",
   "execution_count": null,
   "metadata": {},
   "outputs": [],
   "source": []
  }
 ],
 "metadata": {
  "kernelspec": {
   "display_name": "Python 3 (ipykernel)",
   "language": "python",
   "name": "python3"
  },
  "language_info": {
   "codemirror_mode": {
    "name": "ipython",
    "version": 3
   },
   "file_extension": ".py",
   "mimetype": "text/x-python",
   "name": "python",
   "nbconvert_exporter": "python",
   "pygments_lexer": "ipython3",
   "version": "3.9.15"
  }
 },
 "nbformat": 4,
 "nbformat_minor": 5
}
