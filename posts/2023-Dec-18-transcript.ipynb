{
 "cells": [
  {
   "cell_type": "raw",
   "id": "12a1fd37",
   "metadata": {},
   "source": [
    "---\n",
    "author: Nipun Batra\n",
    "badges: true\n",
    "categories:\n",
    "- ML\n",
    "date: '2023-12-18'\n",
    "output-file: transcript.html\n",
    "title: YouTube video to transcript using openAI whisper and summary using OLLama\n",
    "toc: true\n",
    "\n",
    "---\n",
    "\n"
   ]
  },
  {
   "cell_type": "markdown",
   "id": "90499d25",
   "metadata": {},
   "source": [
    "References\n",
    "\n",
    "1. [Whisper](https://blog.devgenius.io/transcribing-youtube-videos-using-openais-whisper-%EF%B8%8F-%EF%B8%8F-a29d264d6fb1)\n",
    "2. [Langchain and LLama](https://www.youtube.com/watch?v=k_1pOF1mj8k)"
   ]
  },
  {
   "attachments": {},
   "cell_type": "markdown",
   "id": "c576bebd",
   "metadata": {},
   "source": [
    "### Basic Imports"
   ]
  },
  {
   "cell_type": "code",
   "execution_count": 1,
   "id": "f41ca63d",
   "metadata": {},
   "outputs": [],
   "source": [
    "import yt_dlp\n"
   ]
  },
  {
   "cell_type": "code",
   "execution_count": 2,
   "id": "8793dd1f",
   "metadata": {},
   "outputs": [],
   "source": [
    "def download(video_id: str) -> str:\n",
    "    video_url = f'https://www.youtube.com/watch?v={video_id}'\n",
    "    ydl_opts = {\n",
    "        'format': 'm4a/bestaudio/best',\n",
    "        'paths': {'home': 'audio/'},\n",
    "        'outtmpl': {'default': '%(id)s.%(ext)s'},\n",
    "        'postprocessors': [{\n",
    "            'key': 'FFmpegExtractAudio',\n",
    "            'preferredcodec': 'm4a',\n",
    "        }]\n",
    "    }\n",
    "    with yt_dlp.YoutubeDL(ydl_opts) as ydl:\n",
    "        error_code = ydl.download([video_url])\n",
    "        if error_code != 0:\n",
    "            raise Exception('Failed to download video')\n",
    "\n",
    "    return f'audio/{video_id}.m4a'"
   ]
  },
  {
   "cell_type": "code",
   "execution_count": 3,
   "id": "de0e3377",
   "metadata": {},
   "outputs": [
    {
     "name": "stdout",
     "output_type": "stream",
     "text": [
      "[youtube] Extracting URL: https://www.youtube.com/watch?v=CuBzyh4Xmvk\n",
      "[youtube] CuBzyh4Xmvk: Downloading webpage\n",
      "[youtube] CuBzyh4Xmvk: Downloading ios player API JSON\n",
      "[youtube] CuBzyh4Xmvk: Downloading android player API JSON\n",
      "[youtube] CuBzyh4Xmvk: Downloading m3u8 information\n",
      "[info] CuBzyh4Xmvk: Downloading 1 format(s): 140\n",
      "[download] audio/CuBzyh4Xmvk.m4a has already been downloaded\n",
      "[download] 100% of   72.26MiB\n",
      "[ExtractAudio] Not converting audio audio/CuBzyh4Xmvk.m4a; file is already in target format m4a\n"
     ]
    },
    {
     "data": {
      "text/plain": [
       "'audio/CuBzyh4Xmvk.m4a'"
      ]
     },
     "execution_count": 3,
     "metadata": {},
     "output_type": "execute_result"
    }
   ],
   "source": [
    "download('CuBzyh4Xmvk')"
   ]
  },
  {
   "cell_type": "code",
   "execution_count": 4,
   "id": "46b2e7fd",
   "metadata": {},
   "outputs": [],
   "source": [
    "import whisper"
   ]
  },
  {
   "cell_type": "code",
   "execution_count": 5,
   "id": "30b1aa26",
   "metadata": {},
   "outputs": [],
   "source": [
    "whisper_model = whisper.load_model(\"base.en\")\n"
   ]
  },
  {
   "cell_type": "code",
   "execution_count": 6,
   "id": "933b2158",
   "metadata": {},
   "outputs": [
    {
     "name": "stderr",
     "output_type": "stream",
     "text": [
      "100%|██████████| 468481/468481 [02:05<00:00, 3720.37frames/s]\n"
     ]
    }
   ],
   "source": [
    "transcription = whisper_model.transcribe(\"audio/CuBzyh4Xmvk.m4a\", fp16=True, verbose=False)"
   ]
  },
  {
   "cell_type": "code",
   "execution_count": 9,
   "id": "ea42f4d3",
   "metadata": {},
   "outputs": [
    {
     "data": {
      "text/plain": [
       "\" Please look at the code mentioned above and please sign up on the Google Cloud. We've already start\""
      ]
     },
     "execution_count": 9,
     "metadata": {},
     "output_type": "execute_result"
    }
   ],
   "source": [
    "transcription[\"text\"][:100]"
   ]
  },
  {
   "cell_type": "code",
   "execution_count": 7,
   "id": "2f6322b4",
   "metadata": {},
   "outputs": [
    {
     "data": {
      "text/plain": [
       "dict_keys(['text', 'segments', 'language'])"
      ]
     },
     "execution_count": 7,
     "metadata": {},
     "output_type": "execute_result"
    }
   ],
   "source": [
    "transcription.keys()"
   ]
  },
  {
   "cell_type": "code",
   "execution_count": 10,
   "id": "9b106d75",
   "metadata": {},
   "outputs": [],
   "source": [
    "def create_srt_from_transcription(transcription_objects, srt_file_path):\n",
    "    with open(srt_file_path, 'w') as srt_file:\n",
    "        index = 1  # SRT format starts with index 1\n",
    "\n",
    "        for entry in transcription_objects['segments']:\n",
    "            start_time = entry['start']\n",
    "            end_time = entry['end']\n",
    "            text = entry['text']\n",
    "\n",
    "            # Convert time to SRT format\n",
    "            start_time_str = format_time(start_time)\n",
    "            end_time_str = format_time(end_time)\n",
    "\n",
    "            # Write entry to SRT file\n",
    "            srt_file.write(f\"{index}\\n\")\n",
    "            srt_file.write(f\"{start_time_str} --> {end_time_str}\\n\")\n",
    "            srt_file.write(f\"{text}\\n\\n\")\n",
    "\n",
    "            index += 1\n",
    "\n",
    "def format_time(time_seconds):\n",
    "    minutes, seconds = divmod(time_seconds, 60)\n",
    "    hours, minutes = divmod(minutes, 60)\n",
    "    return f\"{int(hours):02d}:{int(minutes):02d}:{int(seconds):02d},000\"\n"
   ]
  },
  {
   "cell_type": "code",
   "execution_count": 11,
   "id": "a0dd53e2",
   "metadata": {},
   "outputs": [],
   "source": [
    "create_srt_from_transcription(transcription, \"audio/CuBzyh4Xmvk.srt\")"
   ]
  },
  {
   "cell_type": "code",
   "execution_count": 12,
   "id": "1b592eae",
   "metadata": {},
   "outputs": [
    {
     "name": "stdout",
     "output_type": "stream",
     "text": [
      "1\n",
      "00:00:00,000 --> 00:00:05,000\n",
      " Please look at the code mentioned above and please sign up on the Google Cloud.\n",
      "\n",
      "2\n",
      "00:00:05,000 --> 00:00:08,000\n",
      " We've already started making some announcements.\n",
      "\n",
      "3\n",
      "00:00:08,000 --> 00:00:14,000\n"
     ]
    }
   ],
   "source": [
    "!head audio/CuBzyh4Xmvk.srt"
   ]
  },
  {
   "cell_type": "code",
   "execution_count": 13,
   "id": "41c79ec3",
   "metadata": {},
   "outputs": [],
   "source": [
    "from langchain.llms import Ollama\n",
    "from langchain.callbacks.manager import CallbackManager\n",
    "from langchain.callbacks.streaming_stdout import StreamingStdOutCallbackHandler \n",
    "                                 "
   ]
  },
  {
   "cell_type": "code",
   "execution_count": 14,
   "id": "a7b39c75",
   "metadata": {},
   "outputs": [],
   "source": [
    "llm = Ollama(model=\"mistral\", \n",
    "             callback_manager = CallbackManager([StreamingStdOutCallbackHandler()]))"
   ]
  },
  {
   "cell_type": "code",
   "execution_count": 15,
   "id": "b1808481",
   "metadata": {},
   "outputs": [
    {
     "name": "stdout",
     "output_type": "stream",
     "text": [
      "Please provide a bullet-point summary for the given text:\n",
      "\n",
      " * The text asks for attention to the code and signing up on Google Cloud, as well as an announcement of an extra lecture\n",
      "* Machine learning definition: ability for computers to learn without being explicitly programmed\n",
      "* The example task is to write a program to recognize digits from a dataset\n",
      "* Rules for recognizing digits include vertical and horizontal lines, similar height of vertical lines, and no star or other mark on the digit\n",
      "* Slides and videos from first lecture have been put on Google Cloud\n",
      "* Previous lecture covered definition of machine learning and difference between explicit and implicit programming\n",
      "* Decision trees will be used to predict whether a day is good for playing tennis based on weather conditions\n",
      "* Decision trees involve creating rules based on attributes (in this case, outlook and humidity) and choosing the attribute that gives the best performance gain\n",
      "* Entropy is a measure of disorder or uncertainty in a system and is used to quantify the performance gain of an attribute. Information gain is the difference between the entropy of a set and the weighted entropy of its subsets based on an attribute. * The text asks for attention to the code and signing up on Google Cloud, as well as an announcement of an extra lecture\n",
      "* Machine learning definition: ability for computers to learn without being explicitly programmed\n",
      "* The example task is to write a program to recognize digits from a dataset\n",
      "* Rules for recognizing digits include vertical and horizontal lines, similar height of vertical lines, and no star or other mark on the digit\n",
      "* Slides and videos from first lecture have been put on Google Cloud\n",
      "* Previous lecture covered definition of machine learning and difference between explicit and implicit programming\n",
      "* Decision trees will be used to predict whether a day is good for playing tennis based on weather conditions\n",
      "* Decision trees involve creating rules based on attributes (in this case, outlook and humidity) and choosing the attribute that gives the best performance gain\n",
      "* Entropy is a measure of disorder or uncertainty in a system and is used to quantify the performance gain of an attribute. Information gain is the difference between the entropy of a set and the weighted entropy of its subsets based on an attribute.\n",
      "\n",
      "====================================================================================================\n",
      "\n",
      "Summarize the following in Markdown bullets:\n",
      "\n",
      " * Please sign up on Google Cloud for the course\n",
      "* Announcements: extra lecture on Saturday, 11th Jan at 11am in 1.101\n",
      "* FAQ and projects shared on Google Docs, comment access given for questions\n",
      "* First lecture video and slides now available on Google Cloud\n",
      "* Review of previous lecture: machine learning defined as ability for computers to learn without explicit programming\n",
      "* Discussion on recognizing digits using a program and rules\n",
      "* Need to consider constraints such as similar height of vertical lines, no long or short lines dominating the digit shape\n",
      "* Slides refer to visuals with some angle or inclination, but in this context they mean features or attributes of data points\n",
      "* Example: predicting quality or condition of computer tomatoes using image features and machine learning algorithms\n",
      "* Data collected with human expert annotations for each tomato's quality (good or bad)\n",
      "* Features: color, size, texture\n",
      "* Training set: X (input features matrix), Y (output vector of labels)\n",
      "* Test set: unseen samples without labels, trying to predict their quality based on input features\n",
      "* Prediction tasks in machine learning: given input features, estimate the output using algorithms and models\n",
      "* Metrics for evaluating performance: accuracy, precision, recall, F-score, Matthew's correlation coefficient * Please sign up on Google Cloud for the course\n",
      "* Announcements: extra lecture on Saturday, 11th Jan at 11am in 1.101\n",
      "* FAQ and projects shared on Google Docs, comment access given for questions\n",
      "* First lecture video and slides now available on Google Cloud\n",
      "* Review of previous lecture: machine learning defined as ability for computers to learn without explicit programming\n",
      "* Discussion on recognizing digits using a program and rules\n",
      "* Need to consider constraints such as similar height of vertical lines, no long or short lines dominating the digit shape\n",
      "* Slides refer to visuals with some angle or inclination, but in this context they mean features or attributes of data points\n",
      "* Example: predicting quality or condition of computer tomatoes using image features and machine learning algorithms\n",
      "* Data collected with human expert annotations for each tomato's quality (good or bad)\n",
      "* Features: color, size, texture\n",
      "* Training set: X (input features matrix), Y (output vector of labels)\n",
      "* Test set: unseen samples without labels, trying to predict their quality based on input features\n",
      "* Prediction tasks in machine learning: given input features, estimate the output using algorithms and models\n",
      "* Metrics for evaluating performance: accuracy, precision, recall, F-score, Matthew's correlation coefficient\n",
      "\n",
      "====================================================================================================\n",
      "\n",
      "Highlight the important topics and subtopics in the given lecture:\n",
      "\n",
      " Important topics and subtopics in the given lecture:\n",
      "\n",
      "1. Machine Learning Basics\n",
      "\t* Definition of machine learning\n",
      "\t* Explicit vs implicit programming\n",
      "\t* Brief history of machine learning\n",
      "2. Recognizing Digits using Machine Learning\n",
      "\t* Rules for recognizing digits\n",
      "3. Traditional Programming vs Machine Learning\n",
      "\t* Explicit programming vs machine learning\n",
      "\t* Example: Predicting tomato quality using computer vision\n",
      "4. Performance Measures in Machine Learning\n",
      "\t* Accuracy, precision, recall, F-score, Matthew's correlation coefficient\n",
      "5. Decision Trees\n",
      "\t* Introduction to decision trees\n",
      "\t* Building a decision tree for predicting whether to play tennis or not based on weather conditions\n",
      "6. ID3 Algorithm\n",
      "\t* Recursive algorithm for building decision trees\n",
      "7. Entropy and Information Gain\n",
      "\t* Definition of entropy\n",
      "\t* Choosing the best attribute for information gain\n",
      "8. Future lectures\n",
      "\t* Additional lecture on Saturday, 11th Jan at 11am in 1.101\n",
      "\t* FAQs and projects available on Google Docs\n",
      "\t* Sharing video and slides from the first lecture on code translate and course website. Important topics and subtopics in the given lecture:\n",
      "\n",
      "1. Machine Learning Basics\n",
      "\t* Definition of machine learning\n",
      "\t* Explicit vs implicit programming\n",
      "\t* Brief history of machine learning\n",
      "2. Recognizing Digits using Machine Learning\n",
      "\t* Rules for recognizing digits\n",
      "3. Traditional Programming vs Machine Learning\n",
      "\t* Explicit programming vs machine learning\n",
      "\t* Example: Predicting tomato quality using computer vision\n",
      "4. Performance Measures in Machine Learning\n",
      "\t* Accuracy, precision, recall, F-score, Matthew's correlation coefficient\n",
      "5. Decision Trees\n",
      "\t* Introduction to decision trees\n",
      "\t* Building a decision tree for predicting whether to play tennis or not based on weather conditions\n",
      "6. ID3 Algorithm\n",
      "\t* Recursive algorithm for building decision trees\n",
      "7. Entropy and Information Gain\n",
      "\t* Definition of entropy\n",
      "\t* Choosing the best attribute for information gain\n",
      "8. Future lectures\n",
      "\t* Additional lecture on Saturday, 11th Jan at 11am in 1.101\n",
      "\t* FAQs and projects available on Google Docs\n",
      "\t* Sharing video and slides from the first lecture on code translate and course website.\n",
      "\n",
      "====================================================================================================\n",
      "\n",
      "Give us some question for a quiz based on the following text:\n",
      "\n",
      " 1. What is the purpose of the announcement about signing up on Google Cloud and missing announcements?\n",
      "2. What is the second quick logistical announcement regarding?\n",
      "3. In what room will there be an extra lecture on Saturday, 11th Jan at 11am?\n",
      "4. Who is Arthur Sandler and when did he first mention machine learning?\n",
      "5. What does being explicitly programmed mean in machine learning?\n",
      "6. Can you explain the difference between explicit programming and machine learning?\n",
      "7. How can you recognize a digit '4' based on the rules given in the text?\n",
      "8. What are some other rules that could be used to recognize the digit '4' from the dataset mentioned?\n",
      "9. What is meant by the term \"slides\" in the context of this machine learning course?\n",
      "10. What is the name of the business use case for this machine learning project and what is its goal?\n",
      "11. What data does the company have for this machine learning project?\n",
      "12. Which visual features are expected to be useful for characterizing tomatoes in this project?\n",
      "13. What is the difference between a training set and a test set in machine learning?\n",
      "14. What is the role of experience P, task P, and performance measure P in machine learning?\n",
      "15. Can you explain what is meant by the term \"precision\" in machine learning?\n",
      "16. What is the difference between precision and recall in machine learning?\n",
      "17. What is Matthew's correlation coefficient and why is it useful in machine learning?\n",
      "18. What are some common metrics used to evaluate the performance of machine learning models?\n",
      "19. What is the difference between mean squared error and mean absolute error as evaluation metrics in machine learning?\n",
      "20. What is a decision tree and how is it used in machine learning for classification problems? 1. What is the purpose of the announcement about signing up on Google Cloud and missing announcements?\n",
      "2. What is the second quick logistical announcement regarding?\n",
      "3. In what room will there be an extra lecture on Saturday, 11th Jan at 11am?\n",
      "4. Who is Arthur Sandler and when did he first mention machine learning?\n",
      "5. What does being explicitly programmed mean in machine learning?\n",
      "6. Can you explain the difference between explicit programming and machine learning?\n",
      "7. How can you recognize a digit '4' based on the rules given in the text?\n",
      "8. What are some other rules that could be used to recognize the digit '4' from the dataset mentioned?\n",
      "9. What is meant by the term \"slides\" in the context of this machine learning course?\n",
      "10. What is the name of the business use case for this machine learning project and what is its goal?\n",
      "11. What data does the company have for this machine learning project?\n",
      "12. Which visual features are expected to be useful for characterizing tomatoes in this project?\n",
      "13. What is the difference between a training set and a test set in machine learning?\n",
      "14. What is the role of experience P, task P, and performance measure P in machine learning?\n",
      "15. Can you explain what is meant by the term \"precision\" in machine learning?\n",
      "16. What is the difference between precision and recall in machine learning?\n",
      "17. What is Matthew's correlation coefficient and why is it useful in machine learning?\n",
      "18. What are some common metrics used to evaluate the performance of machine learning models?\n",
      "19. What is the difference between mean squared error and mean absolute error as evaluation metrics in machine learning?\n",
      "20. What is a decision tree and how is it used in machine learning for classification problems?\n",
      "\n",
      "====================================================================================================\n",
      "\n"
     ]
    }
   ],
   "source": [
    "prompt_qs = [\"Please provide a bullet-point summary for the given text:\",\n",
    "             \"Summarize the following in Markdown bullets:\",\n",
    "             \"Highlight the important topics and subtopics in the given lecture:\",\n",
    "             \"Give us some question for a quiz based on the following text:\"]\n",
    "\n",
    "prompts = [q + \"\\n\" + transcription[\"text\"] for q in prompt_qs]\n",
    "\n",
    "for prompt, prompt_qs in zip(prompts, prompt_qs):\n",
    "    print(prompt_qs, end=\"\\n\\n\")\n",
    "    output = llm(prompt)\n",
    "    print(output, end=\"\\n\\n\")\n",
    "    print(\"==\"*50, end=\"\\n\\n\")"
   ]
  },
  {
   "cell_type": "code",
   "execution_count": null,
   "id": "94c6bcdf",
   "metadata": {},
   "outputs": [],
   "source": []
  }
 ],
 "metadata": {
  "kernelspec": {
   "display_name": "Python 3 (ipykernel)",
   "language": "python",
   "name": "python3"
  },
  "language_info": {
   "codemirror_mode": {
    "name": "ipython",
    "version": 3
   },
   "file_extension": ".py",
   "mimetype": "text/x-python",
   "name": "python",
   "nbconvert_exporter": "python",
   "pygments_lexer": "ipython3",
   "version": "3.9.7"
  }
 },
 "nbformat": 4,
 "nbformat_minor": 5
}
