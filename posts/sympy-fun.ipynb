{
 "cells": [
  {
   "cell_type": "raw",
   "id": "72c874f7",
   "metadata": {},
   "source": [
    "---\n",
    "aliases:\n",
    "- /ML/2022/11/09/sympy\n",
    "author: Nipun Batra\n",
    "badges: true\n",
    "categories:\n",
    "- ML\n",
    "date: '2022-11-09'\n",
    "description: Some useful tidibts in sympy\n",
    "output-file: sympy.html\n",
    "title: Some useful tidibts in sympy\n",
    "toc: true\n",
    "\n",
    "---"
   ]
  },
  {
   "cell_type": "code",
   "execution_count": 1,
   "id": "147e5140",
   "metadata": {},
   "outputs": [],
   "source": [
    "from sympy import *\n",
    "init_printing(use_unicode=True)"
   ]
  },
  {
   "cell_type": "code",
   "execution_count": 2,
   "id": "8388603d",
   "metadata": {},
   "outputs": [],
   "source": [
    "n, k = symbols(\"n k\")"
   ]
  },
  {
   "cell_type": "code",
   "execution_count": 3,
   "id": "e75c3683",
   "metadata": {},
   "outputs": [],
   "source": [
    "expr = Limit((1 + k/n)**n, n, oo)"
   ]
  },
  {
   "cell_type": "code",
   "execution_count": 4,
   "id": "76513554",
   "metadata": {},
   "outputs": [
    {
     "data": {
      "image/png": "[encoded data removed]",
      "text/latex": [
       "$\\displaystyle \\lim_{n \\to \\infty} \\left(\\frac{k}{n} + 1\\right)^{n}$"
      ],
      "text/plain": [
       "           n\n",
       "    ⎛k    ⎞ \n",
       "lim ⎜─ + 1⎟ \n",
       "n─→∞⎝n    ⎠ "
      ]
     },
     "execution_count": 4,
     "metadata": {},
     "output_type": "execute_result"
    }
   ],
   "source": [
    "expr"
   ]
  },
  {
   "cell_type": "code",
   "execution_count": 5,
   "id": "5f9faa8b",
   "metadata": {},
   "outputs": [
    {
     "data": {
      "image/png": "[encoded data removed]",
      "text/latex": [
       "$\\displaystyle e^{k}$"
      ],
      "text/plain": [
       " k\n",
       "ℯ "
      ]
     },
     "execution_count": 5,
     "metadata": {},
     "output_type": "execute_result"
    }
   ],
   "source": [
    "expr.doit()"
   ]
  },
  {
   "cell_type": "code",
   "execution_count": 11,
   "id": "fcdd8833",
   "metadata": {},
   "outputs": [],
   "source": [
    "x, mu, sigma = symbols(\"x \\mu \\sigma\")"
   ]
  },
  {
   "cell_type": "code",
   "execution_count": 23,
   "id": "081796a0",
   "metadata": {},
   "outputs": [],
   "source": [
    "norm  = exp(-(x-mu)**2/(2*sigma**2))"
   ]
  },
  {
   "cell_type": "code",
   "execution_count": 24,
   "id": "ef20a876",
   "metadata": {},
   "outputs": [
    {
     "data": {
      "image/png": "[encoded data removed]",
      "text/latex": [
       "$\\displaystyle e^{- \\frac{\\left(- \\mu + x\\right)^{2}}{2 \\sigma^{2}}}$"
      ],
      "text/plain": [
       "            2 \n",
       " -(-\\mu + x)  \n",
       " ─────────────\n",
       "           2  \n",
       "   2⋅\\sigma   \n",
       "ℯ             "
      ]
     },
     "execution_count": 24,
     "metadata": {},
     "output_type": "execute_result"
    }
   ],
   "source": [
    "norm"
   ]
  },
  {
   "cell_type": "code",
   "execution_count": 34,
   "id": "650e9cdc",
   "metadata": {},
   "outputs": [],
   "source": [
    "expr = integrate(norm, x)"
   ]
  },
  {
   "cell_type": "code",
   "execution_count": 35,
   "id": "cd540277",
   "metadata": {},
   "outputs": [
    {
     "data": {
      "image/png": "[encoded data removed]",
      "text/latex": [
       "$\\displaystyle e^{- \\frac{\\left(- \\mu + x\\right)^{2}}{2 \\sigma^{2}}}$"
      ],
      "text/plain": [
       "            2 \n",
       " -(-\\mu + x)  \n",
       " ─────────────\n",
       "           2  \n",
       "   2⋅\\sigma   \n",
       "ℯ             "
      ]
     },
     "execution_count": 35,
     "metadata": {},
     "output_type": "execute_result"
    }
   ],
   "source": [
    "norm"
   ]
  },
  {
   "cell_type": "code",
   "execution_count": 40,
   "id": "e8076ba3",
   "metadata": {},
   "outputs": [
    {
     "data": {
      "image/png": "[encoded data removed]",
      "text/latex": [
       "$\\displaystyle - \\frac{\\sqrt{2} \\sqrt{\\pi} \\sigma \\operatorname{erf}{\\left(\\frac{\\sqrt{2} \\left(\\mu - x\\right)}{2 \\sigma} \\right)}}{2}$"
      ],
      "text/plain": [
       "                 ⎛√2⋅(\\mu - x)⎞ \n",
       "-√2⋅√π⋅\\sigma⋅erf⎜────────────⎟ \n",
       "                 ⎝  2⋅\\sigma  ⎠ \n",
       "────────────────────────────────\n",
       "               2                "
      ]
     },
     "execution_count": 40,
     "metadata": {},
     "output_type": "execute_result"
    }
   ],
   "source": [
    "simplify(expr)"
   ]
  },
  {
   "cell_type": "code",
   "execution_count": null,
   "id": "8f52acb4",
   "metadata": {},
   "outputs": [],
   "source": []
  }
 ],
 "metadata": {
  "kernelspec": {
   "display_name": "Python 3 (ipykernel)",
   "language": "python",
   "name": "python3"
  },
  "language_info": {
   "codemirror_mode": {
    "name": "ipython",
    "version": 3
   },
   "file_extension": ".py",
   "mimetype": "text/x-python",
   "name": "python",
   "nbconvert_exporter": "python",
   "pygments_lexer": "ipython3",
   "version": "3.9.13"
  }
 },
 "nbformat": 4,
 "nbformat_minor": 5
}
