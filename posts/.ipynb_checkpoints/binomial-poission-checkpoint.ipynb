{
 "cells": [
  {
   "cell_type": "code",
   "execution_count": 103,
   "id": "0e349ced",
   "metadata": {},
   "outputs": [],
   "source": [
    "import jax.numpy as jnp\n",
    "import jax\n",
    "from jax import random\n",
    "import tensorflow_probability.substrates.jax as tfp\n",
    "tfd = tfp.distributions\n",
    "import pandas as pd\n",
    "\n",
    "import matplotlib.pyplot as plt\n",
    "%matplotlib inline\n",
    "%config InlineBackend.figure_format='retina'"
   ]
  },
  {
   "cell_type": "code",
   "execution_count": 2,
   "id": "cd2dc499",
   "metadata": {},
   "outputs": [
    {
     "name": "stderr",
     "output_type": "stream",
     "text": [
      "WARNING:absl:No GPU/TPU found, falling back to CPU. (Set TF_CPP_MIN_LOG_LEVEL=0 and rerun for more info.)\n"
     ]
    },
    {
     "data": {
      "text/plain": [
       "DeviceArray(7, dtype=int32)"
      ]
     },
     "execution_count": 2,
     "metadata": {},
     "output_type": "execute_result"
    }
   ],
   "source": [
    "random.bernoulli(key=random.PRNGKey(0), p=0.6, shape=(10,)).astype(int).sum()"
   ]
  },
  {
   "cell_type": "markdown",
   "id": "b1478701",
   "metadata": {},
   "source": [
    "### Probability of getting X heads"
   ]
  },
  {
   "cell_type": "code",
   "execution_count": 3,
   "id": "9607bd96",
   "metadata": {},
   "outputs": [],
   "source": [
    "from itertools import permutations"
   ]
  },
  {
   "cell_type": "code",
   "execution_count": 4,
   "id": "bb609b44",
   "metadata": {},
   "outputs": [
    {
     "data": {
      "text/plain": [
       "{('H', 'H', 'H', 'T'),\n",
       " ('H', 'H', 'T', 'H'),\n",
       " ('H', 'T', 'H', 'H'),\n",
       " ('T', 'H', 'H', 'H')}"
      ]
     },
     "execution_count": 4,
     "metadata": {},
     "output_type": "execute_result"
    }
   ],
   "source": [
    "set(permutations(['H', 'H', 'H', 'T'], 4 ))"
   ]
  },
  {
   "cell_type": "code",
   "execution_count": 5,
   "id": "d95b532f",
   "metadata": {},
   "outputs": [],
   "source": [
    "from sympy.utilities.iterables import multiset_permutations"
   ]
  },
  {
   "cell_type": "code",
   "execution_count": 15,
   "id": "05b147cf",
   "metadata": {},
   "outputs": [
    {
     "data": {
      "text/plain": [
       "[[False, True, True], [True, False, True], [True, True, False]]"
      ]
     },
     "execution_count": 15,
     "metadata": {},
     "output_type": "execute_result"
    }
   ],
   "source": [
    "list(multiset_permutations([True, True, False], 3))"
   ]
  },
  {
   "cell_type": "code",
   "execution_count": 8,
   "id": "874b5266",
   "metadata": {},
   "outputs": [],
   "source": [
    "def print_permutations(n_heads=1, n_total=10):\n",
    "    init = ['H']*n_heads\n",
    "    init.extend(['T']*(n_total-n_heads))\n",
    "    permutations = list(multiset_permutations(init, n_total))\n",
    "    return permutations, len(permutations)"
   ]
  },
  {
   "cell_type": "code",
   "execution_count": 9,
   "id": "7d05b908",
   "metadata": {},
   "outputs": [],
   "source": [
    "perm, l = print_permutations()"
   ]
  },
  {
   "cell_type": "code",
   "execution_count": 10,
   "id": "f7cd6186",
   "metadata": {},
   "outputs": [
    {
     "data": {
      "text/plain": [
       "[['H', 'T', 'T', 'T', 'T', 'T', 'T', 'T', 'T', 'T'],\n",
       " ['T', 'H', 'T', 'T', 'T', 'T', 'T', 'T', 'T', 'T'],\n",
       " ['T', 'T', 'H', 'T', 'T', 'T', 'T', 'T', 'T', 'T'],\n",
       " ['T', 'T', 'T', 'H', 'T', 'T', 'T', 'T', 'T', 'T'],\n",
       " ['T', 'T', 'T', 'T', 'H', 'T', 'T', 'T', 'T', 'T'],\n",
       " ['T', 'T', 'T', 'T', 'T', 'H', 'T', 'T', 'T', 'T'],\n",
       " ['T', 'T', 'T', 'T', 'T', 'T', 'H', 'T', 'T', 'T'],\n",
       " ['T', 'T', 'T', 'T', 'T', 'T', 'T', 'H', 'T', 'T'],\n",
       " ['T', 'T', 'T', 'T', 'T', 'T', 'T', 'T', 'H', 'T'],\n",
       " ['T', 'T', 'T', 'T', 'T', 'T', 'T', 'T', 'T', 'H']]"
      ]
     },
     "execution_count": 10,
     "metadata": {},
     "output_type": "execute_result"
    }
   ],
   "source": [
    "perm"
   ]
  },
  {
   "cell_type": "code",
   "execution_count": 11,
   "id": "381adc4c",
   "metadata": {},
   "outputs": [
    {
     "data": {
      "text/plain": [
       "10"
      ]
     },
     "execution_count": 11,
     "metadata": {},
     "output_type": "execute_result"
    }
   ],
   "source": [
    "l"
   ]
  },
  {
   "cell_type": "code",
   "execution_count": 23,
   "id": "acc2814c",
   "metadata": {},
   "outputs": [],
   "source": [
    "num_sequences = {}\n",
    "for n_heads in range(0, 11, 1):\n",
    "    _, num_sequences[n_heads] = print_permutations(n_heads=n_heads, n_total=10)"
   ]
  },
  {
   "cell_type": "code",
   "execution_count": 24,
   "id": "e2e7463b",
   "metadata": {},
   "outputs": [
    {
     "data": {
      "text/plain": [
       "0       1\n",
       "1      10\n",
       "2      45\n",
       "3     120\n",
       "4     210\n",
       "5     252\n",
       "6     210\n",
       "7     120\n",
       "8      45\n",
       "9      10\n",
       "10      1\n",
       "dtype: int64"
      ]
     },
     "execution_count": 24,
     "metadata": {},
     "output_type": "execute_result"
    }
   ],
   "source": [
    "num_sequences = pd.Series(num_sequences)\n",
    "num_sequences"
   ]
  },
  {
   "cell_type": "code",
   "execution_count": 25,
   "id": "51d253fb",
   "metadata": {},
   "outputs": [
    {
     "data": {
      "text/plain": [
       "<AxesSubplot:xlabel='Heads', ylabel='Permutations'>"
      ]
     },
     "execution_count": 25,
     "metadata": {},
     "output_type": "execute_result"
    },
    {
     "data": {
      "image/png": "[encoded data removed]",
      "text/plain": [
       "<Figure size 432x288 with 1 Axes>"
      ]
     },
     "metadata": {
      "image/png": {
       "height": 261,
       "width": 388
      },
      "needs_background": "light"
     },
     "output_type": "display_data"
    }
   ],
   "source": [
    "num_sequences.plot(xlabel=\"Heads\", ylabel=\"Permutations\")"
   ]
  },
  {
   "cell_type": "code",
   "execution_count": 106,
   "id": "fdc66fcb",
   "metadata": {},
   "outputs": [
    {
     "data": {
      "text/plain": [
       "120"
      ]
     },
     "execution_count": 106,
     "metadata": {},
     "output_type": "execute_result"
    }
   ],
   "source": [
    "from math import comb\n",
    "comb(10, 3)"
   ]
  },
  {
   "cell_type": "code",
   "execution_count": 112,
   "id": "03d50e26",
   "metadata": {},
   "outputs": [
    {
     "data": {
      "text/plain": [
       "0       1\n",
       "1      10\n",
       "2      45\n",
       "3     120\n",
       "4     210\n",
       "5     252\n",
       "6     210\n",
       "7     120\n",
       "8      45\n",
       "9      10\n",
       "10      1\n",
       "dtype: int64"
      ]
     },
     "execution_count": 112,
     "metadata": {},
     "output_type": "execute_result"
    }
   ],
   "source": [
    "pd.Series(list(map(partial(comb, 10), range(0, 11))))"
   ]
  },
  {
   "cell_type": "code",
   "execution_count": 26,
   "id": "3b2765c5",
   "metadata": {},
   "outputs": [],
   "source": [
    "### Probability of given sequence"
   ]
  },
  {
   "cell_type": "code",
   "execution_count": 27,
   "id": "4605574e",
   "metadata": {},
   "outputs": [],
   "source": [
    "def prob_sequence(n_heads = 5, n_total = 10, p_head = 0.3):\n",
    "    return (p_head**n_heads)*(1-p_head)**(n_total-n_heads)"
   ]
  },
  {
   "cell_type": "code",
   "execution_count": 31,
   "id": "ed73fbec",
   "metadata": {},
   "outputs": [],
   "source": [
    "from functools import partial"
   ]
  },
  {
   "cell_type": "code",
   "execution_count": 29,
   "id": "704d053a",
   "metadata": {},
   "outputs": [
    {
     "data": {
      "text/plain": [
       "0.02824752489999998"
      ]
     },
     "execution_count": 29,
     "metadata": {},
     "output_type": "execute_result"
    }
   ],
   "source": [
    "prob_sequence(0, 10, 0.3)"
   ]
  },
  {
   "cell_type": "code",
   "execution_count": 34,
   "id": "d8040a5d",
   "metadata": {},
   "outputs": [],
   "source": [
    "prob_sequence_fixed_p = partial(prob_sequence, n_total=10, p_head=0.3)"
   ]
  },
  {
   "cell_type": "code",
   "execution_count": 46,
   "id": "db64171c",
   "metadata": {},
   "outputs": [
    {
     "data": {
      "text/plain": [
       "0     0.028248\n",
       "1     0.121061\n",
       "2     0.233474\n",
       "3     0.266828\n",
       "4     0.200121\n",
       "5     0.102919\n",
       "6     0.036757\n",
       "7     0.009002\n",
       "8     0.001447\n",
       "9     0.000138\n",
       "10    0.000006\n",
       "dtype: float64"
      ]
     },
     "execution_count": 46,
     "metadata": {},
     "output_type": "execute_result"
    }
   ],
   "source": [
    "probs = prob_sequence_fixed_p(num_sequences.index)*num_sequences\n",
    "probs"
   ]
  },
  {
   "cell_type": "code",
   "execution_count": 47,
   "id": "c8830787",
   "metadata": {},
   "outputs": [
    {
     "data": {
      "text/plain": [
       "<AxesSubplot:>"
      ]
     },
     "execution_count": 47,
     "metadata": {},
     "output_type": "execute_result"
    },
    {
     "data": {
      "image/png": "[encoded data removed]",
      "text/plain": [
       "<Figure size 432x288 with 1 Axes>"
      ]
     },
     "metadata": {
      "image/png": {
       "height": 248,
       "width": 378
      },
      "needs_background": "light"
     },
     "output_type": "display_data"
    }
   ],
   "source": [
    "probs.plot()"
   ]
  },
  {
   "cell_type": "code",
   "execution_count": 50,
   "id": "662b99eb",
   "metadata": {},
   "outputs": [],
   "source": [
    "import rich"
   ]
  },
  {
   "cell_type": "code",
   "execution_count": 51,
   "id": "caf14830",
   "metadata": {},
   "outputs": [
    {
     "data": {
      "text/html": [
       "<pre style=\"white-space:pre;overflow-x:auto;line-height:normal;font-family:Menlo,'DejaVu Sans Mono',consolas,'Courier New',monospace\"><span style=\"color: #000080; text-decoration-color: #000080\">╭───── </span><span style=\"color: #000080; text-decoration-color: #000080; font-weight: bold\">&lt;</span><span style=\"color: #ff00ff; text-decoration-color: #ff00ff; font-weight: bold\">class</span><span style=\"color: #000000; text-decoration-color: #000000\"> </span><span style=\"color: #008000; text-decoration-color: #008000\">'tensorflow_probability.substrates.jax.distributions.binomial.Binomial'</span><span style=\"color: #000080; text-decoration-color: #000080; font-weight: bold\">&gt;</span><span style=\"color: #000080; text-decoration-color: #000080\"> ─────╮</span>\n",
       "<span style=\"color: #000080; text-decoration-color: #000080\">│</span> <span style=\"color: #00ffff; text-decoration-color: #00ffff; font-style: italic\">class </span><span style=\"color: #800000; text-decoration-color: #800000; font-weight: bold\">Binomial</span><span style=\"font-weight: bold\">(</span>total_count, <span style=\"color: #808000; text-decoration-color: #808000\">logits</span>=<span style=\"color: #800080; text-decoration-color: #800080; font-style: italic\">None</span>, <span style=\"color: #808000; text-decoration-color: #808000\">probs</span>=<span style=\"color: #800080; text-decoration-color: #800080; font-style: italic\">None</span>, <span style=\"color: #808000; text-decoration-color: #808000\">validate_args</span>=<span style=\"color: #ff0000; text-decoration-color: #ff0000; font-style: italic\">False</span>,                 <span style=\"color: #000080; text-decoration-color: #000080\">│</span>\n",
       "<span style=\"color: #000080; text-decoration-color: #000080\">│</span> <span style=\"color: #808000; text-decoration-color: #808000\">allow_nan_stats</span>=<span style=\"color: #00ff00; text-decoration-color: #00ff00; font-style: italic\">True</span>, <span style=\"color: #808000; text-decoration-color: #808000\">name</span>=<span style=\"color: #800080; text-decoration-color: #800080; font-style: italic\">None</span><span style=\"font-weight: bold\">)</span>:                                                         <span style=\"color: #000080; text-decoration-color: #000080\">│</span>\n",
       "<span style=\"color: #000080; text-decoration-color: #000080\">│</span>                                                                                           <span style=\"color: #000080; text-decoration-color: #000080\">│</span>\n",
       "<span style=\"color: #000080; text-decoration-color: #000080\">│</span> <span style=\"color: #008080; text-decoration-color: #008080\">Binomial distribution.</span>                                                                    <span style=\"color: #000080; text-decoration-color: #000080\">│</span>\n",
       "<span style=\"color: #000080; text-decoration-color: #000080\">│</span>                                                                                           <span style=\"color: #000080; text-decoration-color: #000080\">│</span>\n",
       "<span style=\"color: #000080; text-decoration-color: #000080\">│</span>               <span style=\"color: #808000; text-decoration-color: #808000; font-style: italic\">allow_nan_stats</span> = <span style=\"font-weight: bold\">&lt;</span><span style=\"color: #ff00ff; text-decoration-color: #ff00ff; font-weight: bold\">property</span><span style=\"color: #000000; text-decoration-color: #000000\"> object at </span><span style=\"color: #008080; text-decoration-color: #008080; font-weight: bold\">0x1a7594310</span><span style=\"font-weight: bold\">&gt;</span>                          <span style=\"color: #000080; text-decoration-color: #000080\">│</span>\n",
       "<span style=\"color: #000080; text-decoration-color: #000080\">│</span>                   <span style=\"color: #808000; text-decoration-color: #808000; font-style: italic\">batch_shape</span> = <span style=\"font-weight: bold\">&lt;</span><span style=\"color: #ff00ff; text-decoration-color: #ff00ff; font-weight: bold\">property</span><span style=\"color: #000000; text-decoration-color: #000000\"> object at </span><span style=\"color: #008080; text-decoration-color: #008080; font-weight: bold\">0x1a7594400</span><span style=\"font-weight: bold\">&gt;</span>                          <span style=\"color: #000080; text-decoration-color: #000080\">│</span>\n",
       "<span style=\"color: #000080; text-decoration-color: #000080\">│</span>                         <span style=\"color: #808000; text-decoration-color: #808000; font-style: italic\">dtype</span> = <span style=\"font-weight: bold\">&lt;</span><span style=\"color: #ff00ff; text-decoration-color: #ff00ff; font-weight: bold\">property</span><span style=\"color: #000000; text-decoration-color: #000000\"> object at </span><span style=\"color: #008080; text-decoration-color: #008080; font-weight: bold\">0x1a7594220</span><span style=\"font-weight: bold\">&gt;</span>                          <span style=\"color: #000080; text-decoration-color: #000080\">│</span>\n",
       "<span style=\"color: #000080; text-decoration-color: #000080\">│</span>                   <span style=\"color: #808000; text-decoration-color: #808000; font-style: italic\">event_shape</span> = <span style=\"font-weight: bold\">&lt;</span><span style=\"color: #ff00ff; text-decoration-color: #ff00ff; font-weight: bold\">property</span><span style=\"color: #000000; text-decoration-color: #000000\"> object at </span><span style=\"color: #008080; text-decoration-color: #008080; font-weight: bold\">0x1a7594450</span><span style=\"font-weight: bold\">&gt;</span>                          <span style=\"color: #000080; text-decoration-color: #000080\">│</span>\n",
       "<span style=\"color: #000080; text-decoration-color: #000080\">│</span> <span style=\"color: #808000; text-decoration-color: #808000; font-style: italic\">experimental_shard_axis_names</span> = <span style=\"font-weight: bold\">&lt;</span><span style=\"color: #ff00ff; text-decoration-color: #ff00ff; font-weight: bold\">property</span><span style=\"color: #000000; text-decoration-color: #000000\"> object at </span><span style=\"color: #008080; text-decoration-color: #008080; font-weight: bold\">0x1a75943b0</span><span style=\"font-weight: bold\">&gt;</span>                          <span style=\"color: #000080; text-decoration-color: #000080\">│</span>\n",
       "<span style=\"color: #000080; text-decoration-color: #000080\">│</span>                        <span style=\"color: #808000; text-decoration-color: #808000; font-style: italic\">logits</span> = <span style=\"font-weight: bold\">&lt;</span><span style=\"color: #ff00ff; text-decoration-color: #ff00ff; font-weight: bold\">property</span><span style=\"color: #000000; text-decoration-color: #000000\"> object at </span><span style=\"color: #008080; text-decoration-color: #008080; font-weight: bold\">0x1a75f79a0</span><span style=\"font-weight: bold\">&gt;</span>                          <span style=\"color: #000080; text-decoration-color: #000080\">│</span>\n",
       "<span style=\"color: #000080; text-decoration-color: #000080\">│</span>                          <span style=\"color: #808000; text-decoration-color: #808000; font-style: italic\">name</span> = <span style=\"font-weight: bold\">&lt;</span><span style=\"color: #ff00ff; text-decoration-color: #ff00ff; font-weight: bold\">property</span><span style=\"color: #000000; text-decoration-color: #000000\"> object at </span><span style=\"color: #008080; text-decoration-color: #008080; font-weight: bold\">0x1a75941d0</span><span style=\"font-weight: bold\">&gt;</span>                          <span style=\"color: #000080; text-decoration-color: #000080\">│</span>\n",
       "<span style=\"color: #000080; text-decoration-color: #000080\">│</span>                    <span style=\"color: #808000; text-decoration-color: #808000; font-style: italic\">parameters</span> = <span style=\"font-weight: bold\">&lt;</span><span style=\"color: #ff00ff; text-decoration-color: #ff00ff; font-weight: bold\">property</span><span style=\"color: #000000; text-decoration-color: #000000\"> object at </span><span style=\"color: #008080; text-decoration-color: #008080; font-weight: bold\">0x1a7594270</span><span style=\"font-weight: bold\">&gt;</span>                          <span style=\"color: #000080; text-decoration-color: #000080\">│</span>\n",
       "<span style=\"color: #000080; text-decoration-color: #000080\">│</span>                         <span style=\"color: #808000; text-decoration-color: #808000; font-style: italic\">probs</span> = <span style=\"font-weight: bold\">&lt;</span><span style=\"color: #ff00ff; text-decoration-color: #ff00ff; font-weight: bold\">property</span><span style=\"color: #000000; text-decoration-color: #000000\"> object at </span><span style=\"color: #008080; text-decoration-color: #008080; font-weight: bold\">0x1a75f79f0</span><span style=\"font-weight: bold\">&gt;</span>                          <span style=\"color: #000080; text-decoration-color: #000080\">│</span>\n",
       "<span style=\"color: #000080; text-decoration-color: #000080\">│</span>       <span style=\"color: #808000; text-decoration-color: #808000; font-style: italic\">reparameterization_type</span> = <span style=\"font-weight: bold\">&lt;</span><span style=\"color: #ff00ff; text-decoration-color: #ff00ff; font-weight: bold\">property</span><span style=\"color: #000000; text-decoration-color: #000000\"> object at </span><span style=\"color: #008080; text-decoration-color: #008080; font-weight: bold\">0x1a75942c0</span><span style=\"font-weight: bold\">&gt;</span>                          <span style=\"color: #000080; text-decoration-color: #000080\">│</span>\n",
       "<span style=\"color: #000080; text-decoration-color: #000080\">│</span>                   <span style=\"color: #808000; text-decoration-color: #808000; font-style: italic\">total_count</span> = <span style=\"font-weight: bold\">&lt;</span><span style=\"color: #ff00ff; text-decoration-color: #ff00ff; font-weight: bold\">property</span><span style=\"color: #000000; text-decoration-color: #000000\"> object at </span><span style=\"color: #008080; text-decoration-color: #008080; font-weight: bold\">0x1a75f7950</span><span style=\"font-weight: bold\">&gt;</span>                          <span style=\"color: #000080; text-decoration-color: #000080\">│</span>\n",
       "<span style=\"color: #000080; text-decoration-color: #000080\">│</span>           <span style=\"color: #808000; text-decoration-color: #808000; font-style: italic\">trainable_variables</span> = <span style=\"font-weight: bold\">&lt;</span><span style=\"color: #ff00ff; text-decoration-color: #ff00ff; font-weight: bold\">property</span><span style=\"color: #000000; text-decoration-color: #000000\"> object at </span><span style=\"color: #008080; text-decoration-color: #008080; font-weight: bold\">0x115bf0f40</span><span style=\"font-weight: bold\">&gt;</span>                          <span style=\"color: #000080; text-decoration-color: #000080\">│</span>\n",
       "<span style=\"color: #000080; text-decoration-color: #000080\">│</span>                 <span style=\"color: #808000; text-decoration-color: #808000; font-style: italic\">validate_args</span> = <span style=\"font-weight: bold\">&lt;</span><span style=\"color: #ff00ff; text-decoration-color: #ff00ff; font-weight: bold\">property</span><span style=\"color: #000000; text-decoration-color: #000000\"> object at </span><span style=\"color: #008080; text-decoration-color: #008080; font-weight: bold\">0x1a7594360</span><span style=\"font-weight: bold\">&gt;</span>                          <span style=\"color: #000080; text-decoration-color: #000080\">│</span>\n",
       "<span style=\"color: #000080; text-decoration-color: #000080\">│</span>                     <span style=\"color: #808000; text-decoration-color: #808000; font-style: italic\">variables</span> = <span style=\"font-weight: bold\">&lt;</span><span style=\"color: #ff00ff; text-decoration-color: #ff00ff; font-weight: bold\">property</span><span style=\"color: #000000; text-decoration-color: #000000\"> object at </span><span style=\"color: #008080; text-decoration-color: #008080; font-weight: bold\">0x115bf0f90</span><span style=\"font-weight: bold\">&gt;</span>                          <span style=\"color: #000080; text-decoration-color: #000080\">│</span>\n",
       "<span style=\"color: #000080; text-decoration-color: #000080\">╰───────────────────────────────────────────────────────────────────────────────────────────╯</span>\n",
       "</pre>\n"
      ],
      "text/plain": [
       "\u001b[34m╭─\u001b[0m\u001b[34m──── \u001b[0m\u001b[1;34m<\u001b[0m\u001b[1;95mclass\u001b[0m\u001b[39m \u001b[0m\u001b[32m'tensorflow_probability.substrates.jax.distributions.binomial.Binomial'\u001b[0m\u001b[1;34m>\u001b[0m\u001b[34m ────\u001b[0m\u001b[34m─╮\u001b[0m\n",
       "\u001b[34m│\u001b[0m \u001b[3;96mclass \u001b[0m\u001b[1;31mBinomial\u001b[0m\u001b[1m(\u001b[0mtotal_count, \u001b[33mlogits\u001b[0m=\u001b[3;35mNone\u001b[0m, \u001b[33mprobs\u001b[0m=\u001b[3;35mNone\u001b[0m, \u001b[33mvalidate_args\u001b[0m=\u001b[3;91mFalse\u001b[0m,                 \u001b[34m│\u001b[0m\n",
       "\u001b[34m│\u001b[0m \u001b[33mallow_nan_stats\u001b[0m=\u001b[3;92mTrue\u001b[0m, \u001b[33mname\u001b[0m=\u001b[3;35mNone\u001b[0m\u001b[1m)\u001b[0m:                                                         \u001b[34m│\u001b[0m\n",
       "\u001b[34m│\u001b[0m                                                                                           \u001b[34m│\u001b[0m\n",
       "\u001b[34m│\u001b[0m \u001b[36mBinomial distribution.\u001b[0m                                                                    \u001b[34m│\u001b[0m\n",
       "\u001b[34m│\u001b[0m                                                                                           \u001b[34m│\u001b[0m\n",
       "\u001b[34m│\u001b[0m               \u001b[3;33mallow_nan_stats\u001b[0m = \u001b[1m<\u001b[0m\u001b[1;95mproperty\u001b[0m\u001b[39m object at \u001b[0m\u001b[1;36m0x1a7594310\u001b[0m\u001b[1m>\u001b[0m                          \u001b[34m│\u001b[0m\n",
       "\u001b[34m│\u001b[0m                   \u001b[3;33mbatch_shape\u001b[0m = \u001b[1m<\u001b[0m\u001b[1;95mproperty\u001b[0m\u001b[39m object at \u001b[0m\u001b[1;36m0x1a7594400\u001b[0m\u001b[1m>\u001b[0m                          \u001b[34m│\u001b[0m\n",
       "\u001b[34m│\u001b[0m                         \u001b[3;33mdtype\u001b[0m = \u001b[1m<\u001b[0m\u001b[1;95mproperty\u001b[0m\u001b[39m object at \u001b[0m\u001b[1;36m0x1a7594220\u001b[0m\u001b[1m>\u001b[0m                          \u001b[34m│\u001b[0m\n",
       "\u001b[34m│\u001b[0m                   \u001b[3;33mevent_shape\u001b[0m = \u001b[1m<\u001b[0m\u001b[1;95mproperty\u001b[0m\u001b[39m object at \u001b[0m\u001b[1;36m0x1a7594450\u001b[0m\u001b[1m>\u001b[0m                          \u001b[34m│\u001b[0m\n",
       "\u001b[34m│\u001b[0m \u001b[3;33mexperimental_shard_axis_names\u001b[0m = \u001b[1m<\u001b[0m\u001b[1;95mproperty\u001b[0m\u001b[39m object at \u001b[0m\u001b[1;36m0x1a75943b0\u001b[0m\u001b[1m>\u001b[0m                          \u001b[34m│\u001b[0m\n",
       "\u001b[34m│\u001b[0m                        \u001b[3;33mlogits\u001b[0m = \u001b[1m<\u001b[0m\u001b[1;95mproperty\u001b[0m\u001b[39m object at \u001b[0m\u001b[1;36m0x1a75f79a0\u001b[0m\u001b[1m>\u001b[0m                          \u001b[34m│\u001b[0m\n",
       "\u001b[34m│\u001b[0m                          \u001b[3;33mname\u001b[0m = \u001b[1m<\u001b[0m\u001b[1;95mproperty\u001b[0m\u001b[39m object at \u001b[0m\u001b[1;36m0x1a75941d0\u001b[0m\u001b[1m>\u001b[0m                          \u001b[34m│\u001b[0m\n",
       "\u001b[34m│\u001b[0m                    \u001b[3;33mparameters\u001b[0m = \u001b[1m<\u001b[0m\u001b[1;95mproperty\u001b[0m\u001b[39m object at \u001b[0m\u001b[1;36m0x1a7594270\u001b[0m\u001b[1m>\u001b[0m                          \u001b[34m│\u001b[0m\n",
       "\u001b[34m│\u001b[0m                         \u001b[3;33mprobs\u001b[0m = \u001b[1m<\u001b[0m\u001b[1;95mproperty\u001b[0m\u001b[39m object at \u001b[0m\u001b[1;36m0x1a75f79f0\u001b[0m\u001b[1m>\u001b[0m                          \u001b[34m│\u001b[0m\n",
       "\u001b[34m│\u001b[0m       \u001b[3;33mreparameterization_type\u001b[0m = \u001b[1m<\u001b[0m\u001b[1;95mproperty\u001b[0m\u001b[39m object at \u001b[0m\u001b[1;36m0x1a75942c0\u001b[0m\u001b[1m>\u001b[0m                          \u001b[34m│\u001b[0m\n",
       "\u001b[34m│\u001b[0m                   \u001b[3;33mtotal_count\u001b[0m = \u001b[1m<\u001b[0m\u001b[1;95mproperty\u001b[0m\u001b[39m object at \u001b[0m\u001b[1;36m0x1a75f7950\u001b[0m\u001b[1m>\u001b[0m                          \u001b[34m│\u001b[0m\n",
       "\u001b[34m│\u001b[0m           \u001b[3;33mtrainable_variables\u001b[0m = \u001b[1m<\u001b[0m\u001b[1;95mproperty\u001b[0m\u001b[39m object at \u001b[0m\u001b[1;36m0x115bf0f40\u001b[0m\u001b[1m>\u001b[0m                          \u001b[34m│\u001b[0m\n",
       "\u001b[34m│\u001b[0m                 \u001b[3;33mvalidate_args\u001b[0m = \u001b[1m<\u001b[0m\u001b[1;95mproperty\u001b[0m\u001b[39m object at \u001b[0m\u001b[1;36m0x1a7594360\u001b[0m\u001b[1m>\u001b[0m                          \u001b[34m│\u001b[0m\n",
       "\u001b[34m│\u001b[0m                     \u001b[3;33mvariables\u001b[0m = \u001b[1m<\u001b[0m\u001b[1;95mproperty\u001b[0m\u001b[39m object at \u001b[0m\u001b[1;36m0x115bf0f90\u001b[0m\u001b[1m>\u001b[0m                          \u001b[34m│\u001b[0m\n",
       "\u001b[34m╰───────────────────────────────────────────────────────────────────────────────────────────╯\u001b[0m\n"
      ]
     },
     "metadata": {},
     "output_type": "display_data"
    }
   ],
   "source": [
    "rich.inspect(tfd.Binomial)"
   ]
  },
  {
   "cell_type": "code",
   "execution_count": 113,
   "id": "be241c9a",
   "metadata": {},
   "outputs": [],
   "source": [
    "from scipy.special import comb as scomb"
   ]
  },
  {
   "cell_type": "code",
   "execution_count": 185,
   "id": "b5ca2655",
   "metadata": {},
   "outputs": [],
   "source": [
    "from dataclasses import dataclass\n",
    "\n",
    "\n",
    "@dataclass\n",
    "class OurBinomial:\n",
    "    total_count: int = 10\n",
    "    probs: float = 0.5\n",
    "\n",
    "    def __repr__(self):\n",
    "        return (\n",
    "            \"Binomial distribution\"\n",
    "            + \"\\n\"\n",
    "            + \"---------------------\\n\"\n",
    "            + f\"P(H) = {self.probs}\\nTotal Count = {self.total_count}\"\n",
    "        )\n",
    "\n",
    "    def mode(self):\n",
    "        return self.probs * self.total_count\n",
    "\n",
    "    def prob(self, observed_num_heads):\n",
    "        # (N choose K)*(p**n_h)*(1-p)**n_t\n",
    "        return (\n",
    "            comb(self.total_count, observed_num_heads)\n",
    "            * (self.probs**observed_num_heads)\n",
    "            * (1 - self.probs) ** (self.total_count - observed_num_heads)\n",
    "        )\n",
    "\n",
    "    def logprob(self, observed_num_heads):\n",
    "        return (\n",
    "            jnp.log(comb(self.total_count, observed_num_heads))\n",
    "            + observed_num_heads * jnp.log(self.probs)\n",
    "            + (self.total_count - observed_num_heads) * jnp.log(1 - self.probs)\n",
    "        )"
   ]
  },
  {
   "cell_type": "code",
   "execution_count": 186,
   "id": "3a125186",
   "metadata": {},
   "outputs": [
    {
     "data": {
      "text/plain": [
       "Binomial distribution\n",
       "---------------------\n",
       "P(H) = 0.3\n",
       "Total Count = 10"
      ]
     },
     "execution_count": 186,
     "metadata": {},
     "output_type": "execute_result"
    }
   ],
   "source": [
    "c = OurBinomial(probs=0.3)\n",
    "c"
   ]
  },
  {
   "cell_type": "code",
   "execution_count": 187,
   "id": "42330aa6",
   "metadata": {},
   "outputs": [
    {
     "data": {
      "text/plain": [
       "10"
      ]
     },
     "execution_count": 187,
     "metadata": {},
     "output_type": "execute_result"
    }
   ],
   "source": [
    "c.total_count"
   ]
  },
  {
   "cell_type": "code",
   "execution_count": 188,
   "id": "c4ae1a8d",
   "metadata": {},
   "outputs": [],
   "source": [
    "tfp_bin = tfd.Binomial(total_count=10, probs=0.3)"
   ]
  },
  {
   "cell_type": "code",
   "execution_count": 189,
   "id": "577b6a7b",
   "metadata": {},
   "outputs": [
    {
     "data": {
      "text/plain": [
       "DeviceArray(3., dtype=float32)"
      ]
     },
     "execution_count": 189,
     "metadata": {},
     "output_type": "execute_result"
    }
   ],
   "source": [
    "tfp_bin.mode()"
   ]
  },
  {
   "cell_type": "code",
   "execution_count": 190,
   "id": "5c173a00",
   "metadata": {},
   "outputs": [
    {
     "data": {
      "text/plain": [
       "3.0"
      ]
     },
     "execution_count": 190,
     "metadata": {},
     "output_type": "execute_result"
    }
   ],
   "source": [
    "c.mode()"
   ]
  },
  {
   "cell_type": "code",
   "execution_count": 191,
   "id": "5087f1c4",
   "metadata": {},
   "outputs": [
    {
     "data": {
      "text/plain": [
       "DeviceArray(0.23347428, dtype=float32)"
      ]
     },
     "execution_count": 191,
     "metadata": {},
     "output_type": "execute_result"
    }
   ],
   "source": [
    "tfp_bin.prob(2)"
   ]
  },
  {
   "cell_type": "code",
   "execution_count": 192,
   "id": "2a3f1cc6",
   "metadata": {},
   "outputs": [
    {
     "data": {
      "text/plain": [
       "120"
      ]
     },
     "execution_count": 192,
     "metadata": {},
     "output_type": "execute_result"
    }
   ],
   "source": [
    "comb(10, 3)"
   ]
  },
  {
   "cell_type": "code",
   "execution_count": 193,
   "id": "cdb46b33",
   "metadata": {},
   "outputs": [
    {
     "data": {
      "text/plain": [
       "0.23347444049999988"
      ]
     },
     "execution_count": 193,
     "metadata": {},
     "output_type": "execute_result"
    }
   ],
   "source": [
    "c.prob(2)"
   ]
  },
  {
   "cell_type": "code",
   "execution_count": 194,
   "id": "407393f0",
   "metadata": {},
   "outputs": [
    {
     "data": {
      "text/plain": [
       "DeviceArray(True, dtype=bool)"
      ]
     },
     "execution_count": 194,
     "metadata": {},
     "output_type": "execute_result"
    }
   ],
   "source": [
    "jnp.allclose(c.prob(2), tfp_bin.prob(2))"
   ]
  },
  {
   "cell_type": "code",
   "execution_count": 195,
   "id": "0b9a1252",
   "metadata": {},
   "outputs": [
    {
     "data": {
      "text/plain": [
       "DeviceArray(-1.4546833, dtype=float32)"
      ]
     },
     "execution_count": 195,
     "metadata": {},
     "output_type": "execute_result"
    }
   ],
   "source": [
    "tfp_bin.log_prob(2)"
   ]
  },
  {
   "cell_type": "code",
   "execution_count": 196,
   "id": "411ebd62",
   "metadata": {},
   "outputs": [
    {
     "data": {
      "text/plain": [
       "DeviceArray(-1.4546828, dtype=float32)"
      ]
     },
     "execution_count": 196,
     "metadata": {},
     "output_type": "execute_result"
    }
   ],
   "source": [
    "c.logprob(2)"
   ]
  },
  {
   "cell_type": "code",
   "execution_count": 199,
   "id": "be43d1c7",
   "metadata": {},
   "outputs": [],
   "source": [
    "binomial_dict = {}\n",
    "# Divide hour in 10 intervals\n",
    "\n",
    "binomial_dict[10] = OurBinomial(total_count=10, probs=0.3).prob(5)"
   ]
  },
  {
   "cell_type": "code",
   "execution_count": 200,
   "id": "9c09a56e",
   "metadata": {},
   "outputs": [
    {
     "data": {
      "text/plain": [
       "{10: 0.10291934519999994}"
      ]
     },
     "execution_count": 200,
     "metadata": {},
     "output_type": "execute_result"
    }
   ],
   "source": [
    "binomial_dict"
   ]
  },
  {
   "cell_type": "code",
   "execution_count": 212,
   "id": "38fb89dc",
   "metadata": {},
   "outputs": [],
   "source": [
    "for interval in [10, 20, 60, 1000, 10000]:\n",
    "    binomial_dict[interval] = OurBinomial(total_count=interval, probs=3.0/interval).prob(5)\n"
   ]
  },
  {
   "cell_type": "code",
   "execution_count": 213,
   "id": "a4a6a64d",
   "metadata": {},
   "outputs": [
    {
     "data": {
      "text/plain": [
       "{10: 0.10291934519999994,\n",
       " 20: 0.10284517954557212,\n",
       " 60: 0.10161579161609695,\n",
       " 1000: 0.10086908328293617,\n",
       " 10000: 0.10082385299843205}"
      ]
     },
     "execution_count": 213,
     "metadata": {},
     "output_type": "execute_result"
    }
   ],
   "source": [
    "binomial_dict"
   ]
  },
  {
   "cell_type": "code",
   "execution_count": 215,
   "id": "f1a60779",
   "metadata": {},
   "outputs": [
    {
     "data": {
      "text/plain": [
       "<AxesSubplot:>"
      ]
     },
     "execution_count": 215,
     "metadata": {},
     "output_type": "execute_result"
    },
    {
     "data": {
      "image/png": "[encoded data removed]",
      "text/plain": [
       "<Figure size 432x288 with 1 Axes>"
      ]
     },
     "metadata": {
      "image/png": {
       "height": 251,
       "width": 391
      },
      "needs_background": "light"
     },
     "output_type": "display_data"
    }
   ],
   "source": [
    "pd.Series(binomial_dict).plot(logx=True)"
   ]
  },
  {
   "cell_type": "code",
   "execution_count": null,
   "id": "86767e2b",
   "metadata": {},
   "outputs": [],
   "source": []
  }
 ],
 "metadata": {
  "kernelspec": {
   "display_name": "Python 3 (ipykernel)",
   "language": "python",
   "name": "python3"
  },
  "language_info": {
   "codemirror_mode": {
    "name": "ipython",
    "version": 3
   },
   "file_extension": ".py",
   "mimetype": "text/x-python",
   "name": "python",
   "nbconvert_exporter": "python",
   "pygments_lexer": "ipython3",
   "version": "3.9.13"
  }
 },
 "nbformat": 4,
 "nbformat_minor": 5
}
