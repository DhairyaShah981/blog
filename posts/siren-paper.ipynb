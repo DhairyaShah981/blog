{
 "cells": [
  {
   "cell_type": "raw",
   "id": "3c92aaa4",
   "metadata": {},
   "source": [
    "---\n",
    "author: Nipun Batra\n",
    "badges: true\n",
    "categories:\n",
    "- ML\n",
    "date: '2023-04-27'\n",
    "output-file: siren-paper.html\n",
    "title: SIREN paper\n",
    "toc: true\n",
    "\n",
    "---"
   ]
  },
  {
   "attachments": {},
   "cell_type": "markdown",
   "id": "77e01cd2",
   "metadata": {},
   "source": [
    "### Introduction\n",
    "\n",
    "In this post, I'm noting some observations from the SIREN paper.\n",
    "\n",
    "This is based on some quick experiments with their awesome fork of [TFPlayground here](https://dcato98.github.io/playground/#activation=sine&batchSize=10&dataset=xor&regDataset=reg-plane&learningRate=0.01&regularizationRate=0.001&noise=0&networkShape=2,1&seed=0.55435&showTestData=false&discretize=true&percTrainData=50&x=true&y=true&xTimesY=false&xSquared=false&ySquared=false&cosX=false&sinX=false&cosY=false&sinY=false&collectStats=false&problem=classification&initZero=false&hideText=false)\n",
    "\n",
    "\n",
    "### OOD\n",
    "\n",
    "::: {layout-ncol=2}\n",
    "![ReLU does better in OOD](siren-paper/ood-relu.png)\n",
    "\n",
    "![Sine Activation does “bad” in OOD regions](siren-paper/ood-1.png)\n",
    ":::"
   ]
  }
 ],
 "metadata": {
  "kernelspec": {
   "display_name": "base",
   "language": "python",
   "name": "python3"
  },
  "language_info": {
   "codemirror_mode": {
    "name": "ipython",
    "version": 3
   },
   "file_extension": ".py",
   "mimetype": "text/x-python",
   "name": "python",
   "nbconvert_exporter": "python",
   "pygments_lexer": "ipython3",
   "version": "3.9.7"
  },
  "vscode": {
   "interpreter": {
    "hash": "a5a8a649fae9f7dd41e8adc1d2fca9d99b1b7a58cc684de3b9310442441ba4ba"
   }
  }
 },
 "nbformat": 4,
 "nbformat_minor": 5
}
