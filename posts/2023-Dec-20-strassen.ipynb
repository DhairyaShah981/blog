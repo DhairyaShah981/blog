{
 "cells": [
  {
   "cell_type": "raw",
   "id": "12a1fd37",
   "metadata": {},
   "source": [
    "---\n",
    "author: Nipun Batra\n",
    "badges: true\n",
    "categories:\n",
    "- ML\n",
    "date: '2023-12-20'\n",
    "output-file: strassen.html\n",
    "title: Naive implementation of Strassen's algorithm\n",
    "toc: true\n",
    "\n",
    "---\n",
    "\n"
   ]
  },
  {
   "attachments": {},
   "cell_type": "markdown",
   "id": "c576bebd",
   "metadata": {},
   "source": [
    "### Basic Imports"
   ]
  },
  {
   "cell_type": "code",
   "execution_count": 45,
   "id": "f41ca63d",
   "metadata": {},
   "outputs": [],
   "source": [
    "import numpy as np \n"
   ]
  },
  {
   "cell_type": "code",
   "execution_count": 46,
   "id": "eaea640e",
   "metadata": {},
   "outputs": [],
   "source": [
    "log_size = 8\n",
    "size = 2**log_size\n",
    "\n",
    "def create_data(size=2**10, random_seed=0):\n",
    "    np.random.seed(random_seed)\n",
    "    A = np.random.rand(size,size)\n",
    "    B = np.random.rand(size,size)\n",
    "    return A, B"
   ]
  },
  {
   "cell_type": "code",
   "execution_count": 47,
   "id": "ace10933",
   "metadata": {},
   "outputs": [],
   "source": [
    "A, B = create_data(size=size)"
   ]
  },
  {
   "cell_type": "code",
   "execution_count": 48,
   "id": "ada571a7",
   "metadata": {},
   "outputs": [],
   "source": [
    "# Naive implementation\n",
    "def naive_multiply(A, B):\n",
    "    C = np.zeros_like(A)\n",
    "    for i in range(A.shape[0]):\n",
    "        for j in range(A.shape[1]):\n",
    "            for k in range(A.shape[0]):\n",
    "                C[i,j] += A[i,k] * B[k,j]\n",
    "    return C"
   ]
  },
  {
   "cell_type": "code",
   "execution_count": 49,
   "id": "289dba55",
   "metadata": {},
   "outputs": [
    {
     "name": "stdout",
     "output_type": "stream",
     "text": [
      "8.62 s ± 177 ms per loop (mean ± std. dev. of 7 runs, 1 loop each)\n"
     ]
    },
    {
     "data": {
      "text/plain": [
       "<TimeitResult : 8.62 s ± 177 ms per loop (mean ± std. dev. of 7 runs, 1 loop each)>"
      ]
     },
     "execution_count": 49,
     "metadata": {},
     "output_type": "execute_result"
    }
   ],
   "source": [
    "%timeit -o C_naive = naive_multiply(A, B)"
   ]
  },
  {
   "cell_type": "code",
   "execution_count": 54,
   "id": "8e536336",
   "metadata": {},
   "outputs": [
    {
     "data": {
      "text/plain": [
       "array([[65.94820735, 69.09817932, 62.78252215, ..., 60.1436441 ,\n",
       "        62.86313174, 64.71917913],\n",
       "       [63.18062386, 69.09843956, 63.14943823, ..., 58.63464759,\n",
       "        61.3564899 , 66.82890837],\n",
       "       [64.22648084, 67.36524163, 62.52753755, ..., 58.58248039,\n",
       "        61.18760561, 62.958112  ],\n",
       "       ...,\n",
       "       [65.25257151, 68.92121804, 64.55013279, ..., 64.08365403,\n",
       "        64.81985536, 68.06049955],\n",
       "       [67.08241328, 68.43813322, 65.41929326, ..., 60.81540601,\n",
       "        61.73456743, 67.31183199],\n",
       "       [63.81425552, 66.33777535, 62.62621379, ..., 61.18557896,\n",
       "        63.87677378, 68.64852561]])"
      ]
     },
     "execution_count": 54,
     "metadata": {},
     "output_type": "execute_result"
    }
   ],
   "source": [
    "C_naive"
   ]
  },
  {
   "cell_type": "code",
   "execution_count": 55,
   "id": "572b4bf8",
   "metadata": {},
   "outputs": [],
   "source": [
    "def divide_matrix_four_parts(A):\n",
    "    n = A.shape[0]//2\n",
    "    A11 = A[:n,:n]\n",
    "    A12 = A[:n,n:]\n",
    "    A21 = A[n:,:n]\n",
    "    A22 = A[n:,n:]\n",
    "    return A11, A12, A21, A22"
   ]
  },
  {
   "cell_type": "code",
   "execution_count": 56,
   "id": "ca2b647b",
   "metadata": {},
   "outputs": [],
   "source": [
    "A11, A12, A21, A22 = divide_matrix_four_parts(A)"
   ]
  },
  {
   "cell_type": "code",
   "execution_count": 57,
   "id": "ca323586",
   "metadata": {},
   "outputs": [
    {
     "data": {
      "text/plain": [
       "(256, 256)"
      ]
     },
     "execution_count": 57,
     "metadata": {},
     "output_type": "execute_result"
    }
   ],
   "source": [
    "A.shape"
   ]
  },
  {
   "cell_type": "code",
   "execution_count": 58,
   "id": "843be947",
   "metadata": {},
   "outputs": [
    {
     "data": {
      "text/plain": [
       "(128, 128)"
      ]
     },
     "execution_count": 58,
     "metadata": {},
     "output_type": "execute_result"
    }
   ],
   "source": [
    "A11.shape"
   ]
  },
  {
   "cell_type": "code",
   "execution_count": 60,
   "id": "e352320c",
   "metadata": {},
   "outputs": [],
   "source": [
    "def strassen_multiply(A, B, threshold=32):\n",
    "    # if A and B are threshold X threshold matrices directly multiply them\n",
    "    if A.shape[0] <= threshold:\n",
    "        return naive_multiply(A, B)\n",
    "    else:\n",
    "        A11, A12, A21, A22 = divide_matrix_four_parts(A)\n",
    "        B11, B12, B21, B22 = divide_matrix_four_parts(B)\n",
    "        M1 = strassen_multiply(A11 + A22, B11 + B22)\n",
    "        M2 = strassen_multiply(A21 + A22, B11)\n",
    "        M3 = strassen_multiply(A11, B12 - B22)\n",
    "        M4 = strassen_multiply(A22, B21 - B11)\n",
    "        M5 = strassen_multiply(A11 + A12, B22)\n",
    "        M6 = strassen_multiply(A21 - A11, B11 + B12)\n",
    "        M7 = strassen_multiply(A12 - A22, B21 + B22)\n",
    "        C11 = M1 + M4 - M5 + M7\n",
    "        C12 = M3 + M5\n",
    "        C21 = M2 + M4\n",
    "        C22 = M1 - M2 + M3 + M6\n",
    "        C = np.vstack((np.hstack((C11, C12)), np.hstack((C21, C22))))\n",
    "        return C"
   ]
  },
  {
   "cell_type": "code",
   "execution_count": 66,
   "id": "260f087a",
   "metadata": {},
   "outputs": [
    {
     "ename": "KeyboardInterrupt",
     "evalue": "",
     "output_type": "error",
     "traceback": [
      "\u001b[0;31m---------------------------------------------------------------------------\u001b[0m",
      "\u001b[0;31mKeyboardInterrupt\u001b[0m                         Traceback (most recent call last)",
      "Input \u001b[0;32mIn [66]\u001b[0m, in \u001b[0;36m<module>\u001b[0;34m\u001b[0m\n\u001b[0;32m----> 1\u001b[0m timeit_strassen_32 \u001b[38;5;241m=\u001b[39m \u001b[43mget_ipython\u001b[49m\u001b[43m(\u001b[49m\u001b[43m)\u001b[49m\u001b[38;5;241;43m.\u001b[39;49m\u001b[43mrun_line_magic\u001b[49m\u001b[43m(\u001b[49m\u001b[38;5;124;43m'\u001b[39;49m\u001b[38;5;124;43mtimeit\u001b[39;49m\u001b[38;5;124;43m'\u001b[39;49m\u001b[43m,\u001b[49m\u001b[43m \u001b[49m\u001b[38;5;124;43m'\u001b[39;49m\u001b[38;5;124;43m-o -n 5 -q C_strassen_32 = strassen_multiply(A, B, 32)\u001b[39;49m\u001b[38;5;124;43m'\u001b[39;49m\u001b[43m)\u001b[49m\n",
      "File \u001b[0;32m~/miniforge3/lib/python3.9/site-packages/IPython/core/interactiveshell.py:2204\u001b[0m, in \u001b[0;36mInteractiveShell.run_line_magic\u001b[0;34m(self, magic_name, line, _stack_depth)\u001b[0m\n\u001b[1;32m   2202\u001b[0m     kwargs[\u001b[38;5;124m'\u001b[39m\u001b[38;5;124mlocal_ns\u001b[39m\u001b[38;5;124m'\u001b[39m] \u001b[38;5;241m=\u001b[39m \u001b[38;5;28mself\u001b[39m\u001b[38;5;241m.\u001b[39mget_local_scope(stack_depth)\n\u001b[1;32m   2203\u001b[0m \u001b[38;5;28;01mwith\u001b[39;00m \u001b[38;5;28mself\u001b[39m\u001b[38;5;241m.\u001b[39mbuiltin_trap:\n\u001b[0;32m-> 2204\u001b[0m     result \u001b[38;5;241m=\u001b[39m \u001b[43mfn\u001b[49m\u001b[43m(\u001b[49m\u001b[38;5;241;43m*\u001b[39;49m\u001b[43margs\u001b[49m\u001b[43m,\u001b[49m\u001b[43m \u001b[49m\u001b[38;5;241;43m*\u001b[39;49m\u001b[38;5;241;43m*\u001b[39;49m\u001b[43mkwargs\u001b[49m\u001b[43m)\u001b[49m\n\u001b[1;32m   2205\u001b[0m \u001b[38;5;28;01mreturn\u001b[39;00m result\n",
      "File \u001b[0;32m~/miniforge3/lib/python3.9/site-packages/IPython/core/magics/execution.py:1166\u001b[0m, in \u001b[0;36mExecutionMagics.timeit\u001b[0;34m(self, line, cell, local_ns)\u001b[0m\n\u001b[1;32m   1163\u001b[0m         \u001b[38;5;28;01mif\u001b[39;00m time_number \u001b[38;5;241m>\u001b[39m\u001b[38;5;241m=\u001b[39m \u001b[38;5;241m0.2\u001b[39m:\n\u001b[1;32m   1164\u001b[0m             \u001b[38;5;28;01mbreak\u001b[39;00m\n\u001b[0;32m-> 1166\u001b[0m all_runs \u001b[38;5;241m=\u001b[39m \u001b[43mtimer\u001b[49m\u001b[38;5;241;43m.\u001b[39;49m\u001b[43mrepeat\u001b[49m\u001b[43m(\u001b[49m\u001b[43mrepeat\u001b[49m\u001b[43m,\u001b[49m\u001b[43m \u001b[49m\u001b[43mnumber\u001b[49m\u001b[43m)\u001b[49m\n\u001b[1;32m   1167\u001b[0m best \u001b[38;5;241m=\u001b[39m \u001b[38;5;28mmin\u001b[39m(all_runs) \u001b[38;5;241m/\u001b[39m number\n\u001b[1;32m   1168\u001b[0m worst \u001b[38;5;241m=\u001b[39m \u001b[38;5;28mmax\u001b[39m(all_runs) \u001b[38;5;241m/\u001b[39m number\n",
      "File \u001b[0;32m~/miniforge3/lib/python3.9/timeit.py:205\u001b[0m, in \u001b[0;36mTimer.repeat\u001b[0;34m(self, repeat, number)\u001b[0m\n\u001b[1;32m    203\u001b[0m r \u001b[38;5;241m=\u001b[39m []\n\u001b[1;32m    204\u001b[0m \u001b[38;5;28;01mfor\u001b[39;00m i \u001b[38;5;129;01min\u001b[39;00m \u001b[38;5;28mrange\u001b[39m(repeat):\n\u001b[0;32m--> 205\u001b[0m     t \u001b[38;5;241m=\u001b[39m \u001b[38;5;28;43mself\u001b[39;49m\u001b[38;5;241;43m.\u001b[39;49m\u001b[43mtimeit\u001b[49m\u001b[43m(\u001b[49m\u001b[43mnumber\u001b[49m\u001b[43m)\u001b[49m\n\u001b[1;32m    206\u001b[0m     r\u001b[38;5;241m.\u001b[39mappend(t)\n\u001b[1;32m    207\u001b[0m \u001b[38;5;28;01mreturn\u001b[39;00m r\n",
      "File \u001b[0;32m~/miniforge3/lib/python3.9/site-packages/IPython/core/magics/execution.py:156\u001b[0m, in \u001b[0;36mTimer.timeit\u001b[0;34m(self, number)\u001b[0m\n\u001b[1;32m    154\u001b[0m gc\u001b[38;5;241m.\u001b[39mdisable()\n\u001b[1;32m    155\u001b[0m \u001b[38;5;28;01mtry\u001b[39;00m:\n\u001b[0;32m--> 156\u001b[0m     timing \u001b[38;5;241m=\u001b[39m \u001b[38;5;28;43mself\u001b[39;49m\u001b[38;5;241;43m.\u001b[39;49m\u001b[43minner\u001b[49m\u001b[43m(\u001b[49m\u001b[43mit\u001b[49m\u001b[43m,\u001b[49m\u001b[43m \u001b[49m\u001b[38;5;28;43mself\u001b[39;49m\u001b[38;5;241;43m.\u001b[39;49m\u001b[43mtimer\u001b[49m\u001b[43m)\u001b[49m\n\u001b[1;32m    157\u001b[0m \u001b[38;5;28;01mfinally\u001b[39;00m:\n\u001b[1;32m    158\u001b[0m     \u001b[38;5;28;01mif\u001b[39;00m gcold:\n",
      "File \u001b[0;32m<magic-timeit>:1\u001b[0m, in \u001b[0;36minner\u001b[0;34m(_it, _timer)\u001b[0m\n",
      "Input \u001b[0;32mIn [60]\u001b[0m, in \u001b[0;36mstrassen_multiply\u001b[0;34m(A, B, threshold)\u001b[0m\n\u001b[1;32m      7\u001b[0m B11, B12, B21, B22 \u001b[38;5;241m=\u001b[39m divide_matrix_four_parts(B)\n\u001b[1;32m      8\u001b[0m M1 \u001b[38;5;241m=\u001b[39m strassen_multiply(A11 \u001b[38;5;241m+\u001b[39m A22, B11 \u001b[38;5;241m+\u001b[39m B22)\n\u001b[0;32m----> 9\u001b[0m M2 \u001b[38;5;241m=\u001b[39m \u001b[43mstrassen_multiply\u001b[49m\u001b[43m(\u001b[49m\u001b[43mA21\u001b[49m\u001b[43m \u001b[49m\u001b[38;5;241;43m+\u001b[39;49m\u001b[43m \u001b[49m\u001b[43mA22\u001b[49m\u001b[43m,\u001b[49m\u001b[43m \u001b[49m\u001b[43mB11\u001b[49m\u001b[43m)\u001b[49m\n\u001b[1;32m     10\u001b[0m M3 \u001b[38;5;241m=\u001b[39m strassen_multiply(A11, B12 \u001b[38;5;241m-\u001b[39m B22)\n\u001b[1;32m     11\u001b[0m M4 \u001b[38;5;241m=\u001b[39m strassen_multiply(A22, B21 \u001b[38;5;241m-\u001b[39m B11)\n",
      "Input \u001b[0;32mIn [60]\u001b[0m, in \u001b[0;36mstrassen_multiply\u001b[0;34m(A, B, threshold)\u001b[0m\n\u001b[1;32m     12\u001b[0m M5 \u001b[38;5;241m=\u001b[39m strassen_multiply(A11 \u001b[38;5;241m+\u001b[39m A12, B22)\n\u001b[1;32m     13\u001b[0m M6 \u001b[38;5;241m=\u001b[39m strassen_multiply(A21 \u001b[38;5;241m-\u001b[39m A11, B11 \u001b[38;5;241m+\u001b[39m B12)\n\u001b[0;32m---> 14\u001b[0m M7 \u001b[38;5;241m=\u001b[39m \u001b[43mstrassen_multiply\u001b[49m\u001b[43m(\u001b[49m\u001b[43mA12\u001b[49m\u001b[43m \u001b[49m\u001b[38;5;241;43m-\u001b[39;49m\u001b[43m \u001b[49m\u001b[43mA22\u001b[49m\u001b[43m,\u001b[49m\u001b[43m \u001b[49m\u001b[43mB21\u001b[49m\u001b[43m \u001b[49m\u001b[38;5;241;43m+\u001b[39;49m\u001b[43m \u001b[49m\u001b[43mB22\u001b[49m\u001b[43m)\u001b[49m\n\u001b[1;32m     15\u001b[0m C11 \u001b[38;5;241m=\u001b[39m M1 \u001b[38;5;241m+\u001b[39m M4 \u001b[38;5;241m-\u001b[39m M5 \u001b[38;5;241m+\u001b[39m M7\n\u001b[1;32m     16\u001b[0m C12 \u001b[38;5;241m=\u001b[39m M3 \u001b[38;5;241m+\u001b[39m M5\n",
      "Input \u001b[0;32mIn [60]\u001b[0m, in \u001b[0;36mstrassen_multiply\u001b[0;34m(A, B, threshold)\u001b[0m\n\u001b[1;32m      8\u001b[0m M1 \u001b[38;5;241m=\u001b[39m strassen_multiply(A11 \u001b[38;5;241m+\u001b[39m A22, B11 \u001b[38;5;241m+\u001b[39m B22)\n\u001b[1;32m      9\u001b[0m M2 \u001b[38;5;241m=\u001b[39m strassen_multiply(A21 \u001b[38;5;241m+\u001b[39m A22, B11)\n\u001b[0;32m---> 10\u001b[0m M3 \u001b[38;5;241m=\u001b[39m \u001b[43mstrassen_multiply\u001b[49m\u001b[43m(\u001b[49m\u001b[43mA11\u001b[49m\u001b[43m,\u001b[49m\u001b[43m \u001b[49m\u001b[43mB12\u001b[49m\u001b[43m \u001b[49m\u001b[38;5;241;43m-\u001b[39;49m\u001b[43m \u001b[49m\u001b[43mB22\u001b[49m\u001b[43m)\u001b[49m\n\u001b[1;32m     11\u001b[0m M4 \u001b[38;5;241m=\u001b[39m strassen_multiply(A22, B21 \u001b[38;5;241m-\u001b[39m B11)\n\u001b[1;32m     12\u001b[0m M5 \u001b[38;5;241m=\u001b[39m strassen_multiply(A11 \u001b[38;5;241m+\u001b[39m A12, B22)\n",
      "Input \u001b[0;32mIn [60]\u001b[0m, in \u001b[0;36mstrassen_multiply\u001b[0;34m(A, B, threshold)\u001b[0m\n\u001b[1;32m      1\u001b[0m \u001b[38;5;28;01mdef\u001b[39;00m \u001b[38;5;21mstrassen_multiply\u001b[39m(A, B, threshold\u001b[38;5;241m=\u001b[39m\u001b[38;5;241m32\u001b[39m):\n\u001b[1;32m      2\u001b[0m     \u001b[38;5;66;03m# if A and B are threshold X threshold matrices directly multiply them\u001b[39;00m\n\u001b[1;32m      3\u001b[0m     \u001b[38;5;28;01mif\u001b[39;00m A\u001b[38;5;241m.\u001b[39mshape[\u001b[38;5;241m0\u001b[39m] \u001b[38;5;241m<\u001b[39m\u001b[38;5;241m=\u001b[39m threshold:\n\u001b[0;32m----> 4\u001b[0m         \u001b[38;5;28;01mreturn\u001b[39;00m \u001b[43mnaive_multiply\u001b[49m\u001b[43m(\u001b[49m\u001b[43mA\u001b[49m\u001b[43m,\u001b[49m\u001b[43m \u001b[49m\u001b[43mB\u001b[49m\u001b[43m)\u001b[49m\n\u001b[1;32m      5\u001b[0m     \u001b[38;5;28;01melse\u001b[39;00m:\n\u001b[1;32m      6\u001b[0m         A11, A12, A21, A22 \u001b[38;5;241m=\u001b[39m divide_matrix_four_parts(A)\n",
      "Input \u001b[0;32mIn [48]\u001b[0m, in \u001b[0;36mnaive_multiply\u001b[0;34m(A, B)\u001b[0m\n\u001b[1;32m      5\u001b[0m     \u001b[38;5;28;01mfor\u001b[39;00m j \u001b[38;5;129;01min\u001b[39;00m \u001b[38;5;28mrange\u001b[39m(A\u001b[38;5;241m.\u001b[39mshape[\u001b[38;5;241m1\u001b[39m]):\n\u001b[1;32m      6\u001b[0m         \u001b[38;5;28;01mfor\u001b[39;00m k \u001b[38;5;129;01min\u001b[39;00m \u001b[38;5;28mrange\u001b[39m(A\u001b[38;5;241m.\u001b[39mshape[\u001b[38;5;241m0\u001b[39m]):\n\u001b[0;32m----> 7\u001b[0m             C[i,j] \u001b[38;5;241m+\u001b[39m\u001b[38;5;241m=\u001b[39m A[i,k] \u001b[38;5;241m*\u001b[39m B[k,j]\n\u001b[1;32m      8\u001b[0m \u001b[38;5;28;01mreturn\u001b[39;00m C\n",
      "\u001b[0;31mKeyboardInterrupt\u001b[0m: "
     ]
    }
   ],
   "source": [
    "timeit_strassen_32 = %timeit -o -n 5 -q C_strassen_32 = strassen_multiply(A, B, 32)"
   ]
  },
  {
   "cell_type": "code",
   "execution_count": 63,
   "id": "329023da",
   "metadata": {},
   "outputs": [
    {
     "name": "stdout",
     "output_type": "stream",
     "text": [
      "5.76 s ± 21.6 ms per loop (mean ± std. dev. of 7 runs, 1 loop each)\n"
     ]
    },
    {
     "data": {
      "text/plain": [
       "<TimeitResult : 5.76 s ± 21.6 ms per loop (mean ± std. dev. of 7 runs, 1 loop each)>"
      ]
     },
     "execution_count": 63,
     "metadata": {},
     "output_type": "execute_result"
    }
   ],
   "source": [
    "%timeit -o C_strassen_16 = strassen_multiply(A, B, 16)"
   ]
  },
  {
   "cell_type": "code",
   "execution_count": 64,
   "id": "2dac77dd",
   "metadata": {},
   "outputs": [
    {
     "name": "stdout",
     "output_type": "stream",
     "text": [
      "5.81 s ± 134 ms per loop (mean ± std. dev. of 7 runs, 1 loop each)\n"
     ]
    },
    {
     "data": {
      "text/plain": [
       "<TimeitResult : 5.81 s ± 134 ms per loop (mean ± std. dev. of 7 runs, 1 loop each)>"
      ]
     },
     "execution_count": 64,
     "metadata": {},
     "output_type": "execute_result"
    }
   ],
   "source": [
    "%timeit -o C_strassen_8 = strassen_multiply(A, B, 8)"
   ]
  },
  {
   "cell_type": "code",
   "execution_count": 65,
   "id": "81a51715",
   "metadata": {},
   "outputs": [
    {
     "ename": "NameError",
     "evalue": "name 'C_strassen_32' is not defined",
     "output_type": "error",
     "traceback": [
      "\u001b[0;31m---------------------------------------------------------------------------\u001b[0m",
      "\u001b[0;31mNameError\u001b[0m                                 Traceback (most recent call last)",
      "Input \u001b[0;32mIn [65]\u001b[0m, in \u001b[0;36m<module>\u001b[0;34m\u001b[0m\n\u001b[0;32m----> 1\u001b[0m np\u001b[38;5;241m.\u001b[39mallclose(C_naive, \u001b[43mC_strassen_32\u001b[49m)\n",
      "\u001b[0;31mNameError\u001b[0m: name 'C_strassen_32' is not defined"
     ]
    }
   ],
   "source": [
    "np.allclose(C_naive, C_strassen_32)\n"
   ]
  },
  {
   "cell_type": "code",
   "execution_count": null,
   "id": "35839bef",
   "metadata": {},
   "outputs": [],
   "source": []
  }
 ],
 "metadata": {
  "kernelspec": {
   "display_name": "Python 3 (ipykernel)",
   "language": "python",
   "name": "python3"
  },
  "language_info": {
   "codemirror_mode": {
    "name": "ipython",
    "version": 3
   },
   "file_extension": ".py",
   "mimetype": "text/x-python",
   "name": "python",
   "nbconvert_exporter": "python",
   "pygments_lexer": "ipython3",
   "version": "3.9.7"
  }
 },
 "nbformat": 4,
 "nbformat_minor": 5
}
