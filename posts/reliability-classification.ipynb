{
 "cells": [
  {
   "cell_type": "raw",
   "id": "6e58538b",
   "metadata": {},
   "source": [
    "---\n",
    "aliases:\n",
    "- /ml/2022/10/27/calibration\n",
    "author: Nipun Batra\n",
    "badges: true\n",
    "categories:\n",
    "- ml\n",
    "date: '2022-10-27'\n",
    "description: Probability Calibration\n",
    "output-file: 2022-10-27-calibration.html\n",
    "title: Calibration\n",
    "toc: true\n",
    "\n",
    "---"
   ]
  },
  {
   "cell_type": "code",
   "execution_count": 1,
   "id": "5ef1f444",
   "metadata": {},
   "outputs": [],
   "source": [
    "import numpy as np\n",
    "import sklearn\n",
    "import matplotlib.pyplot as plt\n",
    "import pandas as pd\n",
    "%matplotlib inline"
   ]
  },
  {
   "cell_type": "markdown",
   "id": "80bdcc58",
   "metadata": {},
   "source": [
    "https://towardsdatascience.com/introduction-to-reliability-diagrams-for-probability-calibration-ed785b3f5d44"
   ]
  },
  {
   "cell_type": "code",
   "execution_count": 2,
   "id": "9cebff3a",
   "metadata": {},
   "outputs": [],
   "source": [
    "p = np.array([0.9, 0.2, 0.7, 0.4, 0.8, 0.1, 0.2, 0.8, 0.5, 0.9])"
   ]
  },
  {
   "cell_type": "code",
   "execution_count": 3,
   "id": "70dd8239",
   "metadata": {},
   "outputs": [
    {
     "data": {
      "text/plain": [
       "array([1., 0., 1., 1., 1., 1., 0., 0., 0., 1.])"
      ]
     },
     "execution_count": 3,
     "metadata": {},
     "output_type": "execute_result"
    }
   ],
   "source": [
    "true_labels = np.ones_like(p)\n",
    "true_labels[[1, 6, 7, 8]] = 0\n",
    "true_labels"
   ]
  },
  {
   "cell_type": "code",
   "execution_count": 4,
   "id": "9504b681",
   "metadata": {},
   "outputs": [],
   "source": [
    "num_splits = 3"
   ]
  },
  {
   "cell_type": "code",
   "execution_count": 5,
   "id": "a3ef794d",
   "metadata": {},
   "outputs": [
    {
     "data": {
      "text/plain": [
       "[(0.0, 0.3333333333333333),\n",
       " (0.3333333333333333, 0.6666666666666666),\n",
       " (0.6666666666666666, 1.0)]"
      ]
     },
     "execution_count": 5,
     "metadata": {},
     "output_type": "execute_result"
    }
   ],
   "source": [
    "splits_arr = np.linspace(0, 1, num_splits + 1)\n",
    "splits = [(x, y) for (x, y) in zip(splits_arr[:-1], splits_arr[1:])]\n",
    "splits"
   ]
  },
  {
   "cell_type": "code",
   "execution_count": 6,
   "id": "47d1d43b",
   "metadata": {},
   "outputs": [
    {
     "data": {
      "text/plain": [
       "0      (0.667, 1.0]\n",
       "1      (0.0, 0.333]\n",
       "2      (0.667, 1.0]\n",
       "3    (0.333, 0.667]\n",
       "4      (0.667, 1.0]\n",
       "5      (0.0, 0.333]\n",
       "6      (0.0, 0.333]\n",
       "7      (0.667, 1.0]\n",
       "8    (0.333, 0.667]\n",
       "9      (0.667, 1.0]\n",
       "dtype: category\n",
       "Categories (3, interval[float64, right]): [(0.0, 0.333] < (0.333, 0.667] < (0.667, 1.0]]"
      ]
     },
     "execution_count": 6,
     "metadata": {},
     "output_type": "execute_result"
    }
   ],
   "source": [
    "pd.cut(pd.Series(p), bins=splits_arr)"
   ]
  },
  {
   "cell_type": "code",
   "execution_count": 35,
   "id": "0fce1d53",
   "metadata": {},
   "outputs": [
    {
     "data": {
      "text/plain": [
       "array([3, 1, 3, 2, 3, 1, 1, 3, 2, 3])"
      ]
     },
     "execution_count": 35,
     "metadata": {},
     "output_type": "execute_result"
    }
   ],
   "source": [
    "splits = np.digitize(p, splits_arr)\n",
    "splits"
   ]
  },
  {
   "cell_type": "code",
   "execution_count": 9,
   "id": "a9defc63",
   "metadata": {},
   "outputs": [],
   "source": [
    "p_group = {}\n",
    "labels_pos = {}\n",
    "for group in np.unique(splits):\n",
    "    p_group[group] = p[splits==group]\n",
    "    #frac_pos[group] = true_labels[splits==group].sum()*1.0/len(p_group[group])\n",
    "    labels_pos[group] = true_labels[splits==group]\n",
    "    #print(np.arange(10)[splits==group])"
   ]
  },
  {
   "cell_type": "code",
   "execution_count": 10,
   "id": "9366b0a8",
   "metadata": {},
   "outputs": [
    {
     "data": {
      "text/plain": [
       "{1: array([0.2, 0.1, 0.2]),\n",
       " 2: array([0.4, 0.5]),\n",
       " 3: array([0.9, 0.7, 0.8, 0.8, 0.9])}"
      ]
     },
     "execution_count": 10,
     "metadata": {},
     "output_type": "execute_result"
    }
   ],
   "source": [
    "p_group"
   ]
  },
  {
   "cell_type": "code",
   "execution_count": 11,
   "id": "30a0bb9b",
   "metadata": {},
   "outputs": [
    {
     "data": {
      "text/plain": [
       "{1: array([0., 1., 0.]), 2: array([1., 0.]), 3: array([1., 1., 1., 0., 1.])}"
      ]
     },
     "execution_count": 11,
     "metadata": {},
     "output_type": "execute_result"
    }
   ],
   "source": [
    "labels_pos"
   ]
  },
  {
   "cell_type": "code",
   "execution_count": 12,
   "id": "05e1fc03",
   "metadata": {},
   "outputs": [
    {
     "data": {
      "text/plain": [
       "{1: 0.16666666666666666, 2: 0.45, 3: 0.8200000000000001}"
      ]
     },
     "execution_count": 12,
     "metadata": {},
     "output_type": "execute_result"
    }
   ],
   "source": [
    "p_group_mean = {k:np.mean(v) for k, v in p_group.items()}\n",
    "p_group_mean"
   ]
  },
  {
   "cell_type": "code",
   "execution_count": 13,
   "id": "9d8debb7",
   "metadata": {},
   "outputs": [
    {
     "data": {
      "text/plain": [
       "{1: 0.3333333333333333, 2: 0.5, 3: 0.8}"
      ]
     },
     "execution_count": 13,
     "metadata": {},
     "output_type": "execute_result"
    }
   ],
   "source": [
    "fracs = {k:np.sum(v)*1.0/len(v) for k, v in labels_pos.items()}\n",
    "fracs"
   ]
  },
  {
   "cell_type": "code",
   "execution_count": 14,
   "id": "28954a4e",
   "metadata": {},
   "outputs": [
    {
     "data": {
      "text/plain": [
       "<matplotlib.legend.Legend at 0x14ae4f1c0>"
      ]
     },
     "execution_count": 14,
     "metadata": {},
     "output_type": "execute_result"
    },
    {
     "data": {
      "image/png": "[encoded data removed]",
      "text/plain": [
       "<Figure size 432x288 with 1 Axes>"
      ]
     },
     "metadata": {
      "needs_background": "light"
     },
     "output_type": "display_data"
    }
   ],
   "source": [
    "plt.plot(p_group_mean.values(), fracs.values(), marker='*')\n",
    "plt.xlim((-0.05, 1.05))\n",
    "plt.ylim((-0.05, 1.05))\n",
    "plt.gca().set_aspect(\"equal\")\n",
    "plt.xlabel(\"p\")\n",
    "plt.ylabel(\"Relative frequency\")\n",
    "\n",
    "plt.plot([0, 1], [0, 1], color='k', ls='--', label='Ideal')\n",
    "plt.legend()"
   ]
  },
  {
   "cell_type": "markdown",
   "id": "0f19181b",
   "metadata": {},
   "source": [
    "Let us wrap into a function\n",
    "\n"
   ]
  },
  {
   "cell_type": "code",
   "execution_count": 15,
   "id": "fba3d87f",
   "metadata": {},
   "outputs": [],
   "source": [
    "def calib_curve(true, pred, n_bins = 10):\n",
    "    splits_arr = np.linspace(0, 1, n_bins + 1)\n",
    "    splits = np.digitize(pred, splits_arr)\n",
    "    p_group = {}\n",
    "    labels_pos = {}\n",
    "    for group in np.unique(splits):\n",
    "        p_group[group] = pred[splits==group]\n",
    "        labels_pos[group] = true[splits==group]\n",
    "    p_group_mean = {k:np.mean(v) for k, v in p_group.items()}\n",
    "    fracs = {k:np.sum(v)*1.0/len(v) for k, v in labels_pos.items()}\n",
    "    counts = np.array([len(v) for v in labels_pos.values()])\n",
    "    return  np.array(list(p_group_mean.values())), np.array(list(fracs.values())), counts"
   ]
  },
  {
   "cell_type": "code",
   "execution_count": 16,
   "id": "5cdf7f63",
   "metadata": {},
   "outputs": [],
   "source": [
    "from sklearn.calibration import calibration_curve, CalibrationDisplay\n",
    "\n",
    "prob_true, prob_pred = calibration_curve(true_labels, p, n_bins=3)"
   ]
  },
  {
   "cell_type": "code",
   "execution_count": 17,
   "id": "5d2c36d1",
   "metadata": {},
   "outputs": [
    {
     "data": {
      "text/plain": [
       "array([0.33333333, 0.5       , 0.8       ])"
      ]
     },
     "execution_count": 17,
     "metadata": {},
     "output_type": "execute_result"
    }
   ],
   "source": [
    "prob_true"
   ]
  },
  {
   "cell_type": "code",
   "execution_count": 18,
   "id": "d449a09c",
   "metadata": {},
   "outputs": [
    {
     "data": {
      "text/plain": [
       "array([0.16666667, 0.45      , 0.82      ])"
      ]
     },
     "execution_count": 18,
     "metadata": {},
     "output_type": "execute_result"
    }
   ],
   "source": [
    "prob_pred"
   ]
  },
  {
   "cell_type": "code",
   "execution_count": 19,
   "id": "85f4936b",
   "metadata": {},
   "outputs": [
    {
     "data": {
      "text/plain": [
       "array([0.16666667, 0.45      , 0.82      ])"
      ]
     },
     "execution_count": 19,
     "metadata": {},
     "output_type": "execute_result"
    }
   ],
   "source": [
    "p_ours, p_hat_ours, count = calib_curve(true_labels, p, 3)\n",
    "p_ours"
   ]
  },
  {
   "cell_type": "markdown",
   "id": "ca7004c5",
   "metadata": {},
   "source": [
    "Expected Calibration Error"
   ]
  },
  {
   "cell_type": "code",
   "execution_count": 20,
   "id": "4514d303",
   "metadata": {},
   "outputs": [
    {
     "data": {
      "text/plain": [
       "0.23333333333333336"
      ]
     },
     "execution_count": 20,
     "metadata": {},
     "output_type": "execute_result"
    }
   ],
   "source": [
    "(np.abs(p_ours-p_hat_ours)*count).mean()"
   ]
  },
  {
   "cell_type": "code",
   "execution_count": 21,
   "id": "6dfbf8ed",
   "metadata": {},
   "outputs": [],
   "source": [
    "from sklearn.datasets import make_classification"
   ]
  },
  {
   "cell_type": "code",
   "execution_count": 22,
   "id": "c04a4e80",
   "metadata": {},
   "outputs": [],
   "source": [
    "X, y = make_classification(n_features=2, n_informative=2, n_redundant=0, random_state=0)"
   ]
  },
  {
   "cell_type": "code",
   "execution_count": 23,
   "id": "e654c557",
   "metadata": {},
   "outputs": [
    {
     "data": {
      "text/plain": [
       "<matplotlib.collections.PathCollection at 0x14bd53160>"
      ]
     },
     "execution_count": 23,
     "metadata": {},
     "output_type": "execute_result"
    },
    {
     "data": {
      "image/png": "[encoded data removed]",
      "text/plain": [
       "<Figure size 432x288 with 1 Axes>"
      ]
     },
     "metadata": {
      "needs_background": "light"
     },
     "output_type": "display_data"
    }
   ],
   "source": [
    "plt.scatter(X[:, 0], X[:, 1], c = y)"
   ]
  },
  {
   "cell_type": "code",
   "execution_count": 24,
   "id": "95bb8e7a",
   "metadata": {},
   "outputs": [],
   "source": [
    "from sklearn.linear_model import LogisticRegression"
   ]
  },
  {
   "cell_type": "code",
   "execution_count": 25,
   "id": "5699e162",
   "metadata": {},
   "outputs": [],
   "source": [
    "lr = LogisticRegression()"
   ]
  },
  {
   "cell_type": "code",
   "execution_count": 26,
   "id": "2d2ff52c",
   "metadata": {},
   "outputs": [
    {
     "data": {
      "text/html": [
       "<style>#sk-container-id-1 {color: black;background-color: white;}#sk-container-id-1 pre{padding: 0;}#sk-container-id-1 div.sk-toggleable {background-color: white;}#sk-container-id-1 label.sk-toggleable__label {cursor: pointer;display: block;width: 100%;margin-bottom: 0;padding: 0.3em;box-sizing: border-box;text-align: center;}#sk-container-id-1 label.sk-toggleable__label-arrow:before {content: \"▸\";float: left;margin-right: 0.25em;color: #696969;}#sk-container-id-1 label.sk-toggleable__label-arrow:hover:before {color: black;}#sk-container-id-1 div.sk-estimator:hover label.sk-toggleable__label-arrow:before {color: black;}#sk-container-id-1 div.sk-toggleable__content {max-height: 0;max-width: 0;overflow: hidden;text-align: left;background-color: #f0f8ff;}#sk-container-id-1 div.sk-toggleable__content pre {margin: 0.2em;color: black;border-radius: 0.25em;background-color: #f0f8ff;}#sk-container-id-1 input.sk-toggleable__control:checked~div.sk-toggleable__content {max-height: 200px;max-width: 100%;overflow: auto;}#sk-container-id-1 input.sk-toggleable__control:checked~label.sk-toggleable__label-arrow:before {content: \"▾\";}#sk-container-id-1 div.sk-estimator input.sk-toggleable__control:checked~label.sk-toggleable__label {background-color: #d4ebff;}#sk-container-id-1 div.sk-label input.sk-toggleable__control:checked~label.sk-toggleable__label {background-color: #d4ebff;}#sk-container-id-1 input.sk-hidden--visually {border: 0;clip: rect(1px 1px 1px 1px);clip: rect(1px, 1px, 1px, 1px);height: 1px;margin: -1px;overflow: hidden;padding: 0;position: absolute;width: 1px;}#sk-container-id-1 div.sk-estimator {font-family: monospace;background-color: #f0f8ff;border: 1px dotted black;border-radius: 0.25em;box-sizing: border-box;margin-bottom: 0.5em;}#sk-container-id-1 div.sk-estimator:hover {background-color: #d4ebff;}#sk-container-id-1 div.sk-parallel-item::after {content: \"\";width: 100%;border-bottom: 1px solid gray;flex-grow: 1;}#sk-container-id-1 div.sk-label:hover label.sk-toggleable__label {background-color: #d4ebff;}#sk-container-id-1 div.sk-serial::before {content: \"\";position: absolute;border-left: 1px solid gray;box-sizing: border-box;top: 0;bottom: 0;left: 50%;z-index: 0;}#sk-container-id-1 div.sk-serial {display: flex;flex-direction: column;align-items: center;background-color: white;padding-right: 0.2em;padding-left: 0.2em;position: relative;}#sk-container-id-1 div.sk-item {position: relative;z-index: 1;}#sk-container-id-1 div.sk-parallel {display: flex;align-items: stretch;justify-content: center;background-color: white;position: relative;}#sk-container-id-1 div.sk-item::before, #sk-container-id-1 div.sk-parallel-item::before {content: \"\";position: absolute;border-left: 1px solid gray;box-sizing: border-box;top: 0;bottom: 0;left: 50%;z-index: -1;}#sk-container-id-1 div.sk-parallel-item {display: flex;flex-direction: column;z-index: 1;position: relative;background-color: white;}#sk-container-id-1 div.sk-parallel-item:first-child::after {align-self: flex-end;width: 50%;}#sk-container-id-1 div.sk-parallel-item:last-child::after {align-self: flex-start;width: 50%;}#sk-container-id-1 div.sk-parallel-item:only-child::after {width: 0;}#sk-container-id-1 div.sk-dashed-wrapped {border: 1px dashed gray;margin: 0 0.4em 0.5em 0.4em;box-sizing: border-box;padding-bottom: 0.4em;background-color: white;}#sk-container-id-1 div.sk-label label {font-family: monospace;font-weight: bold;display: inline-block;line-height: 1.2em;}#sk-container-id-1 div.sk-label-container {text-align: center;}#sk-container-id-1 div.sk-container {/* jupyter's `normalize.less` sets `[hidden] { display: none; }` but bootstrap.min.css set `[hidden] { display: none !important; }` so we also need the `!important` here to be able to override the default hidden behavior on the sphinx rendered scikit-learn.org. See: https://github.com/scikit-learn/scikit-learn/issues/21755 */display: inline-block !important;position: relative;}#sk-container-id-1 div.sk-text-repr-fallback {display: none;}</style><div id=\"sk-container-id-1\" class=\"sk-top-container\"><div class=\"sk-text-repr-fallback\"><pre>LogisticRegression()</pre><b>In a Jupyter environment, please rerun this cell to show the HTML representation or trust the notebook. <br />On GitHub, the HTML representation is unable to render, please try loading this page with nbviewer.org.</b></div><div class=\"sk-container\" hidden><div class=\"sk-item\"><div class=\"sk-estimator sk-toggleable\"><input class=\"sk-toggleable__control sk-hidden--visually\" id=\"sk-estimator-id-1\" type=\"checkbox\" checked><label for=\"sk-estimator-id-1\" class=\"sk-toggleable__label sk-toggleable__label-arrow\">LogisticRegression</label><div class=\"sk-toggleable__content\"><pre>LogisticRegression()</pre></div></div></div></div></div>"
      ],
      "text/plain": [
       "LogisticRegression()"
      ]
     },
     "execution_count": 26,
     "metadata": {},
     "output_type": "execute_result"
    }
   ],
   "source": [
    "lr.fit(X, y)"
   ]
  },
  {
   "cell_type": "code",
   "execution_count": 27,
   "id": "33aa0245",
   "metadata": {},
   "outputs": [
    {
     "data": {
      "image/png": "[encoded data removed]",
      "text/plain": [
       "<Figure size 432x288 with 1 Axes>"
      ]
     },
     "metadata": {
      "needs_background": "light"
     },
     "output_type": "display_data"
    }
   ],
   "source": [
    "display = CalibrationDisplay.from_estimator(\n",
    "        lr,\n",
    "        X,\n",
    "        y,\n",
    "        n_bins=11,\n",
    ")"
   ]
  },
  {
   "cell_type": "code",
   "execution_count": 28,
   "id": "25a751dc",
   "metadata": {},
   "outputs": [],
   "source": [
    "pred_p = lr.predict_proba(X)[:, 1]"
   ]
  },
  {
   "cell_type": "code",
   "execution_count": 29,
   "id": "9b55889b",
   "metadata": {},
   "outputs": [],
   "source": [
    "probs, fractions, counts  = calib_curve(y, pred_p, 11)"
   ]
  },
  {
   "cell_type": "code",
   "execution_count": 30,
   "id": "22aea852",
   "metadata": {},
   "outputs": [
    {
     "data": {
      "text/plain": [
       "<matplotlib.legend.Legend at 0x14be53ca0>"
      ]
     },
     "execution_count": 30,
     "metadata": {},
     "output_type": "execute_result"
    },
    {
     "data": {
      "image/png": "[encoded data removed]",
      "text/plain": [
       "<Figure size 432x288 with 1 Axes>"
      ]
     },
     "metadata": {
      "needs_background": "light"
     },
     "output_type": "display_data"
    }
   ],
   "source": [
    "plt.plot(probs, fractions, marker='^')\n",
    "plt.xlabel(\"p\")\n",
    "plt.ylabel(\"Relative frequency\")\n",
    "\n",
    "plt.plot([0, 1], [0, 1], color='k', ls='--', label='Ideal')\n",
    "plt.legend()"
   ]
  },
  {
   "cell_type": "code",
   "execution_count": 31,
   "id": "23f56aae",
   "metadata": {},
   "outputs": [
    {
     "data": {
      "image/png": "[encoded data removed]",
      "text/plain": [
       "<Figure size 432x288 with 1 Axes>"
      ]
     },
     "metadata": {
      "needs_background": "light"
     },
     "output_type": "display_data"
    }
   ],
   "source": [
    "plt.hist(pred_p);"
   ]
  },
  {
   "cell_type": "code",
   "execution_count": 32,
   "id": "50271bfa",
   "metadata": {},
   "outputs": [
    {
     "data": {
      "text/plain": [
       "0.9530316314463302"
      ]
     },
     "execution_count": 32,
     "metadata": {},
     "output_type": "execute_result"
    }
   ],
   "source": [
    "(np.abs(probs-fractions)*counts).mean()"
   ]
  },
  {
   "cell_type": "code",
   "execution_count": 33,
   "id": "ba3919ea",
   "metadata": {},
   "outputs": [
    {
     "data": {
      "text/plain": [
       "array([18, 14, 13,  4,  2,  4,  2,  2,  6,  7, 28])"
      ]
     },
     "execution_count": 33,
     "metadata": {},
     "output_type": "execute_result"
    }
   ],
   "source": [
    "counts"
   ]
  },
  {
   "cell_type": "code",
   "execution_count": null,
   "id": "e250229d",
   "metadata": {},
   "outputs": [],
   "source": []
  }
 ],
 "metadata": {
  "kernelspec": {
   "display_name": "Python 3 (ipykernel)",
   "language": "python",
   "name": "python3"
  },
  "language_info": {
   "codemirror_mode": {
    "name": "ipython",
    "version": 3
   },
   "file_extension": ".py",
   "mimetype": "text/x-python",
   "name": "python",
   "nbconvert_exporter": "python",
   "pygments_lexer": "ipython3",
   "version": "3.8.13"
  }
 },
 "nbformat": 4,
 "nbformat_minor": 5
}
