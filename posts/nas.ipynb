{
 "cells": [
  {
   "cell_type": "raw",
   "metadata": {},
   "source": [
    "---\n",
    "author: Nipun Batra\n",
    "badges: true\n",
    "categories:\n",
    "- ML\n",
    "date: '2023-02-25'\n",
    "output-file: auto-pytorch.html\n",
    "title: AutoML PyTorch\n",
    "toc: true\n",
    "\n",
    "---"
   ]
  },
  {
   "attachments": {},
   "cell_type": "markdown",
   "id": "9ca61d65",
   "metadata": {},
   "source": [
    "In this post, we look at AutoPyTorch, a framework for automated machine learning."
   ]
  },
  {
   "cell_type": "code",
   "execution_count": 23,
   "id": "61b5dd25",
   "metadata": {},
   "outputs": [],
   "source": [
    "import os\n",
    "import tempfile as tmp\n",
    "import warnings\n",
    "import pandas as pd\n",
    "import numpy as np\n",
    "\n",
    "import sklearn.datasets\n",
    "import sklearn.model_selection\n",
    "\n",
    "os.environ['JOBLIB_TEMP_FOLDER'] = tmp.gettempdir()\n",
    "os.environ['OMP_NUM_THREADS'] = '1'\n",
    "os.environ['OPENBLAS_NUM_THREADS'] = '1'\n",
    "os.environ['MKL_NUM_THREADS'] = '1'\n",
    "\n",
    "warnings.simplefilter(action='ignore', category=UserWarning)\n",
    "warnings.simplefilter(action='ignore', category=FutureWarning)\n"
   ]
  },
  {
   "cell_type": "code",
   "execution_count": 24,
   "id": "5063082a",
   "metadata": {},
   "outputs": [],
   "source": [
    "from autoPyTorch.api.tabular_regression import TabularRegressionTask"
   ]
  },
  {
   "cell_type": "code",
   "execution_count": 112,
   "id": "ef5d9eea",
   "metadata": {},
   "outputs": [],
   "source": [
    "X, y = sklearn.datasets.load_diabetes(return_X_y=True, as_frame=True)\n",
    "X_train, X_test, y_train, y_test = sklearn.model_selection.train_test_split(\n",
    "    X,\n",
    "    y,\n",
    "    random_state=1,\n",
    ")\n",
    "\n",
    "# Obtain training and validation data\n",
    "X_train, X_valid, y_train, y_valid = sklearn.model_selection.train_test_split(\n",
    "    X_train,\n",
    "    y_train,\n",
    "    random_state=1,\n",
    ")\n"
   ]
  },
  {
   "cell_type": "code",
   "execution_count": 113,
   "id": "79432f5f",
   "metadata": {},
   "outputs": [
    {
     "data": {
      "text/html": [
       "<div>\n",
       "<style scoped>\n",
       "    .dataframe tbody tr th:only-of-type {\n",
       "        vertical-align: middle;\n",
       "    }\n",
       "\n",
       "    .dataframe tbody tr th {\n",
       "        vertical-align: top;\n",
       "    }\n",
       "\n",
       "    .dataframe thead th {\n",
       "        text-align: right;\n",
       "    }\n",
       "</style>\n",
       "<table border=\"1\" class=\"dataframe\">\n",
       "  <thead>\n",
       "    <tr style=\"text-align: right;\">\n",
       "      <th></th>\n",
       "      <th>age</th>\n",
       "      <th>sex</th>\n",
       "      <th>bmi</th>\n",
       "      <th>bp</th>\n",
       "      <th>s1</th>\n",
       "      <th>s2</th>\n",
       "      <th>s3</th>\n",
       "      <th>s4</th>\n",
       "      <th>s5</th>\n",
       "      <th>s6</th>\n",
       "    </tr>\n",
       "  </thead>\n",
       "  <tbody>\n",
       "    <tr>\n",
       "      <th>52</th>\n",
       "      <td>-0.052738</td>\n",
       "      <td>-0.044642</td>\n",
       "      <td>-0.009439</td>\n",
       "      <td>-0.005671</td>\n",
       "      <td>0.039710</td>\n",
       "      <td>0.044719</td>\n",
       "      <td>0.026550</td>\n",
       "      <td>-0.002592</td>\n",
       "      <td>-0.018118</td>\n",
       "      <td>-0.013504</td>\n",
       "    </tr>\n",
       "    <tr>\n",
       "      <th>121</th>\n",
       "      <td>0.063504</td>\n",
       "      <td>-0.044642</td>\n",
       "      <td>0.017506</td>\n",
       "      <td>0.021872</td>\n",
       "      <td>0.008063</td>\n",
       "      <td>0.021546</td>\n",
       "      <td>-0.036038</td>\n",
       "      <td>0.034309</td>\n",
       "      <td>0.019908</td>\n",
       "      <td>0.011349</td>\n",
       "    </tr>\n",
       "    <tr>\n",
       "      <th>170</th>\n",
       "      <td>0.023546</td>\n",
       "      <td>0.050680</td>\n",
       "      <td>-0.020218</td>\n",
       "      <td>-0.036656</td>\n",
       "      <td>-0.013953</td>\n",
       "      <td>-0.015092</td>\n",
       "      <td>0.059685</td>\n",
       "      <td>-0.039493</td>\n",
       "      <td>-0.096433</td>\n",
       "      <td>-0.017646</td>\n",
       "    </tr>\n",
       "    <tr>\n",
       "      <th>287</th>\n",
       "      <td>0.045341</td>\n",
       "      <td>-0.044642</td>\n",
       "      <td>-0.006206</td>\n",
       "      <td>-0.015999</td>\n",
       "      <td>0.125019</td>\n",
       "      <td>0.125198</td>\n",
       "      <td>0.019187</td>\n",
       "      <td>0.034309</td>\n",
       "      <td>0.032433</td>\n",
       "      <td>-0.005220</td>\n",
       "    </tr>\n",
       "    <tr>\n",
       "      <th>397</th>\n",
       "      <td>0.052606</td>\n",
       "      <td>-0.044642</td>\n",
       "      <td>-0.004050</td>\n",
       "      <td>-0.030918</td>\n",
       "      <td>-0.046975</td>\n",
       "      <td>-0.058307</td>\n",
       "      <td>-0.013948</td>\n",
       "      <td>-0.025840</td>\n",
       "      <td>0.036056</td>\n",
       "      <td>0.023775</td>\n",
       "    </tr>\n",
       "  </tbody>\n",
       "</table>\n",
       "</div>"
      ],
      "text/plain": [
       "          age       sex       bmi        bp        s1        s2        s3  \\\n",
       "52  -0.052738 -0.044642 -0.009439 -0.005671  0.039710  0.044719  0.026550   \n",
       "121  0.063504 -0.044642  0.017506  0.021872  0.008063  0.021546 -0.036038   \n",
       "170  0.023546  0.050680 -0.020218 -0.036656 -0.013953 -0.015092  0.059685   \n",
       "287  0.045341 -0.044642 -0.006206 -0.015999  0.125019  0.125198  0.019187   \n",
       "397  0.052606 -0.044642 -0.004050 -0.030918 -0.046975 -0.058307 -0.013948   \n",
       "\n",
       "           s4        s5        s6  \n",
       "52  -0.002592 -0.018118 -0.013504  \n",
       "121  0.034309  0.019908  0.011349  \n",
       "170 -0.039493 -0.096433 -0.017646  \n",
       "287  0.034309  0.032433 -0.005220  \n",
       "397 -0.025840  0.036056  0.023775  "
      ]
     },
     "execution_count": 113,
     "metadata": {},
     "output_type": "execute_result"
    }
   ],
   "source": [
    "X_train.head()"
   ]
  },
  {
   "cell_type": "code",
   "execution_count": 114,
   "id": "1768946e",
   "metadata": {},
   "outputs": [
    {
     "data": {
      "text/plain": [
       "52      59.0\n",
       "121    173.0\n",
       "170     47.0\n",
       "287    219.0\n",
       "397    198.0\n",
       "Name: target, dtype: float64"
      ]
     },
     "execution_count": 114,
     "metadata": {},
     "output_type": "execute_result"
    }
   ],
   "source": [
    "y_train.head()"
   ]
  },
  {
   "cell_type": "code",
   "execution_count": 115,
   "id": "fac3da0a",
   "metadata": {},
   "outputs": [
    {
     "data": {
      "text/plain": [
       "62.77500577100372"
      ]
     },
     "execution_count": 115,
     "metadata": {},
     "output_type": "execute_result"
    }
   ],
   "source": [
    "from sklearn.ensemble import RandomForestRegressor\n",
    "from sklearn.metrics import mean_squared_error\n",
    "\n",
    "rf = RandomForestRegressor(random_state=1)\n",
    "rf.fit(X_train, y_train)\n",
    "y_pred_rf = rf.predict(X_test)\n",
    "np.sqrt(mean_squared_error(y_test, y_pred_rf))"
   ]
  },
  {
   "cell_type": "code",
   "execution_count": 116,
   "id": "394a8518",
   "metadata": {},
   "outputs": [
    {
     "data": {
      "text/html": [
       "<div>\n",
       "<style scoped>\n",
       "    .dataframe tbody tr th:only-of-type {\n",
       "        vertical-align: middle;\n",
       "    }\n",
       "\n",
       "    .dataframe tbody tr th {\n",
       "        vertical-align: top;\n",
       "    }\n",
       "\n",
       "    .dataframe thead th {\n",
       "        text-align: right;\n",
       "    }\n",
       "</style>\n",
       "<table border=\"1\" class=\"dataframe\">\n",
       "  <thead>\n",
       "    <tr style=\"text-align: right;\">\n",
       "      <th></th>\n",
       "      <th>rf</th>\n",
       "      <th>true</th>\n",
       "    </tr>\n",
       "  </thead>\n",
       "  <tbody>\n",
       "    <tr>\n",
       "      <th>246</th>\n",
       "      <td>140.76</td>\n",
       "      <td>78.0</td>\n",
       "    </tr>\n",
       "    <tr>\n",
       "      <th>425</th>\n",
       "      <td>109.89</td>\n",
       "      <td>152.0</td>\n",
       "    </tr>\n",
       "    <tr>\n",
       "      <th>293</th>\n",
       "      <td>161.93</td>\n",
       "      <td>200.0</td>\n",
       "    </tr>\n",
       "    <tr>\n",
       "      <th>31</th>\n",
       "      <td>70.81</td>\n",
       "      <td>59.0</td>\n",
       "    </tr>\n",
       "    <tr>\n",
       "      <th>359</th>\n",
       "      <td>150.91</td>\n",
       "      <td>311.0</td>\n",
       "    </tr>\n",
       "  </tbody>\n",
       "</table>\n",
       "</div>"
      ],
      "text/plain": [
       "         rf   true\n",
       "246  140.76   78.0\n",
       "425  109.89  152.0\n",
       "293  161.93  200.0\n",
       "31    70.81   59.0\n",
       "359  150.91  311.0"
      ]
     },
     "execution_count": 116,
     "metadata": {},
     "output_type": "execute_result"
    }
   ],
   "source": [
    "pred_df = pd.DataFrame({\"rf\": y_pred_rf, \"true\": y_test})\n",
    "pred_df.head()"
   ]
  },
  {
   "cell_type": "code",
   "execution_count": 117,
   "id": "670facf8",
   "metadata": {},
   "outputs": [
    {
     "data": {
      "text/plain": [
       "{'max_depth': 5, 'n_estimators': 100}"
      ]
     },
     "execution_count": 117,
     "metadata": {},
     "output_type": "execute_result"
    }
   ],
   "source": [
    "# Use validation dataset to find best hyperparameters for RF\n",
    "rf = RandomForestRegressor(random_state=1)\n",
    "hyperparameters = {\"n_estimators\": [10, 100, 1000], \"max_depth\": [1, 5, 10]}\n",
    "\n",
    "from sklearn.model_selection import GridSearchCV\n",
    "\n",
    "grid_search = GridSearchCV(rf, hyperparameters, cv=5, scoring=\"neg_root_mean_squared_error\")\n",
    "grid_search.fit(X_valid, y_valid)\n",
    "\n",
    "grid_search.best_params_\n",
    "\n"
   ]
  },
  {
   "cell_type": "code",
   "execution_count": 119,
   "id": "ac630448",
   "metadata": {},
   "outputs": [
    {
     "data": {
      "text/plain": [
       "61.69476644955032"
      ]
     },
     "execution_count": 119,
     "metadata": {},
     "output_type": "execute_result"
    }
   ],
   "source": [
    "# Train the RF model using the best hyperparameters on train + validation data\n",
    "\n",
    "rf = RandomForestRegressor(**grid_search.best_params_, random_state=1)\n",
    "# Combine train and validation data\n",
    "X_train_overall = pd.concat([X_train, X_valid])\n",
    "y_train_overall = pd.concat([y_train, y_valid])\n",
    "rf.fit(X_train_overall, y_train_overall)\n",
    "y_pred_rf = rf.predict(X_test)\n",
    "np.sqrt(mean_squared_error(y_test, y_pred_rf))"
   ]
  },
  {
   "cell_type": "code",
   "execution_count": 120,
   "id": "27a178f2",
   "metadata": {},
   "outputs": [
    {
     "data": {
      "text/plain": [
       "<autoPyTorch.api.tabular_regression.TabularRegressionTask at 0x1a328c220>"
      ]
     },
     "execution_count": 120,
     "metadata": {},
     "output_type": "execute_result"
    }
   ],
   "source": [
    "api = TabularRegressionTask()\n",
    "\n",
    "# Do an api search without any memory limit but use only MLPs\n",
    "\n",
    "api.search(\n",
    "    X_train=X_train_overall,\n",
    "    y_train=y_train_overall,\n",
    "    X_test=X_test.copy(),\n",
    "    y_test=y_test.copy(),\n",
    "    optimize_metric='r2',\n",
    "    total_walltime_limit=80,\n",
    "    func_eval_time_limit_secs=10,\n",
    "    dataset_name=\"Diabetes\",\n",
    "    memory_limit=None,\n",
    "    enable_traditional_pipeline=True,\n",
    "    )"
   ]
  },
  {
   "cell_type": "code",
   "execution_count": 121,
   "id": "beaea446",
   "metadata": {},
   "outputs": [
    {
     "name": "stdout",
     "output_type": "stream",
     "text": [
      "{'r2': 0.3195282683852355}\n"
     ]
    },
    {
     "data": {
      "text/plain": [
       "59.60580312650306"
      ]
     },
     "execution_count": 121,
     "metadata": {},
     "output_type": "execute_result"
    }
   ],
   "source": [
    "y_pred = api.predict(X_test)\n",
    "score = api.score(y_pred, y_test)\n",
    "print(score)\n",
    "np.sqrt(mean_squared_error(y_test, y_pred))"
   ]
  },
  {
   "cell_type": "code",
   "execution_count": 122,
   "id": "3a5a8e31",
   "metadata": {},
   "outputs": [
    {
     "name": "stdout",
     "output_type": "stream",
     "text": [
      "autoPyTorch results:\n",
      "\tDataset name: Diabetes\n",
      "\tOptimisation Metric: r2\n",
      "\tBest validation score: 0.4352600925944532\n",
      "\tNumber of target algorithm runs: 17\n",
      "\tNumber of successful target algorithm runs: 13\n",
      "\tNumber of crashed target algorithm runs: 2\n",
      "\tNumber of target algorithms that exceeded the time limit: 2\n",
      "\tNumber of target algorithms that exceeded the memory limit: 0\n",
      "\n"
     ]
    }
   ],
   "source": [
    "# Print statistics from search\n",
    "print(api.sprint_statistics())"
   ]
  },
  {
   "cell_type": "code",
   "execution_count": 123,
   "id": "de8ffab7",
   "metadata": {},
   "outputs": [
    {
     "data": {
      "text/plain": [
       "(0.6000000000000001,\n",
       " MyTraditionalTabularRegressionPipeline(config='random_forest',\n",
       "                                        dataset_properties={'categorical_columns': [],\n",
       "                                                            'categories': [],\n",
       "                                                            'input_shape': (10,),\n",
       "                                                            'is_small_preprocess': True,\n",
       "                                                            'issigned': True,\n",
       "                                                            'issparse': False,\n",
       "                                                            'numerical_columns': [0,\n",
       "                                                                                  1,\n",
       "                                                                                  2,\n",
       "                                                                                  3,\n",
       "                                                                                  4,\n",
       "                                                                                  5,\n",
       "                                                                                  6,\n",
       "                                                                                  7,\n",
       "                                                                                  8,\n",
       "                                                                                  9],\n",
       "                                                            'output_shape': 1,\n",
       "                                                            'output_type': 'continuous',\n",
       "                                                            'target_type': 'tabular_regression',\n",
       "                                                            'task_type': 'tabular_regression'},\n",
       "                                        init_params={'instance': None},\n",
       "                                        random_state=RandomState(MT19937) at 0x1A2521940))"
      ]
     },
     "execution_count": 123,
     "metadata": {},
     "output_type": "execute_result"
    }
   ],
   "source": [
    "api.get_models_with_weights()[0]"
   ]
  },
  {
   "cell_type": "code",
   "execution_count": 124,
   "id": "13455e7f",
   "metadata": {},
   "outputs": [
    {
     "data": {
      "text/plain": [
       "(0.16000000000000003,\n",
       " MyTraditionalTabularRegressionPipeline(config='svm',\n",
       "                                        dataset_properties={'categorical_columns': [],\n",
       "                                                            'categories': [],\n",
       "                                                            'input_shape': (10,),\n",
       "                                                            'is_small_preprocess': True,\n",
       "                                                            'issigned': True,\n",
       "                                                            'issparse': False,\n",
       "                                                            'numerical_columns': [0,\n",
       "                                                                                  1,\n",
       "                                                                                  2,\n",
       "                                                                                  3,\n",
       "                                                                                  4,\n",
       "                                                                                  5,\n",
       "                                                                                  6,\n",
       "                                                                                  7,\n",
       "                                                                                  8,\n",
       "                                                                                  9],\n",
       "                                                            'output_shape': 1,\n",
       "                                                            'output_type': 'continuous',\n",
       "                                                            'target_type': 'tabular_regression',\n",
       "                                                            'task_type': 'tabular_regression'},\n",
       "                                        init_params={'instance': None},\n",
       "                                        random_state=RandomState(MT19937) at 0x1A2996440))"
      ]
     },
     "execution_count": 124,
     "metadata": {},
     "output_type": "execute_result"
    }
   ],
   "source": [
    "api.get_models_with_weights()[1]"
   ]
  },
  {
   "cell_type": "code",
   "execution_count": 125,
   "id": "e8a28ec2",
   "metadata": {},
   "outputs": [
    {
     "data": {
      "text/plain": [
       "(0.12000000000000001,\n",
       " ________________________________________\n",
       " \tTabularRegressionPipeline\n",
       " ________________________________________\n",
       " 0-) imputer: \n",
       " \tSimpleImputer\n",
       " \n",
       " 1-) variance_threshold: \n",
       " \tVarianceThreshold\n",
       " \n",
       " 2-) coalescer: \n",
       " \tNoCoalescer\n",
       " \n",
       " 3-) encoder: \n",
       " \tNoEncoder\n",
       " \n",
       " 4-) scaler: \n",
       " \tStandardScaler\n",
       " \n",
       " 5-) feature_preprocessor: \n",
       " \tNoFeaturePreprocessor\n",
       " \n",
       " 6-) tabular_transformer: \n",
       " \tTabularColumnTransformer\n",
       " \n",
       " 7-) preprocessing: \n",
       " \tEarlyPreprocessing\n",
       " \n",
       " 8-) network_embedding: \n",
       " \tautoPyTorch.pipeline NoEmbedding\n",
       " \n",
       " 9-) network_backbone: \n",
       " \tautoPyTorch.pipeline ShapedMLPBackbone\n",
       " \n",
       " 10-) network_head: \n",
       " \tautoPyTorch.pipeline FullyConnectedHead\n",
       " \n",
       " 11-) network: \n",
       " \tSequential ({'random_state': RandomState(MT19937) at 0x1A34C2840, '_fit_requirements': [FitRequirement(name='network_head', supported_types=(<class 'torch.nn.modules.module.Module'>,), user_defined=False, dataset_property=False), FitRequirement(name='network_backbone', supported_types=(<class 'torch.nn.modules.module.Module'>,), user_defined=False, dataset_property=False), FitRequirement(name='network_embedding', supported_types=(<class 'torch.nn.modules.module.Module'>,), user_defined=False, dataset_property=False)], '_cs_updates': {}, 'device': device(type='cpu'), 'network': Sequential(\n",
       "   (0): _NoEmbedding()\n",
       "   (1): Sequential(\n",
       "     (0): Linear(in_features=10, out_features=200, bias=True)\n",
       "     (1): BatchNorm1d(200, eps=1e-05, momentum=0.1, affine=True, track_running_stats=True)\n",
       "     (2): ReLU()\n",
       "     (3): Linear(in_features=200, out_features=200, bias=True)\n",
       "     (4): BatchNorm1d(200, eps=1e-05, momentum=0.1, affine=True, track_running_stats=True)\n",
       "     (5): ReLU()\n",
       "     (6): Linear(in_features=200, out_features=200, bias=True)\n",
       "     (7): BatchNorm1d(200, eps=1e-05, momentum=0.1, affine=True, track_running_stats=True)\n",
       "     (8): ReLU()\n",
       "     (9): Linear(in_features=200, out_features=200, bias=True)\n",
       "     (10): BatchNorm1d(200, eps=1e-05, momentum=0.1, affine=True, track_running_stats=True)\n",
       "     (11): ReLU()\n",
       "     (12): Linear(in_features=200, out_features=200, bias=True)\n",
       "   )\n",
       "   (2): Sequential(\n",
       "     (0): Flatten(start_dim=1, end_dim=-1)\n",
       "     (1): Linear(in_features=200, out_features=128, bias=True)\n",
       "     (2): ReLU()\n",
       "     (3): Linear(in_features=128, out_features=1, bias=True)\n",
       "   )\n",
       " ), 'final_activation': None, 'is_fitted_': True})\n",
       " \n",
       " 12-) network_init: \n",
       " \tXavierInit\n",
       " \n",
       " 13-) optimizer: \n",
       " \tAdam ({'random_state': RandomState(MT19937) at 0x1A34C2840, '_fit_requirements': [FitRequirement(name='network', supported_types=(<class 'torch.nn.modules.module.Module'>,), user_defined=False, dataset_property=False)], '_cs_updates': {}, 'optimizer': Adam (\n",
       " Parameter Group 0\n",
       "     amsgrad: False\n",
       "     betas: (0.9, 0.9)\n",
       "     capturable: False\n",
       "     eps: 1e-08\n",
       "     foreach: None\n",
       "     lr: 0.01\n",
       "     maximize: False\n",
       "     weight_decay: 0.0\n",
       " ), 'lr': 0.01, 'beta1': 0.9, 'beta2': 0.9, 'weight_decay': 0.0})\n",
       " \n",
       " 14-) lr_scheduler: \n",
       " \tReduceLROnPlateau\n",
       " \n",
       " 15-) data_loader: \n",
       " \tDataLoader\n",
       " \n",
       " 16-) trainer: \n",
       " \tautoPyTorch.pipeline Standard Trainer\n",
       " \n",
       " ________________________________________)"
      ]
     },
     "execution_count": 125,
     "metadata": {},
     "output_type": "execute_result"
    }
   ],
   "source": [
    "api.get_models_with_weights()[2]"
   ]
  },
  {
   "cell_type": "code",
   "execution_count": 126,
   "id": "2a4eb65f",
   "metadata": {},
   "outputs": [
    {
     "data": {
      "text/html": [
       "<div>\n",
       "<style scoped>\n",
       "    .dataframe tbody tr th:only-of-type {\n",
       "        vertical-align: middle;\n",
       "    }\n",
       "\n",
       "    .dataframe tbody tr th {\n",
       "        vertical-align: top;\n",
       "    }\n",
       "\n",
       "    .dataframe thead th {\n",
       "        text-align: right;\n",
       "    }\n",
       "</style>\n",
       "<table border=\"1\" class=\"dataframe\">\n",
       "  <thead>\n",
       "    <tr style=\"text-align: right;\">\n",
       "      <th></th>\n",
       "      <th>rf</th>\n",
       "      <th>true</th>\n",
       "      <th>Auto</th>\n",
       "    </tr>\n",
       "  </thead>\n",
       "  <tbody>\n",
       "    <tr>\n",
       "      <th>246</th>\n",
       "      <td>140.76</td>\n",
       "      <td>78.0</td>\n",
       "      <td>124.306467</td>\n",
       "    </tr>\n",
       "    <tr>\n",
       "      <th>425</th>\n",
       "      <td>109.89</td>\n",
       "      <td>152.0</td>\n",
       "      <td>110.260403</td>\n",
       "    </tr>\n",
       "    <tr>\n",
       "      <th>293</th>\n",
       "      <td>161.93</td>\n",
       "      <td>200.0</td>\n",
       "      <td>172.827616</td>\n",
       "    </tr>\n",
       "    <tr>\n",
       "      <th>31</th>\n",
       "      <td>70.81</td>\n",
       "      <td>59.0</td>\n",
       "      <td>81.760498</td>\n",
       "    </tr>\n",
       "    <tr>\n",
       "      <th>359</th>\n",
       "      <td>150.91</td>\n",
       "      <td>311.0</td>\n",
       "      <td>148.077544</td>\n",
       "    </tr>\n",
       "  </tbody>\n",
       "</table>\n",
       "</div>"
      ],
      "text/plain": [
       "         rf   true        Auto\n",
       "246  140.76   78.0  124.306467\n",
       "425  109.89  152.0  110.260403\n",
       "293  161.93  200.0  172.827616\n",
       "31    70.81   59.0   81.760498\n",
       "359  150.91  311.0  148.077544"
      ]
     },
     "execution_count": 126,
     "metadata": {},
     "output_type": "execute_result"
    }
   ],
   "source": [
    "pred_df[\"Auto\"] = y_pred\n",
    "pred_df.head()"
   ]
  },
  {
   "cell_type": "code",
   "execution_count": 127,
   "id": "ff785a8b",
   "metadata": {},
   "outputs": [
    {
     "data": {
      "text/html": [
       "<div>\n",
       "<style scoped>\n",
       "    .dataframe tbody tr th:only-of-type {\n",
       "        vertical-align: middle;\n",
       "    }\n",
       "\n",
       "    .dataframe tbody tr th {\n",
       "        vertical-align: top;\n",
       "    }\n",
       "\n",
       "    .dataframe thead th {\n",
       "        text-align: right;\n",
       "    }\n",
       "</style>\n",
       "<table border=\"1\" class=\"dataframe\">\n",
       "  <thead>\n",
       "    <tr style=\"text-align: right;\">\n",
       "      <th></th>\n",
       "      <th>rf</th>\n",
       "      <th>true</th>\n",
       "      <th>Auto</th>\n",
       "    </tr>\n",
       "  </thead>\n",
       "  <tbody>\n",
       "    <tr>\n",
       "      <th>246</th>\n",
       "      <td>62.76</td>\n",
       "      <td>78.0</td>\n",
       "      <td>46.306467</td>\n",
       "    </tr>\n",
       "    <tr>\n",
       "      <th>425</th>\n",
       "      <td>-42.11</td>\n",
       "      <td>152.0</td>\n",
       "      <td>-41.739597</td>\n",
       "    </tr>\n",
       "    <tr>\n",
       "      <th>293</th>\n",
       "      <td>-38.07</td>\n",
       "      <td>200.0</td>\n",
       "      <td>-27.172384</td>\n",
       "    </tr>\n",
       "    <tr>\n",
       "      <th>31</th>\n",
       "      <td>11.81</td>\n",
       "      <td>59.0</td>\n",
       "      <td>22.760498</td>\n",
       "    </tr>\n",
       "    <tr>\n",
       "      <th>359</th>\n",
       "      <td>-160.09</td>\n",
       "      <td>311.0</td>\n",
       "      <td>-162.922456</td>\n",
       "    </tr>\n",
       "    <tr>\n",
       "      <th>...</th>\n",
       "      <td>...</td>\n",
       "      <td>...</td>\n",
       "      <td>...</td>\n",
       "    </tr>\n",
       "    <tr>\n",
       "      <th>117</th>\n",
       "      <td>-89.37</td>\n",
       "      <td>281.0</td>\n",
       "      <td>-97.738050</td>\n",
       "    </tr>\n",
       "    <tr>\n",
       "      <th>139</th>\n",
       "      <td>-28.84</td>\n",
       "      <td>281.0</td>\n",
       "      <td>-56.402282</td>\n",
       "    </tr>\n",
       "    <tr>\n",
       "      <th>218</th>\n",
       "      <td>-77.24</td>\n",
       "      <td>214.0</td>\n",
       "      <td>-75.642767</td>\n",
       "    </tr>\n",
       "    <tr>\n",
       "      <th>93</th>\n",
       "      <td>-15.33</td>\n",
       "      <td>96.0</td>\n",
       "      <td>-8.373598</td>\n",
       "    </tr>\n",
       "    <tr>\n",
       "      <th>420</th>\n",
       "      <td>-31.39</td>\n",
       "      <td>146.0</td>\n",
       "      <td>-37.055359</td>\n",
       "    </tr>\n",
       "  </tbody>\n",
       "</table>\n",
       "<p>111 rows × 3 columns</p>\n",
       "</div>"
      ],
      "text/plain": [
       "         rf   true        Auto\n",
       "246   62.76   78.0   46.306467\n",
       "425  -42.11  152.0  -41.739597\n",
       "293  -38.07  200.0  -27.172384\n",
       "31    11.81   59.0   22.760498\n",
       "359 -160.09  311.0 -162.922456\n",
       "..      ...    ...         ...\n",
       "117  -89.37  281.0  -97.738050\n",
       "139  -28.84  281.0  -56.402282\n",
       "218  -77.24  214.0  -75.642767\n",
       "93   -15.33   96.0   -8.373598\n",
       "420  -31.39  146.0  -37.055359\n",
       "\n",
       "[111 rows x 3 columns]"
      ]
     },
     "execution_count": 127,
     "metadata": {},
     "output_type": "execute_result"
    }
   ],
   "source": [
    "pred_df_error = pred_df.copy()\n",
    "pred_df_error[\"Auto\"] = pred_df_error[\"Auto\"] - pred_df_error[\"true\"]\n",
    "pred_df_error[\"rf\"] = pred_df_error[\"rf\"] - pred_df_error[\"true\"]\n",
    "\n",
    "pred_df_error"
   ]
  },
  {
   "cell_type": "code",
   "execution_count": 128,
   "id": "8b75d256",
   "metadata": {},
   "outputs": [
    {
     "data": {
      "text/plain": [
       "<matplotlib.legend.Legend at 0x1a33146d0>"
      ]
     },
     "execution_count": 128,
     "metadata": {},
     "output_type": "execute_result"
    },
    {
     "data": {
      "image/png": "[encoded data removed]",
      "text/plain": [
       "<Figure size 640x480 with 1 Axes>"
      ]
     },
     "metadata": {},
     "output_type": "display_data"
    }
   ],
   "source": [
    "# Scatter plot of the predictions\n",
    "import matplotlib.pyplot as plt\n",
    "import seaborn as sns\n",
    "\n",
    "plt.scatter(pred_df[\"true\"], pred_df[\"Auto\"], label=\"Auto\")\n",
    "plt.scatter(pred_df[\"true\"], pred_df[\"rf\"], label=\"RF\")\n",
    "plt.legend()"
   ]
  },
  {
   "cell_type": "markdown",
   "id": "8669230a",
   "metadata": {},
   "source": [
    "What if we fit only NNs?"
   ]
  },
  {
   "cell_type": "code",
   "execution_count": 129,
   "id": "9830034c",
   "metadata": {},
   "outputs": [
    {
     "name": "stdout",
     "output_type": "stream",
     "text": [
      "[WARNING] [2023-02-25 11:44:43,866:Client-autoPyTorch.automl_common.common.utils.backend] Directory /var/folders/1x/wmgn24mn1bbd2vgbqlk98tbc0000gn/T/autoPyTorch_tmp_9cde18ea-b4d3-11ed-be1d-3c7d0a00e5d9/.autoPyTorch/ensembles does not exist\n",
      "[ERROR] [2023-02-25 11:44:43,870:Client-AutoPyTorch:Diabetes:2] No valid ensemble was created. Please check the logfile for errors. Default to the best individual estimator:[(2, 2, 5.555555555555555)]\n",
      "NoneType: None\n"
     ]
    },
    {
     "data": {
      "text/plain": [
       "<autoPyTorch.api.tabular_regression.TabularRegressionTask at 0x1a3972190>"
      ]
     },
     "execution_count": 129,
     "metadata": {},
     "output_type": "execute_result"
    }
   ],
   "source": [
    "api2 = TabularRegressionTask(seed=2, ensemble_size=0)\n",
    "\n",
    "api2.search(\n",
    "    X_train=X_train,\n",
    "    y_train=y_train,\n",
    "    X_test=X_test.copy(),\n",
    "    y_test=y_test.copy(),\n",
    "    optimize_metric='r2',\n",
    "    total_walltime_limit=40,\n",
    "    func_eval_time_limit_secs=10,\n",
    "    dataset_name=\"Diabetes\",\n",
    "    memory_limit=None,\n",
    "    enable_traditional_pipeline=False,\n",
    "    )\n"
   ]
  },
  {
   "cell_type": "code",
   "execution_count": 130,
   "id": "6ca70344",
   "metadata": {},
   "outputs": [
    {
     "data": {
      "text/plain": [
       "{'r2': -0.37656772470491995}"
      ]
     },
     "execution_count": 130,
     "metadata": {},
     "output_type": "execute_result"
    }
   ],
   "source": [
    "y_pred2 = api2.predict(X_test)\n",
    "score2 = api2.score(y_pred2, y_test)\n",
    "score2"
   ]
  },
  {
   "cell_type": "code",
   "execution_count": 131,
   "id": "44a5fe8a",
   "metadata": {},
   "outputs": [
    {
     "data": {
      "text/plain": [
       "84.77782906691597"
      ]
     },
     "execution_count": 131,
     "metadata": {},
     "output_type": "execute_result"
    }
   ],
   "source": [
    "np.sqrt(mean_squared_error(y_test, y_pred2))"
   ]
  },
  {
   "attachments": {},
   "cell_type": "markdown",
   "id": "3f2704e0",
   "metadata": {},
   "source": [
    "Okay, it seems we are worse than the random forest. Let's see what happened."
   ]
  },
  {
   "cell_type": "code",
   "execution_count": 132,
   "id": "2f00b22b",
   "metadata": {},
   "outputs": [
    {
     "data": {
      "text/plain": [
       "(1.0,\n",
       " ________________________________________\n",
       " \tTabularRegressionPipeline\n",
       " ________________________________________\n",
       " 0-) imputer: \n",
       " \tSimpleImputer\n",
       " \n",
       " 1-) variance_threshold: \n",
       " \tVarianceThreshold\n",
       " \n",
       " 2-) coalescer: \n",
       " \tNoCoalescer\n",
       " \n",
       " 3-) encoder: \n",
       " \tNoEncoder\n",
       " \n",
       " 4-) scaler: \n",
       " \tStandardScaler\n",
       " \n",
       " 5-) feature_preprocessor: \n",
       " \tNoFeaturePreprocessor\n",
       " \n",
       " 6-) tabular_transformer: \n",
       " \tTabularColumnTransformer\n",
       " \n",
       " 7-) preprocessing: \n",
       " \tEarlyPreprocessing\n",
       " \n",
       " 8-) network_embedding: \n",
       " \tautoPyTorch.pipeline NoEmbedding\n",
       " \n",
       " 9-) network_backbone: \n",
       " \tautoPyTorch.pipeline ShapedMLPBackbone\n",
       " \n",
       " 10-) network_head: \n",
       " \tautoPyTorch.pipeline FullyConnectedHead\n",
       " \n",
       " 11-) network: \n",
       " \tSequential ({'random_state': RandomState(MT19937) at 0x1A326EA40, '_fit_requirements': [FitRequirement(name='network_head', supported_types=(<class 'torch.nn.modules.module.Module'>,), user_defined=False, dataset_property=False), FitRequirement(name='network_backbone', supported_types=(<class 'torch.nn.modules.module.Module'>,), user_defined=False, dataset_property=False), FitRequirement(name='network_embedding', supported_types=(<class 'torch.nn.modules.module.Module'>,), user_defined=False, dataset_property=False)], '_cs_updates': {}, 'device': device(type='cpu'), 'network': Sequential(\n",
       "   (0): _NoEmbedding()\n",
       "   (1): Sequential(\n",
       "     (0): Linear(in_features=10, out_features=200, bias=True)\n",
       "     (1): BatchNorm1d(200, eps=1e-05, momentum=0.1, affine=True, track_running_stats=True)\n",
       "     (2): ReLU()\n",
       "     (3): Linear(in_features=200, out_features=200, bias=True)\n",
       "     (4): BatchNorm1d(200, eps=1e-05, momentum=0.1, affine=True, track_running_stats=True)\n",
       "     (5): ReLU()\n",
       "     (6): Linear(in_features=200, out_features=200, bias=True)\n",
       "     (7): BatchNorm1d(200, eps=1e-05, momentum=0.1, affine=True, track_running_stats=True)\n",
       "     (8): ReLU()\n",
       "     (9): Linear(in_features=200, out_features=200, bias=True)\n",
       "     (10): BatchNorm1d(200, eps=1e-05, momentum=0.1, affine=True, track_running_stats=True)\n",
       "     (11): ReLU()\n",
       "     (12): Linear(in_features=200, out_features=200, bias=True)\n",
       "   )\n",
       "   (2): Sequential(\n",
       "     (0): Flatten(start_dim=1, end_dim=-1)\n",
       "     (1): Linear(in_features=200, out_features=128, bias=True)\n",
       "     (2): ReLU()\n",
       "     (3): Linear(in_features=128, out_features=1, bias=True)\n",
       "   )\n",
       " ), 'final_activation': None, 'is_fitted_': True})\n",
       " \n",
       " 12-) network_init: \n",
       " \tXavierInit\n",
       " \n",
       " 13-) optimizer: \n",
       " \tAdam ({'random_state': RandomState(MT19937) at 0x1A326EA40, '_fit_requirements': [FitRequirement(name='network', supported_types=(<class 'torch.nn.modules.module.Module'>,), user_defined=False, dataset_property=False)], '_cs_updates': {}, 'optimizer': Adam (\n",
       " Parameter Group 0\n",
       "     amsgrad: False\n",
       "     betas: (0.9, 0.9)\n",
       "     capturable: False\n",
       "     eps: 1e-08\n",
       "     foreach: None\n",
       "     lr: 0.01\n",
       "     maximize: False\n",
       "     weight_decay: 0.0\n",
       " ), 'lr': 0.01, 'beta1': 0.9, 'beta2': 0.9, 'weight_decay': 0.0})\n",
       " \n",
       " 14-) lr_scheduler: \n",
       " \tReduceLROnPlateau\n",
       " \n",
       " 15-) data_loader: \n",
       " \tDataLoader\n",
       " \n",
       " 16-) trainer: \n",
       " \tautoPyTorch.pipeline Standard Trainer\n",
       " \n",
       " ________________________________________)"
      ]
     },
     "execution_count": 132,
     "metadata": {},
     "output_type": "execute_result"
    }
   ],
   "source": [
    "api2.get_models_with_weights()[0]"
   ]
  },
  {
   "cell_type": "code",
   "execution_count": 192,
   "id": "5fd5139d",
   "metadata": {},
   "outputs": [
    {
     "name": "stdout",
     "output_type": "stream",
     "text": [
      "Finished Training\n"
     ]
    }
   ],
   "source": [
    "# Build a simple MLP in PyTorch, train on training data and optimize on validation data\n",
    "\n",
    "import torch\n",
    "import torch.nn as nn\n",
    "import torch.nn.functional as F\n",
    "import torch.optim as optim\n",
    "\n",
    "class Net(nn.Module):\n",
    "    def __init__(self, l1 = 64, l2 = 64, l3 = 64, l2_reg = 0.0):\n",
    "        super(Net, self).__init__()\n",
    "        self.l2_reg = l2_reg\n",
    "        self.fc1 = nn.Linear(10, l1)\n",
    "        self.fc2 = nn.Linear(l1, l2)\n",
    "        self.fc3 = nn.Linear(l2, l3)\n",
    "        self.fc4 = nn.Linear(l3, 1)\n",
    "\n",
    "    def forward(self, x):\n",
    "        # Add a residual connection\n",
    "        x = F.relu(self.fc1(x))\n",
    "        x = F.relu(self.fc2(x))\n",
    "        x = F.relu(self.fc3(x))\n",
    "        x = self.fc4(x)\n",
    "        return x\n",
    "    \n",
    "\n",
    "net = Net()\n",
    "criterion = nn.MSELoss()\n",
    "optimizer = optim.Adam(net.parameters(), lr=0.001)\n",
    "\n",
    "X_train_torch = torch.from_numpy(X_train.values).float()\n",
    "y_train_torch = torch.from_numpy(y_train.values).float()\n",
    "X_val_torch = torch.from_numpy(X_valid.values).float()\n",
    "y_val_torch = torch.from_numpy(y_valid.values).float()\n",
    "X_test_torch = torch.from_numpy(X_test.values).float()\n",
    "y_test_torch = torch.from_numpy(y_test.values).float()\n",
    "\n",
    "train_losses = []\n",
    "val_losses = []\n",
    "test_losses = []\n",
    "\n",
    "\n",
    "for epoch in range(1000):  # loop over the dataset multiple times and store the train, test loss\n",
    "    optimizer.zero_grad()\n",
    "    outputs = net(X_train_torch)\n",
    "    loss = criterion(outputs, y_train_torch)\n",
    "    # Add L2 regularization\n",
    "    for param in net.parameters():\n",
    "        loss += net.l2_reg * torch.norm(param)\n",
    "    loss.backward()\n",
    "    optimizer.step()\n",
    "\n",
    "    train_losses.append(np.sqrt(loss.item()))\n",
    "    val_losses.append(np.sqrt(criterion(net(X_val_torch), y_val_torch).item()))\n",
    "    test_losses.append(np.sqrt(criterion(net(X_test_torch), y_test_torch).item()))\n",
    "            \n",
    "print('Finished Training')\n"
   ]
  },
  {
   "cell_type": "code",
   "execution_count": 193,
   "id": "bd43a5de",
   "metadata": {},
   "outputs": [
    {
     "data": {
      "text/plain": [
       "<matplotlib.legend.Legend at 0x229e2dd00>"
      ]
     },
     "execution_count": 193,
     "metadata": {},
     "output_type": "execute_result"
    },
    {
     "data": {
      "image/png": "[encoded data removed]",
      "text/plain": [
       "<Figure size 640x480 with 1 Axes>"
      ]
     },
     "metadata": {},
     "output_type": "display_data"
    }
   ],
   "source": [
    "plt.plot(train_losses, label=\"Train\")\n",
    "plt.plot(test_losses, label=\"Test\")\n",
    "plt.plot(val_losses, label=\"Val\")\n",
    "plt.legend()"
   ]
  },
  {
   "cell_type": "code",
   "execution_count": 194,
   "id": "7c2e3cdc",
   "metadata": {},
   "outputs": [
    {
     "name": "stdout",
     "output_type": "stream",
     "text": [
      "Test loss: 72.43400147936396\n",
      "Train loss: 79.22501516152427\n",
      "\n"
     ]
    }
   ],
   "source": [
    "with torch.no_grad():\n",
    "    outputs = net(X_test_torch)\n",
    "    loss = criterion(outputs, y_test_torch)\n",
    "    print(f\"Test loss: {np.sqrt(loss.item())}\")\n",
    "    outputs = net(X_train_torch)    \n",
    "    loss = criterion(outputs, y_train_torch)\n",
    "    print(f\"Train loss: {np.sqrt(loss.item())}\")\n",
    "    print(\"\")\n"
   ]
  },
  {
   "cell_type": "code",
   "execution_count": 195,
   "id": "a6e7e23f",
   "metadata": {},
   "outputs": [],
   "source": [
    "# At this point it seems our model is worse than RF, Auto model containing Catboost etc. Let us optimize our NN\n",
    "# I will use Ray Tune to optimize the hyperparameters\n",
    "\n",
    "import ray\n",
    "from ray import tune\n",
    "from ray.tune import CLIReporter\n",
    "from ray.tune.schedulers import ASHAScheduler\n",
    "\n",
    "def train_mlp(config):\n",
    "    net = Net(config[\"l1\"], config[\"l2\"], config[\"l3\"], config[\"l2_reg\"])\n",
    "    \n",
    "    criterion = nn.MSELoss()\n",
    "    \n",
    "    criterion = nn.MSELoss()\n",
    "    optimizer = optim.Adam(net.parameters(), lr=config[\"lr\"])\n",
    "    for epoch in range(1000):  # loop over the dataset multiple times and store the train, test loss\n",
    "        optimizer.zero_grad()\n",
    "        outputs = net(X_train_torch)\n",
    "        loss = criterion(outputs, y_train_torch)\n",
    "        # Add l2 regularization to loss\n",
    "        l2_reg = torch.tensor(0.)\n",
    "        for param in net.parameters():\n",
    "            l2_reg += torch.norm(param)\n",
    "        loss += config[\"l2_reg\"] * l2_reg\n",
    "        loss.backward()\n",
    "        optimizer.step()\n",
    "    with torch.no_grad():\n",
    "        outputs = net(X_val_torch)\n",
    "        loss = criterion(outputs, y_val_torch)\n",
    "        return {\"loss\":np.sqrt(loss.item())}\n",
    "\n"
   ]
  },
  {
   "cell_type": "code",
   "execution_count": 196,
   "id": "7d9c778f",
   "metadata": {},
   "outputs": [
    {
     "data": {
      "text/html": [
       "<div class=\"trialProgress\">\n",
       "  <h3>Trial Progress</h3>\n",
       "  <table>\n",
       "<thead>\n",
       "<tr><th>Trial name           </th><th>date               </th><th>done  </th><th>episodes_total  </th><th>experiment_id                   </th><th>experiment_tag                                 </th><th>hostname           </th><th style=\"text-align: right;\">  iterations_since_restore</th><th style=\"text-align: right;\">    loss</th><th>node_ip  </th><th style=\"text-align: right;\">  pid</th><th style=\"text-align: right;\">  time_since_restore</th><th style=\"text-align: right;\">  time_this_iter_s</th><th style=\"text-align: right;\">  time_total_s</th><th style=\"text-align: right;\">  timestamp</th><th style=\"text-align: right;\">  timesteps_since_restore</th><th>timesteps_total  </th><th style=\"text-align: right;\">  training_iteration</th><th>trial_id   </th><th style=\"text-align: right;\">  warmup_time</th></tr>\n",
       "</thead>\n",
       "<tbody>\n",
       "<tr><td>train_mlp_022eb_00000</td><td>2023-02-25_12-15-41</td><td>True  </td><td>                </td><td>ff29440033cc4bfd825d3d59aad1aef8</td><td>0_l1=256,l2=4,l2_reg=0.0001,l3=128,lr=0.5046   </td><td>Nipuns-iMac-8.local</td><td style=\"text-align: right;\">                         1</td><td style=\"text-align: right;\"> 76.2163</td><td>127.0.0.1</td><td style=\"text-align: right;\">34598</td><td style=\"text-align: right;\">             3.5459 </td><td style=\"text-align: right;\">           3.5459 </td><td style=\"text-align: right;\">       3.5459 </td><td style=\"text-align: right;\"> 1677307541</td><td style=\"text-align: right;\">                        0</td><td>                 </td><td style=\"text-align: right;\">                   1</td><td>022eb_00000</td><td style=\"text-align: right;\">   0.00219083</td></tr>\n",
       "<tr><td>train_mlp_022eb_00001</td><td>2023-02-25_12-15-47</td><td>True  </td><td>                </td><td>63eada87a43b4914a8971430ac7a0ae4</td><td>                                               </td><td>Nipuns-iMac-8.local</td><td style=\"text-align: right;\">                         1</td><td style=\"text-align: right;\"> 76.2173</td><td>127.0.0.1</td><td style=\"text-align: right;\">34605</td><td style=\"text-align: right;\">             4.65092</td><td style=\"text-align: right;\">           4.65092</td><td style=\"text-align: right;\">       4.65092</td><td style=\"text-align: right;\"> 1677307547</td><td style=\"text-align: right;\">                        0</td><td>                 </td><td style=\"text-align: right;\">                   1</td><td>022eb_00001</td><td style=\"text-align: right;\">   0.00549603</td></tr>\n",
       "<tr><td>train_mlp_022eb_00002</td><td>2023-02-25_12-15-53</td><td>True  </td><td>                </td><td>be342499a56d424e820441d390343ba1</td><td>                                               </td><td>Nipuns-iMac-8.local</td><td style=\"text-align: right;\">                         1</td><td style=\"text-align: right;\">118.73  </td><td>127.0.0.1</td><td style=\"text-align: right;\">34606</td><td style=\"text-align: right;\">            10.5146 </td><td style=\"text-align: right;\">          10.5146 </td><td style=\"text-align: right;\">      10.5146 </td><td style=\"text-align: right;\"> 1677307553</td><td style=\"text-align: right;\">                        0</td><td>                 </td><td style=\"text-align: right;\">                   1</td><td>022eb_00002</td><td style=\"text-align: right;\">   0.0124581 </td></tr>\n",
       "<tr><td>train_mlp_022eb_00003</td><td>2023-02-25_12-15-47</td><td>True  </td><td>                </td><td>32614ebe235b493d967dace8955adf86</td><td>                                               </td><td>Nipuns-iMac-8.local</td><td style=\"text-align: right;\">                         1</td><td style=\"text-align: right;\"> 76.3462</td><td>127.0.0.1</td><td style=\"text-align: right;\">34607</td><td style=\"text-align: right;\">             4.66342</td><td style=\"text-align: right;\">           4.66342</td><td style=\"text-align: right;\">       4.66342</td><td style=\"text-align: right;\"> 1677307547</td><td style=\"text-align: right;\">                        0</td><td>                 </td><td style=\"text-align: right;\">                   1</td><td>022eb_00003</td><td style=\"text-align: right;\">   0.004287  </td></tr>\n",
       "<tr><td>train_mlp_022eb_00004</td><td>2023-02-25_12-15-52</td><td>True  </td><td>                </td><td>8b1a3fba98cb421eae151f7f9d7cf5f4</td><td>                                               </td><td>Nipuns-iMac-8.local</td><td style=\"text-align: right;\">                         1</td><td style=\"text-align: right;\"> 76.2167</td><td>127.0.0.1</td><td style=\"text-align: right;\">34608</td><td style=\"text-align: right;\">             9.10662</td><td style=\"text-align: right;\">           9.10662</td><td style=\"text-align: right;\">       9.10662</td><td style=\"text-align: right;\"> 1677307552</td><td style=\"text-align: right;\">                        0</td><td>                 </td><td style=\"text-align: right;\">                   1</td><td>022eb_00004</td><td style=\"text-align: right;\">   0.00521398</td></tr>\n",
       "<tr><td>train_mlp_022eb_00005</td><td>2023-02-25_12-15-54</td><td>True  </td><td>                </td><td>7e185b7e77454e12bff7ab30b25ee131</td><td>5_l1=32,l2=128,l2_reg=0.0310,l3=256,lr=0.0027  </td><td>Nipuns-iMac-8.local</td><td style=\"text-align: right;\">                         1</td><td style=\"text-align: right;\"> 76.2164</td><td>127.0.0.1</td><td style=\"text-align: right;\">34609</td><td style=\"text-align: right;\">            10.8734 </td><td style=\"text-align: right;\">          10.8734 </td><td style=\"text-align: right;\">      10.8734 </td><td style=\"text-align: right;\"> 1677307554</td><td style=\"text-align: right;\">                        0</td><td>                 </td><td style=\"text-align: right;\">                   1</td><td>022eb_00005</td><td style=\"text-align: right;\">   0.00641322</td></tr>\n",
       "<tr><td>train_mlp_022eb_00006</td><td>2023-02-25_12-15-47</td><td>True  </td><td>                </td><td>6d9a53982fa947aa8dc7b9602928d696</td><td>                                               </td><td>Nipuns-iMac-8.local</td><td style=\"text-align: right;\">                         1</td><td style=\"text-align: right;\"> 76.2163</td><td>127.0.0.1</td><td style=\"text-align: right;\">34610</td><td style=\"text-align: right;\">             3.90882</td><td style=\"text-align: right;\">           3.90882</td><td style=\"text-align: right;\">       3.90882</td><td style=\"text-align: right;\"> 1677307547</td><td style=\"text-align: right;\">                        0</td><td>                 </td><td style=\"text-align: right;\">                   1</td><td>022eb_00006</td><td style=\"text-align: right;\">   0.00568509</td></tr>\n",
       "<tr><td>train_mlp_022eb_00007</td><td>2023-02-25_12-15-50</td><td>True  </td><td>                </td><td>f109561c8c214d5baf7ebdc5c8438549</td><td>7_l1=128,l2=2,l2_reg=0.0084,l3=256,lr=0.0284   </td><td>Nipuns-iMac-8.local</td><td style=\"text-align: right;\">                         1</td><td style=\"text-align: right;\"> 76.2163</td><td>127.0.0.1</td><td style=\"text-align: right;\">34611</td><td style=\"text-align: right;\">             7.11561</td><td style=\"text-align: right;\">           7.11561</td><td style=\"text-align: right;\">       7.11561</td><td style=\"text-align: right;\"> 1677307550</td><td style=\"text-align: right;\">                        0</td><td>                 </td><td style=\"text-align: right;\">                   1</td><td>022eb_00007</td><td style=\"text-align: right;\">   0.00779104</td></tr>\n",
       "<tr><td>train_mlp_022eb_00008</td><td>2023-02-25_12-15-47</td><td>True  </td><td>                </td><td>5eab35cad2a149779160edbf74bef7c6</td><td>8_l1=64,l2=16,l2_reg=0.2049,l3=16,lr=0.0257    </td><td>Nipuns-iMac-8.local</td><td style=\"text-align: right;\">                         1</td><td style=\"text-align: right;\"> 76.2157</td><td>127.0.0.1</td><td style=\"text-align: right;\">34612</td><td style=\"text-align: right;\">             4.49541</td><td style=\"text-align: right;\">           4.49541</td><td style=\"text-align: right;\">       4.49541</td><td style=\"text-align: right;\"> 1677307547</td><td style=\"text-align: right;\">                        0</td><td>                 </td><td style=\"text-align: right;\">                   1</td><td>022eb_00008</td><td style=\"text-align: right;\">   0.0108716 </td></tr>\n",
       "<tr><td>train_mlp_022eb_00009</td><td>2023-02-25_12-15-49</td><td>True  </td><td>                </td><td>d5a685eb63164f8192d88c2396c30494</td><td>9_l1=128,l2=32,l2_reg=0.5183,l3=128,lr=0.7038  </td><td>Nipuns-iMac-8.local</td><td style=\"text-align: right;\">                         1</td><td style=\"text-align: right;\"> 76.2165</td><td>127.0.0.1</td><td style=\"text-align: right;\">34613</td><td style=\"text-align: right;\">             6.53159</td><td style=\"text-align: right;\">           6.53159</td><td style=\"text-align: right;\">       6.53159</td><td style=\"text-align: right;\"> 1677307549</td><td style=\"text-align: right;\">                        0</td><td>                 </td><td style=\"text-align: right;\">                   1</td><td>022eb_00009</td><td style=\"text-align: right;\">   0.00568891</td></tr>\n",
       "<tr><td>train_mlp_022eb_00010</td><td>2023-02-25_12-15-54</td><td>True  </td><td>                </td><td>45ed3df89385458aaad1220531f8481f</td><td>10_l1=128,l2=256,l2_reg=0.0003,l3=32,lr=0.2002 </td><td>Nipuns-iMac-8.local</td><td style=\"text-align: right;\">                         1</td><td style=\"text-align: right;\"> 76.2163</td><td>127.0.0.1</td><td style=\"text-align: right;\">34614</td><td style=\"text-align: right;\">            11.1295 </td><td style=\"text-align: right;\">          11.1295 </td><td style=\"text-align: right;\">      11.1295 </td><td style=\"text-align: right;\"> 1677307554</td><td style=\"text-align: right;\">                        0</td><td>                 </td><td style=\"text-align: right;\">                   1</td><td>022eb_00010</td><td style=\"text-align: right;\">   0.018646  </td></tr>\n",
       "<tr><td>train_mlp_022eb_00011</td><td>2023-02-25_12-15-49</td><td>True  </td><td>                </td><td>4cd6603598554f0c8221d6cec2ce069f</td><td>                                               </td><td>Nipuns-iMac-8.local</td><td style=\"text-align: right;\">                         1</td><td style=\"text-align: right;\">102.708 </td><td>127.0.0.1</td><td style=\"text-align: right;\">34615</td><td style=\"text-align: right;\">             6.09139</td><td style=\"text-align: right;\">           6.09139</td><td style=\"text-align: right;\">       6.09139</td><td style=\"text-align: right;\"> 1677307549</td><td style=\"text-align: right;\">                        0</td><td>                 </td><td style=\"text-align: right;\">                   1</td><td>022eb_00011</td><td style=\"text-align: right;\">   0.0195563 </td></tr>\n",
       "<tr><td>train_mlp_022eb_00012</td><td>2023-02-25_12-15-48</td><td>True  </td><td>                </td><td>e0c9aecea152476cbf8515205c35429f</td><td>                                               </td><td>Nipuns-iMac-8.local</td><td style=\"text-align: right;\">                         1</td><td style=\"text-align: right;\"> 76.2167</td><td>127.0.0.1</td><td style=\"text-align: right;\">34616</td><td style=\"text-align: right;\">             4.58514</td><td style=\"text-align: right;\">           4.58514</td><td style=\"text-align: right;\">       4.58514</td><td style=\"text-align: right;\"> 1677307548</td><td style=\"text-align: right;\">                        0</td><td>                 </td><td style=\"text-align: right;\">                   1</td><td>022eb_00012</td><td style=\"text-align: right;\">   0.00861502</td></tr>\n",
       "<tr><td>train_mlp_022eb_00013</td><td>2023-02-25_12-15-47</td><td>True  </td><td>                </td><td>b0693736615d421888690e45a3320b3d</td><td>                                               </td><td>Nipuns-iMac-8.local</td><td style=\"text-align: right;\">                         1</td><td style=\"text-align: right;\">166.459 </td><td>127.0.0.1</td><td style=\"text-align: right;\">34617</td><td style=\"text-align: right;\">             4.16836</td><td style=\"text-align: right;\">           4.16836</td><td style=\"text-align: right;\">       4.16836</td><td style=\"text-align: right;\"> 1677307547</td><td style=\"text-align: right;\">                        0</td><td>                 </td><td style=\"text-align: right;\">                   1</td><td>022eb_00013</td><td style=\"text-align: right;\">   0.00856757</td></tr>\n",
       "<tr><td>train_mlp_022eb_00014</td><td>2023-02-25_12-15-49</td><td>True  </td><td>                </td><td>1d1f52d6dcbc4583824ec03a97aad75e</td><td>14_l1=16,l2=128,l2_reg=0.1032,l3=16,lr=0.0841  </td><td>Nipuns-iMac-8.local</td><td style=\"text-align: right;\">                         1</td><td style=\"text-align: right;\"> 76.2164</td><td>127.0.0.1</td><td style=\"text-align: right;\">34618</td><td style=\"text-align: right;\">             5.25635</td><td style=\"text-align: right;\">           5.25635</td><td style=\"text-align: right;\">       5.25635</td><td style=\"text-align: right;\"> 1677307549</td><td style=\"text-align: right;\">                        0</td><td>                 </td><td style=\"text-align: right;\">                   1</td><td>022eb_00014</td><td style=\"text-align: right;\">   0.010174  </td></tr>\n",
       "<tr><td>train_mlp_022eb_00015</td><td>2023-02-25_12-15-54</td><td>True  </td><td>                </td><td>d0b58e408db04f2eb4f06ba422ed8f26</td><td>                                               </td><td>Nipuns-iMac-8.local</td><td style=\"text-align: right;\">                         1</td><td style=\"text-align: right;\"> 76.2176</td><td>127.0.0.1</td><td style=\"text-align: right;\">34619</td><td style=\"text-align: right;\">            10.8196 </td><td style=\"text-align: right;\">          10.8196 </td><td style=\"text-align: right;\">      10.8196 </td><td style=\"text-align: right;\"> 1677307554</td><td style=\"text-align: right;\">                        0</td><td>                 </td><td style=\"text-align: right;\">                   1</td><td>022eb_00015</td><td style=\"text-align: right;\">   0.0184839 </td></tr>\n",
       "<tr><td>train_mlp_022eb_00016</td><td>2023-02-25_12-15-47</td><td>True  </td><td>                </td><td>ff29440033cc4bfd825d3d59aad1aef8</td><td>                                               </td><td>Nipuns-iMac-8.local</td><td style=\"text-align: right;\">                         1</td><td style=\"text-align: right;\"> 76.2164</td><td>127.0.0.1</td><td style=\"text-align: right;\">34598</td><td style=\"text-align: right;\">             4.50752</td><td style=\"text-align: right;\">           4.50752</td><td style=\"text-align: right;\">       4.50752</td><td style=\"text-align: right;\"> 1677307547</td><td style=\"text-align: right;\">                        0</td><td>                 </td><td style=\"text-align: right;\">                   1</td><td>022eb_00016</td><td style=\"text-align: right;\">   0.00219083</td></tr>\n",
       "<tr><td>train_mlp_022eb_00017</td><td>2023-02-25_12-16-02</td><td>True  </td><td>                </td><td>6d9a53982fa947aa8dc7b9602928d696</td><td>                                               </td><td>Nipuns-iMac-8.local</td><td style=\"text-align: right;\">                         1</td><td style=\"text-align: right;\"> 76.2206</td><td>127.0.0.1</td><td style=\"text-align: right;\">34610</td><td style=\"text-align: right;\">            15.0516 </td><td style=\"text-align: right;\">          15.0516 </td><td style=\"text-align: right;\">      15.0516 </td><td style=\"text-align: right;\"> 1677307562</td><td style=\"text-align: right;\">                        0</td><td>                 </td><td style=\"text-align: right;\">                   1</td><td>022eb_00017</td><td style=\"text-align: right;\">   0.00568509</td></tr>\n",
       "<tr><td>train_mlp_022eb_00018</td><td>2023-02-25_12-15-54</td><td>True  </td><td>                </td><td>b0693736615d421888690e45a3320b3d</td><td>18_l1=128,l2=2,l2_reg=0.0013,l3=128,lr=0.4539  </td><td>Nipuns-iMac-8.local</td><td style=\"text-align: right;\">                         1</td><td style=\"text-align: right;\"> 76.2163</td><td>127.0.0.1</td><td style=\"text-align: right;\">34617</td><td style=\"text-align: right;\">             6.18942</td><td style=\"text-align: right;\">           6.18942</td><td style=\"text-align: right;\">       6.18942</td><td style=\"text-align: right;\"> 1677307554</td><td style=\"text-align: right;\">                        0</td><td>                 </td><td style=\"text-align: right;\">                   1</td><td>022eb_00018</td><td style=\"text-align: right;\">   0.00856757</td></tr>\n",
       "<tr><td>train_mlp_022eb_00019</td><td>2023-02-25_12-15-55</td><td>True  </td><td>                </td><td>5eab35cad2a149779160edbf74bef7c6</td><td>                                               </td><td>Nipuns-iMac-8.local</td><td style=\"text-align: right;\">                         1</td><td style=\"text-align: right;\"> 76.2167</td><td>127.0.0.1</td><td style=\"text-align: right;\">34612</td><td style=\"text-align: right;\">             7.84378</td><td style=\"text-align: right;\">           7.84378</td><td style=\"text-align: right;\">       7.84378</td><td style=\"text-align: right;\"> 1677307555</td><td style=\"text-align: right;\">                        0</td><td>                 </td><td style=\"text-align: right;\">                   1</td><td>022eb_00019</td><td style=\"text-align: right;\">   0.0108716 </td></tr>\n",
       "<tr><td>train_mlp_022eb_00020</td><td>2023-02-25_12-15-52</td><td>True  </td><td>                </td><td>ff29440033cc4bfd825d3d59aad1aef8</td><td>                                               </td><td>Nipuns-iMac-8.local</td><td style=\"text-align: right;\">                         1</td><td style=\"text-align: right;\"> 76.2165</td><td>127.0.0.1</td><td style=\"text-align: right;\">34598</td><td style=\"text-align: right;\">             4.86697</td><td style=\"text-align: right;\">           4.86697</td><td style=\"text-align: right;\">       4.86697</td><td style=\"text-align: right;\"> 1677307552</td><td style=\"text-align: right;\">                        0</td><td>                 </td><td style=\"text-align: right;\">                   1</td><td>022eb_00020</td><td style=\"text-align: right;\">   0.00219083</td></tr>\n",
       "<tr><td>train_mlp_022eb_00021</td><td>2023-02-25_12-15-54</td><td>True  </td><td>                </td><td>63eada87a43b4914a8971430ac7a0ae4</td><td>                                               </td><td>Nipuns-iMac-8.local</td><td style=\"text-align: right;\">                         1</td><td style=\"text-align: right;\">141.13  </td><td>127.0.0.1</td><td style=\"text-align: right;\">34605</td><td style=\"text-align: right;\">             6.06343</td><td style=\"text-align: right;\">           6.06343</td><td style=\"text-align: right;\">       6.06343</td><td style=\"text-align: right;\"> 1677307554</td><td style=\"text-align: right;\">                        0</td><td>                 </td><td style=\"text-align: right;\">                   1</td><td>022eb_00021</td><td style=\"text-align: right;\">   0.00549603</td></tr>\n",
       "<tr><td>train_mlp_022eb_00022</td><td>2023-02-25_12-15-52</td><td>True  </td><td>                </td><td>32614ebe235b493d967dace8955adf86</td><td>                                               </td><td>Nipuns-iMac-8.local</td><td style=\"text-align: right;\">                         1</td><td style=\"text-align: right;\">134.768 </td><td>127.0.0.1</td><td style=\"text-align: right;\">34607</td><td style=\"text-align: right;\">             4.7571 </td><td style=\"text-align: right;\">           4.7571 </td><td style=\"text-align: right;\">       4.7571 </td><td style=\"text-align: right;\"> 1677307552</td><td style=\"text-align: right;\">                        0</td><td>                 </td><td style=\"text-align: right;\">                   1</td><td>022eb_00022</td><td style=\"text-align: right;\">   0.004287  </td></tr>\n",
       "<tr><td>train_mlp_022eb_00023</td><td>2023-02-25_12-15-55</td><td>True  </td><td>                </td><td>e0c9aecea152476cbf8515205c35429f</td><td>                                               </td><td>Nipuns-iMac-8.local</td><td style=\"text-align: right;\">                         1</td><td style=\"text-align: right;\"> 76.2169</td><td>127.0.0.1</td><td style=\"text-align: right;\">34616</td><td style=\"text-align: right;\">             7.30502</td><td style=\"text-align: right;\">           7.30502</td><td style=\"text-align: right;\">       7.30502</td><td style=\"text-align: right;\"> 1677307555</td><td style=\"text-align: right;\">                        0</td><td>                 </td><td style=\"text-align: right;\">                   1</td><td>022eb_00023</td><td style=\"text-align: right;\">   0.00861502</td></tr>\n",
       "<tr><td>train_mlp_022eb_00024</td><td>2023-02-25_12-16-04</td><td>True  </td><td>                </td><td>1d1f52d6dcbc4583824ec03a97aad75e</td><td>24_l1=64,l2=256,l2_reg=0.0441,l3=256,lr=0.0087 </td><td>Nipuns-iMac-8.local</td><td style=\"text-align: right;\">                         1</td><td style=\"text-align: right;\"> 76.2165</td><td>127.0.0.1</td><td style=\"text-align: right;\">34618</td><td style=\"text-align: right;\">            15.3387 </td><td style=\"text-align: right;\">          15.3387 </td><td style=\"text-align: right;\">      15.3387 </td><td style=\"text-align: right;\"> 1677307564</td><td style=\"text-align: right;\">                        0</td><td>                 </td><td style=\"text-align: right;\">                   1</td><td>022eb_00024</td><td style=\"text-align: right;\">   0.010174  </td></tr>\n",
       "<tr><td>train_mlp_022eb_00025</td><td>2023-02-25_12-15-56</td><td>True  </td><td>                </td><td>4cd6603598554f0c8221d6cec2ce069f</td><td>25_l1=256,l2=2,l2_reg=0.1109,l3=64,lr=0.1350   </td><td>Nipuns-iMac-8.local</td><td style=\"text-align: right;\">                         1</td><td style=\"text-align: right;\"> 76.2161</td><td>127.0.0.1</td><td style=\"text-align: right;\">34615</td><td style=\"text-align: right;\">             7.15175</td><td style=\"text-align: right;\">           7.15175</td><td style=\"text-align: right;\">       7.15175</td><td style=\"text-align: right;\"> 1677307556</td><td style=\"text-align: right;\">                        0</td><td>                 </td><td style=\"text-align: right;\">                   1</td><td>022eb_00025</td><td style=\"text-align: right;\">   0.0195563 </td></tr>\n",
       "<tr><td>train_mlp_022eb_00026</td><td>2023-02-25_12-15-55</td><td>True  </td><td>                </td><td>d5a685eb63164f8192d88c2396c30494</td><td>                                               </td><td>Nipuns-iMac-8.local</td><td style=\"text-align: right;\">                         1</td><td style=\"text-align: right;\"> 76.2242</td><td>127.0.0.1</td><td style=\"text-align: right;\">34613</td><td style=\"text-align: right;\">             5.42115</td><td style=\"text-align: right;\">           5.42115</td><td style=\"text-align: right;\">       5.42115</td><td style=\"text-align: right;\"> 1677307555</td><td style=\"text-align: right;\">                        0</td><td>                 </td><td style=\"text-align: right;\">                   1</td><td>022eb_00026</td><td style=\"text-align: right;\">   0.00568891</td></tr>\n",
       "<tr><td>train_mlp_022eb_00027</td><td>2023-02-25_12-15-55</td><td>True  </td><td>                </td><td>f109561c8c214d5baf7ebdc5c8438549</td><td>                                               </td><td>Nipuns-iMac-8.local</td><td style=\"text-align: right;\">                         1</td><td style=\"text-align: right;\"> 76.2173</td><td>127.0.0.1</td><td style=\"text-align: right;\">34611</td><td style=\"text-align: right;\">             5.31858</td><td style=\"text-align: right;\">           5.31858</td><td style=\"text-align: right;\">       5.31858</td><td style=\"text-align: right;\"> 1677307555</td><td style=\"text-align: right;\">                        0</td><td>                 </td><td style=\"text-align: right;\">                   1</td><td>022eb_00027</td><td style=\"text-align: right;\">   0.00779104</td></tr>\n",
       "<tr><td>train_mlp_022eb_00028</td><td>2023-02-25_12-15-59</td><td>True  </td><td>                </td><td>8b1a3fba98cb421eae151f7f9d7cf5f4</td><td>28_l1=16,l2=16,l2_reg=0.0005,l3=256,lr=0.4945  </td><td>Nipuns-iMac-8.local</td><td style=\"text-align: right;\">                         1</td><td style=\"text-align: right;\"> 76.2163</td><td>127.0.0.1</td><td style=\"text-align: right;\">34608</td><td style=\"text-align: right;\">             6.88694</td><td style=\"text-align: right;\">           6.88694</td><td style=\"text-align: right;\">       6.88694</td><td style=\"text-align: right;\"> 1677307559</td><td style=\"text-align: right;\">                        0</td><td>                 </td><td style=\"text-align: right;\">                   1</td><td>022eb_00028</td><td style=\"text-align: right;\">   0.00521398</td></tr>\n",
       "<tr><td>train_mlp_022eb_00029</td><td>2023-02-25_12-15-58</td><td>True  </td><td>                </td><td>ff29440033cc4bfd825d3d59aad1aef8</td><td>29_l1=2,l2=4,l2_reg=0.1178,l3=128,lr=0.0096    </td><td>Nipuns-iMac-8.local</td><td style=\"text-align: right;\">                         1</td><td style=\"text-align: right;\"> 76.2164</td><td>127.0.0.1</td><td style=\"text-align: right;\">34598</td><td style=\"text-align: right;\">             5.47114</td><td style=\"text-align: right;\">           5.47114</td><td style=\"text-align: right;\">       5.47114</td><td style=\"text-align: right;\"> 1677307558</td><td style=\"text-align: right;\">                        0</td><td>                 </td><td style=\"text-align: right;\">                   1</td><td>022eb_00029</td><td style=\"text-align: right;\">   0.00219083</td></tr>\n",
       "<tr><td>train_mlp_022eb_00030</td><td>2023-02-25_12-16-05</td><td>True  </td><td>                </td><td>32614ebe235b493d967dace8955adf86</td><td>30_l1=256,l2=256,l2_reg=0.0010,l3=128,lr=0.0175</td><td>Nipuns-iMac-8.local</td><td style=\"text-align: right;\">                         1</td><td style=\"text-align: right;\"> 76.2156</td><td>127.0.0.1</td><td style=\"text-align: right;\">34607</td><td style=\"text-align: right;\">            12.695  </td><td style=\"text-align: right;\">          12.695  </td><td style=\"text-align: right;\">      12.695  </td><td style=\"text-align: right;\"> 1677307565</td><td style=\"text-align: right;\">                        0</td><td>                 </td><td style=\"text-align: right;\">                   1</td><td>022eb_00030</td><td style=\"text-align: right;\">   0.004287  </td></tr>\n",
       "<tr><td>train_mlp_022eb_00031</td><td>2023-02-25_12-16-00</td><td>True  </td><td>                </td><td>be342499a56d424e820441d390343ba1</td><td>                                               </td><td>Nipuns-iMac-8.local</td><td style=\"text-align: right;\">                         1</td><td style=\"text-align: right;\"> 76.2172</td><td>127.0.0.1</td><td style=\"text-align: right;\">34606</td><td style=\"text-align: right;\">             6.81388</td><td style=\"text-align: right;\">           6.81388</td><td style=\"text-align: right;\">       6.81388</td><td style=\"text-align: right;\"> 1677307560</td><td style=\"text-align: right;\">                        0</td><td>                 </td><td style=\"text-align: right;\">                   1</td><td>022eb_00031</td><td style=\"text-align: right;\">   0.0124581 </td></tr>\n",
       "<tr><td>train_mlp_022eb_00032</td><td>2023-02-25_12-15-58</td><td>True  </td><td>                </td><td>b0693736615d421888690e45a3320b3d</td><td>32_l1=2,l2=2,l2_reg=0.1239,l3=16,lr=0.0101     </td><td>Nipuns-iMac-8.local</td><td style=\"text-align: right;\">                         1</td><td style=\"text-align: right;\"> 76.2165</td><td>127.0.0.1</td><td style=\"text-align: right;\">34617</td><td style=\"text-align: right;\">             4.4342 </td><td style=\"text-align: right;\">           4.4342 </td><td style=\"text-align: right;\">       4.4342 </td><td style=\"text-align: right;\"> 1677307558</td><td style=\"text-align: right;\">                        0</td><td>                 </td><td style=\"text-align: right;\">                   1</td><td>022eb_00032</td><td style=\"text-align: right;\">   0.00856757</td></tr>\n",
       "<tr><td>train_mlp_022eb_00033</td><td>2023-02-25_12-16-02</td><td>True  </td><td>                </td><td>63eada87a43b4914a8971430ac7a0ae4</td><td>                                               </td><td>Nipuns-iMac-8.local</td><td style=\"text-align: right;\">                         1</td><td style=\"text-align: right;\"> 76.2168</td><td>127.0.0.1</td><td style=\"text-align: right;\">34605</td><td style=\"text-align: right;\">             8.63035</td><td style=\"text-align: right;\">           8.63035</td><td style=\"text-align: right;\">       8.63035</td><td style=\"text-align: right;\"> 1677307562</td><td style=\"text-align: right;\">                        0</td><td>                 </td><td style=\"text-align: right;\">                   1</td><td>022eb_00033</td><td style=\"text-align: right;\">   0.00549603</td></tr>\n",
       "<tr><td>train_mlp_022eb_00034</td><td>2023-02-25_12-15-58</td><td>True  </td><td>                </td><td>7e185b7e77454e12bff7ab30b25ee131</td><td>34_l1=16,l2=4,l2_reg=0.0002,l3=2,lr=0.1256     </td><td>Nipuns-iMac-8.local</td><td style=\"text-align: right;\">                         1</td><td style=\"text-align: right;\"> 76.2163</td><td>127.0.0.1</td><td style=\"text-align: right;\">34609</td><td style=\"text-align: right;\">             4.5554 </td><td style=\"text-align: right;\">           4.5554 </td><td style=\"text-align: right;\">       4.5554 </td><td style=\"text-align: right;\"> 1677307558</td><td style=\"text-align: right;\">                        0</td><td>                 </td><td style=\"text-align: right;\">                   1</td><td>022eb_00034</td><td style=\"text-align: right;\">   0.00641322</td></tr>\n",
       "<tr><td>train_mlp_022eb_00035</td><td>2023-02-25_12-15-59</td><td>True  </td><td>                </td><td>d0b58e408db04f2eb4f06ba422ed8f26</td><td>35_l1=128,l2=4,l2_reg=0.0006,l3=4,lr=0.0438    </td><td>Nipuns-iMac-8.local</td><td style=\"text-align: right;\">                         1</td><td style=\"text-align: right;\"> 76.2165</td><td>127.0.0.1</td><td style=\"text-align: right;\">34619</td><td style=\"text-align: right;\">             5.27515</td><td style=\"text-align: right;\">           5.27515</td><td style=\"text-align: right;\">       5.27515</td><td style=\"text-align: right;\"> 1677307559</td><td style=\"text-align: right;\">                        0</td><td>                 </td><td style=\"text-align: right;\">                   1</td><td>022eb_00035</td><td style=\"text-align: right;\">   0.0184839 </td></tr>\n",
       "<tr><td>train_mlp_022eb_00036</td><td>2023-02-25_12-16-03</td><td>True  </td><td>                </td><td>45ed3df89385458aaad1220531f8481f</td><td>                                               </td><td>Nipuns-iMac-8.local</td><td style=\"text-align: right;\">                         1</td><td style=\"text-align: right;\"> 76.2174</td><td>127.0.0.1</td><td style=\"text-align: right;\">34614</td><td style=\"text-align: right;\">             8.26065</td><td style=\"text-align: right;\">           8.26065</td><td style=\"text-align: right;\">       8.26065</td><td style=\"text-align: right;\"> 1677307563</td><td style=\"text-align: right;\">                        0</td><td>                 </td><td style=\"text-align: right;\">                   1</td><td>022eb_00036</td><td style=\"text-align: right;\">   0.018646  </td></tr>\n",
       "<tr><td>train_mlp_022eb_00037</td><td>2023-02-25_12-16-02</td><td>True  </td><td>                </td><td>d5a685eb63164f8192d88c2396c30494</td><td>                                               </td><td>Nipuns-iMac-8.local</td><td style=\"text-align: right;\">                         1</td><td style=\"text-align: right;\"> 76.2173</td><td>127.0.0.1</td><td style=\"text-align: right;\">34613</td><td style=\"text-align: right;\">             6.96059</td><td style=\"text-align: right;\">           6.96059</td><td style=\"text-align: right;\">       6.96059</td><td style=\"text-align: right;\"> 1677307562</td><td style=\"text-align: right;\">                        0</td><td>                 </td><td style=\"text-align: right;\">                   1</td><td>022eb_00037</td><td style=\"text-align: right;\">   0.00568891</td></tr>\n",
       "<tr><td>train_mlp_022eb_00038</td><td>2023-02-25_12-16-00</td><td>True  </td><td>                </td><td>e0c9aecea152476cbf8515205c35429f</td><td>                                               </td><td>Nipuns-iMac-8.local</td><td style=\"text-align: right;\">                         1</td><td style=\"text-align: right;\">156.571 </td><td>127.0.0.1</td><td style=\"text-align: right;\">34616</td><td style=\"text-align: right;\">             4.91252</td><td style=\"text-align: right;\">           4.91252</td><td style=\"text-align: right;\">       4.91252</td><td style=\"text-align: right;\"> 1677307560</td><td style=\"text-align: right;\">                        0</td><td>                 </td><td style=\"text-align: right;\">                   1</td><td>022eb_00038</td><td style=\"text-align: right;\">   0.00861502</td></tr>\n",
       "<tr><td>train_mlp_022eb_00039</td><td>2023-02-25_12-16-00</td><td>True  </td><td>                </td><td>5eab35cad2a149779160edbf74bef7c6</td><td>                                               </td><td>Nipuns-iMac-8.local</td><td style=\"text-align: right;\">                         1</td><td style=\"text-align: right;\"> 76.2169</td><td>127.0.0.1</td><td style=\"text-align: right;\">34612</td><td style=\"text-align: right;\">             4.58327</td><td style=\"text-align: right;\">           4.58327</td><td style=\"text-align: right;\">       4.58327</td><td style=\"text-align: right;\"> 1677307560</td><td style=\"text-align: right;\">                        0</td><td>                 </td><td style=\"text-align: right;\">                   1</td><td>022eb_00039</td><td style=\"text-align: right;\">   0.0108716 </td></tr>\n",
       "<tr><td>train_mlp_022eb_00040</td><td>2023-02-25_12-16-02</td><td>True  </td><td>                </td><td>f109561c8c214d5baf7ebdc5c8438549</td><td>40_l1=64,l2=128,l2_reg=0.5371,l3=32,lr=0.1993  </td><td>Nipuns-iMac-8.local</td><td style=\"text-align: right;\">                         1</td><td style=\"text-align: right;\"> 76.2164</td><td>127.0.0.1</td><td style=\"text-align: right;\">34611</td><td style=\"text-align: right;\">             6.8811 </td><td style=\"text-align: right;\">           6.8811 </td><td style=\"text-align: right;\">       6.8811 </td><td style=\"text-align: right;\"> 1677307562</td><td style=\"text-align: right;\">                        0</td><td>                 </td><td style=\"text-align: right;\">                   1</td><td>022eb_00040</td><td style=\"text-align: right;\">   0.00779104</td></tr>\n",
       "<tr><td>train_mlp_022eb_00041</td><td>2023-02-25_12-16-03</td><td>True  </td><td>                </td><td>4cd6603598554f0c8221d6cec2ce069f</td><td>41_l1=4,l2=256,l2_reg=0.0085,l3=4,lr=0.0330    </td><td>Nipuns-iMac-8.local</td><td style=\"text-align: right;\">                         1</td><td style=\"text-align: right;\"> 76.2164</td><td>127.0.0.1</td><td style=\"text-align: right;\">34615</td><td style=\"text-align: right;\">             6.17412</td><td style=\"text-align: right;\">           6.17412</td><td style=\"text-align: right;\">       6.17412</td><td style=\"text-align: right;\"> 1677307563</td><td style=\"text-align: right;\">                        0</td><td>                 </td><td style=\"text-align: right;\">                   1</td><td>022eb_00041</td><td style=\"text-align: right;\">   0.0195563 </td></tr>\n",
       "<tr><td>train_mlp_022eb_00042</td><td>2023-02-25_12-16-03</td><td>True  </td><td>                </td><td>ff29440033cc4bfd825d3d59aad1aef8</td><td>                                               </td><td>Nipuns-iMac-8.local</td><td style=\"text-align: right;\">                         1</td><td style=\"text-align: right;\"> 76.2182</td><td>127.0.0.1</td><td style=\"text-align: right;\">34598</td><td style=\"text-align: right;\">             4.97166</td><td style=\"text-align: right;\">           4.97166</td><td style=\"text-align: right;\">       4.97166</td><td style=\"text-align: right;\"> 1677307563</td><td style=\"text-align: right;\">                        0</td><td>                 </td><td style=\"text-align: right;\">                   1</td><td>022eb_00042</td><td style=\"text-align: right;\">   0.00219083</td></tr>\n",
       "<tr><td>train_mlp_022eb_00043</td><td>2023-02-25_12-16-04</td><td>True  </td><td>                </td><td>b0693736615d421888690e45a3320b3d</td><td>43_l1=256,l2=16,l2_reg=0.2857,l3=128,lr=0.0815 </td><td>Nipuns-iMac-8.local</td><td style=\"text-align: right;\">                         1</td><td style=\"text-align: right;\"> 76.214 </td><td>127.0.0.1</td><td style=\"text-align: right;\">34617</td><td style=\"text-align: right;\">             5.90294</td><td style=\"text-align: right;\">           5.90294</td><td style=\"text-align: right;\">       5.90294</td><td style=\"text-align: right;\"> 1677307564</td><td style=\"text-align: right;\">                        0</td><td>                 </td><td style=\"text-align: right;\">                   1</td><td>022eb_00043</td><td style=\"text-align: right;\">   0.00856757</td></tr>\n",
       "<tr><td>train_mlp_022eb_00044</td><td>2023-02-25_12-16-04</td><td>True  </td><td>                </td><td>7e185b7e77454e12bff7ab30b25ee131</td><td>44_l1=16,l2=16,l2_reg=0.0004,l3=256,lr=0.0142  </td><td>Nipuns-iMac-8.local</td><td style=\"text-align: right;\">                         1</td><td style=\"text-align: right;\"> 76.2164</td><td>127.0.0.1</td><td style=\"text-align: right;\">34609</td><td style=\"text-align: right;\">             5.60124</td><td style=\"text-align: right;\">           5.60124</td><td style=\"text-align: right;\">       5.60124</td><td style=\"text-align: right;\"> 1677307564</td><td style=\"text-align: right;\">                        0</td><td>                 </td><td style=\"text-align: right;\">                   1</td><td>022eb_00044</td><td style=\"text-align: right;\">   0.00641322</td></tr>\n",
       "<tr><td>train_mlp_022eb_00045</td><td>2023-02-25_12-16-04</td><td>True  </td><td>                </td><td>8b1a3fba98cb421eae151f7f9d7cf5f4</td><td>45_l1=128,l2=128,l2_reg=0.0006,l3=32,lr=0.0053 </td><td>Nipuns-iMac-8.local</td><td style=\"text-align: right;\">                         1</td><td style=\"text-align: right;\"> 76.2158</td><td>127.0.0.1</td><td style=\"text-align: right;\">34608</td><td style=\"text-align: right;\">             5.44163</td><td style=\"text-align: right;\">           5.44163</td><td style=\"text-align: right;\">       5.44163</td><td style=\"text-align: right;\"> 1677307564</td><td style=\"text-align: right;\">                        0</td><td>                 </td><td style=\"text-align: right;\">                   1</td><td>022eb_00045</td><td style=\"text-align: right;\">   0.00521398</td></tr>\n",
       "<tr><td>train_mlp_022eb_00046</td><td>2023-02-25_12-16-03</td><td>True  </td><td>                </td><td>d0b58e408db04f2eb4f06ba422ed8f26</td><td>                                               </td><td>Nipuns-iMac-8.local</td><td style=\"text-align: right;\">                         1</td><td style=\"text-align: right;\"> 76.2168</td><td>127.0.0.1</td><td style=\"text-align: right;\">34619</td><td style=\"text-align: right;\">             3.89751</td><td style=\"text-align: right;\">           3.89751</td><td style=\"text-align: right;\">       3.89751</td><td style=\"text-align: right;\"> 1677307563</td><td style=\"text-align: right;\">                        0</td><td>                 </td><td style=\"text-align: right;\">                   1</td><td>022eb_00046</td><td style=\"text-align: right;\">   0.0184839 </td></tr>\n",
       "<tr><td>train_mlp_022eb_00047</td><td>2023-02-25_12-16-04</td><td>True  </td><td>                </td><td>5eab35cad2a149779160edbf74bef7c6</td><td>47_l1=128,l2=16,l2_reg=0.0077,l3=16,lr=0.0885  </td><td>Nipuns-iMac-8.local</td><td style=\"text-align: right;\">                         1</td><td style=\"text-align: right;\"> 76.2164</td><td>127.0.0.1</td><td style=\"text-align: right;\">34612</td><td style=\"text-align: right;\">             3.95177</td><td style=\"text-align: right;\">           3.95177</td><td style=\"text-align: right;\">       3.95177</td><td style=\"text-align: right;\"> 1677307564</td><td style=\"text-align: right;\">                        0</td><td>                 </td><td style=\"text-align: right;\">                   1</td><td>022eb_00047</td><td style=\"text-align: right;\">   0.0108716 </td></tr>\n",
       "<tr><td>train_mlp_022eb_00048</td><td>2023-02-25_12-16-05</td><td>True  </td><td>                </td><td>e0c9aecea152476cbf8515205c35429f</td><td>48_l1=32,l2=256,l2_reg=0.3324,l3=32,lr=0.0183  </td><td>Nipuns-iMac-8.local</td><td style=\"text-align: right;\">                         1</td><td style=\"text-align: right;\"> 76.2146</td><td>127.0.0.1</td><td style=\"text-align: right;\">34616</td><td style=\"text-align: right;\">             4.53305</td><td style=\"text-align: right;\">           4.53305</td><td style=\"text-align: right;\">       4.53305</td><td style=\"text-align: right;\"> 1677307565</td><td style=\"text-align: right;\">                        0</td><td>                 </td><td style=\"text-align: right;\">                   1</td><td>022eb_00048</td><td style=\"text-align: right;\">   0.00861502</td></tr>\n",
       "<tr><td>train_mlp_022eb_00049</td><td>2023-02-25_12-16-05</td><td>True  </td><td>                </td><td>be342499a56d424e820441d390343ba1</td><td>49_l1=16,l2=128,l2_reg=0.0001,l3=256,lr=0.0731 </td><td>Nipuns-iMac-8.local</td><td style=\"text-align: right;\">                         1</td><td style=\"text-align: right;\"> 76.2163</td><td>127.0.0.1</td><td style=\"text-align: right;\">34606</td><td style=\"text-align: right;\">             4.79934</td><td style=\"text-align: right;\">           4.79934</td><td style=\"text-align: right;\">       4.79934</td><td style=\"text-align: right;\"> 1677307565</td><td style=\"text-align: right;\">                        0</td><td>                 </td><td style=\"text-align: right;\">                   1</td><td>022eb_00049</td><td style=\"text-align: right;\">   0.0124581 </td></tr>\n",
       "</tbody>\n",
       "</table>\n",
       "</div>\n",
       "<style>\n",
       ".trialProgress {\n",
       "  display: flex;\n",
       "  flex-direction: column;\n",
       "  color: var(--jp-ui-font-color1);\n",
       "}\n",
       ".trialProgress h3 {\n",
       "  font-weight: bold;\n",
       "}\n",
       ".trialProgress td {\n",
       "  white-space: nowrap;\n",
       "}\n",
       "</style>\n"
      ],
      "text/plain": [
       "<IPython.core.display.HTML object>"
      ]
     },
     "metadata": {},
     "output_type": "display_data"
    },
    {
     "name": "stderr",
     "output_type": "stream",
     "text": [
      "2023-02-25 12:16:05,977\tINFO tune.py:762 -- Total run time: 29.90 seconds (29.63 seconds for the tuning loop).\n"
     ]
    }
   ],
   "source": [
    "ray.shutdown()\n",
    "\n",
    "ray.init()\n",
    "scheduler = ASHAScheduler(\n",
    "    metric=\"loss\",\n",
    "    mode=\"min\",\n",
    "    max_t=100,\n",
    "    grace_period=1,\n",
    "    reduction_factor=2)\n",
    "\n",
    "reporter = CLIReporter(\n",
    "    parameter_columns=[\"l1\", \"l2\", \"l3\", \"lr\", \"l2_reg\"],\n",
    "    metric_columns=[\"loss\", \"training_iteration\"])\n",
    "\n",
    "analysis = tune.run(\n",
    "    train_mlp,\n",
    "    resources_per_trial={\"cpu\": 1},\n",
    "    config={\n",
    "        \"l1\": tune.choice([2, 4, 16, 32, 64, 128, 256]),\n",
    "        \"l2\": tune.choice([2, 4, 16, 32, 64, 128, 256]),\n",
    "        \"l3\": tune.choice([2, 4, 16, 32, 64, 128, 256]),\n",
    "        \"l2_reg\": tune.loguniform(1e-4, 1.0),\n",
    "        \"lr\": tune.loguniform(1e-4, 1.0),\n",
    "    },\n",
    "    num_samples=50,\n",
    "    scheduler=scheduler,\n",
    "    progress_reporter=reporter)\n",
    "\n"
   ]
  },
  {
   "cell_type": "code",
   "execution_count": 199,
   "id": "535a30ba",
   "metadata": {},
   "outputs": [
    {
     "data": {
      "text/html": [
       "<div>\n",
       "<style scoped>\n",
       "    .dataframe tbody tr th:only-of-type {\n",
       "        vertical-align: middle;\n",
       "    }\n",
       "\n",
       "    .dataframe tbody tr th {\n",
       "        vertical-align: top;\n",
       "    }\n",
       "\n",
       "    .dataframe thead th {\n",
       "        text-align: right;\n",
       "    }\n",
       "</style>\n",
       "<table border=\"1\" class=\"dataframe\">\n",
       "  <thead>\n",
       "    <tr style=\"text-align: right;\">\n",
       "      <th></th>\n",
       "      <th>loss</th>\n",
       "      <th>config/l1</th>\n",
       "      <th>config/l2</th>\n",
       "      <th>config/l3</th>\n",
       "      <th>config/lr</th>\n",
       "      <th>config/l2_reg</th>\n",
       "    </tr>\n",
       "    <tr>\n",
       "      <th>trial_id</th>\n",
       "      <th></th>\n",
       "      <th></th>\n",
       "      <th></th>\n",
       "      <th></th>\n",
       "      <th></th>\n",
       "      <th></th>\n",
       "    </tr>\n",
       "  </thead>\n",
       "  <tbody>\n",
       "    <tr>\n",
       "      <th>022eb_00043</th>\n",
       "      <td>76.214035</td>\n",
       "      <td>256</td>\n",
       "      <td>16</td>\n",
       "      <td>128</td>\n",
       "      <td>0.081477</td>\n",
       "      <td>0.285665</td>\n",
       "    </tr>\n",
       "    <tr>\n",
       "      <th>022eb_00048</th>\n",
       "      <td>76.214599</td>\n",
       "      <td>32</td>\n",
       "      <td>256</td>\n",
       "      <td>32</td>\n",
       "      <td>0.018255</td>\n",
       "      <td>0.332373</td>\n",
       "    </tr>\n",
       "    <tr>\n",
       "      <th>022eb_00030</th>\n",
       "      <td>76.215553</td>\n",
       "      <td>256</td>\n",
       "      <td>256</td>\n",
       "      <td>128</td>\n",
       "      <td>0.017494</td>\n",
       "      <td>0.000987</td>\n",
       "    </tr>\n",
       "    <tr>\n",
       "      <th>022eb_00008</th>\n",
       "      <td>76.215733</td>\n",
       "      <td>64</td>\n",
       "      <td>16</td>\n",
       "      <td>16</td>\n",
       "      <td>0.025726</td>\n",
       "      <td>0.204854</td>\n",
       "    </tr>\n",
       "    <tr>\n",
       "      <th>022eb_00045</th>\n",
       "      <td>76.215774</td>\n",
       "      <td>128</td>\n",
       "      <td>128</td>\n",
       "      <td>32</td>\n",
       "      <td>0.005260</td>\n",
       "      <td>0.000576</td>\n",
       "    </tr>\n",
       "    <tr>\n",
       "      <th>022eb_00025</th>\n",
       "      <td>76.216111</td>\n",
       "      <td>256</td>\n",
       "      <td>2</td>\n",
       "      <td>64</td>\n",
       "      <td>0.135036</td>\n",
       "      <td>0.110852</td>\n",
       "    </tr>\n",
       "    <tr>\n",
       "      <th>022eb_00049</th>\n",
       "      <td>76.216258</td>\n",
       "      <td>16</td>\n",
       "      <td>128</td>\n",
       "      <td>256</td>\n",
       "      <td>0.073099</td>\n",
       "      <td>0.000124</td>\n",
       "    </tr>\n",
       "    <tr>\n",
       "      <th>022eb_00010</th>\n",
       "      <td>76.216284</td>\n",
       "      <td>128</td>\n",
       "      <td>256</td>\n",
       "      <td>32</td>\n",
       "      <td>0.200236</td>\n",
       "      <td>0.000283</td>\n",
       "    </tr>\n",
       "    <tr>\n",
       "      <th>022eb_00000</th>\n",
       "      <td>76.216300</td>\n",
       "      <td>256</td>\n",
       "      <td>4</td>\n",
       "      <td>128</td>\n",
       "      <td>0.504588</td>\n",
       "      <td>0.000116</td>\n",
       "    </tr>\n",
       "    <tr>\n",
       "      <th>022eb_00018</th>\n",
       "      <td>76.216306</td>\n",
       "      <td>128</td>\n",
       "      <td>2</td>\n",
       "      <td>128</td>\n",
       "      <td>0.453868</td>\n",
       "      <td>0.001332</td>\n",
       "    </tr>\n",
       "    <tr>\n",
       "      <th>022eb_00028</th>\n",
       "      <td>76.216306</td>\n",
       "      <td>16</td>\n",
       "      <td>16</td>\n",
       "      <td>256</td>\n",
       "      <td>0.494529</td>\n",
       "      <td>0.000451</td>\n",
       "    </tr>\n",
       "    <tr>\n",
       "      <th>022eb_00034</th>\n",
       "      <td>76.216312</td>\n",
       "      <td>16</td>\n",
       "      <td>4</td>\n",
       "      <td>2</td>\n",
       "      <td>0.125597</td>\n",
       "      <td>0.000178</td>\n",
       "    </tr>\n",
       "    <tr>\n",
       "      <th>022eb_00006</th>\n",
       "      <td>76.216316</td>\n",
       "      <td>16</td>\n",
       "      <td>2</td>\n",
       "      <td>2</td>\n",
       "      <td>0.025065</td>\n",
       "      <td>0.000108</td>\n",
       "    </tr>\n",
       "    <tr>\n",
       "      <th>022eb_00007</th>\n",
       "      <td>76.216319</td>\n",
       "      <td>128</td>\n",
       "      <td>2</td>\n",
       "      <td>256</td>\n",
       "      <td>0.028430</td>\n",
       "      <td>0.008369</td>\n",
       "    </tr>\n",
       "    <tr>\n",
       "      <th>022eb_00016</th>\n",
       "      <td>76.216357</td>\n",
       "      <td>16</td>\n",
       "      <td>64</td>\n",
       "      <td>16</td>\n",
       "      <td>0.132006</td>\n",
       "      <td>0.050170</td>\n",
       "    </tr>\n",
       "    <tr>\n",
       "      <th>022eb_00044</th>\n",
       "      <td>76.216370</td>\n",
       "      <td>16</td>\n",
       "      <td>16</td>\n",
       "      <td>256</td>\n",
       "      <td>0.014186</td>\n",
       "      <td>0.000363</td>\n",
       "    </tr>\n",
       "    <tr>\n",
       "      <th>022eb_00014</th>\n",
       "      <td>76.216412</td>\n",
       "      <td>16</td>\n",
       "      <td>128</td>\n",
       "      <td>16</td>\n",
       "      <td>0.084114</td>\n",
       "      <td>0.103202</td>\n",
       "    </tr>\n",
       "    <tr>\n",
       "      <th>022eb_00047</th>\n",
       "      <td>76.216415</td>\n",
       "      <td>128</td>\n",
       "      <td>16</td>\n",
       "      <td>16</td>\n",
       "      <td>0.088522</td>\n",
       "      <td>0.007657</td>\n",
       "    </tr>\n",
       "    <tr>\n",
       "      <th>022eb_00029</th>\n",
       "      <td>76.216418</td>\n",
       "      <td>2</td>\n",
       "      <td>4</td>\n",
       "      <td>128</td>\n",
       "      <td>0.009644</td>\n",
       "      <td>0.117840</td>\n",
       "    </tr>\n",
       "    <tr>\n",
       "      <th>022eb_00040</th>\n",
       "      <td>76.216434</td>\n",
       "      <td>64</td>\n",
       "      <td>128</td>\n",
       "      <td>32</td>\n",
       "      <td>0.199345</td>\n",
       "      <td>0.537058</td>\n",
       "    </tr>\n",
       "    <tr>\n",
       "      <th>022eb_00041</th>\n",
       "      <td>76.216444</td>\n",
       "      <td>4</td>\n",
       "      <td>256</td>\n",
       "      <td>4</td>\n",
       "      <td>0.032999</td>\n",
       "      <td>0.008542</td>\n",
       "    </tr>\n",
       "    <tr>\n",
       "      <th>022eb_00005</th>\n",
       "      <td>76.216444</td>\n",
       "      <td>32</td>\n",
       "      <td>128</td>\n",
       "      <td>256</td>\n",
       "      <td>0.002738</td>\n",
       "      <td>0.030997</td>\n",
       "    </tr>\n",
       "    <tr>\n",
       "      <th>022eb_00024</th>\n",
       "      <td>76.216495</td>\n",
       "      <td>64</td>\n",
       "      <td>256</td>\n",
       "      <td>256</td>\n",
       "      <td>0.008731</td>\n",
       "      <td>0.044136</td>\n",
       "    </tr>\n",
       "    <tr>\n",
       "      <th>022eb_00032</th>\n",
       "      <td>76.216498</td>\n",
       "      <td>2</td>\n",
       "      <td>2</td>\n",
       "      <td>16</td>\n",
       "      <td>0.010150</td>\n",
       "      <td>0.123898</td>\n",
       "    </tr>\n",
       "    <tr>\n",
       "      <th>022eb_00035</th>\n",
       "      <td>76.216514</td>\n",
       "      <td>128</td>\n",
       "      <td>4</td>\n",
       "      <td>4</td>\n",
       "      <td>0.043761</td>\n",
       "      <td>0.000587</td>\n",
       "    </tr>\n",
       "    <tr>\n",
       "      <th>022eb_00009</th>\n",
       "      <td>76.216527</td>\n",
       "      <td>128</td>\n",
       "      <td>32</td>\n",
       "      <td>128</td>\n",
       "      <td>0.703836</td>\n",
       "      <td>0.518339</td>\n",
       "    </tr>\n",
       "    <tr>\n",
       "      <th>022eb_00020</th>\n",
       "      <td>76.216533</td>\n",
       "      <td>32</td>\n",
       "      <td>2</td>\n",
       "      <td>2</td>\n",
       "      <td>0.447349</td>\n",
       "      <td>0.037618</td>\n",
       "    </tr>\n",
       "    <tr>\n",
       "      <th>022eb_00004</th>\n",
       "      <td>76.216668</td>\n",
       "      <td>256</td>\n",
       "      <td>32</td>\n",
       "      <td>256</td>\n",
       "      <td>0.304625</td>\n",
       "      <td>0.003227</td>\n",
       "    </tr>\n",
       "    <tr>\n",
       "      <th>022eb_00012</th>\n",
       "      <td>76.216703</td>\n",
       "      <td>64</td>\n",
       "      <td>4</td>\n",
       "      <td>32</td>\n",
       "      <td>0.142593</td>\n",
       "      <td>0.002044</td>\n",
       "    </tr>\n",
       "    <tr>\n",
       "      <th>022eb_00019</th>\n",
       "      <td>76.216706</td>\n",
       "      <td>4</td>\n",
       "      <td>128</td>\n",
       "      <td>128</td>\n",
       "      <td>0.001922</td>\n",
       "      <td>0.244483</td>\n",
       "    </tr>\n",
       "    <tr>\n",
       "      <th>022eb_00033</th>\n",
       "      <td>76.216793</td>\n",
       "      <td>256</td>\n",
       "      <td>32</td>\n",
       "      <td>128</td>\n",
       "      <td>0.005718</td>\n",
       "      <td>0.000401</td>\n",
       "    </tr>\n",
       "    <tr>\n",
       "      <th>022eb_00046</th>\n",
       "      <td>76.216825</td>\n",
       "      <td>4</td>\n",
       "      <td>64</td>\n",
       "      <td>4</td>\n",
       "      <td>0.003946</td>\n",
       "      <td>0.000192</td>\n",
       "    </tr>\n",
       "    <tr>\n",
       "      <th>022eb_00039</th>\n",
       "      <td>76.216879</td>\n",
       "      <td>16</td>\n",
       "      <td>16</td>\n",
       "      <td>4</td>\n",
       "      <td>0.006352</td>\n",
       "      <td>0.006155</td>\n",
       "    </tr>\n",
       "    <tr>\n",
       "      <th>022eb_00023</th>\n",
       "      <td>76.216950</td>\n",
       "      <td>64</td>\n",
       "      <td>4</td>\n",
       "      <td>256</td>\n",
       "      <td>0.030266</td>\n",
       "      <td>0.000597</td>\n",
       "    </tr>\n",
       "    <tr>\n",
       "      <th>022eb_00031</th>\n",
       "      <td>76.217152</td>\n",
       "      <td>256</td>\n",
       "      <td>2</td>\n",
       "      <td>32</td>\n",
       "      <td>0.001219</td>\n",
       "      <td>0.085081</td>\n",
       "    </tr>\n",
       "    <tr>\n",
       "      <th>022eb_00037</th>\n",
       "      <td>76.217261</td>\n",
       "      <td>16</td>\n",
       "      <td>16</td>\n",
       "      <td>256</td>\n",
       "      <td>0.025586</td>\n",
       "      <td>0.050396</td>\n",
       "    </tr>\n",
       "    <tr>\n",
       "      <th>022eb_00001</th>\n",
       "      <td>76.217267</td>\n",
       "      <td>16</td>\n",
       "      <td>32</td>\n",
       "      <td>64</td>\n",
       "      <td>0.000830</td>\n",
       "      <td>0.000404</td>\n",
       "    </tr>\n",
       "    <tr>\n",
       "      <th>022eb_00027</th>\n",
       "      <td>76.217337</td>\n",
       "      <td>32</td>\n",
       "      <td>16</td>\n",
       "      <td>64</td>\n",
       "      <td>0.021743</td>\n",
       "      <td>0.487989</td>\n",
       "    </tr>\n",
       "    <tr>\n",
       "      <th>022eb_00036</th>\n",
       "      <td>76.217398</td>\n",
       "      <td>256</td>\n",
       "      <td>64</td>\n",
       "      <td>4</td>\n",
       "      <td>0.000494</td>\n",
       "      <td>0.001278</td>\n",
       "    </tr>\n",
       "    <tr>\n",
       "      <th>022eb_00015</th>\n",
       "      <td>76.217600</td>\n",
       "      <td>256</td>\n",
       "      <td>128</td>\n",
       "      <td>16</td>\n",
       "      <td>0.000657</td>\n",
       "      <td>0.023419</td>\n",
       "    </tr>\n",
       "    <tr>\n",
       "      <th>022eb_00042</th>\n",
       "      <td>76.218212</td>\n",
       "      <td>4</td>\n",
       "      <td>4</td>\n",
       "      <td>128</td>\n",
       "      <td>0.002018</td>\n",
       "      <td>0.078389</td>\n",
       "    </tr>\n",
       "    <tr>\n",
       "      <th>022eb_00017</th>\n",
       "      <td>76.220585</td>\n",
       "      <td>256</td>\n",
       "      <td>256</td>\n",
       "      <td>4</td>\n",
       "      <td>0.083667</td>\n",
       "      <td>0.351318</td>\n",
       "    </tr>\n",
       "    <tr>\n",
       "      <th>022eb_00026</th>\n",
       "      <td>76.224211</td>\n",
       "      <td>64</td>\n",
       "      <td>16</td>\n",
       "      <td>64</td>\n",
       "      <td>0.000447</td>\n",
       "      <td>0.035338</td>\n",
       "    </tr>\n",
       "    <tr>\n",
       "      <th>022eb_00003</th>\n",
       "      <td>76.346196</td>\n",
       "      <td>32</td>\n",
       "      <td>32</td>\n",
       "      <td>64</td>\n",
       "      <td>0.000207</td>\n",
       "      <td>0.001749</td>\n",
       "    </tr>\n",
       "    <tr>\n",
       "      <th>022eb_00011</th>\n",
       "      <td>102.708468</td>\n",
       "      <td>128</td>\n",
       "      <td>32</td>\n",
       "      <td>64</td>\n",
       "      <td>0.000102</td>\n",
       "      <td>0.484596</td>\n",
       "    </tr>\n",
       "    <tr>\n",
       "      <th>022eb_00002</th>\n",
       "      <td>118.729933</td>\n",
       "      <td>128</td>\n",
       "      <td>256</td>\n",
       "      <td>16</td>\n",
       "      <td>0.843071</td>\n",
       "      <td>0.085976</td>\n",
       "    </tr>\n",
       "    <tr>\n",
       "      <th>022eb_00022</th>\n",
       "      <td>134.767885</td>\n",
       "      <td>16</td>\n",
       "      <td>16</td>\n",
       "      <td>16</td>\n",
       "      <td>0.000289</td>\n",
       "      <td>0.865838</td>\n",
       "    </tr>\n",
       "    <tr>\n",
       "      <th>022eb_00021</th>\n",
       "      <td>141.129546</td>\n",
       "      <td>128</td>\n",
       "      <td>2</td>\n",
       "      <td>64</td>\n",
       "      <td>0.000123</td>\n",
       "      <td>0.007713</td>\n",
       "    </tr>\n",
       "    <tr>\n",
       "      <th>022eb_00038</th>\n",
       "      <td>156.571270</td>\n",
       "      <td>4</td>\n",
       "      <td>64</td>\n",
       "      <td>2</td>\n",
       "      <td>0.019715</td>\n",
       "      <td>0.022831</td>\n",
       "    </tr>\n",
       "    <tr>\n",
       "      <th>022eb_00013</th>\n",
       "      <td>166.459273</td>\n",
       "      <td>64</td>\n",
       "      <td>2</td>\n",
       "      <td>2</td>\n",
       "      <td>0.008635</td>\n",
       "      <td>0.001207</td>\n",
       "    </tr>\n",
       "  </tbody>\n",
       "</table>\n",
       "</div>"
      ],
      "text/plain": [
       "                   loss  config/l1  config/l2  config/l3  config/lr  \\\n",
       "trial_id                                                              \n",
       "022eb_00043   76.214035        256         16        128   0.081477   \n",
       "022eb_00048   76.214599         32        256         32   0.018255   \n",
       "022eb_00030   76.215553        256        256        128   0.017494   \n",
       "022eb_00008   76.215733         64         16         16   0.025726   \n",
       "022eb_00045   76.215774        128        128         32   0.005260   \n",
       "022eb_00025   76.216111        256          2         64   0.135036   \n",
       "022eb_00049   76.216258         16        128        256   0.073099   \n",
       "022eb_00010   76.216284        128        256         32   0.200236   \n",
       "022eb_00000   76.216300        256          4        128   0.504588   \n",
       "022eb_00018   76.216306        128          2        128   0.453868   \n",
       "022eb_00028   76.216306         16         16        256   0.494529   \n",
       "022eb_00034   76.216312         16          4          2   0.125597   \n",
       "022eb_00006   76.216316         16          2          2   0.025065   \n",
       "022eb_00007   76.216319        128          2        256   0.028430   \n",
       "022eb_00016   76.216357         16         64         16   0.132006   \n",
       "022eb_00044   76.216370         16         16        256   0.014186   \n",
       "022eb_00014   76.216412         16        128         16   0.084114   \n",
       "022eb_00047   76.216415        128         16         16   0.088522   \n",
       "022eb_00029   76.216418          2          4        128   0.009644   \n",
       "022eb_00040   76.216434         64        128         32   0.199345   \n",
       "022eb_00041   76.216444          4        256          4   0.032999   \n",
       "022eb_00005   76.216444         32        128        256   0.002738   \n",
       "022eb_00024   76.216495         64        256        256   0.008731   \n",
       "022eb_00032   76.216498          2          2         16   0.010150   \n",
       "022eb_00035   76.216514        128          4          4   0.043761   \n",
       "022eb_00009   76.216527        128         32        128   0.703836   \n",
       "022eb_00020   76.216533         32          2          2   0.447349   \n",
       "022eb_00004   76.216668        256         32        256   0.304625   \n",
       "022eb_00012   76.216703         64          4         32   0.142593   \n",
       "022eb_00019   76.216706          4        128        128   0.001922   \n",
       "022eb_00033   76.216793        256         32        128   0.005718   \n",
       "022eb_00046   76.216825          4         64          4   0.003946   \n",
       "022eb_00039   76.216879         16         16          4   0.006352   \n",
       "022eb_00023   76.216950         64          4        256   0.030266   \n",
       "022eb_00031   76.217152        256          2         32   0.001219   \n",
       "022eb_00037   76.217261         16         16        256   0.025586   \n",
       "022eb_00001   76.217267         16         32         64   0.000830   \n",
       "022eb_00027   76.217337         32         16         64   0.021743   \n",
       "022eb_00036   76.217398        256         64          4   0.000494   \n",
       "022eb_00015   76.217600        256        128         16   0.000657   \n",
       "022eb_00042   76.218212          4          4        128   0.002018   \n",
       "022eb_00017   76.220585        256        256          4   0.083667   \n",
       "022eb_00026   76.224211         64         16         64   0.000447   \n",
       "022eb_00003   76.346196         32         32         64   0.000207   \n",
       "022eb_00011  102.708468        128         32         64   0.000102   \n",
       "022eb_00002  118.729933        128        256         16   0.843071   \n",
       "022eb_00022  134.767885         16         16         16   0.000289   \n",
       "022eb_00021  141.129546        128          2         64   0.000123   \n",
       "022eb_00038  156.571270          4         64          2   0.019715   \n",
       "022eb_00013  166.459273         64          2          2   0.008635   \n",
       "\n",
       "             config/l2_reg  \n",
       "trial_id                    \n",
       "022eb_00043       0.285665  \n",
       "022eb_00048       0.332373  \n",
       "022eb_00030       0.000987  \n",
       "022eb_00008       0.204854  \n",
       "022eb_00045       0.000576  \n",
       "022eb_00025       0.110852  \n",
       "022eb_00049       0.000124  \n",
       "022eb_00010       0.000283  \n",
       "022eb_00000       0.000116  \n",
       "022eb_00018       0.001332  \n",
       "022eb_00028       0.000451  \n",
       "022eb_00034       0.000178  \n",
       "022eb_00006       0.000108  \n",
       "022eb_00007       0.008369  \n",
       "022eb_00016       0.050170  \n",
       "022eb_00044       0.000363  \n",
       "022eb_00014       0.103202  \n",
       "022eb_00047       0.007657  \n",
       "022eb_00029       0.117840  \n",
       "022eb_00040       0.537058  \n",
       "022eb_00041       0.008542  \n",
       "022eb_00005       0.030997  \n",
       "022eb_00024       0.044136  \n",
       "022eb_00032       0.123898  \n",
       "022eb_00035       0.000587  \n",
       "022eb_00009       0.518339  \n",
       "022eb_00020       0.037618  \n",
       "022eb_00004       0.003227  \n",
       "022eb_00012       0.002044  \n",
       "022eb_00019       0.244483  \n",
       "022eb_00033       0.000401  \n",
       "022eb_00046       0.000192  \n",
       "022eb_00039       0.006155  \n",
       "022eb_00023       0.000597  \n",
       "022eb_00031       0.085081  \n",
       "022eb_00037       0.050396  \n",
       "022eb_00001       0.000404  \n",
       "022eb_00027       0.487989  \n",
       "022eb_00036       0.001278  \n",
       "022eb_00015       0.023419  \n",
       "022eb_00042       0.078389  \n",
       "022eb_00017       0.351318  \n",
       "022eb_00026       0.035338  \n",
       "022eb_00003       0.001749  \n",
       "022eb_00011       0.484596  \n",
       "022eb_00002       0.085976  \n",
       "022eb_00022       0.865838  \n",
       "022eb_00021       0.007713  \n",
       "022eb_00038       0.022831  \n",
       "022eb_00013       0.001207  "
      ]
     },
     "execution_count": 199,
     "metadata": {},
     "output_type": "execute_result"
    }
   ],
   "source": [
    "# Print the table for all the trials\n",
    "df = analysis.results_df\n",
    "\n",
    "# Sort the table by loss\n",
    "df.sort_values(by=\"loss\", inplace=True)\n",
    "\n",
    "# Show only loss, config/l1, config/l2, config/l3, config/lr, training_iteration\n",
    "df[[\"loss\", \"config/l1\", \"config/l2\", \"config/l3\", \"config/lr\", \"config/l2_reg\"]]"
   ]
  },
  {
   "cell_type": "code",
   "execution_count": 200,
   "id": "f62a3436",
   "metadata": {},
   "outputs": [
    {
     "data": {
      "text/plain": [
       "{'l1': 256,\n",
       " 'l2': 16,\n",
       " 'l3': 128,\n",
       " 'l2_reg': 0.2856648938298237,\n",
       " 'lr': 0.0814766185989307}"
      ]
     },
     "execution_count": 200,
     "metadata": {},
     "output_type": "execute_result"
    }
   ],
   "source": [
    "# Print the best hyperparameters\n",
    "\n",
    "analysis.get_best_config(metric=\"loss\", mode=\"min\")"
   ]
  },
  {
   "cell_type": "code",
   "execution_count": 201,
   "id": "b702e57c",
   "metadata": {},
   "outputs": [
    {
     "name": "stdout",
     "output_type": "stream",
     "text": [
      "Test loss: 72.42421955482158\n",
      "Train loss: 79.22512301781235\n",
      "\n"
     ]
    }
   ],
   "source": [
    "# Perform the final test on the test set\n",
    "\n",
    "best_config = analysis.get_best_config(metric=\"loss\", mode=\"min\")\n",
    "\n",
    "# Use the best hyperparameters to train the model\n",
    "net = Net(best_config[\"l1\"], best_config[\"l2\"], best_config[\"l3\"], best_config[\"l2_reg\"])\n",
    "criterion = nn.MSELoss()\n",
    "optimizer = optim.Adam(net.parameters(), lr=best_config[\"lr\"])\n",
    "for epoch in range(1000):  # loop over the dataset multiple times and store the train, test loss\n",
    "    optimizer.zero_grad()\n",
    "    outputs = net(X_train_torch)\n",
    "    loss = criterion(outputs, y_train_torch)\n",
    "    # Add L2 regularization\n",
    "    for param in net.parameters():\n",
    "        loss += net.l2_reg * torch.norm(param)\n",
    "\n",
    "    \n",
    "    loss.backward()\n",
    "    optimizer.step()\n",
    "\n",
    "with torch.no_grad():\n",
    "    outputs = net(X_test_torch)\n",
    "    loss = criterion(outputs, y_test_torch)\n",
    "    print(f\"Test loss: {np.sqrt(loss.item())}\")\n",
    "    outputs = net(X_train_torch)    \n",
    "    loss = criterion(outputs, y_train_torch)\n",
    "    print(f\"Train loss: {np.sqrt(loss.item())}\")\n",
    "    print(\"\")\n",
    "    "
   ]
  },
  {
   "cell_type": "code",
   "execution_count": 207,
   "id": "ba16683b",
   "metadata": {},
   "outputs": [
    {
     "data": {
      "text/html": [
       "<div>\n",
       "<style scoped>\n",
       "    .dataframe tbody tr th:only-of-type {\n",
       "        vertical-align: middle;\n",
       "    }\n",
       "\n",
       "    .dataframe tbody tr th {\n",
       "        vertical-align: top;\n",
       "    }\n",
       "\n",
       "    .dataframe thead th {\n",
       "        text-align: right;\n",
       "    }\n",
       "</style>\n",
       "<table border=\"1\" class=\"dataframe\">\n",
       "  <thead>\n",
       "    <tr style=\"text-align: right;\">\n",
       "      <th></th>\n",
       "      <th>loss</th>\n",
       "      <th>config/l1</th>\n",
       "      <th>config/l2</th>\n",
       "      <th>config/l3</th>\n",
       "      <th>config/lr</th>\n",
       "      <th>config/l2_reg</th>\n",
       "    </tr>\n",
       "    <tr>\n",
       "      <th>trial_id</th>\n",
       "      <th></th>\n",
       "      <th></th>\n",
       "      <th></th>\n",
       "      <th></th>\n",
       "      <th></th>\n",
       "      <th></th>\n",
       "    </tr>\n",
       "  </thead>\n",
       "  <tbody>\n",
       "    <tr>\n",
       "      <th>022eb_00043</th>\n",
       "      <td>76.214035</td>\n",
       "      <td>256</td>\n",
       "      <td>16</td>\n",
       "      <td>128</td>\n",
       "      <td>0.081477</td>\n",
       "      <td>0.285665</td>\n",
       "    </tr>\n",
       "    <tr>\n",
       "      <th>022eb_00048</th>\n",
       "      <td>76.214599</td>\n",
       "      <td>32</td>\n",
       "      <td>256</td>\n",
       "      <td>32</td>\n",
       "      <td>0.018255</td>\n",
       "      <td>0.332373</td>\n",
       "    </tr>\n",
       "    <tr>\n",
       "      <th>022eb_00030</th>\n",
       "      <td>76.215553</td>\n",
       "      <td>256</td>\n",
       "      <td>256</td>\n",
       "      <td>128</td>\n",
       "      <td>0.017494</td>\n",
       "      <td>0.000987</td>\n",
       "    </tr>\n",
       "    <tr>\n",
       "      <th>022eb_00008</th>\n",
       "      <td>76.215733</td>\n",
       "      <td>64</td>\n",
       "      <td>16</td>\n",
       "      <td>16</td>\n",
       "      <td>0.025726</td>\n",
       "      <td>0.204854</td>\n",
       "    </tr>\n",
       "    <tr>\n",
       "      <th>022eb_00045</th>\n",
       "      <td>76.215774</td>\n",
       "      <td>128</td>\n",
       "      <td>128</td>\n",
       "      <td>32</td>\n",
       "      <td>0.005260</td>\n",
       "      <td>0.000576</td>\n",
       "    </tr>\n",
       "  </tbody>\n",
       "</table>\n",
       "</div>"
      ],
      "text/plain": [
       "                  loss  config/l1  config/l2  config/l3  config/lr  \\\n",
       "trial_id                                                             \n",
       "022eb_00043  76.214035        256         16        128   0.081477   \n",
       "022eb_00048  76.214599         32        256         32   0.018255   \n",
       "022eb_00030  76.215553        256        256        128   0.017494   \n",
       "022eb_00008  76.215733         64         16         16   0.025726   \n",
       "022eb_00045  76.215774        128        128         32   0.005260   \n",
       "\n",
       "             config/l2_reg  \n",
       "trial_id                    \n",
       "022eb_00043       0.285665  \n",
       "022eb_00048       0.332373  \n",
       "022eb_00030       0.000987  \n",
       "022eb_00008       0.204854  \n",
       "022eb_00045       0.000576  "
      ]
     },
     "execution_count": 207,
     "metadata": {},
     "output_type": "execute_result"
    }
   ],
   "source": [
    "# Thus far it seems even with hyperparameter tuning we are unable to match the performance of ensemble models. \n",
    "\n",
    "# Get the top 5 configurations\n",
    "\n",
    "df[['loss', 'config/l1', 'config/l2', 'config/l3', 'config/lr', 'config/l2_reg']].head(5)\n"
   ]
  },
  {
   "cell_type": "code",
   "execution_count": 208,
   "id": "10c9b30c",
   "metadata": {},
   "outputs": [],
   "source": [
    "config_list_of_dicts = df[['config/l1', 'config/l2', 'config/l3', 'config/lr', 'config/l2_reg']].head(5).to_dict('records')\n",
    "\n",
    "# Train an ensemble of 5 models using the top 5 configurations\n",
    "\n",
    "ensemble = []\n",
    "for config in config_list_of_dicts:\n",
    "    net = Net(config[\"config/l1\"], config[\"config/l2\"], config[\"config/l3\"], config[\"config/l2_reg\"])\n",
    "    criterion = nn.MSELoss()\n",
    "    optimizer = optim.Adam(net.parameters(), lr=config[\"config/lr\"])\n",
    "    for epoch in range(1000):  # loop over the dataset multiple times and store the train, test loss\n",
    "        optimizer.zero_grad()\n",
    "        outputs = net(X_train_torch)\n",
    "        loss = criterion(outputs, y_train_torch)\n",
    "        # Add L2 regularization\n",
    "        for param in net.parameters():\n",
    "            loss += net.l2_reg * torch.norm(param)\n",
    "        loss.backward()\n",
    "        optimizer.step()\n",
    "    ensemble.append(net)\n"
   ]
  },
  {
   "cell_type": "code",
   "execution_count": 209,
   "id": "d5f4d6d7",
   "metadata": {},
   "outputs": [
    {
     "name": "stdout",
     "output_type": "stream",
     "text": [
      "Test loss: 72.41963824755167\n"
     ]
    }
   ],
   "source": [
    "# Get the predictions from the ensemble\n",
    "\n",
    "ensemble_preds = []\n",
    "for net in ensemble:\n",
    "    with torch.no_grad():\n",
    "        outputs = net(X_test_torch)\n",
    "        ensemble_preds.append(outputs.numpy())\n",
    "    \n",
    "ensemble_preds = np.array(ensemble_preds)\n",
    "\n",
    "# Get the mean of the predictions\n",
    "\n",
    "ensemble_preds_mean = ensemble_preds.mean(axis=0)\n",
    "\n",
    "# Get the RMSE of the ensemble\n",
    "\n",
    "criterion = nn.MSELoss()\n",
    "loss = criterion(torch.tensor(ensemble_preds_mean), y_test_torch)\n",
    "print(f\"Test loss: {np.sqrt(loss.item())}\")\n"
   ]
  },
  {
   "cell_type": "code",
   "execution_count": 349,
   "id": "16182e6f",
   "metadata": {},
   "outputs": [
    {
     "name": "stdout",
     "output_type": "stream",
     "text": [
      "Test loss: 67.0533416208508\n"
     ]
    }
   ],
   "source": [
    "# Do feature selection using sklearn's RFE\n",
    "\n",
    "from sklearn.feature_selection import RFE\n",
    "\n",
    "# Create the RFE object and rank each dimension\n",
    "estimator = RandomForestRegressor()\n",
    "selector = RFE(estimator, n_features_to_select=5, step=1)\n",
    "\n",
    "selector = selector.fit(X_train, y_train)\n",
    "\n",
    "# Get the selected features\n",
    "selected_features = X_train.columns[selector.support_]\n",
    "\n",
    "# Train the RF model on the selected features\n",
    "\n",
    "rf = RandomForestRegressor()\n",
    "rf.fit(X_train[selected_features], y_train)\n",
    "\n",
    "# Get the predictions from the RF model\n",
    "\n",
    "rf_preds = rf.predict(X_test[selected_features])\n",
    "\n",
    "# Get the RMSE of the RF model\n",
    "\n",
    "print(f\"Test RMSE: {np.sqrt(mean_squared_error(y_test, rf_preds))}\")"
   ]
  },
  {
   "cell_type": "code",
   "execution_count": 350,
   "id": "9b00c0b3",
   "metadata": {},
   "outputs": [
    {
     "data": {
      "text/plain": [
       "{'max_depth': 5, 'n_estimators': 100}"
      ]
     },
     "execution_count": 350,
     "metadata": {},
     "output_type": "execute_result"
    }
   ],
   "source": [
    "hyperparameters = {\"n_estimators\": [10, 100, 1000], \"max_depth\": [1, 5, 10]}\n",
    "\n",
    "\n",
    "grid_search = GridSearchCV(rf, hyperparameters, cv=5, scoring=\"neg_root_mean_squared_error\")\n",
    "grid_search.fit(X_valid[selected_features], y_valid)\n",
    "\n",
    "grid_search.best_params_\n"
   ]
  },
  {
   "cell_type": "code",
   "execution_count": 351,
   "id": "df7fe3de",
   "metadata": {},
   "outputs": [
    {
     "name": "stdout",
     "output_type": "stream",
     "text": [
      "Test RMSE: 61.94186395244681\n"
     ]
    }
   ],
   "source": [
    "#  Perform the RF with reduced features and hyperparameter tuning on the test set\n",
    "\n",
    "rf = RandomForestRegressor(**grid_search.best_params_)\n",
    "\n",
    "# Train on train + valid\n",
    "rf.fit(pd.concat([X_train[selected_features], X_valid[selected_features]]), pd.concat([y_train, y_valid]))\n",
    "\n",
    "# Get the predictions from the RF model\n",
    "\n",
    "rf_preds = rf.predict(X_test[selected_features])\n",
    "\n",
    "# Get the RMSE of the RF model\n",
    "\n",
    "print(f\"Test RMSE: {np.sqrt(mean_squared_error(y_test, rf_preds))}\")\n"
   ]
  },
  {
   "cell_type": "code",
   "execution_count": 354,
   "id": "3719a7bb",
   "metadata": {},
   "outputs": [
    {
     "data": {
      "text/html": [
       "<div class=\"trialProgress\">\n",
       "  <h3>Trial Progress</h3>\n",
       "  <table>\n",
       "<thead>\n",
       "<tr><th>Trial name           </th><th>date               </th><th>done  </th><th>episodes_total  </th><th>experiment_id                   </th><th>experiment_tag                                </th><th>hostname           </th><th style=\"text-align: right;\">  iterations_since_restore</th><th style=\"text-align: right;\">    loss</th><th>node_ip  </th><th style=\"text-align: right;\">  pid</th><th style=\"text-align: right;\">  time_since_restore</th><th style=\"text-align: right;\">  time_this_iter_s</th><th style=\"text-align: right;\">  time_total_s</th><th style=\"text-align: right;\">  timestamp</th><th style=\"text-align: right;\">  timesteps_since_restore</th><th>timesteps_total  </th><th style=\"text-align: right;\">  training_iteration</th><th>trial_id   </th><th style=\"text-align: right;\">  warmup_time</th></tr>\n",
       "</thead>\n",
       "<tbody>\n",
       "<tr><td>train_mlp_570ff_00000</td><td>2023-02-27_12-08-31</td><td>True  </td><td>                </td><td>61042389f52a4f4192290e78fc9697c5</td><td>0_l1=16,l2=2,l2_reg=0.0002,l3=4,lr=0.1269     </td><td>Nipuns-iMac-8.local</td><td style=\"text-align: right;\">                         1</td><td style=\"text-align: right;\"> 76.2163</td><td>127.0.0.1</td><td style=\"text-align: right;\">74306</td><td style=\"text-align: right;\">             2.60175</td><td style=\"text-align: right;\">           2.60175</td><td style=\"text-align: right;\">       2.60175</td><td style=\"text-align: right;\"> 1677479911</td><td style=\"text-align: right;\">                        0</td><td>                 </td><td style=\"text-align: right;\">                   1</td><td>570ff_00000</td><td style=\"text-align: right;\">   0.00222492</td></tr>\n",
       "<tr><td>train_mlp_570ff_00001</td><td>2023-02-27_12-08-41</td><td>True  </td><td>                </td><td>f3012d48617e4755a225b2a4c3692c1e</td><td>                                              </td><td>Nipuns-iMac-8.local</td><td style=\"text-align: right;\">                         1</td><td style=\"text-align: right;\"> 76.2167</td><td>127.0.0.1</td><td style=\"text-align: right;\">74311</td><td style=\"text-align: right;\">             6.28022</td><td style=\"text-align: right;\">           6.28022</td><td style=\"text-align: right;\">       6.28022</td><td style=\"text-align: right;\"> 1677479921</td><td style=\"text-align: right;\">                        0</td><td>                 </td><td style=\"text-align: right;\">                   1</td><td>570ff_00001</td><td style=\"text-align: right;\">   0.0060401 </td></tr>\n",
       "<tr><td>train_mlp_570ff_00002</td><td>2023-02-27_12-08-45</td><td>True  </td><td>                </td><td>eaa456f9515f4591bfc8189893792bac</td><td>                                              </td><td>Nipuns-iMac-8.local</td><td style=\"text-align: right;\">                         1</td><td style=\"text-align: right;\"> 76.9337</td><td>127.0.0.1</td><td style=\"text-align: right;\">74312</td><td style=\"text-align: right;\">            10.3381 </td><td style=\"text-align: right;\">          10.3381 </td><td style=\"text-align: right;\">      10.3381 </td><td style=\"text-align: right;\"> 1677479925</td><td style=\"text-align: right;\">                        0</td><td>                 </td><td style=\"text-align: right;\">                   1</td><td>570ff_00002</td><td style=\"text-align: right;\">   0.00497222</td></tr>\n",
       "<tr><td>train_mlp_570ff_00003</td><td>2023-02-27_12-08-39</td><td>True  </td><td>                </td><td>87c08568ffae4f818d3089a32147f2f6</td><td>3_l1=128,l2=2,l2_reg=0.0003,l3=64,lr=0.0035   </td><td>Nipuns-iMac-8.local</td><td style=\"text-align: right;\">                         1</td><td style=\"text-align: right;\"> 76.2164</td><td>127.0.0.1</td><td style=\"text-align: right;\">74313</td><td style=\"text-align: right;\">             5.17509</td><td style=\"text-align: right;\">           5.17509</td><td style=\"text-align: right;\">       5.17509</td><td style=\"text-align: right;\"> 1677479919</td><td style=\"text-align: right;\">                        0</td><td>                 </td><td style=\"text-align: right;\">                   1</td><td>570ff_00003</td><td style=\"text-align: right;\">   0.00718617</td></tr>\n",
       "<tr><td>train_mlp_570ff_00004</td><td>2023-02-27_12-08-40</td><td>True  </td><td>                </td><td>94a0c584588747c4898c019e325f45a2</td><td>4_l1=256,l2=4,l2_reg=0.0002,l3=2,lr=0.7365    </td><td>Nipuns-iMac-8.local</td><td style=\"text-align: right;\">                         1</td><td style=\"text-align: right;\"> 76.2163</td><td>127.0.0.1</td><td style=\"text-align: right;\">74314</td><td style=\"text-align: right;\">             5.76661</td><td style=\"text-align: right;\">           5.76661</td><td style=\"text-align: right;\">       5.76661</td><td style=\"text-align: right;\"> 1677479920</td><td style=\"text-align: right;\">                        0</td><td>                 </td><td style=\"text-align: right;\">                   1</td><td>570ff_00004</td><td style=\"text-align: right;\">   0.00899792</td></tr>\n",
       "<tr><td>train_mlp_570ff_00005</td><td>2023-02-27_12-08-39</td><td>True  </td><td>                </td><td>64aabf5cafff4035b38edf668105d4e8</td><td>                                              </td><td>Nipuns-iMac-8.local</td><td style=\"text-align: right;\">                         1</td><td style=\"text-align: right;\"> 76.2315</td><td>127.0.0.1</td><td style=\"text-align: right;\">74315</td><td style=\"text-align: right;\">             4.87173</td><td style=\"text-align: right;\">           4.87173</td><td style=\"text-align: right;\">       4.87173</td><td style=\"text-align: right;\"> 1677479919</td><td style=\"text-align: right;\">                        0</td><td>                 </td><td style=\"text-align: right;\">                   1</td><td>570ff_00005</td><td style=\"text-align: right;\">   0.00657916</td></tr>\n",
       "<tr><td>train_mlp_570ff_00006</td><td>2023-02-27_12-08-39</td><td>True  </td><td>                </td><td>0b1728ef600b4c48bac4b67ce6753125</td><td>                                              </td><td>Nipuns-iMac-8.local</td><td style=\"text-align: right;\">                         1</td><td style=\"text-align: right;\"> 76.2167</td><td>127.0.0.1</td><td style=\"text-align: right;\">74316</td><td style=\"text-align: right;\">             4.50788</td><td style=\"text-align: right;\">           4.50788</td><td style=\"text-align: right;\">       4.50788</td><td style=\"text-align: right;\"> 1677479919</td><td style=\"text-align: right;\">                        0</td><td>                 </td><td style=\"text-align: right;\">                   1</td><td>570ff_00006</td><td style=\"text-align: right;\">   0.00714993</td></tr>\n",
       "<tr><td>train_mlp_570ff_00007</td><td>2023-02-27_12-08-39</td><td>True  </td><td>                </td><td>a7066079d08f46b2815c68869767ec2e</td><td>7_l1=2,l2=4,l2_reg=0.0206,l3=2,lr=0.3386      </td><td>Nipuns-iMac-8.local</td><td style=\"text-align: right;\">                         1</td><td style=\"text-align: right;\"> 76.2163</td><td>127.0.0.1</td><td style=\"text-align: right;\">74317</td><td style=\"text-align: right;\">             3.99717</td><td style=\"text-align: right;\">           3.99717</td><td style=\"text-align: right;\">       3.99717</td><td style=\"text-align: right;\"> 1677479919</td><td style=\"text-align: right;\">                        0</td><td>                 </td><td style=\"text-align: right;\">                   1</td><td>570ff_00007</td><td style=\"text-align: right;\">   0.00730872</td></tr>\n",
       "<tr><td>train_mlp_570ff_00008</td><td>2023-02-27_12-08-39</td><td>True  </td><td>                </td><td>70f770eee52d4e0e8c8a4806989cfd67</td><td>8_l1=16,l2=16,l2_reg=0.0001,l3=2,lr=0.0124    </td><td>Nipuns-iMac-8.local</td><td style=\"text-align: right;\">                         1</td><td style=\"text-align: right;\"> 76.2163</td><td>127.0.0.1</td><td style=\"text-align: right;\">74318</td><td style=\"text-align: right;\">             4.10772</td><td style=\"text-align: right;\">           4.10772</td><td style=\"text-align: right;\">       4.10772</td><td style=\"text-align: right;\"> 1677479919</td><td style=\"text-align: right;\">                        0</td><td>                 </td><td style=\"text-align: right;\">                   1</td><td>570ff_00008</td><td style=\"text-align: right;\">   0.00870204</td></tr>\n",
       "<tr><td>train_mlp_570ff_00009</td><td>2023-02-27_12-08-39</td><td>True  </td><td>                </td><td>d225e237933549cea859f2d9700c686b</td><td>9_l1=32,l2=4,l2_reg=0.0389,l3=64,lr=0.0967    </td><td>Nipuns-iMac-8.local</td><td style=\"text-align: right;\">                         1</td><td style=\"text-align: right;\"> 76.2164</td><td>127.0.0.1</td><td style=\"text-align: right;\">74319</td><td style=\"text-align: right;\">             4.95295</td><td style=\"text-align: right;\">           4.95295</td><td style=\"text-align: right;\">       4.95295</td><td style=\"text-align: right;\"> 1677479919</td><td style=\"text-align: right;\">                        0</td><td>                 </td><td style=\"text-align: right;\">                   1</td><td>570ff_00009</td><td style=\"text-align: right;\">   0.011085  </td></tr>\n",
       "<tr><td>train_mlp_570ff_00010</td><td>2023-02-27_12-08-39</td><td>True  </td><td>                </td><td>f145556ae47a46ac8939cb946ac35ab4</td><td>                                              </td><td>Nipuns-iMac-8.local</td><td style=\"text-align: right;\">                         1</td><td style=\"text-align: right;\"> 76.2261</td><td>127.0.0.1</td><td style=\"text-align: right;\">74320</td><td style=\"text-align: right;\">             4.10885</td><td style=\"text-align: right;\">           4.10885</td><td style=\"text-align: right;\">       4.10885</td><td style=\"text-align: right;\"> 1677479919</td><td style=\"text-align: right;\">                        0</td><td>                 </td><td style=\"text-align: right;\">                   1</td><td>570ff_00010</td><td style=\"text-align: right;\">   0.00733709</td></tr>\n",
       "<tr><td>train_mlp_570ff_00011</td><td>2023-02-27_12-08-39</td><td>True  </td><td>                </td><td>a7a2cd2aa05b41d6b161efc851e27f15</td><td>11_l1=64,l2=32,l2_reg=0.6003,l3=4,lr=0.0490   </td><td>Nipuns-iMac-8.local</td><td style=\"text-align: right;\">                         1</td><td style=\"text-align: right;\"> 76.2096</td><td>127.0.0.1</td><td style=\"text-align: right;\">74321</td><td style=\"text-align: right;\">             4.84985</td><td style=\"text-align: right;\">           4.84985</td><td style=\"text-align: right;\">       4.84985</td><td style=\"text-align: right;\"> 1677479919</td><td style=\"text-align: right;\">                        0</td><td>                 </td><td style=\"text-align: right;\">                   1</td><td>570ff_00011</td><td style=\"text-align: right;\">   0.00860214</td></tr>\n",
       "<tr><td>train_mlp_570ff_00012</td><td>2023-02-27_12-08-42</td><td>True  </td><td>                </td><td>242cf77b0ecd466bb025d8d82195a642</td><td>                                              </td><td>Nipuns-iMac-8.local</td><td style=\"text-align: right;\">                         1</td><td style=\"text-align: right;\"> 76.2458</td><td>127.0.0.1</td><td style=\"text-align: right;\">74322</td><td style=\"text-align: right;\">             7.12467</td><td style=\"text-align: right;\">           7.12467</td><td style=\"text-align: right;\">       7.12467</td><td style=\"text-align: right;\"> 1677479922</td><td style=\"text-align: right;\">                        0</td><td>                 </td><td style=\"text-align: right;\">                   1</td><td>570ff_00012</td><td style=\"text-align: right;\">   0.00822806</td></tr>\n",
       "<tr><td>train_mlp_570ff_00013</td><td>2023-02-27_12-08-40</td><td>True  </td><td>                </td><td>84345da916b14ebeb805a58bb7a62260</td><td>                                              </td><td>Nipuns-iMac-8.local</td><td style=\"text-align: right;\">                         1</td><td style=\"text-align: right;\"> 76.2166</td><td>127.0.0.1</td><td style=\"text-align: right;\">74323</td><td style=\"text-align: right;\">             5.63695</td><td style=\"text-align: right;\">           5.63695</td><td style=\"text-align: right;\">       5.63695</td><td style=\"text-align: right;\"> 1677479920</td><td style=\"text-align: right;\">                        0</td><td>                 </td><td style=\"text-align: right;\">                   1</td><td>570ff_00013</td><td style=\"text-align: right;\">   0.0135322 </td></tr>\n",
       "<tr><td>train_mlp_570ff_00014</td><td>2023-02-27_12-08-42</td><td>True  </td><td>                </td><td>c66424c8068b404b8aba12572d666bd0</td><td>14_l1=16,l2=256,l2_reg=0.0011,l3=32,lr=0.0485 </td><td>Nipuns-iMac-8.local</td><td style=\"text-align: right;\">                         1</td><td style=\"text-align: right;\"> 76.2162</td><td>127.0.0.1</td><td style=\"text-align: right;\">74324</td><td style=\"text-align: right;\">             7.42301</td><td style=\"text-align: right;\">           7.42301</td><td style=\"text-align: right;\">       7.42301</td><td style=\"text-align: right;\"> 1677479922</td><td style=\"text-align: right;\">                        0</td><td>                 </td><td style=\"text-align: right;\">                   1</td><td>570ff_00014</td><td style=\"text-align: right;\">   0.00934911</td></tr>\n",
       "<tr><td>train_mlp_570ff_00015</td><td>2023-02-27_12-08-39</td><td>True  </td><td>                </td><td>953b72062b60439daf0b33f1d56fec7f</td><td>                                              </td><td>Nipuns-iMac-8.local</td><td style=\"text-align: right;\">                         1</td><td style=\"text-align: right;\">171.319 </td><td>127.0.0.1</td><td style=\"text-align: right;\">74325</td><td style=\"text-align: right;\">             4.18106</td><td style=\"text-align: right;\">           4.18106</td><td style=\"text-align: right;\">       4.18106</td><td style=\"text-align: right;\"> 1677479919</td><td style=\"text-align: right;\">                        0</td><td>                 </td><td style=\"text-align: right;\">                   1</td><td>570ff_00015</td><td style=\"text-align: right;\">   0.00795484</td></tr>\n",
       "<tr><td>train_mlp_570ff_00016</td><td>2023-02-27_12-08-35</td><td>True  </td><td>                </td><td>61042389f52a4f4192290e78fc9697c5</td><td>16_l1=16,l2=64,l2_reg=0.0015,l3=32,lr=0.0023  </td><td>Nipuns-iMac-8.local</td><td style=\"text-align: right;\">                         1</td><td style=\"text-align: right;\"> 76.2163</td><td>127.0.0.1</td><td style=\"text-align: right;\">74306</td><td style=\"text-align: right;\">             3.69658</td><td style=\"text-align: right;\">           3.69658</td><td style=\"text-align: right;\">       3.69658</td><td style=\"text-align: right;\"> 1677479915</td><td style=\"text-align: right;\">                        0</td><td>                 </td><td style=\"text-align: right;\">                   1</td><td>570ff_00016</td><td style=\"text-align: right;\">   0.00222492</td></tr>\n",
       "<tr><td>train_mlp_570ff_00017</td><td>2023-02-27_12-08-39</td><td>True  </td><td>                </td><td>61042389f52a4f4192290e78fc9697c5</td><td>17_l1=4,l2=16,l2_reg=0.0273,l3=16,lr=0.0256   </td><td>Nipuns-iMac-8.local</td><td style=\"text-align: right;\">                         1</td><td style=\"text-align: right;\"> 76.2163</td><td>127.0.0.1</td><td style=\"text-align: right;\">74306</td><td style=\"text-align: right;\">             4.20815</td><td style=\"text-align: right;\">           4.20815</td><td style=\"text-align: right;\">       4.20815</td><td style=\"text-align: right;\"> 1677479919</td><td style=\"text-align: right;\">                        0</td><td>                 </td><td style=\"text-align: right;\">                   1</td><td>570ff_00017</td><td style=\"text-align: right;\">   0.00222492</td></tr>\n",
       "<tr><td>train_mlp_570ff_00018</td><td>2023-02-27_12-08-45</td><td>True  </td><td>                </td><td>a7066079d08f46b2815c68869767ec2e</td><td>                                              </td><td>Nipuns-iMac-8.local</td><td style=\"text-align: right;\">                         1</td><td style=\"text-align: right;\"> 76.2167</td><td>127.0.0.1</td><td style=\"text-align: right;\">74317</td><td style=\"text-align: right;\">             5.93923</td><td style=\"text-align: right;\">           5.93923</td><td style=\"text-align: right;\">       5.93923</td><td style=\"text-align: right;\"> 1677479925</td><td style=\"text-align: right;\">                        0</td><td>                 </td><td style=\"text-align: right;\">                   1</td><td>570ff_00018</td><td style=\"text-align: right;\">   0.00730872</td></tr>\n",
       "<tr><td>train_mlp_570ff_00019</td><td>2023-02-27_12-08-46</td><td>True  </td><td>                </td><td>f145556ae47a46ac8939cb946ac35ab4</td><td>                                              </td><td>Nipuns-iMac-8.local</td><td style=\"text-align: right;\">                         1</td><td style=\"text-align: right;\"> 76.2166</td><td>127.0.0.1</td><td style=\"text-align: right;\">74320</td><td style=\"text-align: right;\">             7.28053</td><td style=\"text-align: right;\">           7.28053</td><td style=\"text-align: right;\">       7.28053</td><td style=\"text-align: right;\"> 1677479926</td><td style=\"text-align: right;\">                        0</td><td>                 </td><td style=\"text-align: right;\">                   1</td><td>570ff_00019</td><td style=\"text-align: right;\">   0.00733709</td></tr>\n",
       "<tr><td>train_mlp_570ff_00020</td><td>2023-02-27_12-08-44</td><td>True  </td><td>                </td><td>70f770eee52d4e0e8c8a4806989cfd67</td><td>                                              </td><td>Nipuns-iMac-8.local</td><td style=\"text-align: right;\">                         1</td><td style=\"text-align: right;\"> 76.279 </td><td>127.0.0.1</td><td style=\"text-align: right;\">74318</td><td style=\"text-align: right;\">             5.26258</td><td style=\"text-align: right;\">           5.26258</td><td style=\"text-align: right;\">       5.26258</td><td style=\"text-align: right;\"> 1677479924</td><td style=\"text-align: right;\">                        0</td><td>                 </td><td style=\"text-align: right;\">                   1</td><td>570ff_00020</td><td style=\"text-align: right;\">   0.00870204</td></tr>\n",
       "<tr><td>train_mlp_570ff_00021</td><td>2023-02-27_12-08-47</td><td>True  </td><td>                </td><td>953b72062b60439daf0b33f1d56fec7f</td><td>21_l1=128,l2=64,l2_reg=0.8191,l3=64,lr=0.0109 </td><td>Nipuns-iMac-8.local</td><td style=\"text-align: right;\">                         1</td><td style=\"text-align: right;\"> 76.2163</td><td>127.0.0.1</td><td style=\"text-align: right;\">74325</td><td style=\"text-align: right;\">             8.20022</td><td style=\"text-align: right;\">           8.20022</td><td style=\"text-align: right;\">       8.20022</td><td style=\"text-align: right;\"> 1677479927</td><td style=\"text-align: right;\">                        0</td><td>                 </td><td style=\"text-align: right;\">                   1</td><td>570ff_00021</td><td style=\"text-align: right;\">   0.00795484</td></tr>\n",
       "<tr><td>train_mlp_570ff_00022</td><td>2023-02-27_12-08-52</td><td>True  </td><td>                </td><td>0b1728ef600b4c48bac4b67ce6753125</td><td>22_l1=64,l2=128,l2_reg=0.0002,l3=256,lr=0.0033</td><td>Nipuns-iMac-8.local</td><td style=\"text-align: right;\">                         1</td><td style=\"text-align: right;\"> 76.2163</td><td>127.0.0.1</td><td style=\"text-align: right;\">74316</td><td style=\"text-align: right;\">            12.9174 </td><td style=\"text-align: right;\">          12.9174 </td><td style=\"text-align: right;\">      12.9174 </td><td style=\"text-align: right;\"> 1677479932</td><td style=\"text-align: right;\">                        0</td><td>                 </td><td style=\"text-align: right;\">                   1</td><td>570ff_00022</td><td style=\"text-align: right;\">   0.00714993</td></tr>\n",
       "<tr><td>train_mlp_570ff_00023</td><td>2023-02-27_12-08-51</td><td>True  </td><td>                </td><td>64aabf5cafff4035b38edf668105d4e8</td><td>                                              </td><td>Nipuns-iMac-8.local</td><td style=\"text-align: right;\">                         1</td><td style=\"text-align: right;\"> 76.2173</td><td>127.0.0.1</td><td style=\"text-align: right;\">74315</td><td style=\"text-align: right;\">            11.5796 </td><td style=\"text-align: right;\">          11.5796 </td><td style=\"text-align: right;\">      11.5796 </td><td style=\"text-align: right;\"> 1677479931</td><td style=\"text-align: right;\">                        0</td><td>                 </td><td style=\"text-align: right;\">                   1</td><td>570ff_00023</td><td style=\"text-align: right;\">   0.00657916</td></tr>\n",
       "<tr><td>train_mlp_570ff_00024</td><td>2023-02-27_12-08-45</td><td>True  </td><td>                </td><td>d225e237933549cea859f2d9700c686b</td><td>24_l1=2,l2=4,l2_reg=0.0039,l3=2,lr=0.0471     </td><td>Nipuns-iMac-8.local</td><td style=\"text-align: right;\">                         1</td><td style=\"text-align: right;\"> 76.2163</td><td>127.0.0.1</td><td style=\"text-align: right;\">74319</td><td style=\"text-align: right;\">             5.17063</td><td style=\"text-align: right;\">           5.17063</td><td style=\"text-align: right;\">       5.17063</td><td style=\"text-align: right;\"> 1677479925</td><td style=\"text-align: right;\">                        0</td><td>                 </td><td style=\"text-align: right;\">                   1</td><td>570ff_00024</td><td style=\"text-align: right;\">   0.011085  </td></tr>\n",
       "<tr><td>train_mlp_570ff_00025</td><td>2023-02-27_12-08-49</td><td>True  </td><td>                </td><td>87c08568ffae4f818d3089a32147f2f6</td><td>25_l1=16,l2=256,l2_reg=0.0015,l3=64,lr=0.8002 </td><td>Nipuns-iMac-8.local</td><td style=\"text-align: right;\">                         1</td><td style=\"text-align: right;\"> 76.2163</td><td>127.0.0.1</td><td style=\"text-align: right;\">74313</td><td style=\"text-align: right;\">             9.72054</td><td style=\"text-align: right;\">           9.72054</td><td style=\"text-align: right;\">       9.72054</td><td style=\"text-align: right;\"> 1677479929</td><td style=\"text-align: right;\">                        0</td><td>                 </td><td style=\"text-align: right;\">                   1</td><td>570ff_00025</td><td style=\"text-align: right;\">   0.00718617</td></tr>\n",
       "<tr><td>train_mlp_570ff_00026</td><td>2023-02-27_12-08-52</td><td>True  </td><td>                </td><td>a7a2cd2aa05b41d6b161efc851e27f15</td><td>                                              </td><td>Nipuns-iMac-8.local</td><td style=\"text-align: right;\">                         1</td><td style=\"text-align: right;\"> 76.2171</td><td>127.0.0.1</td><td style=\"text-align: right;\">74321</td><td style=\"text-align: right;\">            12.7516 </td><td style=\"text-align: right;\">          12.7516 </td><td style=\"text-align: right;\">      12.7516 </td><td style=\"text-align: right;\"> 1677479932</td><td style=\"text-align: right;\">                        0</td><td>                 </td><td style=\"text-align: right;\">                   1</td><td>570ff_00026</td><td style=\"text-align: right;\">   0.00860214</td></tr>\n",
       "<tr><td>train_mlp_570ff_00027</td><td>2023-02-27_12-08-46</td><td>True  </td><td>                </td><td>61042389f52a4f4192290e78fc9697c5</td><td>                                              </td><td>Nipuns-iMac-8.local</td><td style=\"text-align: right;\">                         1</td><td style=\"text-align: right;\"> 76.2194</td><td>127.0.0.1</td><td style=\"text-align: right;\">74306</td><td style=\"text-align: right;\">             6.71063</td><td style=\"text-align: right;\">           6.71063</td><td style=\"text-align: right;\">       6.71063</td><td style=\"text-align: right;\"> 1677479926</td><td style=\"text-align: right;\">                        0</td><td>                 </td><td style=\"text-align: right;\">                   1</td><td>570ff_00027</td><td style=\"text-align: right;\">   0.00222492</td></tr>\n",
       "<tr><td>train_mlp_570ff_00028</td><td>2023-02-27_12-08-46</td><td>True  </td><td>                </td><td>94a0c584588747c4898c019e325f45a2</td><td>                                              </td><td>Nipuns-iMac-8.local</td><td style=\"text-align: right;\">                         1</td><td style=\"text-align: right;\"> 78.8153</td><td>127.0.0.1</td><td style=\"text-align: right;\">74314</td><td style=\"text-align: right;\">             5.92181</td><td style=\"text-align: right;\">           5.92181</td><td style=\"text-align: right;\">       5.92181</td><td style=\"text-align: right;\"> 1677479926</td><td style=\"text-align: right;\">                        0</td><td>                 </td><td style=\"text-align: right;\">                   1</td><td>570ff_00028</td><td style=\"text-align: right;\">   0.00899792</td></tr>\n",
       "<tr><td>train_mlp_570ff_00029</td><td>2023-02-27_12-08-47</td><td>True  </td><td>                </td><td>84345da916b14ebeb805a58bb7a62260</td><td>29_l1=128,l2=16,l2_reg=0.0003,l3=16,lr=0.0083 </td><td>Nipuns-iMac-8.local</td><td style=\"text-align: right;\">                         1</td><td style=\"text-align: right;\"> 76.2164</td><td>127.0.0.1</td><td style=\"text-align: right;\">74323</td><td style=\"text-align: right;\">             6.39704</td><td style=\"text-align: right;\">           6.39704</td><td style=\"text-align: right;\">       6.39704</td><td style=\"text-align: right;\"> 1677479927</td><td style=\"text-align: right;\">                        0</td><td>                 </td><td style=\"text-align: right;\">                   1</td><td>570ff_00029</td><td style=\"text-align: right;\">   0.0135322 </td></tr>\n",
       "<tr><td>train_mlp_570ff_00030</td><td>2023-02-27_12-08-53</td><td>True  </td><td>                </td><td>f3012d48617e4755a225b2a4c3692c1e</td><td>30_l1=32,l2=128,l2_reg=0.0002,l3=256,lr=0.0968</td><td>Nipuns-iMac-8.local</td><td style=\"text-align: right;\">                         1</td><td style=\"text-align: right;\"> 76.2162</td><td>127.0.0.1</td><td style=\"text-align: right;\">74311</td><td style=\"text-align: right;\">            12.1714 </td><td style=\"text-align: right;\">          12.1714 </td><td style=\"text-align: right;\">      12.1714 </td><td style=\"text-align: right;\"> 1677479933</td><td style=\"text-align: right;\">                        0</td><td>                 </td><td style=\"text-align: right;\">                   1</td><td>570ff_00030</td><td style=\"text-align: right;\">   0.0060401 </td></tr>\n",
       "<tr><td>train_mlp_570ff_00031</td><td>2023-02-27_12-08-49</td><td>True  </td><td>                </td><td>242cf77b0ecd466bb025d8d82195a642</td><td>31_l1=4,l2=256,l2_reg=0.0007,l3=4,lr=0.0387   </td><td>Nipuns-iMac-8.local</td><td style=\"text-align: right;\">                         1</td><td style=\"text-align: right;\"> 76.2163</td><td>127.0.0.1</td><td style=\"text-align: right;\">74322</td><td style=\"text-align: right;\">             6.94163</td><td style=\"text-align: right;\">           6.94163</td><td style=\"text-align: right;\">       6.94163</td><td style=\"text-align: right;\"> 1677479929</td><td style=\"text-align: right;\">                        0</td><td>                 </td><td style=\"text-align: right;\">                   1</td><td>570ff_00031</td><td style=\"text-align: right;\">   0.00822806</td></tr>\n",
       "<tr><td>train_mlp_570ff_00032</td><td>2023-02-27_12-08-48</td><td>True  </td><td>                </td><td>c66424c8068b404b8aba12572d666bd0</td><td>                                              </td><td>Nipuns-iMac-8.local</td><td style=\"text-align: right;\">                         1</td><td style=\"text-align: right;\"> 76.2168</td><td>127.0.0.1</td><td style=\"text-align: right;\">74324</td><td style=\"text-align: right;\">             5.43311</td><td style=\"text-align: right;\">           5.43311</td><td style=\"text-align: right;\">       5.43311</td><td style=\"text-align: right;\"> 1677479928</td><td style=\"text-align: right;\">                        0</td><td>                 </td><td style=\"text-align: right;\">                   1</td><td>570ff_00032</td><td style=\"text-align: right;\">   0.00934911</td></tr>\n",
       "<tr><td>train_mlp_570ff_00033</td><td>2023-02-27_12-08-49</td><td>True  </td><td>                </td><td>70f770eee52d4e0e8c8a4806989cfd67</td><td>                                              </td><td>Nipuns-iMac-8.local</td><td style=\"text-align: right;\">                         1</td><td style=\"text-align: right;\"> 76.2166</td><td>127.0.0.1</td><td style=\"text-align: right;\">74318</td><td style=\"text-align: right;\">             5.28931</td><td style=\"text-align: right;\">           5.28931</td><td style=\"text-align: right;\">       5.28931</td><td style=\"text-align: right;\"> 1677479929</td><td style=\"text-align: right;\">                        0</td><td>                 </td><td style=\"text-align: right;\">                   1</td><td>570ff_00033</td><td style=\"text-align: right;\">   0.00870204</td></tr>\n",
       "<tr><td>train_mlp_570ff_00034</td><td>2023-02-27_12-08-50</td><td>True  </td><td>                </td><td>a7066079d08f46b2815c68869767ec2e</td><td>                                              </td><td>Nipuns-iMac-8.local</td><td style=\"text-align: right;\">                         1</td><td style=\"text-align: right;\"> 76.2166</td><td>127.0.0.1</td><td style=\"text-align: right;\">74317</td><td style=\"text-align: right;\">             5.24643</td><td style=\"text-align: right;\">           5.24643</td><td style=\"text-align: right;\">       5.24643</td><td style=\"text-align: right;\"> 1677479930</td><td style=\"text-align: right;\">                        0</td><td>                 </td><td style=\"text-align: right;\">                   1</td><td>570ff_00034</td><td style=\"text-align: right;\">   0.00730872</td></tr>\n",
       "<tr><td>train_mlp_570ff_00035</td><td>2023-02-27_12-08-52</td><td>True  </td><td>                </td><td>eaa456f9515f4591bfc8189893792bac</td><td>                                              </td><td>Nipuns-iMac-8.local</td><td style=\"text-align: right;\">                         1</td><td style=\"text-align: right;\"> 76.2869</td><td>127.0.0.1</td><td style=\"text-align: right;\">74312</td><td style=\"text-align: right;\">             7.02518</td><td style=\"text-align: right;\">           7.02518</td><td style=\"text-align: right;\">       7.02518</td><td style=\"text-align: right;\"> 1677479932</td><td style=\"text-align: right;\">                        0</td><td>                 </td><td style=\"text-align: right;\">                   1</td><td>570ff_00035</td><td style=\"text-align: right;\">   0.00497222</td></tr>\n",
       "<tr><td>train_mlp_570ff_00036</td><td>2023-02-27_12-08-51</td><td>True  </td><td>                </td><td>d225e237933549cea859f2d9700c686b</td><td>36_l1=128,l2=4,l2_reg=0.0012,l3=64,lr=0.0057  </td><td>Nipuns-iMac-8.local</td><td style=\"text-align: right;\">                         1</td><td style=\"text-align: right;\"> 76.2163</td><td>127.0.0.1</td><td style=\"text-align: right;\">74319</td><td style=\"text-align: right;\">             6.36601</td><td style=\"text-align: right;\">           6.36601</td><td style=\"text-align: right;\">       6.36601</td><td style=\"text-align: right;\"> 1677479931</td><td style=\"text-align: right;\">                        0</td><td>                 </td><td style=\"text-align: right;\">                   1</td><td>570ff_00036</td><td style=\"text-align: right;\">   0.011085  </td></tr>\n",
       "<tr><td>train_mlp_570ff_00037</td><td>2023-02-27_12-08-52</td><td>True  </td><td>                </td><td>f145556ae47a46ac8939cb946ac35ab4</td><td>                                              </td><td>Nipuns-iMac-8.local</td><td style=\"text-align: right;\">                         1</td><td style=\"text-align: right;\"> 76.2607</td><td>127.0.0.1</td><td style=\"text-align: right;\">74320</td><td style=\"text-align: right;\">             6.15623</td><td style=\"text-align: right;\">           6.15623</td><td style=\"text-align: right;\">       6.15623</td><td style=\"text-align: right;\"> 1677479932</td><td style=\"text-align: right;\">                        0</td><td>                 </td><td style=\"text-align: right;\">                   1</td><td>570ff_00037</td><td style=\"text-align: right;\">   0.00733709</td></tr>\n",
       "<tr><td>train_mlp_570ff_00038</td><td>2023-02-27_12-08-53</td><td>True  </td><td>                </td><td>94a0c584588747c4898c019e325f45a2</td><td>38_l1=16,l2=16,l2_reg=0.0005,l3=256,lr=0.2434 </td><td>Nipuns-iMac-8.local</td><td style=\"text-align: right;\">                         1</td><td style=\"text-align: right;\"> 76.2163</td><td>127.0.0.1</td><td style=\"text-align: right;\">74314</td><td style=\"text-align: right;\">             7.20737</td><td style=\"text-align: right;\">           7.20737</td><td style=\"text-align: right;\">       7.20737</td><td style=\"text-align: right;\"> 1677479933</td><td style=\"text-align: right;\">                        0</td><td>                 </td><td style=\"text-align: right;\">                   1</td><td>570ff_00038</td><td style=\"text-align: right;\">   0.00899792</td></tr>\n",
       "<tr><td>train_mlp_570ff_00039</td><td>2023-02-27_12-08-53</td><td>True  </td><td>                </td><td>61042389f52a4f4192290e78fc9697c5</td><td>39_l1=32,l2=2,l2_reg=0.0225,l3=256,lr=0.0012  </td><td>Nipuns-iMac-8.local</td><td style=\"text-align: right;\">                         1</td><td style=\"text-align: right;\"> 76.2162</td><td>127.0.0.1</td><td style=\"text-align: right;\">74306</td><td style=\"text-align: right;\">             6.78977</td><td style=\"text-align: right;\">           6.78977</td><td style=\"text-align: right;\">       6.78977</td><td style=\"text-align: right;\"> 1677479933</td><td style=\"text-align: right;\">                        0</td><td>                 </td><td style=\"text-align: right;\">                   1</td><td>570ff_00039</td><td style=\"text-align: right;\">   0.00222492</td></tr>\n",
       "<tr><td>train_mlp_570ff_00040</td><td>2023-02-27_12-08-54</td><td>True  </td><td>                </td><td>84345da916b14ebeb805a58bb7a62260</td><td>                                              </td><td>Nipuns-iMac-8.local</td><td style=\"text-align: right;\">                         1</td><td style=\"text-align: right;\">118.429 </td><td>127.0.0.1</td><td style=\"text-align: right;\">74323</td><td style=\"text-align: right;\">             6.88699</td><td style=\"text-align: right;\">           6.88699</td><td style=\"text-align: right;\">       6.88699</td><td style=\"text-align: right;\"> 1677479934</td><td style=\"text-align: right;\">                        0</td><td>                 </td><td style=\"text-align: right;\">                   1</td><td>570ff_00040</td><td style=\"text-align: right;\">   0.0135322 </td></tr>\n",
       "<tr><td>train_mlp_570ff_00041</td><td>2023-02-27_12-08-53</td><td>True  </td><td>                </td><td>953b72062b60439daf0b33f1d56fec7f</td><td>41_l1=256,l2=2,l2_reg=0.0005,l3=2,lr=0.4811   </td><td>Nipuns-iMac-8.local</td><td style=\"text-align: right;\">                         1</td><td style=\"text-align: right;\"> 76.1125</td><td>127.0.0.1</td><td style=\"text-align: right;\">74325</td><td style=\"text-align: right;\">             6.3544 </td><td style=\"text-align: right;\">           6.3544 </td><td style=\"text-align: right;\">       6.3544 </td><td style=\"text-align: right;\"> 1677479933</td><td style=\"text-align: right;\">                        0</td><td>                 </td><td style=\"text-align: right;\">                   1</td><td>570ff_00041</td><td style=\"text-align: right;\">   0.00795484</td></tr>\n",
       "<tr><td>train_mlp_570ff_00042</td><td>2023-02-27_12-08-53</td><td>True  </td><td>                </td><td>c66424c8068b404b8aba12572d666bd0</td><td>                                              </td><td>Nipuns-iMac-8.local</td><td style=\"text-align: right;\">                         1</td><td style=\"text-align: right;\"> 76.2166</td><td>127.0.0.1</td><td style=\"text-align: right;\">74324</td><td style=\"text-align: right;\">             5.35047</td><td style=\"text-align: right;\">           5.35047</td><td style=\"text-align: right;\">       5.35047</td><td style=\"text-align: right;\"> 1677479933</td><td style=\"text-align: right;\">                        0</td><td>                 </td><td style=\"text-align: right;\">                   1</td><td>570ff_00042</td><td style=\"text-align: right;\">   0.00934911</td></tr>\n",
       "<tr><td>train_mlp_570ff_00043</td><td>2023-02-27_12-08-54</td><td>True  </td><td>                </td><td>242cf77b0ecd466bb025d8d82195a642</td><td>                                              </td><td>Nipuns-iMac-8.local</td><td style=\"text-align: right;\">                         1</td><td style=\"text-align: right;\"> 76.2168</td><td>127.0.0.1</td><td style=\"text-align: right;\">74322</td><td style=\"text-align: right;\">             5.01931</td><td style=\"text-align: right;\">           5.01931</td><td style=\"text-align: right;\">       5.01931</td><td style=\"text-align: right;\"> 1677479934</td><td style=\"text-align: right;\">                        0</td><td>                 </td><td style=\"text-align: right;\">                   1</td><td>570ff_00043</td><td style=\"text-align: right;\">   0.00822806</td></tr>\n",
       "<tr><td>train_mlp_570ff_00044</td><td>2023-02-27_12-08-55</td><td>True  </td><td>                </td><td>70f770eee52d4e0e8c8a4806989cfd67</td><td>                                              </td><td>Nipuns-iMac-8.local</td><td style=\"text-align: right;\">                         1</td><td style=\"text-align: right;\"> 76.2169</td><td>127.0.0.1</td><td style=\"text-align: right;\">74318</td><td style=\"text-align: right;\">             5.2997 </td><td style=\"text-align: right;\">           5.2997 </td><td style=\"text-align: right;\">       5.2997 </td><td style=\"text-align: right;\"> 1677479935</td><td style=\"text-align: right;\">                        0</td><td>                 </td><td style=\"text-align: right;\">                   1</td><td>570ff_00044</td><td style=\"text-align: right;\">   0.00870204</td></tr>\n",
       "<tr><td>train_mlp_570ff_00045</td><td>2023-02-27_12-08-54</td><td>True  </td><td>                </td><td>87c08568ffae4f818d3089a32147f2f6</td><td>                                              </td><td>Nipuns-iMac-8.local</td><td style=\"text-align: right;\">                         1</td><td style=\"text-align: right;\">174.283 </td><td>127.0.0.1</td><td style=\"text-align: right;\">74313</td><td style=\"text-align: right;\">             4.70465</td><td style=\"text-align: right;\">           4.70465</td><td style=\"text-align: right;\">       4.70465</td><td style=\"text-align: right;\"> 1677479934</td><td style=\"text-align: right;\">                        0</td><td>                 </td><td style=\"text-align: right;\">                   1</td><td>570ff_00045</td><td style=\"text-align: right;\">   0.00718617</td></tr>\n",
       "<tr><td>train_mlp_570ff_00046</td><td>2023-02-27_12-08-55</td><td>True  </td><td>                </td><td>a7066079d08f46b2815c68869767ec2e</td><td>46_l1=256,l2=2,l2_reg=0.0008,l3=32,lr=0.3524  </td><td>Nipuns-iMac-8.local</td><td style=\"text-align: right;\">                         1</td><td style=\"text-align: right;\"> 76.2163</td><td>127.0.0.1</td><td style=\"text-align: right;\">74317</td><td style=\"text-align: right;\">             4.68812</td><td style=\"text-align: right;\">           4.68812</td><td style=\"text-align: right;\">       4.68812</td><td style=\"text-align: right;\"> 1677479935</td><td style=\"text-align: right;\">                        0</td><td>                 </td><td style=\"text-align: right;\">                   1</td><td>570ff_00046</td><td style=\"text-align: right;\">   0.00730872</td></tr>\n",
       "<tr><td>train_mlp_570ff_00047</td><td>2023-02-27_12-08-56</td><td>True  </td><td>                </td><td>64aabf5cafff4035b38edf668105d4e8</td><td>47_l1=64,l2=256,l2_reg=0.0005,l3=128,lr=0.0045</td><td>Nipuns-iMac-8.local</td><td style=\"text-align: right;\">                         1</td><td style=\"text-align: right;\"> 76.2161</td><td>127.0.0.1</td><td style=\"text-align: right;\">74315</td><td style=\"text-align: right;\">             4.88613</td><td style=\"text-align: right;\">           4.88613</td><td style=\"text-align: right;\">       4.88613</td><td style=\"text-align: right;\"> 1677479936</td><td style=\"text-align: right;\">                        0</td><td>                 </td><td style=\"text-align: right;\">                   1</td><td>570ff_00047</td><td style=\"text-align: right;\">   0.00657916</td></tr>\n",
       "<tr><td>train_mlp_570ff_00048</td><td>2023-02-27_12-08-55</td><td>True  </td><td>                </td><td>d225e237933549cea859f2d9700c686b</td><td>48_l1=2,l2=256,l2_reg=0.0003,l3=32,lr=0.0340  </td><td>Nipuns-iMac-8.local</td><td style=\"text-align: right;\">                         1</td><td style=\"text-align: right;\"> 76.2163</td><td>127.0.0.1</td><td style=\"text-align: right;\">74319</td><td style=\"text-align: right;\">             3.76402</td><td style=\"text-align: right;\">           3.76402</td><td style=\"text-align: right;\">       3.76402</td><td style=\"text-align: right;\"> 1677479935</td><td style=\"text-align: right;\">                        0</td><td>                 </td><td style=\"text-align: right;\">                   1</td><td>570ff_00048</td><td style=\"text-align: right;\">   0.011085  </td></tr>\n",
       "<tr><td>train_mlp_570ff_00049</td><td>2023-02-27_12-08-55</td><td>True  </td><td>                </td><td>eaa456f9515f4591bfc8189893792bac</td><td>49_l1=4,l2=2,l2_reg=0.0297,l3=128,lr=0.0036   </td><td>Nipuns-iMac-8.local</td><td style=\"text-align: right;\">                         1</td><td style=\"text-align: right;\"> 76.2164</td><td>127.0.0.1</td><td style=\"text-align: right;\">74312</td><td style=\"text-align: right;\">             3.02107</td><td style=\"text-align: right;\">           3.02107</td><td style=\"text-align: right;\">       3.02107</td><td style=\"text-align: right;\"> 1677479935</td><td style=\"text-align: right;\">                        0</td><td>                 </td><td style=\"text-align: right;\">                   1</td><td>570ff_00049</td><td style=\"text-align: right;\">   0.00497222</td></tr>\n",
       "</tbody>\n",
       "</table>\n",
       "</div>\n",
       "<style>\n",
       ".trialProgress {\n",
       "  display: flex;\n",
       "  flex-direction: column;\n",
       "  color: var(--jp-ui-font-color1);\n",
       "}\n",
       ".trialProgress h3 {\n",
       "  font-weight: bold;\n",
       "}\n",
       ".trialProgress td {\n",
       "  white-space: nowrap;\n",
       "}\n",
       "</style>\n"
      ],
      "text/plain": [
       "<IPython.core.display.HTML object>"
      ]
     },
     "metadata": {},
     "output_type": "display_data"
    },
    {
     "name": "stderr",
     "output_type": "stream",
     "text": [
      "2023-02-27 12:08:56,610\tINFO tune.py:762 -- Total run time: 29.94 seconds (29.63 seconds for the tuning loop).\n"
     ]
    }
   ],
   "source": [
    "# Use the selected features to train the MLP\n",
    "\n",
    "X_train_torch = torch.tensor(X_train[selected_features].values, dtype=torch.float32)\n",
    "y_train_torch = torch.tensor(y_train.values, dtype=torch.float32)\n",
    "\n",
    "X_test_torch = torch.tensor(X_test[selected_features].values, dtype=torch.float32)\n",
    "y_test_torch = torch.tensor(y_test.values, dtype=torch.float32)\n",
    "\n",
    "X_val_torch = torch.tensor(X_valid[selected_features].values, dtype=torch.float32)\n",
    "y_val_torch = torch.tensor(y_valid.values, dtype=torch.float32)\n",
    "\n",
    "# Define the model\n",
    "\n",
    "class Net(nn.Module):\n",
    "    def __init__(self, l1, l2, l3, l2_reg):\n",
    "        super(Net, self).__init__()\n",
    "        self.l1 = nn.Linear(5, l1)\n",
    "        self.l2 = nn.Linear(l1, l2)\n",
    "        self.l3 = nn.Linear(l2, l3)\n",
    "        self.l4 = nn.Linear(l3, 1)\n",
    "        self.l2_reg = l2_reg\n",
    "\n",
    "    def forward(self, x):\n",
    "        x = F.relu(self.l1(x))\n",
    "        x = F.relu(self.l2(x))\n",
    "        x = F.relu(self.l3(x))\n",
    "        x = self.l4(x)\n",
    "        return x\n",
    "\n",
    "# Using Ray Tune to tune the hyperparameters\n",
    "\n",
    "def train_mlp(config):\n",
    "    net = Net(config[\"l1\"], config[\"l2\"], config[\"l3\"], config[\"l2_reg\"])\n",
    "    criterion = nn.MSELoss()\n",
    "    optimizer = optim.Adam(net.parameters(), lr=config[\"lr\"])\n",
    "    for epoch in range(1000):  # loop over the dataset multiple times and store the train, test loss\n",
    "        optimizer.zero_grad()\n",
    "        outputs = net(X_train_torch)\n",
    "        loss = criterion(outputs, y_train_torch)\n",
    "        # Add L2 regularization\n",
    "        for param in net.parameters():\n",
    "            loss += net.l2_reg * torch.norm(param)\n",
    "        loss.backward()\n",
    "        optimizer.step()\n",
    "    with torch.no_grad():\n",
    "        outputs = net(X_val_torch)\n",
    "        loss = criterion(outputs, y_val_torch)\n",
    "        return {\"loss\": np.sqrt(loss.item())}\n",
    "\n",
    "# Define the search space\n",
    "\n",
    "ray.shutdown()\n",
    "\n",
    "ray.init()\n",
    "scheduler = ASHAScheduler(\n",
    "    metric=\"loss\",\n",
    "    mode=\"min\",\n",
    "    max_t=100,\n",
    "    grace_period=1,\n",
    "    reduction_factor=2)\n",
    "\n",
    "reporter = CLIReporter(\n",
    "    parameter_columns=[\"l1\", \"l2\", \"l3\", \"lr\", \"l2_reg\"],\n",
    "    metric_columns=[\"loss\", \"training_iteration\"])\n",
    "\n",
    "analysis = tune.run(\n",
    "    train_mlp,\n",
    "    resources_per_trial={\"cpu\": 1},\n",
    "    config={\n",
    "        \"l1\": tune.choice([2, 4, 16, 32, 64, 128, 256]),\n",
    "        \"l2\": tune.choice([2, 4, 16, 32, 64, 128, 256]),\n",
    "        \"l3\": tune.choice([2, 4, 16, 32, 64, 128, 256]),\n",
    "        \"l2_reg\": tune.loguniform(1e-4, 1.0),\n",
    "        \"lr\": tune.loguniform(1e-4, 1.0),\n",
    "    },\n",
    "    num_samples=50,\n",
    "    scheduler=scheduler,\n",
    "    progress_reporter=reporter)\n",
    "\n",
    "\n"
   ]
  },
  {
   "cell_type": "code",
   "execution_count": 359,
   "id": "12e55c30",
   "metadata": {},
   "outputs": [
    {
     "name": "stdout",
     "output_type": "stream",
     "text": [
      "Test loss: 72.25798439337863\n",
      "Train loss: 79.40200082098058\n",
      "\n"
     ]
    }
   ],
   "source": [
    "# Get the best hyperparameters\n",
    "\n",
    "best_config = analysis.get_best_config(metric=\"loss\", mode=\"min\")\n",
    "\n",
    "# Use the best hyperparameters to train the model\n",
    "net = Net(best_config[\"l1\"], best_config[\"l2\"], best_config[\"l3\"], best_config[\"l2_reg\"])\n",
    "criterion = nn.MSELoss()\n",
    "optimizer = optim.Adam(net.parameters(), lr=best_config[\"lr\"])\n",
    "for epoch in range(1000):  # loop over the dataset multiple times and store the train, test loss\n",
    "    optimizer.zero_grad()\n",
    "    outputs = net(X_train_torch)\n",
    "    loss = criterion(outputs, y_train_torch)\n",
    "    # Add L2 regularization\n",
    "    for param in net.parameters():\n",
    "        loss += net.l2_reg * torch.norm(param)\n",
    "\n",
    "    \n",
    "    loss.backward()\n",
    "    optimizer.step()\n",
    "\n",
    "with torch.no_grad():\n",
    "    outputs = net(X_test_torch)\n",
    "    loss = criterion(outputs, y_test_torch)\n",
    "    print(f\"Test loss: {np.sqrt(loss.item())}\")\n",
    "    outputs = net(X_train_torch)    \n",
    "    loss = criterion(outputs, y_train_torch)\n",
    "    print(f\"Train loss: {np.sqrt(loss.item())}\")\n",
    "    print(\"\")\n"
   ]
  },
  {
   "cell_type": "code",
   "execution_count": 360,
   "id": "24eace3b",
   "metadata": {},
   "outputs": [],
   "source": [
    "# Building a simple meta-learning model in PyTorch\n",
    "\n",
    "# Encoder takes in context set (x, y) pairs and outputs a vector representation of the context set\n",
    "\n",
    "class Encoder(nn.Module):\n",
    "    def __init__(self, input_size, hidden_size, output_size):\n",
    "        super(Encoder, self).__init__()\n",
    "        self.input_size = input_size\n",
    "        self.hidden_size = hidden_size\n",
    "        self.output_size = output_size\n",
    "        self.fc1 = nn.Linear(self.input_size, self.hidden_size)\n",
    "        self.fc2 = nn.Linear(self.hidden_size, self.output_size)\n",
    "        self.relu = nn.ReLU()\n",
    "        self.sigmoid = nn.Sigmoid()\n",
    "        self.tanh = nn.Tanh()\n",
    "        \n",
    "    def forward(self, x):\n",
    "        x = self.fc1(x)\n",
    "        x = self.relu(x)\n",
    "        x = self.fc2(x)\n",
    "        x = self.tanh(x)\n",
    "        return x\n"
   ]
  },
  {
   "cell_type": "code",
   "execution_count": 361,
   "id": "6b3d49d2",
   "metadata": {},
   "outputs": [
    {
     "data": {
      "text/plain": [
       "(array([232,  30]), array([174,  15, 179,  10,  26, 176, 205, 221, 214,  32]))"
      ]
     },
     "execution_count": 361,
     "metadata": {},
     "output_type": "execute_result"
    }
   ],
   "source": [
    "# Generate context sets and target sets\n",
    "\n",
    "len_train = len(X_train_torch)\n",
    "num_context = 10\n",
    "num_target = 2\n",
    "context_length = 5\n",
    "\n",
    "context_idx = np.random.choice(np.arange(0, len_train), num_context, replace=False)\n",
    "# Set difference to find the target set\n",
    "\n",
    "target_idx = np.random.choice(np.setdiff1d(np.arange(0, len_train), context_idx), num_target, replace=False)\n",
    "target_idx, context_idx"
   ]
  },
  {
   "cell_type": "code",
   "execution_count": 362,
   "id": "2cf2c4cc",
   "metadata": {},
   "outputs": [],
   "source": [
    "# Adding 1 for the \"y\"\n",
    "enc = Encoder(X_train_torch.shape[1] + 1, 10, context_length)"
   ]
  },
  {
   "cell_type": "code",
   "execution_count": 363,
   "id": "8e637afd",
   "metadata": {},
   "outputs": [
    {
     "data": {
      "text/plain": [
       "(torch.Size([10, 5]), torch.Size([10]))"
      ]
     },
     "execution_count": 363,
     "metadata": {},
     "output_type": "execute_result"
    }
   ],
   "source": [
    "X_train_torch[context_idx].shape, y_train_torch[context_idx].shape"
   ]
  },
  {
   "cell_type": "code",
   "execution_count": 364,
   "id": "b7a9625c",
   "metadata": {},
   "outputs": [
    {
     "data": {
      "text/plain": [
       "tensor([-1.0000, -0.9639, -1.0000,  1.0000,  0.8432], grad_fn=<MeanBackward1>)"
      ]
     },
     "execution_count": 364,
     "metadata": {},
     "output_type": "execute_result"
    }
   ],
   "source": [
    "# Create context set by concatenating the x and y values\n",
    "\n",
    "context_set = torch.concat((X_train_torch[context_idx], y_train_torch[context_idx].reshape(-1, 1)), axis=1)\n",
    "enc(context_set).mean(axis=0)"
   ]
  },
  {
   "cell_type": "code",
   "execution_count": 365,
   "id": "3f61fab3",
   "metadata": {},
   "outputs": [],
   "source": [
    "# Decoder takes in the context set vector representation and the target set inputs and outputs the target set predictions\n",
    "\n",
    "class Decoder(nn.Module):\n",
    "    def __init__(self, input_size, hidden_size, output_size):\n",
    "        super(Decoder, self).__init__()\n",
    "        self.input_size = input_size\n",
    "        self.hidden_size = hidden_size\n",
    "        self.output_size = output_size\n",
    "        self.fc1 = nn.Linear(self.input_size, self.hidden_size)\n",
    "        self.fc2 = nn.Linear(self.hidden_size, self.output_size)\n",
    "        self.relu = nn.ReLU()\n",
    "        self.sigmoid = nn.Sigmoid()\n",
    "        self.tanh = nn.Tanh()\n",
    "        \n",
    "    def forward(self, x):\n",
    "        x = self.fc1(x)\n",
    "        x = self.relu(x)\n",
    "        x = self.fc2(x)\n",
    "        x = self.tanh(x)\n",
    "        return x\n"
   ]
  },
  {
   "cell_type": "code",
   "execution_count": 366,
   "id": "b23424a1",
   "metadata": {},
   "outputs": [],
   "source": [
    "dec = Decoder(context_length + X_train_torch.shape[1], 10, 1)"
   ]
  },
  {
   "cell_type": "code",
   "execution_count": 367,
   "id": "5ab86fc6",
   "metadata": {},
   "outputs": [
    {
     "data": {
      "text/plain": [
       "(torch.Size([2, 5]), torch.Size([2, 5]))"
      ]
     },
     "execution_count": 367,
     "metadata": {},
     "output_type": "execute_result"
    }
   ],
   "source": [
    "# Repeat the mean of context set for each target set input\n",
    "enc(context_set).mean(axis=0).repeat(num_target).reshape(num_target, -1).shape, X_train_torch[target_idx].shape\n"
   ]
  },
  {
   "cell_type": "code",
   "execution_count": 368,
   "id": "6651700b",
   "metadata": {},
   "outputs": [
    {
     "data": {
      "text/plain": [
       "tensor([[-0.3632],\n",
       "        [-0.3553]], grad_fn=<TanhBackward0>)"
      ]
     },
     "execution_count": 368,
     "metadata": {},
     "output_type": "execute_result"
    }
   ],
   "source": [
    "# Input to the decoder is the concatenation of the context set vector representation and the target set inputs\n",
    "\n",
    "dec(torch.concat((enc(context_set).mean(axis=0).repeat(num_target).reshape(num_target, -1), X_train_torch[target_idx]), axis=1))\n"
   ]
  },
  {
   "cell_type": "code",
   "execution_count": 398,
   "id": "db071c95",
   "metadata": {},
   "outputs": [],
   "source": [
    "# Tie the encoder and decoder together to create the meta-learning model\n",
    "\n",
    "class MetaNet(nn.Module):\n",
    "    def __init__(self, input_size, hidden_size, output_size, context_length):\n",
    "        super(MetaNet, self).__init__()\n",
    "        self.input_size = input_size\n",
    "        self.hidden_size = hidden_size\n",
    "        self.output_size = output_size\n",
    "        self.context_length = context_length\n",
    "        self.enc = Encoder(self.input_size + 1, self.hidden_size, self.context_length)\n",
    "        self.dec = Decoder(self.context_length + self.input_size, self.hidden_size, self.output_size)\n",
    "        \n",
    "    def forward(self, context_set, target_set):\n",
    "        context_set = torch.concat((context_set[0], context_set[1].reshape(-1, 1)), axis=1)\n",
    "        context_set_vec = self.enc(context_set).mean(axis=0).repeat(target_set.shape[0]).reshape(target_set.shape[0], -1)\n",
    "        return self.dec(torch.concat((context_set_vec, target_set[:, :-1]), axis=1))\n"
   ]
  },
  {
   "cell_type": "code",
   "execution_count": 399,
   "id": "a33dcda9",
   "metadata": {},
   "outputs": [],
   "source": [
    "# Procedure to obtain the context set and target set\n",
    "\n",
    "def get_context_target(X, y, num_context, num_target):\n",
    "    len_train = len(X)\n",
    "    context_idx = np.random.choice(np.arange(0, len_train), num_context, replace=False)\n",
    "    target_idx = np.random.choice(np.setdiff1d(np.arange(0, len_train), context_idx), num_target, replace=False)\n",
    "    return (X[context_idx], y[context_idx]), (X[target_idx], y[target_idx])\n"
   ]
  },
  {
   "cell_type": "code",
   "execution_count": 401,
   "id": "b178edb9",
   "metadata": {},
   "outputs": [],
   "source": [
    "context_set, target_set = get_context_target(X_train_torch, y_train_torch, num_context, num_target)"
   ]
  },
  {
   "cell_type": "code",
   "execution_count": 402,
   "id": "293a2ac9",
   "metadata": {},
   "outputs": [
    {
     "data": {
      "text/plain": [
       "(tensor([[-0.0382,  0.0046,  0.0356,  0.0163, -0.0011],\n",
       "         [-0.0382,  0.0671, -0.0608, -0.0015,  0.0196],\n",
       "         [ 0.0381, -0.0245,  0.0047, -0.0160, -0.0259],\n",
       "         [ 0.0344,  0.1253,  0.0288,  0.0003,  0.0279],\n",
       "         [ 0.0417,  0.0121,  0.0391,  0.0456, -0.0011],\n",
       "         [ 0.0381, -0.0181,  0.0666, -0.0119, -0.0135],\n",
       "         [ 0.0308, -0.0202, -0.0057, -0.0109, -0.0011],\n",
       "         [ 0.0126,  0.0337,  0.0333,  0.0312,  0.0279],\n",
       "         [-0.1000, -0.0676, -0.1090, -0.0499, -0.0094],\n",
       "         [ 0.0635, -0.0041, -0.0126,  0.0845, -0.0176]]),\n",
       " tensor([107.,  78., 200., 341., 235.,  77., 148., 198.,  55., 202.]))"
      ]
     },
     "execution_count": 402,
     "metadata": {},
     "output_type": "execute_result"
    }
   ],
   "source": [
    "target_set"
   ]
  },
  {
   "cell_type": "code",
   "execution_count": 400,
   "id": "a833faee",
   "metadata": {},
   "outputs": [
    {
     "ename": "AttributeError",
     "evalue": "'tuple' object has no attribute 'shape'",
     "output_type": "error",
     "traceback": [
      "\u001b[0;31m---------------------------------------------------------------------------\u001b[0m",
      "\u001b[0;31mAttributeError\u001b[0m                            Traceback (most recent call last)",
      "Cell \u001b[0;32mIn[400], line 22\u001b[0m\n\u001b[1;32m     20\u001b[0m context_set, target_set \u001b[39m=\u001b[39m get_context_target(X_train_torch, y_train_torch, num_context, num_target)\n\u001b[1;32m     21\u001b[0m optimizer\u001b[39m.\u001b[39mzero_grad()\n\u001b[0;32m---> 22\u001b[0m preds \u001b[39m=\u001b[39m meta_net(context_set, target_set)\n\u001b[1;32m     23\u001b[0m loss \u001b[39m=\u001b[39m criterion(preds, target_set[\u001b[39m1\u001b[39m])\n\u001b[1;32m     24\u001b[0m loss\u001b[39m.\u001b[39mbackward()\n",
      "File \u001b[0;32m~/miniconda3/lib/python3.9/site-packages/torch/nn/modules/module.py:1130\u001b[0m, in \u001b[0;36mModule._call_impl\u001b[0;34m(self, *input, **kwargs)\u001b[0m\n\u001b[1;32m   1126\u001b[0m \u001b[39m# If we don't have any hooks, we want to skip the rest of the logic in\u001b[39;00m\n\u001b[1;32m   1127\u001b[0m \u001b[39m# this function, and just call forward.\u001b[39;00m\n\u001b[1;32m   1128\u001b[0m \u001b[39mif\u001b[39;00m \u001b[39mnot\u001b[39;00m (\u001b[39mself\u001b[39m\u001b[39m.\u001b[39m_backward_hooks \u001b[39mor\u001b[39;00m \u001b[39mself\u001b[39m\u001b[39m.\u001b[39m_forward_hooks \u001b[39mor\u001b[39;00m \u001b[39mself\u001b[39m\u001b[39m.\u001b[39m_forward_pre_hooks \u001b[39mor\u001b[39;00m _global_backward_hooks\n\u001b[1;32m   1129\u001b[0m         \u001b[39mor\u001b[39;00m _global_forward_hooks \u001b[39mor\u001b[39;00m _global_forward_pre_hooks):\n\u001b[0;32m-> 1130\u001b[0m     \u001b[39mreturn\u001b[39;00m forward_call(\u001b[39m*\u001b[39;49m\u001b[39minput\u001b[39;49m, \u001b[39m*\u001b[39;49m\u001b[39m*\u001b[39;49mkwargs)\n\u001b[1;32m   1131\u001b[0m \u001b[39m# Do not call functions when jit is used\u001b[39;00m\n\u001b[1;32m   1132\u001b[0m full_backward_hooks, non_full_backward_hooks \u001b[39m=\u001b[39m [], []\n",
      "Cell \u001b[0;32mIn[398], line 15\u001b[0m, in \u001b[0;36mMetaNet.forward\u001b[0;34m(self, context_set, target_set)\u001b[0m\n\u001b[1;32m     13\u001b[0m \u001b[39mdef\u001b[39;00m \u001b[39mforward\u001b[39m(\u001b[39mself\u001b[39m, context_set, target_set):\n\u001b[1;32m     14\u001b[0m     context_set \u001b[39m=\u001b[39m torch\u001b[39m.\u001b[39mconcat((context_set[\u001b[39m0\u001b[39m], context_set[\u001b[39m1\u001b[39m]\u001b[39m.\u001b[39mreshape(\u001b[39m-\u001b[39m\u001b[39m1\u001b[39m, \u001b[39m1\u001b[39m)), axis\u001b[39m=\u001b[39m\u001b[39m1\u001b[39m)\n\u001b[0;32m---> 15\u001b[0m     context_set_vec \u001b[39m=\u001b[39m \u001b[39mself\u001b[39m\u001b[39m.\u001b[39menc(context_set)\u001b[39m.\u001b[39mmean(axis\u001b[39m=\u001b[39m\u001b[39m0\u001b[39m)\u001b[39m.\u001b[39mrepeat(target_set\u001b[39m.\u001b[39;49mshape[\u001b[39m0\u001b[39m])\u001b[39m.\u001b[39mreshape(target_set\u001b[39m.\u001b[39mshape[\u001b[39m0\u001b[39m], \u001b[39m-\u001b[39m\u001b[39m1\u001b[39m)\n\u001b[1;32m     16\u001b[0m     \u001b[39mreturn\u001b[39;00m \u001b[39mself\u001b[39m\u001b[39m.\u001b[39mdec(torch\u001b[39m.\u001b[39mconcat((context_set_vec, target_set[:, :\u001b[39m-\u001b[39m\u001b[39m1\u001b[39m]), axis\u001b[39m=\u001b[39m\u001b[39m1\u001b[39m))\n",
      "\u001b[0;31mAttributeError\u001b[0m: 'tuple' object has no attribute 'shape'"
     ]
    }
   ],
   "source": [
    "# Training the meta-learning model\n",
    "\n",
    "num_context = 40\n",
    "num_target = 10\n",
    "context_length = 10\n",
    "num_epochs = 1500\n",
    "\n",
    "\n",
    "meta_net = MetaNet(X_train_torch.shape[1], 10, 1, context_length)\n",
    "criterion = nn.MSELoss()\n",
    "optimizer = torch.optim.Adam(meta_net.parameters(), lr=0.001)\n",
    "\n",
    "# Store the train, validation and test losses\n",
    "train_losses = []\n",
    "val_losses = []\n",
    "test_losses = []\n",
    "\n",
    "\n",
    "for epoch in range(num_epochs):\n",
    "    context_set, target_set = get_context_target(X_train_torch, y_train_torch, num_context, num_target)\n",
    "    optimizer.zero_grad()\n",
    "    preds = meta_net(context_set, target_set)\n",
    "    loss = criterion(preds, target_set[1])\n",
    "    loss.backward()\n",
    "    optimizer.step()\n",
    "    train_losses.append(torch.sqrt(loss).item())\n",
    "    \n"
   ]
  },
  {
   "cell_type": "code",
   "execution_count": 383,
   "id": "86fb50fa",
   "metadata": {},
   "outputs": [
    {
     "data": {
      "text/plain": [
       "[<matplotlib.lines.Line2D at 0x22bd549a0>]"
      ]
     },
     "execution_count": 383,
     "metadata": {},
     "output_type": "execute_result"
    },
    {
     "data": {
      "image/png": "[encoded data removed]",
      "text/plain": [
       "<Figure size 640x480 with 1 Axes>"
      ]
     },
     "metadata": {},
     "output_type": "display_data"
    }
   ],
   "source": [
    "plt.plot(train_losses)\n",
    "# Smooth the loss curve\n",
    "plt.plot(pd.Series(train_losses).rolling(10).mean())"
   ]
  },
  {
   "cell_type": "code",
   "execution_count": 395,
   "id": "07630e9e",
   "metadata": {},
   "outputs": [],
   "source": [
    "# Predict on the test set with the trained meta-learning model and calculate the test loss\n",
    "\n",
    "# get context set from train set and target set from test set\n",
    "context_set, ts = get_context_target(X_train_torch, y_train_torch, num_context, len(X_test_torch))\n",
    "target_set = X_test_torch\n"
   ]
  },
  {
   "cell_type": "code",
   "execution_count": 397,
   "id": "30a2046c",
   "metadata": {},
   "outputs": [
    {
     "data": {
      "text/plain": [
       "tensor([132., 246., 162.,  44., 118.,  71.,  78., 152., 138., 113., 308.,  73.,\n",
       "         90., 252., 129., 154.,  53., 321., 131., 274., 202., 110.,  71., 178.,\n",
       "         85., 151.,  85., 150., 275., 341., 192., 303., 246., 273., 182.,  65.,\n",
       "        126., 272., 150.,  80., 248.,  70., 142.,  64.,  78., 173.,  49.,  53.,\n",
       "         74., 200., 230., 196.,  72.,  91., 270., 104., 124., 265., 217.,  55.,\n",
       "        120., 160., 128.,  96.,  72., 111.,  53.,  59.,  81., 243., 264.,  60.,\n",
       "         87., 295.,  42., 170., 200.,  50.,  49., 113.,  60., 281.,  69., 136.,\n",
       "        310., 258., 140.,  69.,  53., 153.,  94., 279.,  84., 102., 164., 110.,\n",
       "        143.,  87., 145., 293., 202., 131., 280., 245.,  58.,  66., 310., 230.,\n",
       "        257., 163., 103.])"
      ]
     },
     "execution_count": 397,
     "metadata": {},
     "output_type": "execute_result"
    }
   ],
   "source": [
    "ts[1]"
   ]
  },
  {
   "cell_type": "code",
   "execution_count": 394,
   "id": "5b7cab78",
   "metadata": {},
   "outputs": [
    {
     "data": {
      "text/plain": [
       "torch.Size([111, 1])"
      ]
     },
     "execution_count": 394,
     "metadata": {},
     "output_type": "execute_result"
    }
   ],
   "source": [
    "meta_net(context_set, _).shape"
   ]
  },
  {
   "cell_type": "code",
   "execution_count": null,
   "id": "3a294899",
   "metadata": {},
   "outputs": [],
   "source": [
    "context_set = torch.concat((context_set[0], context_set[1].reshape(-1, 1)), axis=1)\n",
    "target_set = torch.concat((target_set[0], target_set[1].reshape(-1, 1)), axis=1)\n",
    "context_set_vec = self.enc(context_set).mean(axis=0).repeat(target_set.shape[0]).reshape(target_set.shape[0], -1)\n",
    "return self.dec(torch.concat((context_set_vec, target_set[:, :-1]), axis=1))\n"
   ]
  }
 ],
 "metadata": {
  "kernelspec": {
   "display_name": "base",
   "language": "python",
   "name": "python3"
  },
  "language_info": {
   "codemirror_mode": {
    "name": "ipython",
    "version": 3
   },
   "file_extension": ".py",
   "mimetype": "text/x-python",
   "name": "python",
   "nbconvert_exporter": "python",
   "pygments_lexer": "ipython3",
   "version": "3.9.15"
  },
  "vscode": {
   "interpreter": {
    "hash": "a5a8a649fae9f7dd41e8adc1d2fca9d99b1b7a58cc684de3b9310442441ba4ba"
   }
  }
 },
 "nbformat": 4,
 "nbformat_minor": 5
}
