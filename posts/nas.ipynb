{
 "cells": [
  {
   "cell_type": "raw",
   "metadata": {},
   "source": [
    "---\n",
    "author: Nipun Batra\n",
    "badges: true\n",
    "categories:\n",
    "- ML\n",
    "date: '2023-02-25'\n",
    "output-file: auto-pytorch.html\n",
    "title: AutoML PyTorch\n",
    "toc: true\n",
    "\n",
    "---"
   ]
  },
  {
   "attachments": {},
   "cell_type": "markdown",
   "id": "9ca61d65",
   "metadata": {},
   "source": [
    "In this post, we look at AutoPyTorch, a framework for automated machine learning."
   ]
  },
  {
   "cell_type": "code",
   "execution_count": 144,
   "id": "61b5dd25",
   "metadata": {},
   "outputs": [],
   "source": [
    "import os\n",
    "import tempfile as tmp\n",
    "import warnings\n",
    "import pandas as pd\n",
    "import numpy as np\n",
    "import matplotlib.pyplot as plt\n",
    "%config InlineBackend.figure_format = 'retina'\n",
    "\n",
    "import sklearn.datasets\n",
    "import sklearn.model_selection\n",
    "\n",
    "os.environ['JOBLIB_TEMP_FOLDER'] = tmp.gettempdir()\n",
    "os.environ['OMP_NUM_THREADS'] = '1'\n",
    "os.environ['OPENBLAS_NUM_THREADS'] = '1'\n",
    "os.environ['MKL_NUM_THREADS'] = '1'\n",
    "\n",
    "warnings.simplefilter(action='ignore', category=UserWarning)\n",
    "warnings.simplefilter(action='ignore', category=FutureWarning)\n"
   ]
  },
  {
   "cell_type": "code",
   "execution_count": 125,
   "id": "5063082a",
   "metadata": {},
   "outputs": [],
   "source": [
    "from autoPyTorch.api.tabular_regression import TabularRegressionTask"
   ]
  },
  {
   "cell_type": "code",
   "execution_count": 174,
   "id": "ef5d9eea",
   "metadata": {},
   "outputs": [],
   "source": [
    "X, y = sklearn.datasets.load_diabetes(return_X_y=True, as_frame=True)\n",
    "X_train, X_test, y_train, y_test = sklearn.model_selection.train_test_split(\n",
    "    X,\n",
    "    y,\n",
    "    random_state=1,\n",
    ")\n",
    "\n",
    "# Obtain training and validation data\n",
    "X_train, X_valid, y_train, y_valid = sklearn.model_selection.train_test_split(\n",
    "    X_train,\n",
    "    y_train,\n",
    "    random_state=1,\n",
    ")\n"
   ]
  },
  {
   "cell_type": "code",
   "execution_count": 127,
   "id": "79432f5f",
   "metadata": {},
   "outputs": [
    {
     "data": {
      "text/html": [
       "<div>\n",
       "<style scoped>\n",
       "    .dataframe tbody tr th:only-of-type {\n",
       "        vertical-align: middle;\n",
       "    }\n",
       "\n",
       "    .dataframe tbody tr th {\n",
       "        vertical-align: top;\n",
       "    }\n",
       "\n",
       "    .dataframe thead th {\n",
       "        text-align: right;\n",
       "    }\n",
       "</style>\n",
       "<table border=\"1\" class=\"dataframe\">\n",
       "  <thead>\n",
       "    <tr style=\"text-align: right;\">\n",
       "      <th></th>\n",
       "      <th>age</th>\n",
       "      <th>sex</th>\n",
       "      <th>bmi</th>\n",
       "      <th>bp</th>\n",
       "      <th>s1</th>\n",
       "      <th>s2</th>\n",
       "      <th>s3</th>\n",
       "      <th>s4</th>\n",
       "      <th>s5</th>\n",
       "      <th>s6</th>\n",
       "    </tr>\n",
       "  </thead>\n",
       "  <tbody>\n",
       "    <tr>\n",
       "      <th>52</th>\n",
       "      <td>-0.052738</td>\n",
       "      <td>-0.044642</td>\n",
       "      <td>-0.009439</td>\n",
       "      <td>-0.005671</td>\n",
       "      <td>0.039710</td>\n",
       "      <td>0.044719</td>\n",
       "      <td>0.026550</td>\n",
       "      <td>-0.002592</td>\n",
       "      <td>-0.018118</td>\n",
       "      <td>-0.013504</td>\n",
       "    </tr>\n",
       "    <tr>\n",
       "      <th>121</th>\n",
       "      <td>0.063504</td>\n",
       "      <td>-0.044642</td>\n",
       "      <td>0.017506</td>\n",
       "      <td>0.021872</td>\n",
       "      <td>0.008063</td>\n",
       "      <td>0.021546</td>\n",
       "      <td>-0.036038</td>\n",
       "      <td>0.034309</td>\n",
       "      <td>0.019908</td>\n",
       "      <td>0.011349</td>\n",
       "    </tr>\n",
       "    <tr>\n",
       "      <th>170</th>\n",
       "      <td>0.023546</td>\n",
       "      <td>0.050680</td>\n",
       "      <td>-0.020218</td>\n",
       "      <td>-0.036656</td>\n",
       "      <td>-0.013953</td>\n",
       "      <td>-0.015092</td>\n",
       "      <td>0.059685</td>\n",
       "      <td>-0.039493</td>\n",
       "      <td>-0.096433</td>\n",
       "      <td>-0.017646</td>\n",
       "    </tr>\n",
       "    <tr>\n",
       "      <th>287</th>\n",
       "      <td>0.045341</td>\n",
       "      <td>-0.044642</td>\n",
       "      <td>-0.006206</td>\n",
       "      <td>-0.015999</td>\n",
       "      <td>0.125019</td>\n",
       "      <td>0.125198</td>\n",
       "      <td>0.019187</td>\n",
       "      <td>0.034309</td>\n",
       "      <td>0.032433</td>\n",
       "      <td>-0.005220</td>\n",
       "    </tr>\n",
       "    <tr>\n",
       "      <th>397</th>\n",
       "      <td>0.052606</td>\n",
       "      <td>-0.044642</td>\n",
       "      <td>-0.004050</td>\n",
       "      <td>-0.030918</td>\n",
       "      <td>-0.046975</td>\n",
       "      <td>-0.058307</td>\n",
       "      <td>-0.013948</td>\n",
       "      <td>-0.025840</td>\n",
       "      <td>0.036056</td>\n",
       "      <td>0.023775</td>\n",
       "    </tr>\n",
       "  </tbody>\n",
       "</table>\n",
       "</div>"
      ],
      "text/plain": [
       "          age       sex       bmi        bp        s1        s2        s3  \\\n",
       "52  -0.052738 -0.044642 -0.009439 -0.005671  0.039710  0.044719  0.026550   \n",
       "121  0.063504 -0.044642  0.017506  0.021872  0.008063  0.021546 -0.036038   \n",
       "170  0.023546  0.050680 -0.020218 -0.036656 -0.013953 -0.015092  0.059685   \n",
       "287  0.045341 -0.044642 -0.006206 -0.015999  0.125019  0.125198  0.019187   \n",
       "397  0.052606 -0.044642 -0.004050 -0.030918 -0.046975 -0.058307 -0.013948   \n",
       "\n",
       "           s4        s5        s6  \n",
       "52  -0.002592 -0.018118 -0.013504  \n",
       "121  0.034309  0.019908  0.011349  \n",
       "170 -0.039493 -0.096433 -0.017646  \n",
       "287  0.034309  0.032433 -0.005220  \n",
       "397 -0.025840  0.036056  0.023775  "
      ]
     },
     "execution_count": 127,
     "metadata": {},
     "output_type": "execute_result"
    }
   ],
   "source": [
    "X_train.head()"
   ]
  },
  {
   "cell_type": "code",
   "execution_count": 128,
   "id": "1768946e",
   "metadata": {},
   "outputs": [
    {
     "data": {
      "text/plain": [
       "52      59.0\n",
       "121    173.0\n",
       "170     47.0\n",
       "287    219.0\n",
       "397    198.0\n",
       "Name: target, dtype: float64"
      ]
     },
     "execution_count": 128,
     "metadata": {},
     "output_type": "execute_result"
    }
   ],
   "source": [
    "y_train.head()"
   ]
  },
  {
   "cell_type": "code",
   "execution_count": 129,
   "id": "fac3da0a",
   "metadata": {},
   "outputs": [
    {
     "data": {
      "text/plain": [
       "62.77500577100372"
      ]
     },
     "execution_count": 129,
     "metadata": {},
     "output_type": "execute_result"
    }
   ],
   "source": [
    "from sklearn.ensemble import RandomForestRegressor\n",
    "from sklearn.metrics import mean_squared_error\n",
    "\n",
    "rf = RandomForestRegressor(random_state=1)\n",
    "rf.fit(X_train, y_train)\n",
    "y_pred_rf = rf.predict(X_test)\n",
    "np.sqrt(mean_squared_error(y_test, y_pred_rf))"
   ]
  },
  {
   "cell_type": "code",
   "execution_count": 130,
   "id": "394a8518",
   "metadata": {},
   "outputs": [
    {
     "data": {
      "text/html": [
       "<div>\n",
       "<style scoped>\n",
       "    .dataframe tbody tr th:only-of-type {\n",
       "        vertical-align: middle;\n",
       "    }\n",
       "\n",
       "    .dataframe tbody tr th {\n",
       "        vertical-align: top;\n",
       "    }\n",
       "\n",
       "    .dataframe thead th {\n",
       "        text-align: right;\n",
       "    }\n",
       "</style>\n",
       "<table border=\"1\" class=\"dataframe\">\n",
       "  <thead>\n",
       "    <tr style=\"text-align: right;\">\n",
       "      <th></th>\n",
       "      <th>rf</th>\n",
       "      <th>true</th>\n",
       "    </tr>\n",
       "  </thead>\n",
       "  <tbody>\n",
       "    <tr>\n",
       "      <th>246</th>\n",
       "      <td>140.76</td>\n",
       "      <td>78.0</td>\n",
       "    </tr>\n",
       "    <tr>\n",
       "      <th>425</th>\n",
       "      <td>109.89</td>\n",
       "      <td>152.0</td>\n",
       "    </tr>\n",
       "    <tr>\n",
       "      <th>293</th>\n",
       "      <td>161.93</td>\n",
       "      <td>200.0</td>\n",
       "    </tr>\n",
       "    <tr>\n",
       "      <th>31</th>\n",
       "      <td>70.81</td>\n",
       "      <td>59.0</td>\n",
       "    </tr>\n",
       "    <tr>\n",
       "      <th>359</th>\n",
       "      <td>150.91</td>\n",
       "      <td>311.0</td>\n",
       "    </tr>\n",
       "  </tbody>\n",
       "</table>\n",
       "</div>"
      ],
      "text/plain": [
       "         rf   true\n",
       "246  140.76   78.0\n",
       "425  109.89  152.0\n",
       "293  161.93  200.0\n",
       "31    70.81   59.0\n",
       "359  150.91  311.0"
      ]
     },
     "execution_count": 130,
     "metadata": {},
     "output_type": "execute_result"
    }
   ],
   "source": [
    "pred_df = pd.DataFrame({\"rf\": y_pred_rf, \"true\": y_test})\n",
    "pred_df.head()"
   ]
  },
  {
   "cell_type": "code",
   "execution_count": 131,
   "id": "670facf8",
   "metadata": {},
   "outputs": [
    {
     "data": {
      "text/plain": [
       "{'max_depth': 5, 'n_estimators': 100}"
      ]
     },
     "execution_count": 131,
     "metadata": {},
     "output_type": "execute_result"
    }
   ],
   "source": [
    "# Use validation dataset to find best hyperparameters for RF\n",
    "rf = RandomForestRegressor(random_state=1)\n",
    "hyperparameters = {\"n_estimators\": [10, 100, 1000], \"max_depth\": [1, 5, 10]}\n",
    "\n",
    "from sklearn.model_selection import GridSearchCV\n",
    "\n",
    "grid_search = GridSearchCV(rf, hyperparameters, cv=5, scoring=\"neg_root_mean_squared_error\")\n",
    "grid_search.fit(X_valid, y_valid)\n",
    "\n",
    "grid_search.best_params_\n",
    "\n"
   ]
  },
  {
   "cell_type": "code",
   "execution_count": 132,
   "id": "ac630448",
   "metadata": {},
   "outputs": [
    {
     "data": {
      "text/plain": [
       "61.69476644955032"
      ]
     },
     "execution_count": 132,
     "metadata": {},
     "output_type": "execute_result"
    }
   ],
   "source": [
    "# Train the RF model using the best hyperparameters on train + validation data\n",
    "\n",
    "rf = RandomForestRegressor(**grid_search.best_params_, random_state=1)\n",
    "# Combine train and validation data\n",
    "X_train_overall = pd.concat([X_train, X_valid])\n",
    "y_train_overall = pd.concat([y_train, y_valid])\n",
    "rf.fit(X_train_overall, y_train_overall)\n",
    "y_pred_rf = rf.predict(X_test)\n",
    "np.sqrt(mean_squared_error(y_test, y_pred_rf))"
   ]
  },
  {
   "cell_type": "code",
   "execution_count": 133,
   "id": "27a178f2",
   "metadata": {},
   "outputs": [
    {
     "name": "stderr",
     "output_type": "stream",
     "text": [
      "*** SIGTERM received at time=1677497304 ***\n",
      "PC: @        0x1850fb525  (unknown)  c10::function_ref<>::callback_fn<>()\n",
      "    @        0x19bd2a6a4  (unknown)  absl::lts_20211102::WriteFailureInfo()\n",
      "    @        0x19bd2a40b  (unknown)  absl::lts_20211102::AbslFailureSignalHandler()\n",
      "    @     0x7ff81b110c1d  (unknown)  _sigtramp\n",
      "    @     0x7fc8672c08e0  (unknown)  0x0\n",
      "    @        0x180d49487  (unknown)  at::TensorIteratorBase::serial_for_each()\n",
      "    @        0x1850f5f69  (unknown)  at::native::(anonymous namespace)::mul_kernel()\n",
      "    @        0x181ca9801  (unknown)  at::(anonymous namespace)::wrapper_mul__Tensor()\n",
      "    @        0x183a4bf3f  (unknown)  c10::impl::wrap_kernel_functor_unboxed_<>::call()\n",
      "    @        0x183102ce8  (unknown)  c10::impl::wrap_kernel_functor_unboxed_<>::call()\n",
      "    @        0x181670a79  (unknown)  at::_ops::mul__Tensor::call()\n",
      "    @        0x1762fd145  (unknown)  torch::autograd::THPVariable_mul_()\n",
      "    @        0x1030ddfe0  (unknown)  method_vectorcall_VARARGS_KEYWORDS\n",
      "    @        0x1031e78a8  (unknown)  _PyEval_EvalFrameDefault\n",
      "    @        0x1030cecab  (unknown)  _PyFunction_Vectorcall\n",
      "    @        0x1031e6daa  (unknown)  _PyEval_EvalFrameDefault\n",
      "    @        0x1030cecab  (unknown)  _PyFunction_Vectorcall\n",
      "    @        0x1031e6daa  (unknown)  _PyEval_EvalFrameDefault\n",
      "    @        0x1030cecab  (unknown)  _PyFunction_Vectorcall\n",
      "    @        0x1031e8e12  (unknown)  _PyEval_EvalFrameDefault\n",
      "    @        0x1030cecab  (unknown)  _PyFunction_Vectorcall\n",
      "    @        0x1031e8e12  (unknown)  _PyEval_EvalFrameDefault\n",
      "    @        0x1030cecab  (unknown)  _PyFunction_Vectorcall\n",
      "    @        0x1030d3d7f  (unknown)  method_vectorcall\n",
      "    @        0x1031e8e12  (unknown)  _PyEval_EvalFrameDefault\n",
      "    @        0x1030cecab  (unknown)  _PyFunction_Vectorcall\n",
      "    @        0x1031ea4b4  (unknown)  _PyEval_EvalFrameDefault\n",
      "    @        0x1030ce96a  (unknown)  _PyFunction_Vectorcall\n",
      "    @        0x1031e78a8  (unknown)  _PyEval_EvalFrameDefault\n",
      "    @        0x1030cecab  (unknown)  _PyFunction_Vectorcall\n",
      "    @        0x1030d3c3e  (unknown)  method_vectorcall\n",
      "    @        0x1031e6daa  (unknown)  _PyEval_EvalFrameDefault\n",
      "    @        0x1030cecab  (unknown)  _PyFunction_Vectorcall\n",
      "    @ ... and at least 29 more frames\n",
      "[2023-02-27 16:58:24,274 E 89167 4019541] logging.cc:361: *** SIGTERM received at time=1677497304 ***\n",
      "[2023-02-27 16:58:24,275 E 89167 4019541] logging.cc:361: PC: @        0x1850fb525  (unknown)  c10::function_ref<>::callback_fn<>()\n",
      "[2023-02-27 16:58:24,275 E 89167 4019541] logging.cc:361:     @        0x19bd2a6a4  (unknown)  absl::lts_20211102::WriteFailureInfo()\n",
      "[2023-02-27 16:58:24,275 E 89167 4019541] logging.cc:361:     @        0x19bd2a422  (unknown)  absl::lts_20211102::AbslFailureSignalHandler()\n",
      "[2023-02-27 16:58:24,275 E 89167 4019541] logging.cc:361:     @     0x7ff81b110c1d  (unknown)  _sigtramp\n",
      "[2023-02-27 16:58:24,275 E 89167 4019541] logging.cc:361:     @     0x7fc8672c08e0  (unknown)  0x0\n",
      "[2023-02-27 16:58:24,276 E 89167 4019541] logging.cc:361:     @        0x180d49487  (unknown)  at::TensorIteratorBase::serial_for_each()\n",
      "[2023-02-27 16:58:24,276 E 89167 4019541] logging.cc:361:     @        0x1850f5f69  (unknown)  at::native::(anonymous namespace)::mul_kernel()\n",
      "[2023-02-27 16:58:24,276 E 89167 4019541] logging.cc:361:     @        0x181ca9801  (unknown)  at::(anonymous namespace)::wrapper_mul__Tensor()\n",
      "[2023-02-27 16:58:24,276 E 89167 4019541] logging.cc:361:     @        0x183a4bf3f  (unknown)  c10::impl::wrap_kernel_functor_unboxed_<>::call()\n",
      "[2023-02-27 16:58:24,277 E 89167 4019541] logging.cc:361:     @        0x183102ce8  (unknown)  c10::impl::wrap_kernel_functor_unboxed_<>::call()\n",
      "[2023-02-27 16:58:24,277 E 89167 4019541] logging.cc:361:     @        0x181670a79  (unknown)  at::_ops::mul__Tensor::call()\n",
      "[2023-02-27 16:58:24,277 E 89167 4019541] logging.cc:361:     @        0x1762fd145  (unknown)  torch::autograd::THPVariable_mul_()\n",
      "[2023-02-27 16:58:24,277 E 89167 4019541] logging.cc:361:     @        0x1030ddfe0  (unknown)  method_vectorcall_VARARGS_KEYWORDS\n",
      "[2023-02-27 16:58:24,277 E 89167 4019541] logging.cc:361:     @        0x1031e78a8  (unknown)  _PyEval_EvalFrameDefault\n",
      "[2023-02-27 16:58:24,277 E 89167 4019541] logging.cc:361:     @        0x1030cecab  (unknown)  _PyFunction_Vectorcall\n",
      "[2023-02-27 16:58:24,277 E 89167 4019541] logging.cc:361:     @        0x1031e6daa  (unknown)  _PyEval_EvalFrameDefault\n",
      "[2023-02-27 16:58:24,277 E 89167 4019541] logging.cc:361:     @        0x1030cecab  (unknown)  _PyFunction_Vectorcall\n",
      "[2023-02-27 16:58:24,277 E 89167 4019541] logging.cc:361:     @        0x1031e6daa  (unknown)  _PyEval_EvalFrameDefault\n",
      "[2023-02-27 16:58:24,277 E 89167 4019541] logging.cc:361:     @        0x1030cecab  (unknown)  _PyFunction_Vectorcall\n",
      "[2023-02-27 16:58:24,277 E 89167 4019541] logging.cc:361:     @        0x1031e8e12  (unknown)  _PyEval_EvalFrameDefault\n",
      "[2023-02-27 16:58:24,277 E 89167 4019541] logging.cc:361:     @        0x1030cecab  (unknown)  _PyFunction_Vectorcall\n",
      "[2023-02-27 16:58:24,277 E 89167 4019541] logging.cc:361:     @        0x1031e8e12  (unknown)  _PyEval_EvalFrameDefault\n",
      "[2023-02-27 16:58:24,277 E 89167 4019541] logging.cc:361:     @        0x1030cecab  (unknown)  _PyFunction_Vectorcall\n",
      "[2023-02-27 16:58:24,277 E 89167 4019541] logging.cc:361:     @        0x1030d3d7f  (unknown)  method_vectorcall\n",
      "[2023-02-27 16:58:24,277 E 89167 4019541] logging.cc:361:     @        0x1031e8e12  (unknown)  _PyEval_EvalFrameDefault\n",
      "[2023-02-27 16:58:24,277 E 89167 4019541] logging.cc:361:     @        0x1030cecab  (unknown)  _PyFunction_Vectorcall\n",
      "[2023-02-27 16:58:24,277 E 89167 4019541] logging.cc:361:     @        0x1031ea4b4  (unknown)  _PyEval_EvalFrameDefault\n",
      "[2023-02-27 16:58:24,277 E 89167 4019541] logging.cc:361:     @        0x1030ce96a  (unknown)  _PyFunction_Vectorcall\n",
      "[2023-02-27 16:58:24,277 E 89167 4019541] logging.cc:361:     @        0x1031e78a8  (unknown)  _PyEval_EvalFrameDefault\n",
      "[2023-02-27 16:58:24,277 E 89167 4019541] logging.cc:361:     @        0x1030cecab  (unknown)  _PyFunction_Vectorcall\n",
      "[2023-02-27 16:58:24,277 E 89167 4019541] logging.cc:361:     @        0x1030d3c3e  (unknown)  method_vectorcall\n",
      "[2023-02-27 16:58:24,277 E 89167 4019541] logging.cc:361:     @        0x1031e6daa  (unknown)  _PyEval_EvalFrameDefault\n",
      "[2023-02-27 16:58:24,277 E 89167 4019541] logging.cc:361:     @        0x1030cecab  (unknown)  _PyFunction_Vectorcall\n",
      "[2023-02-27 16:58:24,277 E 89167 4019541] logging.cc:361:     @ ... and at least 29 more frames\n",
      "*** SIGTERM received at time=1677497339 ***\n",
      "PC: @        0x103148a07  (unknown)  tuple_iter\n",
      "    @        0x19bd2a6a4  (unknown)  absl::lts_20211102::WriteFailureInfo()\n",
      "    @        0x19bd2a40b  (unknown)  absl::lts_20211102::AbslFailureSignalHandler()\n",
      "    @     0x7ff81b110c1d  (unknown)  _sigtramp\n",
      "    @        0x1033792c9  (unknown)  python3.9\n",
      "    @        0x1030ae5ff  (unknown)  PyObject_GetIter\n",
      "    @        0x1031e21c3  (unknown)  _PyEval_EvalFrameDefault\n",
      "    @        0x1030cecab  (unknown)  _PyFunction_Vectorcall\n",
      "    @        0x1030ce4ba  (unknown)  PyObject_Call\n",
      "    @        0x1032b1763  (unknown)  partial_call\n",
      "    @        0x1030cd0e1  (unknown)  _PyObject_MakeTpCall\n",
      "    @        0x1031e6ded  (unknown)  _PyEval_EvalFrameDefault\n",
      "    @        0x1030cecab  (unknown)  _PyFunction_Vectorcall\n",
      "    @        0x1031e6ded  (unknown)  _PyEval_EvalFrameDefault\n",
      "    @        0x1030e71fd  (unknown)  gen_iternext\n",
      "    @        0x1032c1e75  (unknown)  islice_next\n",
      "    @        0x1030f738d  (unknown)  list_extend\n",
      "    @        0x1030f6e26  (unknown)  list_vectorcall\n",
      "    @        0x1031e6ded  (unknown)  _PyEval_EvalFrameDefault\n",
      "    @        0x1030ce96a  (unknown)  _PyFunction_Vectorcall\n",
      "    @        0x1031e78a8  (unknown)  _PyEval_EvalFrameDefault\n",
      "    @        0x1030cecab  (unknown)  _PyFunction_Vectorcall\n",
      "    @        0x1030d0c9c  (unknown)  _PyObject_Call_Prepend\n",
      "    @        0x103154812  (unknown)  slot_tp_call\n",
      "    @        0x1031eaeac  (unknown)  _PyEval_EvalFrameDefault\n",
      "    @        0x1030ce96a  (unknown)  _PyFunction_Vectorcall\n",
      "    @        0x1030dcdea  (unknown)  property_descr_get\n",
      "    @        0x103132b9d  (unknown)  _PyObject_LookupAttr\n",
      "    @        0x1031d8881  (unknown)  builtin_hasattr\n",
      "    @        0x10312bf57  (unknown)  cfunction_vectorcall_FASTCALL\n",
      "    @        0x1031e6ded  (unknown)  _PyEval_EvalFrameDefault\n",
      "    @        0x1030cecab  (unknown)  _PyFunction_Vectorcall\n",
      "    @        0x1031e6daa  (unknown)  _PyEval_EvalFrameDefault\n",
      "    @ ... and at least 29 more frames\n",
      "[2023-02-27 16:58:59,945 E 89197 4019541] logging.cc:361: *** SIGTERM received at time=1677497339 ***\n",
      "[2023-02-27 16:58:59,945 E 89197 4019541] logging.cc:361: PC: @        0x103148a07  (unknown)  tuple_iter\n",
      "[2023-02-27 16:58:59,946 E 89197 4019541] logging.cc:361:     @        0x19bd2a6a4  (unknown)  absl::lts_20211102::WriteFailureInfo()\n",
      "[2023-02-27 16:58:59,946 E 89197 4019541] logging.cc:361:     @        0x19bd2a422  (unknown)  absl::lts_20211102::AbslFailureSignalHandler()\n",
      "[2023-02-27 16:58:59,946 E 89197 4019541] logging.cc:361:     @     0x7ff81b110c1d  (unknown)  _sigtramp\n",
      "[2023-02-27 16:58:59,946 E 89197 4019541] logging.cc:361:     @        0x1033792c9  (unknown)  python3.9\n",
      "[2023-02-27 16:58:59,946 E 89197 4019541] logging.cc:361:     @        0x1030ae5ff  (unknown)  PyObject_GetIter\n",
      "[2023-02-27 16:58:59,946 E 89197 4019541] logging.cc:361:     @        0x1031e21c3  (unknown)  _PyEval_EvalFrameDefault\n",
      "[2023-02-27 16:58:59,946 E 89197 4019541] logging.cc:361:     @        0x1030cecab  (unknown)  _PyFunction_Vectorcall\n",
      "[2023-02-27 16:58:59,946 E 89197 4019541] logging.cc:361:     @        0x1030ce4ba  (unknown)  PyObject_Call\n",
      "[2023-02-27 16:58:59,946 E 89197 4019541] logging.cc:361:     @        0x1032b1763  (unknown)  partial_call\n",
      "[2023-02-27 16:58:59,946 E 89197 4019541] logging.cc:361:     @        0x1030cd0e1  (unknown)  _PyObject_MakeTpCall\n",
      "[2023-02-27 16:58:59,946 E 89197 4019541] logging.cc:361:     @        0x1031e6ded  (unknown)  _PyEval_EvalFrameDefault\n",
      "[2023-02-27 16:58:59,946 E 89197 4019541] logging.cc:361:     @        0x1030cecab  (unknown)  _PyFunction_Vectorcall\n",
      "[2023-02-27 16:58:59,946 E 89197 4019541] logging.cc:361:     @        0x1031e6ded  (unknown)  _PyEval_EvalFrameDefault\n",
      "[2023-02-27 16:58:59,946 E 89197 4019541] logging.cc:361:     @        0x1030e71fd  (unknown)  gen_iternext\n",
      "[2023-02-27 16:58:59,946 E 89197 4019541] logging.cc:361:     @        0x1032c1e75  (unknown)  islice_next\n",
      "[2023-02-27 16:58:59,946 E 89197 4019541] logging.cc:361:     @        0x1030f738d  (unknown)  list_extend\n",
      "[2023-02-27 16:58:59,946 E 89197 4019541] logging.cc:361:     @        0x1030f6e26  (unknown)  list_vectorcall\n",
      "[2023-02-27 16:58:59,946 E 89197 4019541] logging.cc:361:     @        0x1031e6ded  (unknown)  _PyEval_EvalFrameDefault\n",
      "[2023-02-27 16:58:59,946 E 89197 4019541] logging.cc:361:     @        0x1030ce96a  (unknown)  _PyFunction_Vectorcall\n",
      "[2023-02-27 16:58:59,946 E 89197 4019541] logging.cc:361:     @        0x1031e78a8  (unknown)  _PyEval_EvalFrameDefault\n",
      "[2023-02-27 16:58:59,946 E 89197 4019541] logging.cc:361:     @        0x1030cecab  (unknown)  _PyFunction_Vectorcall\n",
      "[2023-02-27 16:58:59,946 E 89197 4019541] logging.cc:361:     @        0x1030d0c9c  (unknown)  _PyObject_Call_Prepend\n",
      "[2023-02-27 16:58:59,946 E 89197 4019541] logging.cc:361:     @        0x103154812  (unknown)  slot_tp_call\n",
      "[2023-02-27 16:58:59,946 E 89197 4019541] logging.cc:361:     @        0x1031eaeac  (unknown)  _PyEval_EvalFrameDefault\n",
      "[2023-02-27 16:58:59,946 E 89197 4019541] logging.cc:361:     @        0x1030ce96a  (unknown)  _PyFunction_Vectorcall\n",
      "[2023-02-27 16:58:59,946 E 89197 4019541] logging.cc:361:     @        0x1030dcdea  (unknown)  property_descr_get\n",
      "[2023-02-27 16:58:59,946 E 89197 4019541] logging.cc:361:     @        0x103132b9d  (unknown)  _PyObject_LookupAttr\n",
      "[2023-02-27 16:58:59,946 E 89197 4019541] logging.cc:361:     @        0x1031d8881  (unknown)  builtin_hasattr\n",
      "[2023-02-27 16:58:59,946 E 89197 4019541] logging.cc:361:     @        0x10312bf57  (unknown)  cfunction_vectorcall_FASTCALL\n",
      "[2023-02-27 16:58:59,946 E 89197 4019541] logging.cc:361:     @        0x1031e6ded  (unknown)  _PyEval_EvalFrameDefault\n",
      "[2023-02-27 16:58:59,946 E 89197 4019541] logging.cc:361:     @        0x1030cecab  (unknown)  _PyFunction_Vectorcall\n",
      "[2023-02-27 16:58:59,946 E 89197 4019541] logging.cc:361:     @        0x1031e6daa  (unknown)  _PyEval_EvalFrameDefault\n",
      "[2023-02-27 16:58:59,946 E 89197 4019541] logging.cc:361:     @ ... and at least 29 more frames\n",
      "*** SIGTERM received at time=1677497363 ***\n"
     ]
    },
    {
     "data": {
      "text/plain": [
       "<autoPyTorch.api.tabular_regression.TabularRegressionTask at 0x199534f70>"
      ]
     },
     "execution_count": 133,
     "metadata": {},
     "output_type": "execute_result"
    },
    {
     "name": "stderr",
     "output_type": "stream",
     "text": [
      "PC: @     0x7ff81b0aa11a  (unknown)  __psynch_cvwait\n",
      "    @        0x19bd2a6a4  (unknown)  absl::lts_20211102::WriteFailureInfo()\n",
      "    @        0x19bd2a40b  (unknown)  absl::lts_20211102::AbslFailureSignalHandler()\n",
      "    @     0x7ff81b110c1d  (unknown)  _sigtramp\n",
      "    @        0x1995c5b28  (unknown)  0x0\n",
      "    @        0x10326a78d  (unknown)  PyThread_acquire_lock_timed\n",
      "    @        0x1032cd380  (unknown)  acquire_timed\n",
      "    @        0x1032cd50d  (unknown)  lock_PyThread_acquire_lock\n",
      "    @        0x1030ddfe0  (unknown)  method_vectorcall_VARARGS_KEYWORDS\n",
      "    @        0x1031e78a8  (unknown)  _PyEval_EvalFrameDefault\n",
      "    @        0x1030ce96a  (unknown)  _PyFunction_Vectorcall\n",
      "    @        0x1031ea4b4  (unknown)  _PyEval_EvalFrameDefault\n",
      "    @        0x1030cecab  (unknown)  _PyFunction_Vectorcall\n",
      "    @        0x1030d3c3e  (unknown)  method_vectorcall\n",
      "    @        0x1031e6daa  (unknown)  _PyEval_EvalFrameDefault\n",
      "    @        0x1030ce96a  (unknown)  _PyFunction_Vectorcall\n",
      "    @        0x1031e78a8  (unknown)  _PyEval_EvalFrameDefault\n",
      "    @        0x1030ce96a  (unknown)  _PyFunction_Vectorcall\n",
      "    @        0x103156e3a  (unknown)  slot_tp_init\n",
      "    @        0x10315c620  (unknown)  type_call\n",
      "    @        0x1031eaeac  (unknown)  _PyEval_EvalFrameDefault\n",
      "    @        0x1030ce96a  (unknown)  _PyFunction_Vectorcall\n",
      "    @        0x1031ea4b4  (unknown)  _PyEval_EvalFrameDefault\n",
      "    @        0x1030ce96a  (unknown)  _PyFunction_Vectorcall\n",
      "    @        0x1031e78a8  (unknown)  _PyEval_EvalFrameDefault\n",
      "    @        0x1030ce96a  (unknown)  _PyFunction_Vectorcall\n",
      "    @        0x1031e78a8  (unknown)  _PyEval_EvalFrameDefault\n",
      "    @        0x1030cecab  (unknown)  _PyFunction_Vectorcall\n",
      "    @        0x1030d3c3e  (unknown)  method_vectorcall\n",
      "    @        0x1031e6daa  (unknown)  _PyEval_EvalFrameDefault\n",
      "    @        0x1030cecab  (unknown)  _PyFunction_Vectorcall\n",
      "    @        0x1030d3c3e  (unknown)  method_vectorcall\n",
      "    @        0x1031e6daa  (unknown)  _PyEval_EvalFrameDefault\n",
      "    @ ... and at least 29 more frames\n",
      "[2023-02-27 16:59:23,920 E 89150 4019541] logging.cc:361: *** SIGTERM received at time=1677497363 ***\n",
      "[2023-02-27 16:59:23,920 E 89150 4019541] logging.cc:361: PC: @     0x7ff81b0aa11a  (unknown)  __psynch_cvwait\n",
      "[2023-02-27 16:59:23,920 E 89150 4019541] logging.cc:361:     @        0x19bd2a6a4  (unknown)  absl::lts_20211102::WriteFailureInfo()\n",
      "[2023-02-27 16:59:23,920 E 89150 4019541] logging.cc:361:     @        0x19bd2a422  (unknown)  absl::lts_20211102::AbslFailureSignalHandler()\n",
      "[2023-02-27 16:59:23,921 E 89150 4019541] logging.cc:361:     @     0x7ff81b110c1d  (unknown)  _sigtramp\n",
      "[2023-02-27 16:59:23,921 E 89150 4019541] logging.cc:361:     @        0x1995c5b28  (unknown)  0x0\n",
      "[2023-02-27 16:59:23,921 E 89150 4019541] logging.cc:361:     @        0x10326a78d  (unknown)  PyThread_acquire_lock_timed\n",
      "[2023-02-27 16:59:23,921 E 89150 4019541] logging.cc:361:     @        0x1032cd380  (unknown)  acquire_timed\n",
      "[2023-02-27 16:59:23,921 E 89150 4019541] logging.cc:361:     @        0x1032cd50d  (unknown)  lock_PyThread_acquire_lock\n",
      "[2023-02-27 16:59:23,921 E 89150 4019541] logging.cc:361:     @        0x1030ddfe0  (unknown)  method_vectorcall_VARARGS_KEYWORDS\n",
      "[2023-02-27 16:59:23,921 E 89150 4019541] logging.cc:361:     @        0x1031e78a8  (unknown)  _PyEval_EvalFrameDefault\n",
      "[2023-02-27 16:59:23,921 E 89150 4019541] logging.cc:361:     @        0x1030ce96a  (unknown)  _PyFunction_Vectorcall\n",
      "[2023-02-27 16:59:23,921 E 89150 4019541] logging.cc:361:     @        0x1031ea4b4  (unknown)  _PyEval_EvalFrameDefault\n",
      "[2023-02-27 16:59:23,921 E 89150 4019541] logging.cc:361:     @        0x1030cecab  (unknown)  _PyFunction_Vectorcall\n",
      "[2023-02-27 16:59:23,921 E 89150 4019541] logging.cc:361:     @        0x1030d3c3e  (unknown)  method_vectorcall\n",
      "[2023-02-27 16:59:23,921 E 89150 4019541] logging.cc:361:     @        0x1031e6daa  (unknown)  _PyEval_EvalFrameDefault\n",
      "[2023-02-27 16:59:23,921 E 89150 4019541] logging.cc:361:     @        0x1030ce96a  (unknown)  _PyFunction_Vectorcall\n",
      "[2023-02-27 16:59:23,921 E 89150 4019541] logging.cc:361:     @        0x1031e78a8  (unknown)  _PyEval_EvalFrameDefault\n",
      "[2023-02-27 16:59:23,921 E 89150 4019541] logging.cc:361:     @        0x1030ce96a  (unknown)  _PyFunction_Vectorcall\n",
      "[2023-02-27 16:59:23,921 E 89150 4019541] logging.cc:361:     @        0x103156e3a  (unknown)  slot_tp_init\n",
      "[2023-02-27 16:59:23,921 E 89150 4019541] logging.cc:361:     @        0x10315c620  (unknown)  type_call\n",
      "[2023-02-27 16:59:23,921 E 89150 4019541] logging.cc:361:     @        0x1031eaeac  (unknown)  _PyEval_EvalFrameDefault\n",
      "[2023-02-27 16:59:23,921 E 89150 4019541] logging.cc:361:     @        0x1030ce96a  (unknown)  _PyFunction_Vectorcall\n",
      "[2023-02-27 16:59:23,921 E 89150 4019541] logging.cc:361:     @        0x1031ea4b4  (unknown)  _PyEval_EvalFrameDefault\n",
      "[2023-02-27 16:59:23,921 E 89150 4019541] logging.cc:361:     @        0x1030ce96a  (unknown)  _PyFunction_Vectorcall\n",
      "[2023-02-27 16:59:23,921 E 89150 4019541] logging.cc:361:     @        0x1031e78a8  (unknown)  _PyEval_EvalFrameDefault\n",
      "[2023-02-27 16:59:23,921 E 89150 4019541] logging.cc:361:     @        0x1030ce96a  (unknown)  _PyFunction_Vectorcall\n",
      "[2023-02-27 16:59:23,921 E 89150 4019541] logging.cc:361:     @        0x1031e78a8  (unknown)  _PyEval_EvalFrameDefault\n",
      "[2023-02-27 16:59:23,921 E 89150 4019541] logging.cc:361:     @        0x1030cecab  (unknown)  _PyFunction_Vectorcall\n",
      "[2023-02-27 16:59:23,921 E 89150 4019541] logging.cc:361:     @        0x1030d3c3e  (unknown)  method_vectorcall\n",
      "[2023-02-27 16:59:23,921 E 89150 4019541] logging.cc:361:     @        0x1031e6daa  (unknown)  _PyEval_EvalFrameDefault\n",
      "[2023-02-27 16:59:23,921 E 89150 4019541] logging.cc:361:     @        0x1030cecab  (unknown)  _PyFunction_Vectorcall\n",
      "[2023-02-27 16:59:23,921 E 89150 4019541] logging.cc:361:     @        0x1030d3c3e  (unknown)  method_vectorcall\n",
      "[2023-02-27 16:59:23,921 E 89150 4019541] logging.cc:361:     @        0x1031e6daa  (unknown)  _PyEval_EvalFrameDefault\n",
      "[2023-02-27 16:59:23,921 E 89150 4019541] logging.cc:361:     @ ... and at least 29 more frames\n"
     ]
    }
   ],
   "source": [
    "api = TabularRegressionTask()\n",
    "\n",
    "# Do an api search without any memory limit but use only MLPs\n",
    "\n",
    "api.search(\n",
    "    X_train=X_train_overall,\n",
    "    y_train=y_train_overall,\n",
    "    X_test=X_test.copy(),\n",
    "    y_test=y_test.copy(),\n",
    "    optimize_metric='r2',\n",
    "    total_walltime_limit=80,\n",
    "    func_eval_time_limit_secs=10,\n",
    "    dataset_name=\"Diabetes\",\n",
    "    memory_limit=None,\n",
    "    enable_traditional_pipeline=True,\n",
    "    )"
   ]
  },
  {
   "cell_type": "code",
   "execution_count": 134,
   "id": "beaea446",
   "metadata": {},
   "outputs": [
    {
     "name": "stdout",
     "output_type": "stream",
     "text": [
      "{'r2': 0.3195282683852355}\n"
     ]
    },
    {
     "data": {
      "text/plain": [
       "59.60580312650306"
      ]
     },
     "execution_count": 134,
     "metadata": {},
     "output_type": "execute_result"
    }
   ],
   "source": [
    "y_pred = api.predict(X_test)\n",
    "score = api.score(y_pred, y_test)\n",
    "print(score)\n",
    "np.sqrt(mean_squared_error(y_test, y_pred))"
   ]
  },
  {
   "cell_type": "code",
   "execution_count": 14,
   "id": "3a5a8e31",
   "metadata": {},
   "outputs": [
    {
     "name": "stdout",
     "output_type": "stream",
     "text": [
      "autoPyTorch results:\n",
      "\tDataset name: Diabetes\n",
      "\tOptimisation Metric: r2\n",
      "\tBest validation score: 0.4352600925944532\n",
      "\tNumber of target algorithm runs: 18\n",
      "\tNumber of successful target algorithm runs: 14\n",
      "\tNumber of crashed target algorithm runs: 2\n",
      "\tNumber of target algorithms that exceeded the time limit: 2\n",
      "\tNumber of target algorithms that exceeded the memory limit: 0\n",
      "\n"
     ]
    }
   ],
   "source": [
    "# Print statistics from search\n",
    "print(api.sprint_statistics())"
   ]
  },
  {
   "cell_type": "code",
   "execution_count": 15,
   "id": "de8ffab7",
   "metadata": {},
   "outputs": [
    {
     "data": {
      "text/plain": [
       "(0.6000000000000001,\n",
       " MyTraditionalTabularRegressionPipeline(config='random_forest',\n",
       "                                        dataset_properties={'categorical_columns': [],\n",
       "                                                            'categories': [],\n",
       "                                                            'input_shape': (10,),\n",
       "                                                            'is_small_preprocess': True,\n",
       "                                                            'issigned': True,\n",
       "                                                            'issparse': False,\n",
       "                                                            'numerical_columns': [0,\n",
       "                                                                                  1,\n",
       "                                                                                  2,\n",
       "                                                                                  3,\n",
       "                                                                                  4,\n",
       "                                                                                  5,\n",
       "                                                                                  6,\n",
       "                                                                                  7,\n",
       "                                                                                  8,\n",
       "                                                                                  9],\n",
       "                                                            'output_shape': 1,\n",
       "                                                            'output_type': 'continuous',\n",
       "                                                            'target_type': 'tabular_regression',\n",
       "                                                            'task_type': 'tabular_regression'},\n",
       "                                        init_params={'instance': None},\n",
       "                                        random_state=RandomState(MT19937) at 0x196A03240))"
      ]
     },
     "execution_count": 15,
     "metadata": {},
     "output_type": "execute_result"
    }
   ],
   "source": [
    "api.get_models_with_weights()[0]"
   ]
  },
  {
   "cell_type": "code",
   "execution_count": 16,
   "id": "13455e7f",
   "metadata": {},
   "outputs": [
    {
     "data": {
      "text/plain": [
       "(0.16000000000000003,\n",
       " MyTraditionalTabularRegressionPipeline(config='svm',\n",
       "                                        dataset_properties={'categorical_columns': [],\n",
       "                                                            'categories': [],\n",
       "                                                            'input_shape': (10,),\n",
       "                                                            'is_small_preprocess': True,\n",
       "                                                            'issigned': True,\n",
       "                                                            'issparse': False,\n",
       "                                                            'numerical_columns': [0,\n",
       "                                                                                  1,\n",
       "                                                                                  2,\n",
       "                                                                                  3,\n",
       "                                                                                  4,\n",
       "                                                                                  5,\n",
       "                                                                                  6,\n",
       "                                                                                  7,\n",
       "                                                                                  8,\n",
       "                                                                                  9],\n",
       "                                                            'output_shape': 1,\n",
       "                                                            'output_type': 'continuous',\n",
       "                                                            'target_type': 'tabular_regression',\n",
       "                                                            'task_type': 'tabular_regression'},\n",
       "                                        init_params={'instance': None},\n",
       "                                        random_state=RandomState(MT19937) at 0x196980840))"
      ]
     },
     "execution_count": 16,
     "metadata": {},
     "output_type": "execute_result"
    }
   ],
   "source": [
    "api.get_models_with_weights()[1]"
   ]
  },
  {
   "cell_type": "code",
   "execution_count": 17,
   "id": "e8a28ec2",
   "metadata": {},
   "outputs": [
    {
     "data": {
      "text/plain": [
       "(0.12000000000000001,\n",
       " ________________________________________\n",
       " \tTabularRegressionPipeline\n",
       " ________________________________________\n",
       " 0-) imputer: \n",
       " \tSimpleImputer\n",
       " \n",
       " 1-) variance_threshold: \n",
       " \tVarianceThreshold\n",
       " \n",
       " 2-) coalescer: \n",
       " \tNoCoalescer\n",
       " \n",
       " 3-) encoder: \n",
       " \tNoEncoder\n",
       " \n",
       " 4-) scaler: \n",
       " \tStandardScaler\n",
       " \n",
       " 5-) feature_preprocessor: \n",
       " \tNoFeaturePreprocessor\n",
       " \n",
       " 6-) tabular_transformer: \n",
       " \tTabularColumnTransformer\n",
       " \n",
       " 7-) preprocessing: \n",
       " \tEarlyPreprocessing\n",
       " \n",
       " 8-) network_embedding: \n",
       " \tautoPyTorch.pipeline NoEmbedding\n",
       " \n",
       " 9-) network_backbone: \n",
       " \tautoPyTorch.pipeline ShapedMLPBackbone\n",
       " \n",
       " 10-) network_head: \n",
       " \tautoPyTorch.pipeline FullyConnectedHead\n",
       " \n",
       " 11-) network: \n",
       " \tSequential ({'random_state': RandomState(MT19937) at 0x19708F440, '_fit_requirements': [FitRequirement(name='network_head', supported_types=(<class 'torch.nn.modules.module.Module'>,), user_defined=False, dataset_property=False), FitRequirement(name='network_backbone', supported_types=(<class 'torch.nn.modules.module.Module'>,), user_defined=False, dataset_property=False), FitRequirement(name='network_embedding', supported_types=(<class 'torch.nn.modules.module.Module'>,), user_defined=False, dataset_property=False)], '_cs_updates': {}, 'device': device(type='cpu'), 'network': Sequential(\n",
       "   (0): _NoEmbedding()\n",
       "   (1): Sequential(\n",
       "     (0): Linear(in_features=10, out_features=200, bias=True)\n",
       "     (1): BatchNorm1d(200, eps=1e-05, momentum=0.1, affine=True, track_running_stats=True)\n",
       "     (2): ReLU()\n",
       "     (3): Linear(in_features=200, out_features=200, bias=True)\n",
       "     (4): BatchNorm1d(200, eps=1e-05, momentum=0.1, affine=True, track_running_stats=True)\n",
       "     (5): ReLU()\n",
       "     (6): Linear(in_features=200, out_features=200, bias=True)\n",
       "     (7): BatchNorm1d(200, eps=1e-05, momentum=0.1, affine=True, track_running_stats=True)\n",
       "     (8): ReLU()\n",
       "     (9): Linear(in_features=200, out_features=200, bias=True)\n",
       "     (10): BatchNorm1d(200, eps=1e-05, momentum=0.1, affine=True, track_running_stats=True)\n",
       "     (11): ReLU()\n",
       "     (12): Linear(in_features=200, out_features=200, bias=True)\n",
       "   )\n",
       "   (2): Sequential(\n",
       "     (0): Flatten(start_dim=1, end_dim=-1)\n",
       "     (1): Linear(in_features=200, out_features=128, bias=True)\n",
       "     (2): ReLU()\n",
       "     (3): Linear(in_features=128, out_features=1, bias=True)\n",
       "   )\n",
       " ), 'final_activation': None, 'is_fitted_': True})\n",
       " \n",
       " 12-) network_init: \n",
       " \tXavierInit\n",
       " \n",
       " 13-) optimizer: \n",
       " \tAdam ({'random_state': RandomState(MT19937) at 0x19708F440, '_fit_requirements': [FitRequirement(name='network', supported_types=(<class 'torch.nn.modules.module.Module'>,), user_defined=False, dataset_property=False)], '_cs_updates': {}, 'optimizer': Adam (\n",
       " Parameter Group 0\n",
       "     amsgrad: False\n",
       "     betas: (0.9, 0.9)\n",
       "     capturable: False\n",
       "     eps: 1e-08\n",
       "     foreach: None\n",
       "     lr: 0.01\n",
       "     maximize: False\n",
       "     weight_decay: 0.0\n",
       " ), 'lr': 0.01, 'beta1': 0.9, 'beta2': 0.9, 'weight_decay': 0.0})\n",
       " \n",
       " 14-) lr_scheduler: \n",
       " \tReduceLROnPlateau\n",
       " \n",
       " 15-) data_loader: \n",
       " \tDataLoader\n",
       " \n",
       " 16-) trainer: \n",
       " \tautoPyTorch.pipeline Standard Trainer\n",
       " \n",
       " ________________________________________)"
      ]
     },
     "execution_count": 17,
     "metadata": {},
     "output_type": "execute_result"
    }
   ],
   "source": [
    "api.get_models_with_weights()[2]"
   ]
  },
  {
   "cell_type": "markdown",
   "id": "8669230a",
   "metadata": {},
   "source": [
    "What if we fit only NNs?"
   ]
  },
  {
   "cell_type": "code",
   "execution_count": 18,
   "id": "9830034c",
   "metadata": {},
   "outputs": [
    {
     "name": "stdout",
     "output_type": "stream",
     "text": [
      "[WARNING] [2023-02-27 15:46:02,125:Client-autoPyTorch.automl_common.common.utils.backend] Directory /var/folders/1x/wmgn24mn1bbd2vgbqlk98tbc0000gn/T/autoPyTorch_tmp_a7a1276c-b687-11ed-9799-3c7d0a00e5d9/.autoPyTorch/ensembles does not exist\n",
      "[ERROR] [2023-02-27 15:46:02,126:Client-AutoPyTorch:Diabetes:2] No valid ensemble was created. Please check the logfile for errors. Default to the best individual estimator:[(2, 2, 5.555555555555555)]\n",
      "NoneType: None\n"
     ]
    },
    {
     "data": {
      "text/plain": [
       "<autoPyTorch.api.tabular_regression.TabularRegressionTask at 0x19706c1f0>"
      ]
     },
     "execution_count": 18,
     "metadata": {},
     "output_type": "execute_result"
    }
   ],
   "source": [
    "api2 = TabularRegressionTask(seed=2, ensemble_size=0)\n",
    "\n",
    "api2.search(\n",
    "    X_train=X_train,\n",
    "    y_train=y_train,\n",
    "    X_test=X_test.copy(),\n",
    "    y_test=y_test.copy(),\n",
    "    optimize_metric='r2',\n",
    "    total_walltime_limit=40,\n",
    "    func_eval_time_limit_secs=10,\n",
    "    dataset_name=\"Diabetes\",\n",
    "    memory_limit=None,\n",
    "    enable_traditional_pipeline=False,\n",
    "    )\n"
   ]
  },
  {
   "cell_type": "code",
   "execution_count": 19,
   "id": "6ca70344",
   "metadata": {},
   "outputs": [
    {
     "data": {
      "text/plain": [
       "{'r2': -0.37656772470491995}"
      ]
     },
     "execution_count": 19,
     "metadata": {},
     "output_type": "execute_result"
    }
   ],
   "source": [
    "y_pred2 = api2.predict(X_test)\n",
    "score2 = api2.score(y_pred2, y_test)\n",
    "score2"
   ]
  },
  {
   "cell_type": "code",
   "execution_count": 20,
   "id": "44a5fe8a",
   "metadata": {},
   "outputs": [
    {
     "data": {
      "text/plain": [
       "84.77782906691597"
      ]
     },
     "execution_count": 20,
     "metadata": {},
     "output_type": "execute_result"
    }
   ],
   "source": [
    "np.sqrt(mean_squared_error(y_test, y_pred2))"
   ]
  },
  {
   "attachments": {},
   "cell_type": "markdown",
   "id": "3f2704e0",
   "metadata": {},
   "source": [
    "Okay, it seems we are worse than the random forest. Let's see what happened."
   ]
  },
  {
   "cell_type": "code",
   "execution_count": 21,
   "id": "2f00b22b",
   "metadata": {},
   "outputs": [
    {
     "data": {
      "text/plain": [
       "(1.0,\n",
       " ________________________________________\n",
       " \tTabularRegressionPipeline\n",
       " ________________________________________\n",
       " 0-) imputer: \n",
       " \tSimpleImputer\n",
       " \n",
       " 1-) variance_threshold: \n",
       " \tVarianceThreshold\n",
       " \n",
       " 2-) coalescer: \n",
       " \tNoCoalescer\n",
       " \n",
       " 3-) encoder: \n",
       " \tNoEncoder\n",
       " \n",
       " 4-) scaler: \n",
       " \tStandardScaler\n",
       " \n",
       " 5-) feature_preprocessor: \n",
       " \tNoFeaturePreprocessor\n",
       " \n",
       " 6-) tabular_transformer: \n",
       " \tTabularColumnTransformer\n",
       " \n",
       " 7-) preprocessing: \n",
       " \tEarlyPreprocessing\n",
       " \n",
       " 8-) network_embedding: \n",
       " \tautoPyTorch.pipeline NoEmbedding\n",
       " \n",
       " 9-) network_backbone: \n",
       " \tautoPyTorch.pipeline ShapedMLPBackbone\n",
       " \n",
       " 10-) network_head: \n",
       " \tautoPyTorch.pipeline FullyConnectedHead\n",
       " \n",
       " 11-) network: \n",
       " \tSequential ({'random_state': RandomState(MT19937) at 0x19757CE40, '_fit_requirements': [FitRequirement(name='network_head', supported_types=(<class 'torch.nn.modules.module.Module'>,), user_defined=False, dataset_property=False), FitRequirement(name='network_backbone', supported_types=(<class 'torch.nn.modules.module.Module'>,), user_defined=False, dataset_property=False), FitRequirement(name='network_embedding', supported_types=(<class 'torch.nn.modules.module.Module'>,), user_defined=False, dataset_property=False)], '_cs_updates': {}, 'device': device(type='cpu'), 'network': Sequential(\n",
       "   (0): _NoEmbedding()\n",
       "   (1): Sequential(\n",
       "     (0): Linear(in_features=10, out_features=200, bias=True)\n",
       "     (1): BatchNorm1d(200, eps=1e-05, momentum=0.1, affine=True, track_running_stats=True)\n",
       "     (2): ReLU()\n",
       "     (3): Linear(in_features=200, out_features=200, bias=True)\n",
       "     (4): BatchNorm1d(200, eps=1e-05, momentum=0.1, affine=True, track_running_stats=True)\n",
       "     (5): ReLU()\n",
       "     (6): Linear(in_features=200, out_features=200, bias=True)\n",
       "     (7): BatchNorm1d(200, eps=1e-05, momentum=0.1, affine=True, track_running_stats=True)\n",
       "     (8): ReLU()\n",
       "     (9): Linear(in_features=200, out_features=200, bias=True)\n",
       "     (10): BatchNorm1d(200, eps=1e-05, momentum=0.1, affine=True, track_running_stats=True)\n",
       "     (11): ReLU()\n",
       "     (12): Linear(in_features=200, out_features=200, bias=True)\n",
       "   )\n",
       "   (2): Sequential(\n",
       "     (0): Flatten(start_dim=1, end_dim=-1)\n",
       "     (1): Linear(in_features=200, out_features=128, bias=True)\n",
       "     (2): ReLU()\n",
       "     (3): Linear(in_features=128, out_features=1, bias=True)\n",
       "   )\n",
       " ), 'final_activation': None, 'is_fitted_': True})\n",
       " \n",
       " 12-) network_init: \n",
       " \tXavierInit\n",
       " \n",
       " 13-) optimizer: \n",
       " \tAdam ({'random_state': RandomState(MT19937) at 0x19757CE40, '_fit_requirements': [FitRequirement(name='network', supported_types=(<class 'torch.nn.modules.module.Module'>,), user_defined=False, dataset_property=False)], '_cs_updates': {}, 'optimizer': Adam (\n",
       " Parameter Group 0\n",
       "     amsgrad: False\n",
       "     betas: (0.9, 0.9)\n",
       "     capturable: False\n",
       "     eps: 1e-08\n",
       "     foreach: None\n",
       "     lr: 0.01\n",
       "     maximize: False\n",
       "     weight_decay: 0.0\n",
       " ), 'lr': 0.01, 'beta1': 0.9, 'beta2': 0.9, 'weight_decay': 0.0})\n",
       " \n",
       " 14-) lr_scheduler: \n",
       " \tReduceLROnPlateau\n",
       " \n",
       " 15-) data_loader: \n",
       " \tDataLoader\n",
       " \n",
       " 16-) trainer: \n",
       " \tautoPyTorch.pipeline Standard Trainer\n",
       " \n",
       " ________________________________________)"
      ]
     },
     "execution_count": 21,
     "metadata": {},
     "output_type": "execute_result"
    }
   ],
   "source": [
    "api2.get_models_with_weights()[0]"
   ]
  },
  {
   "cell_type": "code",
   "execution_count": 146,
   "id": "661059be",
   "metadata": {},
   "outputs": [],
   "source": [
    "import torch\n",
    "X_train_torch = torch.from_numpy(X_train.values).float()\n",
    "y_train_torch = torch.from_numpy(y_train.values).float()\n",
    "X_val_torch = torch.from_numpy(X_valid.values).float()\n",
    "y_val_torch = torch.from_numpy(y_valid.values).float()\n",
    "X_test_torch = torch.from_numpy(X_test.values).float()\n",
    "y_test_torch = torch.from_numpy(y_test.values).float()"
   ]
  },
  {
   "cell_type": "code",
   "execution_count": 147,
   "id": "5fd5139d",
   "metadata": {},
   "outputs": [
    {
     "name": "stdout",
     "output_type": "stream",
     "text": [
      "Finished Training\n"
     ]
    }
   ],
   "source": [
    "# Build a simple MLP in PyTorch, train on training data and optimize on validation data\n",
    "\n",
    "\n",
    "import torch.nn as nn\n",
    "import torch.nn.functional as F\n",
    "import torch.optim as optim\n",
    "\n",
    "class Net(nn.Module):\n",
    "    def __init__(self, l1 = 64, l2 = 64, l3 = 64, l2_reg = 0.0):\n",
    "        super(Net, self).__init__()\n",
    "        self.l2_reg = l2_reg\n",
    "        self.fc1 = nn.Linear(10, l1)\n",
    "        self.fc2 = nn.Linear(l1, l2)\n",
    "        self.fc3 = nn.Linear(l2, l3)\n",
    "        self.fc4 = nn.Linear(l3, 1)\n",
    "\n",
    "    def forward(self, x):\n",
    "        # Add a residual connection\n",
    "        x = F.relu(self.fc1(x))\n",
    "        x = F.relu(self.fc2(x))\n",
    "        x = F.relu(self.fc3(x))\n",
    "        x = self.fc4(x)\n",
    "        return x\n",
    "    \n",
    "\n",
    "net = Net()\n",
    "criterion = nn.MSELoss()\n",
    "optimizer = optim.Adam(net.parameters(), lr=0.001)\n",
    "\n",
    "\n",
    "\n",
    "train_losses = []\n",
    "val_losses = []\n",
    "test_losses = []\n",
    "\n",
    "\n",
    "for epoch in range(1000):  # loop over the dataset multiple times and store the train, test loss\n",
    "    optimizer.zero_grad()\n",
    "    outputs = net(X_train_torch)\n",
    "    loss = criterion(outputs, y_train_torch)\n",
    "    # Add L2 regularization\n",
    "    for param in net.parameters():\n",
    "        loss += net.l2_reg * torch.norm(param)\n",
    "    loss.backward()\n",
    "    optimizer.step()\n",
    "\n",
    "    train_losses.append(np.sqrt(loss.item()))\n",
    "    val_losses.append(np.sqrt(criterion(net(X_val_torch), y_val_torch).item()))\n",
    "    test_losses.append(np.sqrt(criterion(net(X_test_torch), y_test_torch).item()))\n",
    "            \n",
    "print('Finished Training')\n"
   ]
  },
  {
   "cell_type": "code",
   "execution_count": 148,
   "id": "bd43a5de",
   "metadata": {},
   "outputs": [
    {
     "data": {
      "text/plain": [
       "<matplotlib.legend.Legend at 0x21f987ca0>"
      ]
     },
     "execution_count": 148,
     "metadata": {},
     "output_type": "execute_result"
    },
    {
     "data": {
      "image/png": "[encoded data removed]",
      "text/plain": [
       "<Figure size 640x480 with 1 Axes>"
      ]
     },
     "metadata": {
      "image/png": {
       "height": 422,
       "width": 566
      }
     },
     "output_type": "display_data"
    }
   ],
   "source": [
    "plt.plot(train_losses, label=\"Train\")\n",
    "plt.plot(test_losses, label=\"Test\")\n",
    "plt.plot(val_losses, label=\"Val\")\n",
    "plt.legend()"
   ]
  },
  {
   "cell_type": "code",
   "execution_count": 149,
   "id": "7c2e3cdc",
   "metadata": {},
   "outputs": [
    {
     "name": "stdout",
     "output_type": "stream",
     "text": [
      "Test loss: 72.43338130007807\n",
      "Train loss: 79.22518156830725\n",
      "\n"
     ]
    }
   ],
   "source": [
    "with torch.no_grad():\n",
    "    outputs = net(X_test_torch)\n",
    "    loss = criterion(outputs, y_test_torch)\n",
    "    print(f\"Test loss: {np.sqrt(loss.item())}\")\n",
    "    outputs = net(X_train_torch)    \n",
    "    loss = criterion(outputs, y_train_torch)\n",
    "    print(f\"Train loss: {np.sqrt(loss.item())}\")\n",
    "    print(\"\")\n"
   ]
  },
  {
   "cell_type": "code",
   "execution_count": 175,
   "id": "a96d7d46",
   "metadata": {},
   "outputs": [
    {
     "name": "stdout",
     "output_type": "stream",
     "text": [
      "Finished Training\n"
     ]
    }
   ],
   "source": [
    "# Fit the NN model using scaled y values\n",
    "# Using sklearn's StandardScaler to scale the y values\n",
    "\n",
    "from sklearn.preprocessing import StandardScaler\n",
    "\n",
    "scaler = StandardScaler()\n",
    "y_train_scaled = scaler.fit_transform(y_train.values.reshape(-1, 1))\n",
    "y_train_scaled = torch.from_numpy(y_train_scaled).float()\n",
    "y_test_scaled = scaler.transform(y_test.values.reshape(-1, 1))\n",
    "y_test_scaled = torch.from_numpy(y_test_scaled).float()\n",
    "y_valid_scaled = scaler.transform(y_valid.values.reshape(-1, 1))\n",
    "y_valid_scaled = torch.from_numpy(y_valid_scaled).float()\n",
    "\n",
    "net = Net()\n",
    "criterion = nn.MSELoss()\n",
    "optimizer = optim.Adam(net.parameters(), lr=0.01)\n",
    "\n",
    "train_losses = []\n",
    "val_losses = []\n",
    "test_losses = []\n",
    "\n",
    "\n",
    "for epoch in range(3000):  # loop over the dataset multiple times and store the train, test loss\n",
    "    optimizer.zero_grad()\n",
    "    outputs = net(X_train_torch)\n",
    "    loss = criterion(outputs, y_train_scaled)\n",
    "    # Add L2 regularization\n",
    "    for param in net.parameters():\n",
    "        loss += net.l2_reg * torch.norm(param)\n",
    "    loss.backward()\n",
    "    optimizer.step()\n",
    "\n",
    "    train_losses.append(np.sqrt(loss.item()))\n",
    "\n",
    "            \n",
    "print('Finished Training')\n",
    "\n"
   ]
  },
  {
   "cell_type": "code",
   "execution_count": 176,
   "id": "30d415c1",
   "metadata": {},
   "outputs": [
    {
     "data": {
      "text/plain": [
       "[<matplotlib.lines.Line2D at 0x220739e20>]"
      ]
     },
     "execution_count": 176,
     "metadata": {},
     "output_type": "execute_result"
    },
    {
     "data": {
      "image/png": "[encoded data removed]",
      "text/plain": [
       "<Figure size 640x480 with 1 Axes>"
      ]
     },
     "metadata": {
      "image/png": {
       "height": 422,
       "width": 559
      }
     },
     "output_type": "display_data"
    }
   ],
   "source": [
    "plt.plot(train_losses, label=\"Train\")"
   ]
  },
  {
   "cell_type": "code",
   "execution_count": 177,
   "id": "7b962e2f",
   "metadata": {},
   "outputs": [],
   "source": [
    "# Predict the scaled y values and inverse transform them to get the original y values\n",
    "\n",
    "with torch.no_grad():\n",
    "    outputs = net(X_test_torch)"
   ]
  },
  {
   "cell_type": "code",
   "execution_count": 178,
   "id": "34d14921",
   "metadata": {},
   "outputs": [
    {
     "name": "stdout",
     "output_type": "stream",
     "text": [
      "Test RMSE: 87.33749596057267\n"
     ]
    }
   ],
   "source": [
    "# Inverse transform the scaled y values to get the original y values\n",
    "\n",
    "y_pred = scaler.inverse_transform(outputs.numpy())\n",
    "y_pred = y_pred.reshape(-1)\n",
    "print(f\"Test RMSE: {np.sqrt(mean_squared_error(y_test, y_pred))}\")"
   ]
  },
  {
   "cell_type": "code",
   "execution_count": 179,
   "id": "9cc481b0",
   "metadata": {},
   "outputs": [
    {
     "data": {
      "text/plain": [
       "<AxesSubplot: xlabel='y_test', ylabel='y_pred'>"
      ]
     },
     "execution_count": 179,
     "metadata": {},
     "output_type": "execute_result"
    },
    {
     "data": {
      "image/png": "[encoded data removed]",
      "text/plain": [
       "<Figure size 640x480 with 1 Axes>"
      ]
     },
     "metadata": {
      "image/png": {
       "height": 450,
       "width": 591
      }
     },
     "output_type": "display_data"
    }
   ],
   "source": [
    "pd.DataFrame({\"y_test\": y_test, \"y_pred\": y_pred}).plot.scatter(x=\"y_test\", y=\"y_pred\")"
   ]
  },
  {
   "cell_type": "code",
   "execution_count": 180,
   "id": "a6e7e23f",
   "metadata": {},
   "outputs": [],
   "source": [
    "# At this point it seems our model is worse than RF, Auto model containing Catboost etc. Let us optimize our NN\n",
    "# I will use Ray Tune to optimize the hyperparameters\n",
    "\n",
    "import ray\n",
    "from ray import tune\n",
    "from ray.tune import CLIReporter\n",
    "from ray.tune.schedulers import ASHAScheduler\n",
    "\n",
    "def train_mlp(config):\n",
    "    net = Net(config[\"l1\"], config[\"l2\"], config[\"l3\"], config[\"l2_reg\"])\n",
    "    \n",
    "    criterion = nn.MSELoss()\n",
    "    \n",
    "    criterion = nn.MSELoss()\n",
    "    optimizer = optim.Adam(net.parameters(), lr=config[\"lr\"])\n",
    "    for epoch in range(1000):  # loop over the dataset multiple times and store the train, test loss\n",
    "        optimizer.zero_grad()\n",
    "        outputs = net(X_train_torch)\n",
    "        loss = criterion(outputs, y_train_scaled)\n",
    "        # Add l2 regularization to loss\n",
    "        l2_reg = torch.tensor(0.)\n",
    "        for param in net.parameters():\n",
    "            l2_reg += torch.norm(param)\n",
    "        loss += config[\"l2_reg\"] * l2_reg\n",
    "        loss.backward()\n",
    "        optimizer.step()\n",
    "    with torch.no_grad():\n",
    "        outputs = net(X_val_torch)\n",
    "        # Inverse transform the scaled y values to get the original y values\n",
    "        y_pred = scaler.inverse_transform(outputs.numpy())\n",
    "        loss = np.sqrt(mean_squared_error(y_valid, y_pred))\n",
    "        return {\"loss\": loss, \"status\": \"ok\"}\n"
   ]
  },
  {
   "cell_type": "code",
   "execution_count": 181,
   "id": "7d9c778f",
   "metadata": {},
   "outputs": [
    {
     "data": {
      "text/html": [
       "<div class=\"trialProgress\">\n",
       "  <h3>Trial Progress</h3>\n",
       "  <table>\n",
       "<thead>\n",
       "<tr><th>Trial name           </th><th>date               </th><th>done  </th><th>episodes_total  </th><th>experiment_id                   </th><th>experiment_tag                                </th><th>hostname           </th><th style=\"text-align: right;\">  iterations_since_restore</th><th style=\"text-align: right;\">   loss</th><th>node_ip  </th><th style=\"text-align: right;\">  pid</th><th>status  </th><th style=\"text-align: right;\">  time_since_restore</th><th style=\"text-align: right;\">  time_this_iter_s</th><th style=\"text-align: right;\">  time_total_s</th><th style=\"text-align: right;\">  timestamp</th><th style=\"text-align: right;\">  timesteps_since_restore</th><th>timesteps_total  </th><th style=\"text-align: right;\">  training_iteration</th><th>trial_id   </th><th style=\"text-align: right;\">  warmup_time</th></tr>\n",
       "</thead>\n",
       "<tbody>\n",
       "<tr><td>train_mlp_35f59_00000</td><td>2023-02-27_17-36-54</td><td>True  </td><td>                </td><td>39e261fb732642929a52fdc97976aee5</td><td>0_l1=128,l2=4,l2_reg=0.3756,l3=32,lr=0.0317   </td><td>Nipuns-iMac-8.local</td><td style=\"text-align: right;\">                         1</td><td style=\"text-align: right;\">76.2344</td><td>127.0.0.1</td><td style=\"text-align: right;\">89828</td><td>ok      </td><td style=\"text-align: right;\">             2.82443</td><td style=\"text-align: right;\">           2.82443</td><td style=\"text-align: right;\">       2.82443</td><td style=\"text-align: right;\"> 1677499614</td><td style=\"text-align: right;\">                        0</td><td>                 </td><td style=\"text-align: right;\">                   1</td><td>35f59_00000</td><td style=\"text-align: right;\">   0.00215197</td></tr>\n",
       "<tr><td>train_mlp_35f59_00001</td><td>2023-02-27_17-37-01</td><td>True  </td><td>                </td><td>a503329c351c43429598bbfd138bb8f6</td><td>1_l1=4,l2=2,l2_reg=0.0129,l3=2,lr=0.0680      </td><td>Nipuns-iMac-8.local</td><td style=\"text-align: right;\">                         1</td><td style=\"text-align: right;\">76.212 </td><td>127.0.0.1</td><td style=\"text-align: right;\">89833</td><td>ok      </td><td style=\"text-align: right;\">             2.99838</td><td style=\"text-align: right;\">           2.99838</td><td style=\"text-align: right;\">       2.99838</td><td style=\"text-align: right;\"> 1677499621</td><td style=\"text-align: right;\">                        0</td><td>                 </td><td style=\"text-align: right;\">                   1</td><td>35f59_00001</td><td style=\"text-align: right;\">   0.0209732 </td></tr>\n",
       "<tr><td>train_mlp_35f59_00002</td><td>2023-02-27_17-37-02</td><td>True  </td><td>                </td><td>4698857106a748a2be56befc6bb9ace1</td><td>                                              </td><td>Nipuns-iMac-8.local</td><td style=\"text-align: right;\">                         1</td><td style=\"text-align: right;\">76.2122</td><td>127.0.0.1</td><td style=\"text-align: right;\">89834</td><td>ok      </td><td style=\"text-align: right;\">             3.37268</td><td style=\"text-align: right;\">           3.37268</td><td style=\"text-align: right;\">       3.37268</td><td style=\"text-align: right;\"> 1677499622</td><td style=\"text-align: right;\">                        0</td><td>                 </td><td style=\"text-align: right;\">                   1</td><td>35f59_00002</td><td style=\"text-align: right;\">   0.0184102 </td></tr>\n",
       "<tr><td>train_mlp_35f59_00003</td><td>2023-02-27_17-37-03</td><td>True  </td><td>                </td><td>6bd8a679f4a44679b53483e52891389b</td><td>3_l1=32,l2=4,l2_reg=0.4648,l3=256,lr=0.0269   </td><td>Nipuns-iMac-8.local</td><td style=\"text-align: right;\">                         1</td><td style=\"text-align: right;\">76.2066</td><td>127.0.0.1</td><td style=\"text-align: right;\">89835</td><td>ok      </td><td style=\"text-align: right;\">             4.65682</td><td style=\"text-align: right;\">           4.65682</td><td style=\"text-align: right;\">       4.65682</td><td style=\"text-align: right;\"> 1677499623</td><td style=\"text-align: right;\">                        0</td><td>                 </td><td style=\"text-align: right;\">                   1</td><td>35f59_00003</td><td style=\"text-align: right;\">   0.0225301 </td></tr>\n",
       "<tr><td>train_mlp_35f59_00004</td><td>2023-02-27_17-37-02</td><td>True  </td><td>                </td><td>3581107a516f4bf4b18826a6a8ad33ed</td><td>4_l1=32,l2=16,l2_reg=0.0007,l3=2,lr=0.0009    </td><td>Nipuns-iMac-8.local</td><td style=\"text-align: right;\">                         1</td><td style=\"text-align: right;\">54.6544</td><td>127.0.0.1</td><td style=\"text-align: right;\">89836</td><td>ok      </td><td style=\"text-align: right;\">             3.15386</td><td style=\"text-align: right;\">           3.15386</td><td style=\"text-align: right;\">       3.15386</td><td style=\"text-align: right;\"> 1677499622</td><td style=\"text-align: right;\">                        0</td><td>                 </td><td style=\"text-align: right;\">                   1</td><td>35f59_00004</td><td style=\"text-align: right;\">   0.023632  </td></tr>\n",
       "<tr><td>train_mlp_35f59_00005</td><td>2023-02-27_17-37-02</td><td>True  </td><td>                </td><td>8339bd9177fb40a9a47cae442d7e3654</td><td>5_l1=2,l2=16,l2_reg=0.0002,l3=64,lr=0.0727    </td><td>Nipuns-iMac-8.local</td><td style=\"text-align: right;\">                         1</td><td style=\"text-align: right;\">60.5804</td><td>127.0.0.1</td><td style=\"text-align: right;\">89838</td><td>ok      </td><td style=\"text-align: right;\">             3.44994</td><td style=\"text-align: right;\">           3.44994</td><td style=\"text-align: right;\">       3.44994</td><td style=\"text-align: right;\"> 1677499622</td><td style=\"text-align: right;\">                        0</td><td>                 </td><td style=\"text-align: right;\">                   1</td><td>35f59_00005</td><td style=\"text-align: right;\">   0.0128722 </td></tr>\n",
       "<tr><td>train_mlp_35f59_00006</td><td>2023-02-27_17-37-02</td><td>True  </td><td>                </td><td>d1431c1d6f1440fe873a9d6be9f9711c</td><td>6_l1=2,l2=64,l2_reg=0.0011,l3=32,lr=0.0030    </td><td>Nipuns-iMac-8.local</td><td style=\"text-align: right;\">                         1</td><td style=\"text-align: right;\">54.3501</td><td>127.0.0.1</td><td style=\"text-align: right;\">89843</td><td>ok      </td><td style=\"text-align: right;\">             3.61302</td><td style=\"text-align: right;\">           3.61302</td><td style=\"text-align: right;\">       3.61302</td><td style=\"text-align: right;\"> 1677499622</td><td style=\"text-align: right;\">                        0</td><td>                 </td><td style=\"text-align: right;\">                   1</td><td>35f59_00006</td><td style=\"text-align: right;\">   0.0113921 </td></tr>\n",
       "<tr><td>train_mlp_35f59_00007</td><td>2023-02-27_17-37-03</td><td>True  </td><td>                </td><td>8612e489162c4c12ab96d304abee66c8</td><td>7_l1=4,l2=64,l2_reg=0.9859,l3=128,lr=0.0117   </td><td>Nipuns-iMac-8.local</td><td style=\"text-align: right;\">                         1</td><td style=\"text-align: right;\">76.207 </td><td>127.0.0.1</td><td style=\"text-align: right;\">89844</td><td>ok      </td><td style=\"text-align: right;\">             4.48812</td><td style=\"text-align: right;\">           4.48812</td><td style=\"text-align: right;\">       4.48812</td><td style=\"text-align: right;\"> 1677499623</td><td style=\"text-align: right;\">                        0</td><td>                 </td><td style=\"text-align: right;\">                   1</td><td>35f59_00007</td><td style=\"text-align: right;\">   0.00788832</td></tr>\n",
       "<tr><td>train_mlp_35f59_00008</td><td>2023-02-27_17-37-03</td><td>True  </td><td>                </td><td>6ef63a35bb36442cbc929b64162ad3d2</td><td>8_l1=256,l2=16,l2_reg=0.0280,l3=2,lr=0.0224   </td><td>Nipuns-iMac-8.local</td><td style=\"text-align: right;\">                         1</td><td style=\"text-align: right;\">51.8603</td><td>127.0.0.1</td><td style=\"text-align: right;\">89845</td><td>ok      </td><td style=\"text-align: right;\">             4.82484</td><td style=\"text-align: right;\">           4.82484</td><td style=\"text-align: right;\">       4.82484</td><td style=\"text-align: right;\"> 1677499623</td><td style=\"text-align: right;\">                        0</td><td>                 </td><td style=\"text-align: right;\">                   1</td><td>35f59_00008</td><td style=\"text-align: right;\">   0.00866914</td></tr>\n",
       "<tr><td>train_mlp_35f59_00009</td><td>2023-02-27_17-37-02</td><td>True  </td><td>                </td><td>82741428b6dd47dca2f00c994cd3665e</td><td>9_l1=16,l2=64,l2_reg=0.0022,l3=2,lr=0.0007    </td><td>Nipuns-iMac-8.local</td><td style=\"text-align: right;\">                         1</td><td style=\"text-align: right;\">55.3347</td><td>127.0.0.1</td><td style=\"text-align: right;\">89846</td><td>ok      </td><td style=\"text-align: right;\">             3.37007</td><td style=\"text-align: right;\">           3.37007</td><td style=\"text-align: right;\">       3.37007</td><td style=\"text-align: right;\"> 1677499622</td><td style=\"text-align: right;\">                        0</td><td>                 </td><td style=\"text-align: right;\">                   1</td><td>35f59_00009</td><td style=\"text-align: right;\">   0.0235229 </td></tr>\n",
       "<tr><td>train_mlp_35f59_00010</td><td>2023-02-27_17-37-05</td><td>True  </td><td>                </td><td>ca31625bc2ad4a49a2ac00a342bd66a2</td><td>10_l1=128,l2=128,l2_reg=0.0038,l3=16,lr=0.0198</td><td>Nipuns-iMac-8.local</td><td style=\"text-align: right;\">                         1</td><td style=\"text-align: right;\">71.2016</td><td>127.0.0.1</td><td style=\"text-align: right;\">89847</td><td>ok      </td><td style=\"text-align: right;\">             6.0395 </td><td style=\"text-align: right;\">           6.0395 </td><td style=\"text-align: right;\">       6.0395 </td><td style=\"text-align: right;\"> 1677499625</td><td style=\"text-align: right;\">                        0</td><td>                 </td><td style=\"text-align: right;\">                   1</td><td>35f59_00010</td><td style=\"text-align: right;\">   0.0119791 </td></tr>\n",
       "<tr><td>train_mlp_35f59_00011</td><td>2023-02-27_17-37-02</td><td>True  </td><td>                </td><td>279fe92dcbdf463590e63e4291e82bc9</td><td>                                              </td><td>Nipuns-iMac-8.local</td><td style=\"text-align: right;\">                         1</td><td style=\"text-align: right;\">76.2137</td><td>127.0.0.1</td><td style=\"text-align: right;\">89848</td><td>ok      </td><td style=\"text-align: right;\">             3.07278</td><td style=\"text-align: right;\">           3.07278</td><td style=\"text-align: right;\">       3.07278</td><td style=\"text-align: right;\"> 1677499622</td><td style=\"text-align: right;\">                        0</td><td>                 </td><td style=\"text-align: right;\">                   1</td><td>35f59_00011</td><td style=\"text-align: right;\">   0.00628304</td></tr>\n",
       "<tr><td>train_mlp_35f59_00012</td><td>2023-02-27_17-37-03</td><td>True  </td><td>                </td><td>7cb4dca974674348981181d60456309f</td><td>12_l1=128,l2=32,l2_reg=0.0007,l3=4,lr=0.0004  </td><td>Nipuns-iMac-8.local</td><td style=\"text-align: right;\">                         1</td><td style=\"text-align: right;\">64.6715</td><td>127.0.0.1</td><td style=\"text-align: right;\">89849</td><td>ok      </td><td style=\"text-align: right;\">             4.05219</td><td style=\"text-align: right;\">           4.05219</td><td style=\"text-align: right;\">       4.05219</td><td style=\"text-align: right;\"> 1677499623</td><td style=\"text-align: right;\">                        0</td><td>                 </td><td style=\"text-align: right;\">                   1</td><td>35f59_00012</td><td style=\"text-align: right;\">   0.00764704</td></tr>\n",
       "<tr><td>train_mlp_35f59_00013</td><td>2023-02-27_17-37-02</td><td>True  </td><td>                </td><td>8aabe389352d4f999173d5741cb02d0f</td><td>13_l1=4,l2=32,l2_reg=0.0009,l3=4,lr=0.0012    </td><td>Nipuns-iMac-8.local</td><td style=\"text-align: right;\">                         1</td><td style=\"text-align: right;\">54.2425</td><td>127.0.0.1</td><td style=\"text-align: right;\">89850</td><td>ok      </td><td style=\"text-align: right;\">             3.04021</td><td style=\"text-align: right;\">           3.04021</td><td style=\"text-align: right;\">       3.04021</td><td style=\"text-align: right;\"> 1677499622</td><td style=\"text-align: right;\">                        0</td><td>                 </td><td style=\"text-align: right;\">                   1</td><td>35f59_00013</td><td style=\"text-align: right;\">   0.00784588</td></tr>\n",
       "<tr><td>train_mlp_35f59_00014</td><td>2023-02-27_17-37-02</td><td>True  </td><td>                </td><td>b4d3e7d2c8d14d7a956d9e27f00ddb51</td><td>                                              </td><td>Nipuns-iMac-8.local</td><td style=\"text-align: right;\">                         1</td><td style=\"text-align: right;\">76.2089</td><td>127.0.0.1</td><td style=\"text-align: right;\">89851</td><td>ok      </td><td style=\"text-align: right;\">             3.42818</td><td style=\"text-align: right;\">           3.42818</td><td style=\"text-align: right;\">       3.42818</td><td style=\"text-align: right;\"> 1677499622</td><td style=\"text-align: right;\">                        0</td><td>                 </td><td style=\"text-align: right;\">                   1</td><td>35f59_00014</td><td style=\"text-align: right;\">   0.007411  </td></tr>\n",
       "<tr><td>train_mlp_35f59_00015</td><td>2023-02-27_17-37-03</td><td>True  </td><td>                </td><td>4d63013ef56f429d955b839fc1d0535d</td><td>                                              </td><td>Nipuns-iMac-8.local</td><td style=\"text-align: right;\">                         1</td><td style=\"text-align: right;\">79.4608</td><td>127.0.0.1</td><td style=\"text-align: right;\">89852</td><td>ok      </td><td style=\"text-align: right;\">             4.08359</td><td style=\"text-align: right;\">           4.08359</td><td style=\"text-align: right;\">       4.08359</td><td style=\"text-align: right;\"> 1677499623</td><td style=\"text-align: right;\">                        0</td><td>                 </td><td style=\"text-align: right;\">                   1</td><td>35f59_00015</td><td style=\"text-align: right;\">   0.0218461 </td></tr>\n",
       "<tr><td>train_mlp_35f59_00016</td><td>2023-02-27_17-37-03</td><td>True  </td><td>                </td><td>39e261fb732642929a52fdc97976aee5</td><td>                                              </td><td>Nipuns-iMac-8.local</td><td style=\"text-align: right;\">                         1</td><td style=\"text-align: right;\">76.2163</td><td>127.0.0.1</td><td style=\"text-align: right;\">89828</td><td>ok      </td><td style=\"text-align: right;\">             4.09355</td><td style=\"text-align: right;\">           4.09355</td><td style=\"text-align: right;\">       4.09355</td><td style=\"text-align: right;\"> 1677499623</td><td style=\"text-align: right;\">                        0</td><td>                 </td><td style=\"text-align: right;\">                   1</td><td>35f59_00016</td><td style=\"text-align: right;\">   0.00215197</td></tr>\n",
       "<tr><td>train_mlp_35f59_00017</td><td>2023-02-27_17-37-09</td><td>True  </td><td>                </td><td>a503329c351c43429598bbfd138bb8f6</td><td>17_l1=128,l2=64,l2_reg=0.0004,l3=128,lr=0.0181</td><td>Nipuns-iMac-8.local</td><td style=\"text-align: right;\">                         1</td><td style=\"text-align: right;\">68.5735</td><td>127.0.0.1</td><td style=\"text-align: right;\">89833</td><td>ok      </td><td style=\"text-align: right;\">             7.10995</td><td style=\"text-align: right;\">           7.10995</td><td style=\"text-align: right;\">       7.10995</td><td style=\"text-align: right;\"> 1677499629</td><td style=\"text-align: right;\">                        0</td><td>                 </td><td style=\"text-align: right;\">                   1</td><td>35f59_00017</td><td style=\"text-align: right;\">   0.0209732 </td></tr>\n",
       "<tr><td>train_mlp_35f59_00018</td><td>2023-02-27_17-37-06</td><td>True  </td><td>                </td><td>3581107a516f4bf4b18826a6a8ad33ed</td><td>                                              </td><td>Nipuns-iMac-8.local</td><td style=\"text-align: right;\">                         1</td><td style=\"text-align: right;\">76.6142</td><td>127.0.0.1</td><td style=\"text-align: right;\">89836</td><td>ok      </td><td style=\"text-align: right;\">             4.13317</td><td style=\"text-align: right;\">           4.13317</td><td style=\"text-align: right;\">       4.13317</td><td style=\"text-align: right;\"> 1677499626</td><td style=\"text-align: right;\">                        0</td><td>                 </td><td style=\"text-align: right;\">                   1</td><td>35f59_00018</td><td style=\"text-align: right;\">   0.023632  </td></tr>\n",
       "<tr><td>train_mlp_35f59_00019</td><td>2023-02-27_17-37-09</td><td>True  </td><td>                </td><td>8aabe389352d4f999173d5741cb02d0f</td><td>19_l1=128,l2=128,l2_reg=0.0010,l3=16,lr=0.0391</td><td>Nipuns-iMac-8.local</td><td style=\"text-align: right;\">                         1</td><td style=\"text-align: right;\">76.0905</td><td>127.0.0.1</td><td style=\"text-align: right;\">89850</td><td>ok      </td><td style=\"text-align: right;\">             7.00794</td><td style=\"text-align: right;\">           7.00794</td><td style=\"text-align: right;\">       7.00794</td><td style=\"text-align: right;\"> 1677499629</td><td style=\"text-align: right;\">                        0</td><td>                 </td><td style=\"text-align: right;\">                   1</td><td>35f59_00019</td><td style=\"text-align: right;\">   0.00784588</td></tr>\n",
       "<tr><td>train_mlp_35f59_00020</td><td>2023-02-27_17-37-11</td><td>True  </td><td>                </td><td>4698857106a748a2be56befc6bb9ace1</td><td>                                              </td><td>Nipuns-iMac-8.local</td><td style=\"text-align: right;\">                         1</td><td style=\"text-align: right;\">76.2226</td><td>127.0.0.1</td><td style=\"text-align: right;\">89834</td><td>ok      </td><td style=\"text-align: right;\">             9.57114</td><td style=\"text-align: right;\">           9.57114</td><td style=\"text-align: right;\">       9.57114</td><td style=\"text-align: right;\"> 1677499631</td><td style=\"text-align: right;\">                        0</td><td>                 </td><td style=\"text-align: right;\">                   1</td><td>35f59_00020</td><td style=\"text-align: right;\">   0.0184102 </td></tr>\n",
       "<tr><td>train_mlp_35f59_00021</td><td>2023-02-27_17-37-07</td><td>True  </td><td>                </td><td>279fe92dcbdf463590e63e4291e82bc9</td><td>                                              </td><td>Nipuns-iMac-8.local</td><td style=\"text-align: right;\">                         1</td><td style=\"text-align: right;\">76.2249</td><td>127.0.0.1</td><td style=\"text-align: right;\">89848</td><td>ok      </td><td style=\"text-align: right;\">             5.31133</td><td style=\"text-align: right;\">           5.31133</td><td style=\"text-align: right;\">       5.31133</td><td style=\"text-align: right;\"> 1677499627</td><td style=\"text-align: right;\">                        0</td><td>                 </td><td style=\"text-align: right;\">                   1</td><td>35f59_00021</td><td style=\"text-align: right;\">   0.00628304</td></tr>\n",
       "<tr><td>train_mlp_35f59_00022</td><td>2023-02-27_17-37-09</td><td>True  </td><td>                </td><td>82741428b6dd47dca2f00c994cd3665e</td><td>                                              </td><td>Nipuns-iMac-8.local</td><td style=\"text-align: right;\">                         1</td><td style=\"text-align: right;\">76.2164</td><td>127.0.0.1</td><td style=\"text-align: right;\">89846</td><td>ok      </td><td style=\"text-align: right;\">             6.75747</td><td style=\"text-align: right;\">           6.75747</td><td style=\"text-align: right;\">       6.75747</td><td style=\"text-align: right;\"> 1677499629</td><td style=\"text-align: right;\">                        0</td><td>                 </td><td style=\"text-align: right;\">                   1</td><td>35f59_00022</td><td style=\"text-align: right;\">   0.0235229 </td></tr>\n",
       "<tr><td>train_mlp_35f59_00023</td><td>2023-02-27_17-37-06</td><td>True  </td><td>                </td><td>8339bd9177fb40a9a47cae442d7e3654</td><td>23_l1=4,l2=32,l2_reg=0.1889,l3=16,lr=0.5028   </td><td>Nipuns-iMac-8.local</td><td style=\"text-align: right;\">                         1</td><td style=\"text-align: right;\">76.1492</td><td>127.0.0.1</td><td style=\"text-align: right;\">89838</td><td>ok      </td><td style=\"text-align: right;\">             4.16418</td><td style=\"text-align: right;\">           4.16418</td><td style=\"text-align: right;\">       4.16418</td><td style=\"text-align: right;\"> 1677499626</td><td style=\"text-align: right;\">                        0</td><td>                 </td><td style=\"text-align: right;\">                   1</td><td>35f59_00023</td><td style=\"text-align: right;\">   0.0128722 </td></tr>\n",
       "<tr><td>train_mlp_35f59_00024</td><td>2023-02-27_17-37-09</td><td>True  </td><td>                </td><td>b4d3e7d2c8d14d7a956d9e27f00ddb51</td><td>24_l1=4,l2=256,l2_reg=0.9506,l3=32,lr=0.1198  </td><td>Nipuns-iMac-8.local</td><td style=\"text-align: right;\">                         1</td><td style=\"text-align: right;\">76.1124</td><td>127.0.0.1</td><td style=\"text-align: right;\">89851</td><td>ok      </td><td style=\"text-align: right;\">             6.69498</td><td style=\"text-align: right;\">           6.69498</td><td style=\"text-align: right;\">       6.69498</td><td style=\"text-align: right;\"> 1677499629</td><td style=\"text-align: right;\">                        0</td><td>                 </td><td style=\"text-align: right;\">                   1</td><td>35f59_00024</td><td style=\"text-align: right;\">   0.007411  </td></tr>\n",
       "<tr><td>train_mlp_35f59_00025</td><td>2023-02-27_17-37-08</td><td>True  </td><td>                </td><td>d1431c1d6f1440fe873a9d6be9f9711c</td><td>25_l1=64,l2=128,l2_reg=0.0027,l3=2,lr=0.0111  </td><td>Nipuns-iMac-8.local</td><td style=\"text-align: right;\">                         1</td><td style=\"text-align: right;\">73.5229</td><td>127.0.0.1</td><td style=\"text-align: right;\">89843</td><td>ok      </td><td style=\"text-align: right;\">             5.79717</td><td style=\"text-align: right;\">           5.79717</td><td style=\"text-align: right;\">       5.79717</td><td style=\"text-align: right;\"> 1677499628</td><td style=\"text-align: right;\">                        0</td><td>                 </td><td style=\"text-align: right;\">                   1</td><td>35f59_00025</td><td style=\"text-align: right;\">   0.0113921 </td></tr>\n",
       "<tr><td>train_mlp_35f59_00026</td><td>2023-02-27_17-37-10</td><td>True  </td><td>                </td><td>7cb4dca974674348981181d60456309f</td><td>                                              </td><td>Nipuns-iMac-8.local</td><td style=\"text-align: right;\">                         1</td><td style=\"text-align: right;\">76.2151</td><td>127.0.0.1</td><td style=\"text-align: right;\">89849</td><td>ok      </td><td style=\"text-align: right;\">             7.21271</td><td style=\"text-align: right;\">           7.21271</td><td style=\"text-align: right;\">       7.21271</td><td style=\"text-align: right;\"> 1677499630</td><td style=\"text-align: right;\">                        0</td><td>                 </td><td style=\"text-align: right;\">                   1</td><td>35f59_00026</td><td style=\"text-align: right;\">   0.00764704</td></tr>\n",
       "<tr><td>train_mlp_35f59_00027</td><td>2023-02-27_17-37-08</td><td>True  </td><td>                </td><td>39e261fb732642929a52fdc97976aee5</td><td>27_l1=128,l2=4,l2_reg=0.0002,l3=16,lr=0.0921  </td><td>Nipuns-iMac-8.local</td><td style=\"text-align: right;\">                         1</td><td style=\"text-align: right;\">70.5424</td><td>127.0.0.1</td><td style=\"text-align: right;\">89828</td><td>ok      </td><td style=\"text-align: right;\">             4.74324</td><td style=\"text-align: right;\">           4.74324</td><td style=\"text-align: right;\">       4.74324</td><td style=\"text-align: right;\"> 1677499628</td><td style=\"text-align: right;\">                        0</td><td>                 </td><td style=\"text-align: right;\">                   1</td><td>35f59_00027</td><td style=\"text-align: right;\">   0.00215197</td></tr>\n",
       "<tr><td>train_mlp_35f59_00028</td><td>2023-02-27_17-37-08</td><td>True  </td><td>                </td><td>4d63013ef56f429d955b839fc1d0535d</td><td>28_l1=64,l2=16,l2_reg=0.0139,l3=128,lr=0.0697 </td><td>Nipuns-iMac-8.local</td><td style=\"text-align: right;\">                         1</td><td style=\"text-align: right;\">61.6359</td><td>127.0.0.1</td><td style=\"text-align: right;\">89852</td><td>ok      </td><td style=\"text-align: right;\">             5.29046</td><td style=\"text-align: right;\">           5.29046</td><td style=\"text-align: right;\">       5.29046</td><td style=\"text-align: right;\"> 1677499628</td><td style=\"text-align: right;\">                        0</td><td>                 </td><td style=\"text-align: right;\">                   1</td><td>35f59_00028</td><td style=\"text-align: right;\">   0.0218461 </td></tr>\n",
       "<tr><td>train_mlp_35f59_00029</td><td>2023-02-27_17-37-10</td><td>True  </td><td>                </td><td>6bd8a679f4a44679b53483e52891389b</td><td>                                              </td><td>Nipuns-iMac-8.local</td><td style=\"text-align: right;\">                         1</td><td style=\"text-align: right;\">76.2163</td><td>127.0.0.1</td><td style=\"text-align: right;\">89835</td><td>ok      </td><td style=\"text-align: right;\">             6.79552</td><td style=\"text-align: right;\">           6.79552</td><td style=\"text-align: right;\">       6.79552</td><td style=\"text-align: right;\"> 1677499630</td><td style=\"text-align: right;\">                        0</td><td>                 </td><td style=\"text-align: right;\">                   1</td><td>35f59_00029</td><td style=\"text-align: right;\">   0.0225301 </td></tr>\n",
       "<tr><td>train_mlp_35f59_00030</td><td>2023-02-27_17-37-11</td><td>True  </td><td>                </td><td>8612e489162c4c12ab96d304abee66c8</td><td>                                              </td><td>Nipuns-iMac-8.local</td><td style=\"text-align: right;\">                         1</td><td style=\"text-align: right;\">76.2175</td><td>127.0.0.1</td><td style=\"text-align: right;\">89844</td><td>ok      </td><td style=\"text-align: right;\">             7.58946</td><td style=\"text-align: right;\">           7.58946</td><td style=\"text-align: right;\">       7.58946</td><td style=\"text-align: right;\"> 1677499631</td><td style=\"text-align: right;\">                        0</td><td>                 </td><td style=\"text-align: right;\">                   1</td><td>35f59_00030</td><td style=\"text-align: right;\">   0.00788832</td></tr>\n",
       "<tr><td>train_mlp_35f59_00031</td><td>2023-02-27_17-37-10</td><td>True  </td><td>                </td><td>6ef63a35bb36442cbc929b64162ad3d2</td><td>                                              </td><td>Nipuns-iMac-8.local</td><td style=\"text-align: right;\">                         1</td><td style=\"text-align: right;\">76.2163</td><td>127.0.0.1</td><td style=\"text-align: right;\">89845</td><td>ok      </td><td style=\"text-align: right;\">             6.20308</td><td style=\"text-align: right;\">           6.20308</td><td style=\"text-align: right;\">       6.20308</td><td style=\"text-align: right;\"> 1677499630</td><td style=\"text-align: right;\">                        0</td><td>                 </td><td style=\"text-align: right;\">                   1</td><td>35f59_00031</td><td style=\"text-align: right;\">   0.00866914</td></tr>\n",
       "<tr><td>train_mlp_35f59_00032</td><td>2023-02-27_17-37-09</td><td>True  </td><td>                </td><td>ca31625bc2ad4a49a2ac00a342bd66a2</td><td>                                              </td><td>Nipuns-iMac-8.local</td><td style=\"text-align: right;\">                         1</td><td style=\"text-align: right;\">76.2159</td><td>127.0.0.1</td><td style=\"text-align: right;\">89847</td><td>ok      </td><td style=\"text-align: right;\">             4.26793</td><td style=\"text-align: right;\">           4.26793</td><td style=\"text-align: right;\">       4.26793</td><td style=\"text-align: right;\"> 1677499629</td><td style=\"text-align: right;\">                        0</td><td>                 </td><td style=\"text-align: right;\">                   1</td><td>35f59_00032</td><td style=\"text-align: right;\">   0.0119791 </td></tr>\n",
       "<tr><td>train_mlp_35f59_00033</td><td>2023-02-27_17-37-10</td><td>True  </td><td>                </td><td>3581107a516f4bf4b18826a6a8ad33ed</td><td>33_l1=128,l2=16,l2_reg=0.0013,l3=32,lr=0.0412 </td><td>Nipuns-iMac-8.local</td><td style=\"text-align: right;\">                         1</td><td style=\"text-align: right;\">65.0501</td><td>127.0.0.1</td><td style=\"text-align: right;\">89836</td><td>ok      </td><td style=\"text-align: right;\">             4.49329</td><td style=\"text-align: right;\">           4.49329</td><td style=\"text-align: right;\">       4.49329</td><td style=\"text-align: right;\"> 1677499630</td><td style=\"text-align: right;\">                        0</td><td>                 </td><td style=\"text-align: right;\">                   1</td><td>35f59_00033</td><td style=\"text-align: right;\">   0.023632  </td></tr>\n",
       "<tr><td>train_mlp_35f59_00034</td><td>2023-02-27_17-37-10</td><td>True  </td><td>                </td><td>8339bd9177fb40a9a47cae442d7e3654</td><td>34_l1=128,l2=2,l2_reg=0.0013,l3=4,lr=0.0008   </td><td>Nipuns-iMac-8.local</td><td style=\"text-align: right;\">                         1</td><td style=\"text-align: right;\">53.7058</td><td>127.0.0.1</td><td style=\"text-align: right;\">89838</td><td>ok      </td><td style=\"text-align: right;\">             4.13885</td><td style=\"text-align: right;\">           4.13885</td><td style=\"text-align: right;\">       4.13885</td><td style=\"text-align: right;\"> 1677499630</td><td style=\"text-align: right;\">                        0</td><td>                 </td><td style=\"text-align: right;\">                   1</td><td>35f59_00034</td><td style=\"text-align: right;\">   0.0128722 </td></tr>\n",
       "<tr><td>train_mlp_35f59_00035</td><td>2023-02-27_17-37-12</td><td>True  </td><td>                </td><td>279fe92dcbdf463590e63e4291e82bc9</td><td>35_l1=4,l2=16,l2_reg=0.0009,l3=256,lr=0.0687  </td><td>Nipuns-iMac-8.local</td><td style=\"text-align: right;\">                         1</td><td style=\"text-align: right;\">58.6801</td><td>127.0.0.1</td><td style=\"text-align: right;\">89848</td><td>ok      </td><td style=\"text-align: right;\">             5.20183</td><td style=\"text-align: right;\">           5.20183</td><td style=\"text-align: right;\">       5.20183</td><td style=\"text-align: right;\"> 1677499632</td><td style=\"text-align: right;\">                        0</td><td>                 </td><td style=\"text-align: right;\">                   1</td><td>35f59_00035</td><td style=\"text-align: right;\">   0.00628304</td></tr>\n",
       "<tr><td>train_mlp_35f59_00036</td><td>2023-02-27_17-37-11</td><td>True  </td><td>                </td><td>39e261fb732642929a52fdc97976aee5</td><td>                                              </td><td>Nipuns-iMac-8.local</td><td style=\"text-align: right;\">                         1</td><td style=\"text-align: right;\">76.2166</td><td>127.0.0.1</td><td style=\"text-align: right;\">89828</td><td>ok      </td><td style=\"text-align: right;\">             3.44524</td><td style=\"text-align: right;\">           3.44524</td><td style=\"text-align: right;\">       3.44524</td><td style=\"text-align: right;\"> 1677499631</td><td style=\"text-align: right;\">                        0</td><td>                 </td><td style=\"text-align: right;\">                   1</td><td>35f59_00036</td><td style=\"text-align: right;\">   0.00215197</td></tr>\n",
       "<tr><td>train_mlp_35f59_00037</td><td>2023-02-27_17-37-12</td><td>True  </td><td>                </td><td>d1431c1d6f1440fe873a9d6be9f9711c</td><td>                                              </td><td>Nipuns-iMac-8.local</td><td style=\"text-align: right;\">                         1</td><td style=\"text-align: right;\">79.9065</td><td>127.0.0.1</td><td style=\"text-align: right;\">89843</td><td>ok      </td><td style=\"text-align: right;\">             3.70484</td><td style=\"text-align: right;\">           3.70484</td><td style=\"text-align: right;\">       3.70484</td><td style=\"text-align: right;\"> 1677499632</td><td style=\"text-align: right;\">                        0</td><td>                 </td><td style=\"text-align: right;\">                   1</td><td>35f59_00037</td><td style=\"text-align: right;\">   0.0113921 </td></tr>\n",
       "<tr><td>train_mlp_35f59_00038</td><td>2023-02-27_17-37-13</td><td>True  </td><td>                </td><td>4d63013ef56f429d955b839fc1d0535d</td><td>38_l1=256,l2=32,l2_reg=0.0145,l3=16,lr=0.0009 </td><td>Nipuns-iMac-8.local</td><td style=\"text-align: right;\">                         1</td><td style=\"text-align: right;\">71.2175</td><td>127.0.0.1</td><td style=\"text-align: right;\">89852</td><td>ok      </td><td style=\"text-align: right;\">             5.05046</td><td style=\"text-align: right;\">           5.05046</td><td style=\"text-align: right;\">       5.05046</td><td style=\"text-align: right;\"> 1677499633</td><td style=\"text-align: right;\">                        0</td><td>                 </td><td style=\"text-align: right;\">                   1</td><td>35f59_00038</td><td style=\"text-align: right;\">   0.0218461 </td></tr>\n",
       "<tr><td>train_mlp_35f59_00039</td><td>2023-02-27_17-37-13</td><td>True  </td><td>                </td><td>a503329c351c43429598bbfd138bb8f6</td><td>                                              </td><td>Nipuns-iMac-8.local</td><td style=\"text-align: right;\">                         1</td><td style=\"text-align: right;\">76.2163</td><td>127.0.0.1</td><td style=\"text-align: right;\">89833</td><td>ok      </td><td style=\"text-align: right;\">             3.91111</td><td style=\"text-align: right;\">           3.91111</td><td style=\"text-align: right;\">       3.91111</td><td style=\"text-align: right;\"> 1677499633</td><td style=\"text-align: right;\">                        0</td><td>                 </td><td style=\"text-align: right;\">                   1</td><td>35f59_00039</td><td style=\"text-align: right;\">   0.0209732 </td></tr>\n",
       "<tr><td>train_mlp_35f59_00040</td><td>2023-02-27_17-37-14</td><td>True  </td><td>                </td><td>82741428b6dd47dca2f00c994cd3665e</td><td>                                              </td><td>Nipuns-iMac-8.local</td><td style=\"text-align: right;\">                         1</td><td style=\"text-align: right;\">76.6911</td><td>127.0.0.1</td><td style=\"text-align: right;\">89846</td><td>ok      </td><td style=\"text-align: right;\">             4.87386</td><td style=\"text-align: right;\">           4.87386</td><td style=\"text-align: right;\">       4.87386</td><td style=\"text-align: right;\"> 1677499634</td><td style=\"text-align: right;\">                        0</td><td>                 </td><td style=\"text-align: right;\">                   1</td><td>35f59_00040</td><td style=\"text-align: right;\">   0.0235229 </td></tr>\n",
       "<tr><td>train_mlp_35f59_00041</td><td>2023-02-27_17-37-13</td><td>True  </td><td>                </td><td>b4d3e7d2c8d14d7a956d9e27f00ddb51</td><td>                                              </td><td>Nipuns-iMac-8.local</td><td style=\"text-align: right;\">                         1</td><td style=\"text-align: right;\">76.3359</td><td>127.0.0.1</td><td style=\"text-align: right;\">89851</td><td>ok      </td><td style=\"text-align: right;\">             3.66033</td><td style=\"text-align: right;\">           3.66033</td><td style=\"text-align: right;\">       3.66033</td><td style=\"text-align: right;\"> 1677499633</td><td style=\"text-align: right;\">                        0</td><td>                 </td><td style=\"text-align: right;\">                   1</td><td>35f59_00041</td><td style=\"text-align: right;\">   0.007411  </td></tr>\n",
       "<tr><td>train_mlp_35f59_00042</td><td>2023-02-27_17-37-13</td><td>True  </td><td>                </td><td>8aabe389352d4f999173d5741cb02d0f</td><td>                                              </td><td>Nipuns-iMac-8.local</td><td style=\"text-align: right;\">                         1</td><td style=\"text-align: right;\">76.324 </td><td>127.0.0.1</td><td style=\"text-align: right;\">89850</td><td>ok      </td><td style=\"text-align: right;\">             3.69612</td><td style=\"text-align: right;\">           3.69612</td><td style=\"text-align: right;\">       3.69612</td><td style=\"text-align: right;\"> 1677499633</td><td style=\"text-align: right;\">                        0</td><td>                 </td><td style=\"text-align: right;\">                   1</td><td>35f59_00042</td><td style=\"text-align: right;\">   0.00784588</td></tr>\n",
       "<tr><td>train_mlp_35f59_00043</td><td>2023-02-27_17-37-12</td><td>True  </td><td>                </td><td>ca31625bc2ad4a49a2ac00a342bd66a2</td><td>                                              </td><td>Nipuns-iMac-8.local</td><td style=\"text-align: right;\">                         1</td><td style=\"text-align: right;\">76.3143</td><td>127.0.0.1</td><td style=\"text-align: right;\">89847</td><td>ok      </td><td style=\"text-align: right;\">             3.11611</td><td style=\"text-align: right;\">           3.11611</td><td style=\"text-align: right;\">       3.11611</td><td style=\"text-align: right;\"> 1677499632</td><td style=\"text-align: right;\">                        0</td><td>                 </td><td style=\"text-align: right;\">                   1</td><td>35f59_00043</td><td style=\"text-align: right;\">   0.0119791 </td></tr>\n",
       "<tr><td>train_mlp_35f59_00044</td><td>2023-02-27_17-37-13</td><td>True  </td><td>                </td><td>6ef63a35bb36442cbc929b64162ad3d2</td><td>44_l1=128,l2=4,l2_reg=0.0310,l3=64,lr=0.0011  </td><td>Nipuns-iMac-8.local</td><td style=\"text-align: right;\">                         1</td><td style=\"text-align: right;\">51.9269</td><td>127.0.0.1</td><td style=\"text-align: right;\">89845</td><td>ok      </td><td style=\"text-align: right;\">             3.56572</td><td style=\"text-align: right;\">           3.56572</td><td style=\"text-align: right;\">       3.56572</td><td style=\"text-align: right;\"> 1677499633</td><td style=\"text-align: right;\">                        0</td><td>                 </td><td style=\"text-align: right;\">                   1</td><td>35f59_00044</td><td style=\"text-align: right;\">   0.00866914</td></tr>\n",
       "<tr><td>train_mlp_35f59_00045</td><td>2023-02-27_17-37-13</td><td>True  </td><td>                </td><td>7cb4dca974674348981181d60456309f</td><td>                                              </td><td>Nipuns-iMac-8.local</td><td style=\"text-align: right;\">                         1</td><td style=\"text-align: right;\">76.2176</td><td>127.0.0.1</td><td style=\"text-align: right;\">89849</td><td>ok      </td><td style=\"text-align: right;\">             3.1295 </td><td style=\"text-align: right;\">           3.1295 </td><td style=\"text-align: right;\">       3.1295 </td><td style=\"text-align: right;\"> 1677499633</td><td style=\"text-align: right;\">                        0</td><td>                 </td><td style=\"text-align: right;\">                   1</td><td>35f59_00045</td><td style=\"text-align: right;\">   0.00764704</td></tr>\n",
       "<tr><td>train_mlp_35f59_00046</td><td>2023-02-27_17-37-14</td><td>True  </td><td>                </td><td>6bd8a679f4a44679b53483e52891389b</td><td>46_l1=128,l2=64,l2_reg=0.0006,l3=4,lr=0.0518  </td><td>Nipuns-iMac-8.local</td><td style=\"text-align: right;\">                         1</td><td style=\"text-align: right;\">70.8599</td><td>127.0.0.1</td><td style=\"text-align: right;\">89835</td><td>ok      </td><td style=\"text-align: right;\">             3.64889</td><td style=\"text-align: right;\">           3.64889</td><td style=\"text-align: right;\">       3.64889</td><td style=\"text-align: right;\"> 1677499634</td><td style=\"text-align: right;\">                        0</td><td>                 </td><td style=\"text-align: right;\">                   1</td><td>35f59_00046</td><td style=\"text-align: right;\">   0.0225301 </td></tr>\n",
       "<tr><td>train_mlp_35f59_00047</td><td>2023-02-27_17-37-13</td><td>True  </td><td>                </td><td>3581107a516f4bf4b18826a6a8ad33ed</td><td>                                              </td><td>Nipuns-iMac-8.local</td><td style=\"text-align: right;\">                         1</td><td style=\"text-align: right;\">76.2149</td><td>127.0.0.1</td><td style=\"text-align: right;\">89836</td><td>ok      </td><td style=\"text-align: right;\">             3.08232</td><td style=\"text-align: right;\">           3.08232</td><td style=\"text-align: right;\">       3.08232</td><td style=\"text-align: right;\"> 1677499633</td><td style=\"text-align: right;\">                        0</td><td>                 </td><td style=\"text-align: right;\">                   1</td><td>35f59_00047</td><td style=\"text-align: right;\">   0.023632  </td></tr>\n",
       "<tr><td>train_mlp_35f59_00048</td><td>2023-02-27_17-37-15</td><td>True  </td><td>                </td><td>8339bd9177fb40a9a47cae442d7e3654</td><td>48_l1=64,l2=128,l2_reg=0.0004,l3=256,lr=0.0003</td><td>Nipuns-iMac-8.local</td><td style=\"text-align: right;\">                         1</td><td style=\"text-align: right;\">75.4924</td><td>127.0.0.1</td><td style=\"text-align: right;\">89838</td><td>ok      </td><td style=\"text-align: right;\">             4.17623</td><td style=\"text-align: right;\">           4.17623</td><td style=\"text-align: right;\">       4.17623</td><td style=\"text-align: right;\"> 1677499635</td><td style=\"text-align: right;\">                        0</td><td>                 </td><td style=\"text-align: right;\">                   1</td><td>35f59_00048</td><td style=\"text-align: right;\">   0.0128722 </td></tr>\n",
       "<tr><td>train_mlp_35f59_00049</td><td>2023-02-27_17-37-14</td><td>True  </td><td>                </td><td>8612e489162c4c12ab96d304abee66c8</td><td>49_l1=256,l2=16,l2_reg=0.0003,l3=4,lr=0.0113  </td><td>Nipuns-iMac-8.local</td><td style=\"text-align: right;\">                         1</td><td style=\"text-align: right;\">69.595 </td><td>127.0.0.1</td><td style=\"text-align: right;\">89844</td><td>ok      </td><td style=\"text-align: right;\">             3.0585 </td><td style=\"text-align: right;\">           3.0585 </td><td style=\"text-align: right;\">       3.0585 </td><td style=\"text-align: right;\"> 1677499634</td><td style=\"text-align: right;\">                        0</td><td>                 </td><td style=\"text-align: right;\">                   1</td><td>35f59_00049</td><td style=\"text-align: right;\">   0.00788832</td></tr>\n",
       "</tbody>\n",
       "</table>\n",
       "</div>\n",
       "<style>\n",
       ".trialProgress {\n",
       "  display: flex;\n",
       "  flex-direction: column;\n",
       "  color: var(--jp-ui-font-color1);\n",
       "}\n",
       ".trialProgress h3 {\n",
       "  font-weight: bold;\n",
       "}\n",
       ".trialProgress td {\n",
       "  white-space: nowrap;\n",
       "}\n",
       "</style>\n"
      ],
      "text/plain": [
       "<IPython.core.display.HTML object>"
      ]
     },
     "metadata": {},
     "output_type": "display_data"
    },
    {
     "name": "stderr",
     "output_type": "stream",
     "text": [
      "2023-02-27 17:37:15,412\tINFO tune.py:762 -- Total run time: 27.43 seconds (27.16 seconds for the tuning loop).\n"
     ]
    }
   ],
   "source": [
    "ray.shutdown()\n",
    "\n",
    "ray.init()\n",
    "scheduler = ASHAScheduler(\n",
    "    metric=\"loss\",\n",
    "    mode=\"min\",\n",
    "    max_t=100,\n",
    "    grace_period=1,\n",
    "    reduction_factor=2)\n",
    "\n",
    "reporter = CLIReporter(\n",
    "    parameter_columns=[\"l1\", \"l2\", \"l3\", \"lr\", \"l2_reg\"],\n",
    "    metric_columns=[\"loss\", \"training_iteration\"])\n",
    "\n",
    "analysis = tune.run(\n",
    "    train_mlp,\n",
    "    resources_per_trial={\"cpu\": 1},\n",
    "    config={\n",
    "        \"l1\": tune.choice([2, 4, 16, 32, 64, 128, 256]),\n",
    "        \"l2\": tune.choice([2, 4, 16, 32, 64, 128, 256]),\n",
    "        \"l3\": tune.choice([2, 4, 16, 32, 64, 128, 256]),\n",
    "        \"l2_reg\": tune.loguniform(1e-4, 1.0),\n",
    "        \"lr\": tune.loguniform(1e-4, 1.0),\n",
    "    },\n",
    "    num_samples=50,\n",
    "    scheduler=scheduler,\n",
    "    progress_reporter=reporter)\n",
    "\n"
   ]
  },
  {
   "cell_type": "code",
   "execution_count": 182,
   "id": "535a30ba",
   "metadata": {},
   "outputs": [
    {
     "data": {
      "text/html": [
       "<div>\n",
       "<style scoped>\n",
       "    .dataframe tbody tr th:only-of-type {\n",
       "        vertical-align: middle;\n",
       "    }\n",
       "\n",
       "    .dataframe tbody tr th {\n",
       "        vertical-align: top;\n",
       "    }\n",
       "\n",
       "    .dataframe thead th {\n",
       "        text-align: right;\n",
       "    }\n",
       "</style>\n",
       "<table border=\"1\" class=\"dataframe\">\n",
       "  <thead>\n",
       "    <tr style=\"text-align: right;\">\n",
       "      <th></th>\n",
       "      <th>loss</th>\n",
       "      <th>config/l1</th>\n",
       "      <th>config/l2</th>\n",
       "      <th>config/l3</th>\n",
       "      <th>config/lr</th>\n",
       "      <th>config/l2_reg</th>\n",
       "    </tr>\n",
       "    <tr>\n",
       "      <th>trial_id</th>\n",
       "      <th></th>\n",
       "      <th></th>\n",
       "      <th></th>\n",
       "      <th></th>\n",
       "      <th></th>\n",
       "      <th></th>\n",
       "    </tr>\n",
       "  </thead>\n",
       "  <tbody>\n",
       "    <tr>\n",
       "      <th>35f59_00008</th>\n",
       "      <td>51.860286</td>\n",
       "      <td>256</td>\n",
       "      <td>16</td>\n",
       "      <td>2</td>\n",
       "      <td>0.022433</td>\n",
       "      <td>0.028044</td>\n",
       "    </tr>\n",
       "    <tr>\n",
       "      <th>35f59_00044</th>\n",
       "      <td>51.926864</td>\n",
       "      <td>128</td>\n",
       "      <td>4</td>\n",
       "      <td>64</td>\n",
       "      <td>0.001139</td>\n",
       "      <td>0.031031</td>\n",
       "    </tr>\n",
       "    <tr>\n",
       "      <th>35f59_00034</th>\n",
       "      <td>53.705805</td>\n",
       "      <td>128</td>\n",
       "      <td>2</td>\n",
       "      <td>4</td>\n",
       "      <td>0.000778</td>\n",
       "      <td>0.001340</td>\n",
       "    </tr>\n",
       "    <tr>\n",
       "      <th>35f59_00013</th>\n",
       "      <td>54.242451</td>\n",
       "      <td>4</td>\n",
       "      <td>32</td>\n",
       "      <td>4</td>\n",
       "      <td>0.001241</td>\n",
       "      <td>0.000884</td>\n",
       "    </tr>\n",
       "    <tr>\n",
       "      <th>35f59_00006</th>\n",
       "      <td>54.350125</td>\n",
       "      <td>2</td>\n",
       "      <td>64</td>\n",
       "      <td>32</td>\n",
       "      <td>0.002993</td>\n",
       "      <td>0.001127</td>\n",
       "    </tr>\n",
       "    <tr>\n",
       "      <th>35f59_00004</th>\n",
       "      <td>54.654366</td>\n",
       "      <td>32</td>\n",
       "      <td>16</td>\n",
       "      <td>2</td>\n",
       "      <td>0.000930</td>\n",
       "      <td>0.000685</td>\n",
       "    </tr>\n",
       "    <tr>\n",
       "      <th>35f59_00009</th>\n",
       "      <td>55.334703</td>\n",
       "      <td>16</td>\n",
       "      <td>64</td>\n",
       "      <td>2</td>\n",
       "      <td>0.000653</td>\n",
       "      <td>0.002193</td>\n",
       "    </tr>\n",
       "    <tr>\n",
       "      <th>35f59_00035</th>\n",
       "      <td>58.680090</td>\n",
       "      <td>4</td>\n",
       "      <td>16</td>\n",
       "      <td>256</td>\n",
       "      <td>0.068746</td>\n",
       "      <td>0.000939</td>\n",
       "    </tr>\n",
       "    <tr>\n",
       "      <th>35f59_00005</th>\n",
       "      <td>60.580389</td>\n",
       "      <td>2</td>\n",
       "      <td>16</td>\n",
       "      <td>64</td>\n",
       "      <td>0.072716</td>\n",
       "      <td>0.000170</td>\n",
       "    </tr>\n",
       "    <tr>\n",
       "      <th>35f59_00028</th>\n",
       "      <td>61.635940</td>\n",
       "      <td>64</td>\n",
       "      <td>16</td>\n",
       "      <td>128</td>\n",
       "      <td>0.069744</td>\n",
       "      <td>0.013903</td>\n",
       "    </tr>\n",
       "    <tr>\n",
       "      <th>35f59_00012</th>\n",
       "      <td>64.671458</td>\n",
       "      <td>128</td>\n",
       "      <td>32</td>\n",
       "      <td>4</td>\n",
       "      <td>0.000357</td>\n",
       "      <td>0.000676</td>\n",
       "    </tr>\n",
       "    <tr>\n",
       "      <th>35f59_00033</th>\n",
       "      <td>65.050134</td>\n",
       "      <td>128</td>\n",
       "      <td>16</td>\n",
       "      <td>32</td>\n",
       "      <td>0.041223</td>\n",
       "      <td>0.001336</td>\n",
       "    </tr>\n",
       "    <tr>\n",
       "      <th>35f59_00017</th>\n",
       "      <td>68.573532</td>\n",
       "      <td>128</td>\n",
       "      <td>64</td>\n",
       "      <td>128</td>\n",
       "      <td>0.018060</td>\n",
       "      <td>0.000359</td>\n",
       "    </tr>\n",
       "    <tr>\n",
       "      <th>35f59_00049</th>\n",
       "      <td>69.594981</td>\n",
       "      <td>256</td>\n",
       "      <td>16</td>\n",
       "      <td>4</td>\n",
       "      <td>0.011274</td>\n",
       "      <td>0.000298</td>\n",
       "    </tr>\n",
       "    <tr>\n",
       "      <th>35f59_00027</th>\n",
       "      <td>70.542371</td>\n",
       "      <td>128</td>\n",
       "      <td>4</td>\n",
       "      <td>16</td>\n",
       "      <td>0.092073</td>\n",
       "      <td>0.000248</td>\n",
       "    </tr>\n",
       "    <tr>\n",
       "      <th>35f59_00046</th>\n",
       "      <td>70.859905</td>\n",
       "      <td>128</td>\n",
       "      <td>64</td>\n",
       "      <td>4</td>\n",
       "      <td>0.051768</td>\n",
       "      <td>0.000564</td>\n",
       "    </tr>\n",
       "    <tr>\n",
       "      <th>35f59_00010</th>\n",
       "      <td>71.201565</td>\n",
       "      <td>128</td>\n",
       "      <td>128</td>\n",
       "      <td>16</td>\n",
       "      <td>0.019798</td>\n",
       "      <td>0.003775</td>\n",
       "    </tr>\n",
       "    <tr>\n",
       "      <th>35f59_00038</th>\n",
       "      <td>71.217496</td>\n",
       "      <td>256</td>\n",
       "      <td>32</td>\n",
       "      <td>16</td>\n",
       "      <td>0.000884</td>\n",
       "      <td>0.014519</td>\n",
       "    </tr>\n",
       "    <tr>\n",
       "      <th>35f59_00025</th>\n",
       "      <td>73.522889</td>\n",
       "      <td>64</td>\n",
       "      <td>128</td>\n",
       "      <td>2</td>\n",
       "      <td>0.011077</td>\n",
       "      <td>0.002750</td>\n",
       "    </tr>\n",
       "    <tr>\n",
       "      <th>35f59_00048</th>\n",
       "      <td>75.492391</td>\n",
       "      <td>64</td>\n",
       "      <td>128</td>\n",
       "      <td>256</td>\n",
       "      <td>0.000340</td>\n",
       "      <td>0.000369</td>\n",
       "    </tr>\n",
       "    <tr>\n",
       "      <th>35f59_00019</th>\n",
       "      <td>76.090486</td>\n",
       "      <td>128</td>\n",
       "      <td>128</td>\n",
       "      <td>16</td>\n",
       "      <td>0.039095</td>\n",
       "      <td>0.000994</td>\n",
       "    </tr>\n",
       "    <tr>\n",
       "      <th>35f59_00024</th>\n",
       "      <td>76.112384</td>\n",
       "      <td>4</td>\n",
       "      <td>256</td>\n",
       "      <td>32</td>\n",
       "      <td>0.119839</td>\n",
       "      <td>0.950569</td>\n",
       "    </tr>\n",
       "    <tr>\n",
       "      <th>35f59_00023</th>\n",
       "      <td>76.149197</td>\n",
       "      <td>4</td>\n",
       "      <td>32</td>\n",
       "      <td>16</td>\n",
       "      <td>0.502757</td>\n",
       "      <td>0.188885</td>\n",
       "    </tr>\n",
       "    <tr>\n",
       "      <th>35f59_00003</th>\n",
       "      <td>76.206626</td>\n",
       "      <td>32</td>\n",
       "      <td>4</td>\n",
       "      <td>256</td>\n",
       "      <td>0.026851</td>\n",
       "      <td>0.464832</td>\n",
       "    </tr>\n",
       "    <tr>\n",
       "      <th>35f59_00007</th>\n",
       "      <td>76.206978</td>\n",
       "      <td>4</td>\n",
       "      <td>64</td>\n",
       "      <td>128</td>\n",
       "      <td>0.011746</td>\n",
       "      <td>0.985915</td>\n",
       "    </tr>\n",
       "    <tr>\n",
       "      <th>35f59_00014</th>\n",
       "      <td>76.208852</td>\n",
       "      <td>64</td>\n",
       "      <td>4</td>\n",
       "      <td>32</td>\n",
       "      <td>0.008491</td>\n",
       "      <td>0.015382</td>\n",
       "    </tr>\n",
       "    <tr>\n",
       "      <th>35f59_00001</th>\n",
       "      <td>76.211995</td>\n",
       "      <td>4</td>\n",
       "      <td>2</td>\n",
       "      <td>2</td>\n",
       "      <td>0.068033</td>\n",
       "      <td>0.012912</td>\n",
       "    </tr>\n",
       "    <tr>\n",
       "      <th>35f59_00002</th>\n",
       "      <td>76.212240</td>\n",
       "      <td>4</td>\n",
       "      <td>64</td>\n",
       "      <td>16</td>\n",
       "      <td>0.014903</td>\n",
       "      <td>0.107335</td>\n",
       "    </tr>\n",
       "    <tr>\n",
       "      <th>35f59_00011</th>\n",
       "      <td>76.213699</td>\n",
       "      <td>32</td>\n",
       "      <td>16</td>\n",
       "      <td>4</td>\n",
       "      <td>0.038249</td>\n",
       "      <td>0.004508</td>\n",
       "    </tr>\n",
       "    <tr>\n",
       "      <th>35f59_00047</th>\n",
       "      <td>76.214916</td>\n",
       "      <td>128</td>\n",
       "      <td>4</td>\n",
       "      <td>4</td>\n",
       "      <td>0.084245</td>\n",
       "      <td>0.002198</td>\n",
       "    </tr>\n",
       "    <tr>\n",
       "      <th>35f59_00026</th>\n",
       "      <td>76.215076</td>\n",
       "      <td>256</td>\n",
       "      <td>64</td>\n",
       "      <td>2</td>\n",
       "      <td>0.002825</td>\n",
       "      <td>0.482035</td>\n",
       "    </tr>\n",
       "    <tr>\n",
       "      <th>35f59_00032</th>\n",
       "      <td>76.215924</td>\n",
       "      <td>64</td>\n",
       "      <td>32</td>\n",
       "      <td>32</td>\n",
       "      <td>0.000898</td>\n",
       "      <td>0.119497</td>\n",
       "    </tr>\n",
       "    <tr>\n",
       "      <th>35f59_00016</th>\n",
       "      <td>76.216275</td>\n",
       "      <td>16</td>\n",
       "      <td>32</td>\n",
       "      <td>128</td>\n",
       "      <td>0.490717</td>\n",
       "      <td>0.006318</td>\n",
       "    </tr>\n",
       "    <tr>\n",
       "      <th>35f59_00029</th>\n",
       "      <td>76.216279</td>\n",
       "      <td>256</td>\n",
       "      <td>2</td>\n",
       "      <td>256</td>\n",
       "      <td>0.333372</td>\n",
       "      <td>0.002088</td>\n",
       "    </tr>\n",
       "    <tr>\n",
       "      <th>35f59_00031</th>\n",
       "      <td>76.216290</td>\n",
       "      <td>256</td>\n",
       "      <td>16</td>\n",
       "      <td>32</td>\n",
       "      <td>0.729804</td>\n",
       "      <td>0.000192</td>\n",
       "    </tr>\n",
       "    <tr>\n",
       "      <th>35f59_00039</th>\n",
       "      <td>76.216323</td>\n",
       "      <td>2</td>\n",
       "      <td>64</td>\n",
       "      <td>64</td>\n",
       "      <td>0.385527</td>\n",
       "      <td>0.002554</td>\n",
       "    </tr>\n",
       "    <tr>\n",
       "      <th>35f59_00022</th>\n",
       "      <td>76.216412</td>\n",
       "      <td>64</td>\n",
       "      <td>64</td>\n",
       "      <td>128</td>\n",
       "      <td>0.285929</td>\n",
       "      <td>0.036747</td>\n",
       "    </tr>\n",
       "    <tr>\n",
       "      <th>35f59_00036</th>\n",
       "      <td>76.216638</td>\n",
       "      <td>32</td>\n",
       "      <td>2</td>\n",
       "      <td>2</td>\n",
       "      <td>0.001269</td>\n",
       "      <td>0.117358</td>\n",
       "    </tr>\n",
       "    <tr>\n",
       "      <th>35f59_00030</th>\n",
       "      <td>76.217469</td>\n",
       "      <td>32</td>\n",
       "      <td>64</td>\n",
       "      <td>256</td>\n",
       "      <td>0.001457</td>\n",
       "      <td>0.766590</td>\n",
       "    </tr>\n",
       "    <tr>\n",
       "      <th>35f59_00045</th>\n",
       "      <td>76.217618</td>\n",
       "      <td>64</td>\n",
       "      <td>2</td>\n",
       "      <td>32</td>\n",
       "      <td>0.003502</td>\n",
       "      <td>0.293828</td>\n",
       "    </tr>\n",
       "    <tr>\n",
       "      <th>35f59_00020</th>\n",
       "      <td>76.222641</td>\n",
       "      <td>4</td>\n",
       "      <td>256</td>\n",
       "      <td>128</td>\n",
       "      <td>0.012238</td>\n",
       "      <td>0.063062</td>\n",
       "    </tr>\n",
       "    <tr>\n",
       "      <th>35f59_00021</th>\n",
       "      <td>76.224926</td>\n",
       "      <td>128</td>\n",
       "      <td>16</td>\n",
       "      <td>64</td>\n",
       "      <td>0.042213</td>\n",
       "      <td>0.960246</td>\n",
       "    </tr>\n",
       "    <tr>\n",
       "      <th>35f59_00000</th>\n",
       "      <td>76.234355</td>\n",
       "      <td>128</td>\n",
       "      <td>4</td>\n",
       "      <td>32</td>\n",
       "      <td>0.031697</td>\n",
       "      <td>0.375593</td>\n",
       "    </tr>\n",
       "    <tr>\n",
       "      <th>35f59_00043</th>\n",
       "      <td>76.314334</td>\n",
       "      <td>2</td>\n",
       "      <td>4</td>\n",
       "      <td>16</td>\n",
       "      <td>0.040381</td>\n",
       "      <td>0.211548</td>\n",
       "    </tr>\n",
       "    <tr>\n",
       "      <th>35f59_00042</th>\n",
       "      <td>76.324022</td>\n",
       "      <td>128</td>\n",
       "      <td>4</td>\n",
       "      <td>16</td>\n",
       "      <td>0.095001</td>\n",
       "      <td>0.140005</td>\n",
       "    </tr>\n",
       "    <tr>\n",
       "      <th>35f59_00041</th>\n",
       "      <td>76.335945</td>\n",
       "      <td>64</td>\n",
       "      <td>32</td>\n",
       "      <td>4</td>\n",
       "      <td>0.712716</td>\n",
       "      <td>0.349187</td>\n",
       "    </tr>\n",
       "    <tr>\n",
       "      <th>35f59_00018</th>\n",
       "      <td>76.614168</td>\n",
       "      <td>2</td>\n",
       "      <td>32</td>\n",
       "      <td>16</td>\n",
       "      <td>0.449600</td>\n",
       "      <td>0.728851</td>\n",
       "    </tr>\n",
       "    <tr>\n",
       "      <th>35f59_00040</th>\n",
       "      <td>76.691083</td>\n",
       "      <td>256</td>\n",
       "      <td>32</td>\n",
       "      <td>64</td>\n",
       "      <td>0.005669</td>\n",
       "      <td>0.001025</td>\n",
       "    </tr>\n",
       "    <tr>\n",
       "      <th>35f59_00015</th>\n",
       "      <td>79.460800</td>\n",
       "      <td>128</td>\n",
       "      <td>32</td>\n",
       "      <td>16</td>\n",
       "      <td>0.001302</td>\n",
       "      <td>0.004884</td>\n",
       "    </tr>\n",
       "    <tr>\n",
       "      <th>35f59_00037</th>\n",
       "      <td>79.906527</td>\n",
       "      <td>64</td>\n",
       "      <td>4</td>\n",
       "      <td>4</td>\n",
       "      <td>0.005513</td>\n",
       "      <td>0.000191</td>\n",
       "    </tr>\n",
       "  </tbody>\n",
       "</table>\n",
       "</div>"
      ],
      "text/plain": [
       "                  loss  config/l1  config/l2  config/l3  config/lr  \\\n",
       "trial_id                                                             \n",
       "35f59_00008  51.860286        256         16          2   0.022433   \n",
       "35f59_00044  51.926864        128          4         64   0.001139   \n",
       "35f59_00034  53.705805        128          2          4   0.000778   \n",
       "35f59_00013  54.242451          4         32          4   0.001241   \n",
       "35f59_00006  54.350125          2         64         32   0.002993   \n",
       "35f59_00004  54.654366         32         16          2   0.000930   \n",
       "35f59_00009  55.334703         16         64          2   0.000653   \n",
       "35f59_00035  58.680090          4         16        256   0.068746   \n",
       "35f59_00005  60.580389          2         16         64   0.072716   \n",
       "35f59_00028  61.635940         64         16        128   0.069744   \n",
       "35f59_00012  64.671458        128         32          4   0.000357   \n",
       "35f59_00033  65.050134        128         16         32   0.041223   \n",
       "35f59_00017  68.573532        128         64        128   0.018060   \n",
       "35f59_00049  69.594981        256         16          4   0.011274   \n",
       "35f59_00027  70.542371        128          4         16   0.092073   \n",
       "35f59_00046  70.859905        128         64          4   0.051768   \n",
       "35f59_00010  71.201565        128        128         16   0.019798   \n",
       "35f59_00038  71.217496        256         32         16   0.000884   \n",
       "35f59_00025  73.522889         64        128          2   0.011077   \n",
       "35f59_00048  75.492391         64        128        256   0.000340   \n",
       "35f59_00019  76.090486        128        128         16   0.039095   \n",
       "35f59_00024  76.112384          4        256         32   0.119839   \n",
       "35f59_00023  76.149197          4         32         16   0.502757   \n",
       "35f59_00003  76.206626         32          4        256   0.026851   \n",
       "35f59_00007  76.206978          4         64        128   0.011746   \n",
       "35f59_00014  76.208852         64          4         32   0.008491   \n",
       "35f59_00001  76.211995          4          2          2   0.068033   \n",
       "35f59_00002  76.212240          4         64         16   0.014903   \n",
       "35f59_00011  76.213699         32         16          4   0.038249   \n",
       "35f59_00047  76.214916        128          4          4   0.084245   \n",
       "35f59_00026  76.215076        256         64          2   0.002825   \n",
       "35f59_00032  76.215924         64         32         32   0.000898   \n",
       "35f59_00016  76.216275         16         32        128   0.490717   \n",
       "35f59_00029  76.216279        256          2        256   0.333372   \n",
       "35f59_00031  76.216290        256         16         32   0.729804   \n",
       "35f59_00039  76.216323          2         64         64   0.385527   \n",
       "35f59_00022  76.216412         64         64        128   0.285929   \n",
       "35f59_00036  76.216638         32          2          2   0.001269   \n",
       "35f59_00030  76.217469         32         64        256   0.001457   \n",
       "35f59_00045  76.217618         64          2         32   0.003502   \n",
       "35f59_00020  76.222641          4        256        128   0.012238   \n",
       "35f59_00021  76.224926        128         16         64   0.042213   \n",
       "35f59_00000  76.234355        128          4         32   0.031697   \n",
       "35f59_00043  76.314334          2          4         16   0.040381   \n",
       "35f59_00042  76.324022        128          4         16   0.095001   \n",
       "35f59_00041  76.335945         64         32          4   0.712716   \n",
       "35f59_00018  76.614168          2         32         16   0.449600   \n",
       "35f59_00040  76.691083        256         32         64   0.005669   \n",
       "35f59_00015  79.460800        128         32         16   0.001302   \n",
       "35f59_00037  79.906527         64          4          4   0.005513   \n",
       "\n",
       "             config/l2_reg  \n",
       "trial_id                    \n",
       "35f59_00008       0.028044  \n",
       "35f59_00044       0.031031  \n",
       "35f59_00034       0.001340  \n",
       "35f59_00013       0.000884  \n",
       "35f59_00006       0.001127  \n",
       "35f59_00004       0.000685  \n",
       "35f59_00009       0.002193  \n",
       "35f59_00035       0.000939  \n",
       "35f59_00005       0.000170  \n",
       "35f59_00028       0.013903  \n",
       "35f59_00012       0.000676  \n",
       "35f59_00033       0.001336  \n",
       "35f59_00017       0.000359  \n",
       "35f59_00049       0.000298  \n",
       "35f59_00027       0.000248  \n",
       "35f59_00046       0.000564  \n",
       "35f59_00010       0.003775  \n",
       "35f59_00038       0.014519  \n",
       "35f59_00025       0.002750  \n",
       "35f59_00048       0.000369  \n",
       "35f59_00019       0.000994  \n",
       "35f59_00024       0.950569  \n",
       "35f59_00023       0.188885  \n",
       "35f59_00003       0.464832  \n",
       "35f59_00007       0.985915  \n",
       "35f59_00014       0.015382  \n",
       "35f59_00001       0.012912  \n",
       "35f59_00002       0.107335  \n",
       "35f59_00011       0.004508  \n",
       "35f59_00047       0.002198  \n",
       "35f59_00026       0.482035  \n",
       "35f59_00032       0.119497  \n",
       "35f59_00016       0.006318  \n",
       "35f59_00029       0.002088  \n",
       "35f59_00031       0.000192  \n",
       "35f59_00039       0.002554  \n",
       "35f59_00022       0.036747  \n",
       "35f59_00036       0.117358  \n",
       "35f59_00030       0.766590  \n",
       "35f59_00045       0.293828  \n",
       "35f59_00020       0.063062  \n",
       "35f59_00021       0.960246  \n",
       "35f59_00000       0.375593  \n",
       "35f59_00043       0.211548  \n",
       "35f59_00042       0.140005  \n",
       "35f59_00041       0.349187  \n",
       "35f59_00018       0.728851  \n",
       "35f59_00040       0.001025  \n",
       "35f59_00015       0.004884  \n",
       "35f59_00037       0.000191  "
      ]
     },
     "execution_count": 182,
     "metadata": {},
     "output_type": "execute_result"
    }
   ],
   "source": [
    "# Print the table for all the trials\n",
    "df = analysis.results_df\n",
    "\n",
    "# Sort the table by loss\n",
    "df.sort_values(by=\"loss\", inplace=True)\n",
    "\n",
    "# Show only loss, config/l1, config/l2, config/l3, config/lr, training_iteration\n",
    "df[[\"loss\", \"config/l1\", \"config/l2\", \"config/l3\", \"config/lr\", \"config/l2_reg\"]]"
   ]
  },
  {
   "cell_type": "code",
   "execution_count": 183,
   "id": "f62a3436",
   "metadata": {},
   "outputs": [
    {
     "data": {
      "text/plain": [
       "{'l1': 256,\n",
       " 'l2': 16,\n",
       " 'l3': 2,\n",
       " 'l2_reg': 0.02804441527734549,\n",
       " 'lr': 0.02243305160125706}"
      ]
     },
     "execution_count": 183,
     "metadata": {},
     "output_type": "execute_result"
    }
   ],
   "source": [
    "# Print the best hyperparameters\n",
    "\n",
    "analysis.get_best_config(metric=\"loss\", mode=\"min\")"
   ]
  },
  {
   "cell_type": "code",
   "execution_count": 184,
   "id": "b702e57c",
   "metadata": {},
   "outputs": [
    {
     "name": "stdout",
     "output_type": "stream",
     "text": [
      "Test RMSE: 72.44006516868477\n",
      "\n"
     ]
    }
   ],
   "source": [
    "# Perform the final test on the test set\n",
    "\n",
    "best_config = analysis.get_best_config(metric=\"loss\", mode=\"min\")\n",
    "\n",
    "# Use the best hyperparameters to train the model\n",
    "net = Net(best_config[\"l1\"], best_config[\"l2\"], best_config[\"l3\"], best_config[\"l2_reg\"])\n",
    "criterion = nn.MSELoss()\n",
    "optimizer = optim.Adam(net.parameters(), lr=best_config[\"lr\"])\n",
    "for epoch in range(1000):  # loop over the dataset multiple times and store the train, test loss\n",
    "    optimizer.zero_grad()\n",
    "    outputs = net(X_train_torch)\n",
    "    loss = criterion(outputs, y_train_scaled)\n",
    "    # Add L2 regularization\n",
    "    for param in net.parameters():\n",
    "        loss += net.l2_reg * torch.norm(param)\n",
    "\n",
    "    \n",
    "    loss.backward()\n",
    "    optimizer.step()\n",
    "\n",
    "with torch.no_grad():\n",
    "    outputs = net(X_test_torch)\n",
    "    # Inverse transform the scaled y values to get the original y values\n",
    "    y_pred = scaler.inverse_transform(outputs.numpy())\n",
    "    loss = np.sqrt(mean_squared_error(y_test, y_pred))\n",
    "    print(f\"Test RMSE: {loss}\")\n",
    "    print(\"\")\n",
    "    "
   ]
  },
  {
   "cell_type": "code",
   "execution_count": 185,
   "id": "ba16683b",
   "metadata": {},
   "outputs": [
    {
     "data": {
      "text/html": [
       "<div>\n",
       "<style scoped>\n",
       "    .dataframe tbody tr th:only-of-type {\n",
       "        vertical-align: middle;\n",
       "    }\n",
       "\n",
       "    .dataframe tbody tr th {\n",
       "        vertical-align: top;\n",
       "    }\n",
       "\n",
       "    .dataframe thead th {\n",
       "        text-align: right;\n",
       "    }\n",
       "</style>\n",
       "<table border=\"1\" class=\"dataframe\">\n",
       "  <thead>\n",
       "    <tr style=\"text-align: right;\">\n",
       "      <th></th>\n",
       "      <th>loss</th>\n",
       "      <th>config/l1</th>\n",
       "      <th>config/l2</th>\n",
       "      <th>config/l3</th>\n",
       "      <th>config/lr</th>\n",
       "      <th>config/l2_reg</th>\n",
       "    </tr>\n",
       "    <tr>\n",
       "      <th>trial_id</th>\n",
       "      <th></th>\n",
       "      <th></th>\n",
       "      <th></th>\n",
       "      <th></th>\n",
       "      <th></th>\n",
       "      <th></th>\n",
       "    </tr>\n",
       "  </thead>\n",
       "  <tbody>\n",
       "    <tr>\n",
       "      <th>35f59_00008</th>\n",
       "      <td>51.860286</td>\n",
       "      <td>256</td>\n",
       "      <td>16</td>\n",
       "      <td>2</td>\n",
       "      <td>0.022433</td>\n",
       "      <td>0.028044</td>\n",
       "    </tr>\n",
       "    <tr>\n",
       "      <th>35f59_00044</th>\n",
       "      <td>51.926864</td>\n",
       "      <td>128</td>\n",
       "      <td>4</td>\n",
       "      <td>64</td>\n",
       "      <td>0.001139</td>\n",
       "      <td>0.031031</td>\n",
       "    </tr>\n",
       "    <tr>\n",
       "      <th>35f59_00034</th>\n",
       "      <td>53.705805</td>\n",
       "      <td>128</td>\n",
       "      <td>2</td>\n",
       "      <td>4</td>\n",
       "      <td>0.000778</td>\n",
       "      <td>0.001340</td>\n",
       "    </tr>\n",
       "    <tr>\n",
       "      <th>35f59_00013</th>\n",
       "      <td>54.242451</td>\n",
       "      <td>4</td>\n",
       "      <td>32</td>\n",
       "      <td>4</td>\n",
       "      <td>0.001241</td>\n",
       "      <td>0.000884</td>\n",
       "    </tr>\n",
       "    <tr>\n",
       "      <th>35f59_00006</th>\n",
       "      <td>54.350125</td>\n",
       "      <td>2</td>\n",
       "      <td>64</td>\n",
       "      <td>32</td>\n",
       "      <td>0.002993</td>\n",
       "      <td>0.001127</td>\n",
       "    </tr>\n",
       "  </tbody>\n",
       "</table>\n",
       "</div>"
      ],
      "text/plain": [
       "                  loss  config/l1  config/l2  config/l3  config/lr  \\\n",
       "trial_id                                                             \n",
       "35f59_00008  51.860286        256         16          2   0.022433   \n",
       "35f59_00044  51.926864        128          4         64   0.001139   \n",
       "35f59_00034  53.705805        128          2          4   0.000778   \n",
       "35f59_00013  54.242451          4         32          4   0.001241   \n",
       "35f59_00006  54.350125          2         64         32   0.002993   \n",
       "\n",
       "             config/l2_reg  \n",
       "trial_id                    \n",
       "35f59_00008       0.028044  \n",
       "35f59_00044       0.031031  \n",
       "35f59_00034       0.001340  \n",
       "35f59_00013       0.000884  \n",
       "35f59_00006       0.001127  "
      ]
     },
     "execution_count": 185,
     "metadata": {},
     "output_type": "execute_result"
    }
   ],
   "source": [
    "# Thus far it seems even with hyperparameter tuning we are unable to match the performance of ensemble models. \n",
    "\n",
    "# Get the top 5 configurations\n",
    "\n",
    "df[['loss', 'config/l1', 'config/l2', 'config/l3', 'config/lr', 'config/l2_reg']].head(5)\n"
   ]
  },
  {
   "cell_type": "code",
   "execution_count": 186,
   "id": "10c9b30c",
   "metadata": {},
   "outputs": [],
   "source": [
    "config_list_of_dicts = df[['config/l1', 'config/l2', 'config/l3', 'config/lr', 'config/l2_reg']].head(5).to_dict('records')\n",
    "\n",
    "# Train an ensemble of 5 models using the top 5 configurations\n",
    "\n",
    "ensemble = []\n",
    "for config in config_list_of_dicts:\n",
    "    net = Net(config[\"config/l1\"], config[\"config/l2\"], config[\"config/l3\"], config[\"config/l2_reg\"])\n",
    "    criterion = nn.MSELoss()\n",
    "    optimizer = optim.Adam(net.parameters(), lr=config[\"config/lr\"])\n",
    "    for epoch in range(2000):  # loop over the dataset multiple times and store the train, test loss\n",
    "        optimizer.zero_grad()\n",
    "        outputs = net(X_train_torch)\n",
    "        loss = criterion(outputs, y_train_scaled)\n",
    "        # Add L2 regularization\n",
    "        for param in net.parameters():\n",
    "            loss += net.l2_reg * torch.norm(param)\n",
    "        loss.backward()\n",
    "        optimizer.step()\n",
    "    ensemble.append(net)\n"
   ]
  },
  {
   "cell_type": "code",
   "execution_count": 188,
   "id": "d5f4d6d7",
   "metadata": {},
   "outputs": [
    {
     "name": "stdout",
     "output_type": "stream",
     "text": [
      "Test loss: 79.81030060105807\n"
     ]
    }
   ],
   "source": [
    "# Get the predictions from the ensemble\n",
    "\n",
    "ensemble_preds = []\n",
    "for net in ensemble:\n",
    "    with torch.no_grad():\n",
    "        outputs = net(X_test_torch)\n",
    "        # Scale the predictions back to the original scale\n",
    "        outputs = scaler.inverse_transform(outputs.numpy())\n",
    "        ensemble_preds.append(outputs)\n",
    "    \n",
    "ensemble_preds = np.array(ensemble_preds)\n",
    "\n",
    "# Get the mean of the predictions\n",
    "\n",
    "ensemble_preds_mean = ensemble_preds.mean(axis=0)\n",
    "\n",
    "# Get the RMSE of the ensemble\n",
    "\n",
    "criterion = nn.MSELoss()\n",
    "loss = criterion(torch.tensor(ensemble_preds_mean), y_test_torch)\n",
    "print(f\"Test loss: {np.sqrt(loss.item())}\")\n"
   ]
  },
  {
   "attachments": {},
   "cell_type": "markdown",
   "id": "cbe734d8",
   "metadata": {},
   "source": [
    "## Inputs to Meta Learning model\n",
    "\n",
    "\n",
    "### Data inputs\n",
    "\n",
    "1. Input vector: X is of shape N, D where N is the number of samples and D is the number of features\n",
    "2. Output vector: y is of shape N, 1\n",
    "\n",
    "### Encoder inputs\n",
    "\n",
    "3. Context vector: Containing C vectors of concatenated (X, y) pairs from the training set. Thus, shape of context vector is (C, D + 1)\n",
    "\n",
    "### Encoder internals\n",
    "-----------------\n",
    "4. Encoding: Encoder is a neural network that takes in the context vector and outputs a vector of shape (C, E) where E is the encoding size\n",
    "\n",
    "### Encoder outputs\n",
    "---------------\n",
    "5. Encoder summary: A vector of shape (E, ) that is the mean of the encoding\n",
    "\n",
    "### Decoder inputs\n",
    "--------------\n",
    "6. Query vector: Containing Q vectors of X from test set. Thus, shape of query vector is (Q, D)\n",
    "7. It also takes the encoder summary as input of size (E, ). But, we make Q copies of the encoder summary and concatenate it with the query vector to get a vector of shape (Q, E + D)\n",
    "\n",
    "### Decoder outputs\n",
    "-----------------\n",
    "8. Decoding: Decoder is a neural network that takes in the query vector and encoder summary and outputs a vector of shape (Q, 1)\n"
   ]
  },
  {
   "cell_type": "code",
   "execution_count": 41,
   "id": "272a7f29",
   "metadata": {},
   "outputs": [],
   "source": [
    "D = X_train_torch.shape[1]\n"
   ]
  },
  {
   "cell_type": "code",
   "execution_count": 82,
   "id": "4024cd4e",
   "metadata": {},
   "outputs": [],
   "source": [
    "# Building the encoder \n",
    "# Takes as input the number of features, the number of nodes in 3 hidden layers, and the L2 regularization parameter\n",
    "\n",
    "class Encoder(nn.Module):\n",
    "    def __init__(self, n_features = D+1, l1_size=32, l2_size=32, E = 32, l2_reg=0.0):\n",
    "        super(Encoder, self).__init__()\n",
    "        self.l1 = nn.Linear(n_features, l1_size)\n",
    "        self.l2 = nn.Linear(l1_size, l2_size)\n",
    "        self.l3 = nn.Linear(l2_size, E)\n",
    "        self.l2_reg = l2_reg\n",
    "        self.relu = nn.ReLU()\n",
    "        \n",
    "    def forward(self, x):\n",
    "        x = self.relu(self.l1(x))\n",
    "        x = self.relu(self.l2(x))\n",
    "        x = self.relu(self.l3(x))\n",
    "        return x\n"
   ]
  },
  {
   "cell_type": "code",
   "execution_count": 83,
   "id": "5e9b563f",
   "metadata": {},
   "outputs": [
    {
     "data": {
      "text/plain": [
       "(tensor([222, 206,  98, 156,  95]), tensor([243, 166]))"
      ]
     },
     "execution_count": 83,
     "metadata": {},
     "output_type": "execute_result"
    }
   ],
   "source": [
    "# Create C context vectors and pass them through the encoder\n",
    "\n",
    "C = 5\n",
    "Q = 2\n",
    "encoder = Encoder(E=32)\n",
    "\n",
    "# Create the context vectors input\n",
    "C_idx = np.random.choice(X_train_torch.shape[0], C, replace=False)\n",
    "C_idx = torch.tensor(C_idx)\n",
    "\n",
    "# Get the Q query vectors\n",
    "all_idx = np.arange(X_train_torch.shape[0])\n",
    "Q_idx = np.random.choice(np.setdiff1d(all_idx, C_idx), Q, replace=False)\n",
    "Q_idx = torch.tensor(Q_idx)\n",
    "\n",
    "C_idx, Q_idx"
   ]
  },
  {
   "cell_type": "code",
   "execution_count": 191,
   "id": "aeb57b69",
   "metadata": {},
   "outputs": [
    {
     "data": {
      "text/plain": [
       "(tensor([[ 0.0090, -0.0446, -0.0321, -0.0263,  0.0425, -0.0104,  0.1591, -0.0764,\n",
       "          -0.0119, -0.0384],\n",
       "         [ 0.0054,  0.0507,  0.0348, -0.0011,  0.1525,  0.1988, -0.0618,  0.1852,\n",
       "           0.0156,  0.0735],\n",
       "         [-0.0382, -0.0446,  0.0671, -0.0608, -0.0291, -0.0232, -0.0103, -0.0026,\n",
       "          -0.0015,  0.0196],\n",
       "         [ 0.0453,  0.0507,  0.0606,  0.0311,  0.0287, -0.0473, -0.0544,  0.0712,\n",
       "           0.1336,  0.1356],\n",
       "         [-0.0709, -0.0446,  0.0391, -0.0332, -0.0126, -0.0345, -0.0250, -0.0026,\n",
       "           0.0677, -0.0135]]),\n",
       " tensor([[-0.8287],\n",
       "         [-0.8666],\n",
       "         [-0.9423],\n",
       "         [ 1.1656],\n",
       "         [ 1.9860]]),\n",
       " tensor([ 87.,  84.,  78., 245., 310.]))"
      ]
     },
     "execution_count": 191,
     "metadata": {},
     "output_type": "execute_result"
    }
   ],
   "source": [
    "X_train_torch[C_idx], y_train_scaled[C_idx], y_train_torch[C_idx]"
   ]
  },
  {
   "cell_type": "code",
   "execution_count": 192,
   "id": "80f78d73",
   "metadata": {},
   "outputs": [
    {
     "data": {
      "text/html": [
       "<div>\n",
       "<style scoped>\n",
       "    .dataframe tbody tr th:only-of-type {\n",
       "        vertical-align: middle;\n",
       "    }\n",
       "\n",
       "    .dataframe tbody tr th {\n",
       "        vertical-align: top;\n",
       "    }\n",
       "\n",
       "    .dataframe thead th {\n",
       "        text-align: right;\n",
       "    }\n",
       "</style>\n",
       "<table border=\"1\" class=\"dataframe\">\n",
       "  <thead>\n",
       "    <tr style=\"text-align: right;\">\n",
       "      <th></th>\n",
       "      <th>0</th>\n",
       "      <th>1</th>\n",
       "      <th>2</th>\n",
       "      <th>3</th>\n",
       "      <th>4</th>\n",
       "      <th>5</th>\n",
       "      <th>6</th>\n",
       "      <th>7</th>\n",
       "      <th>8</th>\n",
       "      <th>9</th>\n",
       "      <th>10</th>\n",
       "    </tr>\n",
       "  </thead>\n",
       "  <tbody>\n",
       "    <tr>\n",
       "      <th>0</th>\n",
       "      <td>0.009016</td>\n",
       "      <td>-0.044642</td>\n",
       "      <td>-0.032073</td>\n",
       "      <td>-0.026328</td>\n",
       "      <td>0.042462</td>\n",
       "      <td>-0.010395</td>\n",
       "      <td>0.159089</td>\n",
       "      <td>-0.076395</td>\n",
       "      <td>-0.011901</td>\n",
       "      <td>-0.038357</td>\n",
       "      <td>-0.828744</td>\n",
       "    </tr>\n",
       "    <tr>\n",
       "      <th>1</th>\n",
       "      <td>0.005383</td>\n",
       "      <td>0.050680</td>\n",
       "      <td>0.034751</td>\n",
       "      <td>-0.001080</td>\n",
       "      <td>0.152538</td>\n",
       "      <td>0.198788</td>\n",
       "      <td>-0.061809</td>\n",
       "      <td>0.185234</td>\n",
       "      <td>0.015567</td>\n",
       "      <td>0.073480</td>\n",
       "      <td>-0.866611</td>\n",
       "    </tr>\n",
       "    <tr>\n",
       "      <th>2</th>\n",
       "      <td>-0.038207</td>\n",
       "      <td>-0.044642</td>\n",
       "      <td>0.067085</td>\n",
       "      <td>-0.060757</td>\n",
       "      <td>-0.029088</td>\n",
       "      <td>-0.023234</td>\n",
       "      <td>-0.010266</td>\n",
       "      <td>-0.002592</td>\n",
       "      <td>-0.001499</td>\n",
       "      <td>0.019633</td>\n",
       "      <td>-0.942345</td>\n",
       "    </tr>\n",
       "    <tr>\n",
       "      <th>3</th>\n",
       "      <td>0.045341</td>\n",
       "      <td>0.050680</td>\n",
       "      <td>0.060618</td>\n",
       "      <td>0.031053</td>\n",
       "      <td>0.028702</td>\n",
       "      <td>-0.047347</td>\n",
       "      <td>-0.054446</td>\n",
       "      <td>0.071210</td>\n",
       "      <td>0.133599</td>\n",
       "      <td>0.135612</td>\n",
       "      <td>1.165576</td>\n",
       "    </tr>\n",
       "    <tr>\n",
       "      <th>4</th>\n",
       "      <td>-0.070900</td>\n",
       "      <td>-0.044642</td>\n",
       "      <td>0.039062</td>\n",
       "      <td>-0.033214</td>\n",
       "      <td>-0.012577</td>\n",
       "      <td>-0.034508</td>\n",
       "      <td>-0.024993</td>\n",
       "      <td>-0.002592</td>\n",
       "      <td>0.067736</td>\n",
       "      <td>-0.013504</td>\n",
       "      <td>1.986025</td>\n",
       "    </tr>\n",
       "  </tbody>\n",
       "</table>\n",
       "</div>"
      ],
      "text/plain": [
       "         0         1         2         3         4         5         6   \\\n",
       "0  0.009016 -0.044642 -0.032073 -0.026328  0.042462 -0.010395  0.159089   \n",
       "1  0.005383  0.050680  0.034751 -0.001080  0.152538  0.198788 -0.061809   \n",
       "2 -0.038207 -0.044642  0.067085 -0.060757 -0.029088 -0.023234 -0.010266   \n",
       "3  0.045341  0.050680  0.060618  0.031053  0.028702 -0.047347 -0.054446   \n",
       "4 -0.070900 -0.044642  0.039062 -0.033214 -0.012577 -0.034508 -0.024993   \n",
       "\n",
       "         7         8         9         10  \n",
       "0 -0.076395 -0.011901 -0.038357 -0.828744  \n",
       "1  0.185234  0.015567  0.073480 -0.866611  \n",
       "2 -0.002592 -0.001499  0.019633 -0.942345  \n",
       "3  0.071210  0.133599  0.135612  1.165576  \n",
       "4 -0.002592  0.067736 -0.013504  1.986025  "
      ]
     },
     "execution_count": 192,
     "metadata": {},
     "output_type": "execute_result"
    }
   ],
   "source": [
    "context_input = torch.cat((X_train_torch[C_idx], y_train_scaled[C_idx].reshape(-1, 1)), axis=1)\n",
    "pd.DataFrame(context_input)"
   ]
  },
  {
   "cell_type": "code",
   "execution_count": 193,
   "id": "f7cb874e",
   "metadata": {},
   "outputs": [
    {
     "data": {
      "text/plain": [
       "torch.Size([5, 32])"
      ]
     },
     "execution_count": 193,
     "metadata": {},
     "output_type": "execute_result"
    }
   ],
   "source": [
    "encoder(context_input).shape"
   ]
  },
  {
   "cell_type": "code",
   "execution_count": 194,
   "id": "4ba0fae3",
   "metadata": {},
   "outputs": [
    {
     "data": {
      "text/plain": [
       "torch.Size([32])"
      ]
     },
     "execution_count": 194,
     "metadata": {},
     "output_type": "execute_result"
    }
   ],
   "source": [
    "encoder(context_input).mean(axis=0).shape\n"
   ]
  },
  {
   "cell_type": "code",
   "execution_count": 195,
   "id": "7f66380f",
   "metadata": {},
   "outputs": [],
   "source": [
    "# Now we will build the decoder\n",
    "\n",
    "class Decoder(nn.Module):\n",
    "    def __init__(self, E=32, l1_size=32, l2_size=32, l2_reg=0.0):\n",
    "        super(Decoder, self).__init__()\n",
    "        self.l1 = nn.Linear(E, l1_size)\n",
    "        self.l2 = nn.Linear(l1_size, l2_size)\n",
    "        self.l3 = nn.Linear(l2_size, 1)\n",
    "        self.l2_reg = l2_reg\n",
    "        self.relu = nn.ReLU()\n",
    "        \n",
    "    def forward(self, x):\n",
    "        x = self.relu(self.l1(x))\n",
    "        x = self.relu(self.l2(x))\n",
    "        x = self.relu(self.l3(x))\n",
    "        return x"
   ]
  },
  {
   "cell_type": "code",
   "execution_count": 196,
   "id": "f562bde2",
   "metadata": {},
   "outputs": [
    {
     "data": {
      "text/plain": [
       "torch.Size([2, 32])"
      ]
     },
     "execution_count": 196,
     "metadata": {},
     "output_type": "execute_result"
    }
   ],
   "source": [
    "# Pass Q query vectors and the context vectors through the decoder\n",
    "\n",
    "decoder = Decoder(E =32 + D)\n",
    "mean_context = encoder(context_input).mean(axis=0)\n",
    "# Repeat the mean context vector Q times\n",
    "mean_context = mean_context.repeat(Q, 1)\n",
    "mean_context.shape"
   ]
  },
  {
   "cell_type": "code",
   "execution_count": 197,
   "id": "802dac26",
   "metadata": {},
   "outputs": [
    {
     "data": {
      "text/plain": [
       "torch.Size([2, 10])"
      ]
     },
     "execution_count": 197,
     "metadata": {},
     "output_type": "execute_result"
    }
   ],
   "source": [
    "query = X_train_torch[Q_idx]\n",
    "query.shape"
   ]
  },
  {
   "cell_type": "code",
   "execution_count": 198,
   "id": "c9a60851",
   "metadata": {},
   "outputs": [
    {
     "data": {
      "text/plain": [
       "torch.Size([2, 42])"
      ]
     },
     "execution_count": 198,
     "metadata": {},
     "output_type": "execute_result"
    }
   ],
   "source": [
    "input_decoder = torch.cat((query, mean_context), axis=1)\n",
    "input_decoder.shape"
   ]
  },
  {
   "cell_type": "code",
   "execution_count": 199,
   "id": "67932400",
   "metadata": {},
   "outputs": [
    {
     "data": {
      "text/plain": [
       "torch.Size([2, 1])"
      ]
     },
     "execution_count": 199,
     "metadata": {},
     "output_type": "execute_result"
    }
   ],
   "source": [
    "decoder(input_decoder).shape"
   ]
  },
  {
   "cell_type": "code",
   "execution_count": 200,
   "id": "a6469b9c",
   "metadata": {},
   "outputs": [],
   "source": [
    "# Building a meta learning class\n",
    "\n",
    "class Meta(nn.Module):\n",
    "    def __init__(self, D = X_train_torch.shape[1], E = 32,  C = 10, Q = 2, l1_size=32, l2_size=32, l2_reg=0.0):\n",
    "        super(Meta, self).__init__()\n",
    "        self.encoder = Encoder(D + 1, l1_size, l2_size, E, l2_reg)\n",
    "        self.decoder = Decoder(E + D, l1_size, l2_size, l2_reg)\n",
    "        self.D = D\n",
    "        self.E = E\n",
    "        self.C = C\n",
    "        self.Q = Q\n",
    "        self.l2_reg = l2_reg\n",
    "\n",
    "    def forward(self, context_input, query):\n",
    "        mean_context = self.encoder(context_input).mean(axis=0)\n",
    "        # Repeat the mean context vector Q times\n",
    "        mean_context = mean_context.repeat(self.Q, 1)\n",
    "        input_decoder = torch.cat((query, mean_context), axis=1)\n",
    "        return self.decoder(input_decoder)\n"
   ]
  },
  {
   "cell_type": "code",
   "execution_count": 201,
   "id": "be1cb370",
   "metadata": {},
   "outputs": [
    {
     "data": {
      "text/plain": [
       "tensor([[0.],\n",
       "        [0.]], grad_fn=<ReluBackward0>)"
      ]
     },
     "execution_count": 201,
     "metadata": {},
     "output_type": "execute_result"
    }
   ],
   "source": [
    "m = Meta()\n",
    "m(context_input, query)"
   ]
  },
  {
   "cell_type": "code",
   "execution_count": 202,
   "id": "03eee03e",
   "metadata": {},
   "outputs": [],
   "source": [
    "# Create a function to get the context and query vectors\n",
    "\n",
    "def get_context_query(X, y, C, Q):\n",
    "    C_idx = np.random.choice(X.shape[0], C, replace=False)\n",
    "    C_idx = torch.tensor(C_idx)\n",
    "    all_idx = np.arange(X.shape[0])\n",
    "    Q_idx = np.random.choice(np.setdiff1d(all_idx, C_idx), Q, replace=False)\n",
    "    Q_idx = torch.tensor(Q_idx)\n",
    "    context_input = torch.cat((X[C_idx], y[C_idx].reshape(-1, 1)), axis=1)\n",
    "    query = X[Q_idx]\n",
    "    return context_input, query, y[Q_idx]"
   ]
  },
  {
   "cell_type": "code",
   "execution_count": 203,
   "id": "bcfad840",
   "metadata": {},
   "outputs": [
    {
     "data": {
      "text/plain": [
       "(tensor([[ 8.1666e-02,  5.0680e-02,  1.3387e-03,  3.5644e-02,  1.2639e-01,\n",
       "           9.1065e-02,  1.9187e-02,  3.4309e-02,  8.4495e-02, -3.0072e-02,\n",
       "           1.9600e+02],\n",
       "         [-5.2738e-02,  5.0680e-02, -1.1595e-02,  5.6301e-02,  5.6221e-02,\n",
       "           7.2902e-02, -3.9719e-02,  7.1210e-02,  3.0566e-02, -5.2198e-03,\n",
       "           1.8100e+02],\n",
       "         [ 1.7505e-03, -4.4642e-02, -4.0503e-03, -5.6706e-03, -8.4487e-03,\n",
       "          -2.3861e-02,  5.2322e-02, -3.9493e-02, -8.9440e-03, -1.3504e-02,\n",
       "           8.8000e+01],\n",
       "         [-6.3635e-02,  5.0680e-02,  9.6186e-02,  1.0450e-01, -2.9449e-03,\n",
       "          -4.7585e-03, -6.5845e-03, -2.5923e-03,  2.2692e-02,  7.3480e-02,\n",
       "           2.7400e+02],\n",
       "         [-3.8207e-02, -4.4642e-02,  9.9612e-03, -4.6985e-02, -5.9359e-02,\n",
       "          -5.2983e-02, -1.0266e-02, -3.9493e-02, -1.5998e-02, -4.2499e-02,\n",
       "           2.1000e+02],\n",
       "         [ 3.0811e-02,  5.0680e-02, -8.3616e-03,  4.6580e-03,  1.4942e-02,\n",
       "           2.7496e-02,  8.1421e-03, -8.1274e-03, -2.9528e-02,  5.6912e-02,\n",
       "           1.7700e+02],\n",
       "         [-5.5146e-03,  5.0680e-02, -4.1774e-02, -4.3542e-02, -7.9998e-02,\n",
       "          -7.6156e-02, -3.2356e-02, -3.9493e-02,  1.0226e-02, -9.3619e-03,\n",
       "           1.7800e+02],\n",
       "         [-1.8820e-03, -4.4642e-02,  5.4152e-02, -6.6495e-02,  7.2732e-02,\n",
       "           5.6619e-02, -4.3401e-02,  8.4863e-02,  8.4495e-02,  4.8628e-02,\n",
       "           1.9200e+02],\n",
       "         [ 5.3831e-03, -4.4642e-02,  5.9541e-02, -5.6166e-02,  2.4574e-02,\n",
       "           5.2861e-02, -4.3401e-02,  5.0914e-02, -4.2199e-03, -3.0072e-02,\n",
       "           9.1000e+01],\n",
       "         [ 6.7136e-02, -4.4642e-02, -3.8540e-02, -2.6328e-02, -3.1840e-02,\n",
       "          -2.6366e-02,  8.1421e-03, -3.9493e-02, -2.7129e-02,  3.0644e-03,\n",
       "           1.2700e+02]]),\n",
       " tensor([[-0.0418, -0.0446, -0.0493, -0.0367, -0.0071, -0.0226,  0.0855, -0.0395,\n",
       "          -0.0665,  0.0072],\n",
       "         [-0.0891, -0.0446, -0.0612, -0.0263, -0.0552, -0.0545,  0.0413, -0.0764,\n",
       "          -0.0939, -0.0549]]),\n",
       " tensor([128.,  99.]))"
      ]
     },
     "execution_count": 203,
     "metadata": {},
     "output_type": "execute_result"
    }
   ],
   "source": [
    "get_context_query(X_train_torch, y_train_torch, 10, 2)"
   ]
  },
  {
   "cell_type": "code",
   "execution_count": 204,
   "id": "96b10654",
   "metadata": {},
   "outputs": [
    {
     "name": "stdout",
     "output_type": "stream",
     "text": [
      "Epoch 0 - Train loss: 0.9213696718215942\n",
      "Epoch 100 - Train loss: 0.4558916985988617\n",
      "Epoch 200 - Train loss: 0.8285228610038757\n",
      "Epoch 300 - Train loss: 1.2891581058502197\n",
      "Epoch 400 - Train loss: 0.6848188042640686\n",
      "Epoch 500 - Train loss: 1.267048954963684\n",
      "Epoch 600 - Train loss: 1.5666141510009766\n",
      "Epoch 700 - Train loss: 0.12341234087944031\n",
      "Epoch 800 - Train loss: 1.0183466672897339\n",
      "Epoch 900 - Train loss: 1.2150161266326904\n",
      "Epoch 1000 - Train loss: 0.5613757371902466\n",
      "Epoch 1100 - Train loss: 0.8400710821151733\n",
      "Epoch 1200 - Train loss: 0.9052169919013977\n",
      "Epoch 1300 - Train loss: 1.4312090873718262\n",
      "Epoch 1400 - Train loss: 0.7862072587013245\n",
      "Epoch 1500 - Train loss: 0.06718450784683228\n",
      "Epoch 1600 - Train loss: 1.155807614326477\n",
      "Epoch 1700 - Train loss: 1.9417030811309814\n",
      "Epoch 1800 - Train loss: 0.8964922428131104\n",
      "Epoch 1900 - Train loss: 0.1502131223678589\n"
     ]
    }
   ],
   "source": [
    "# Training loop\n",
    "\n",
    "train_loss = []\n",
    "val_losses = []\n",
    "test_losses = []\n",
    "for i in range(2000):\n",
    "    context_input, query, y_query = get_context_query(X_train_torch, y_train_scaled, 10, 2)\n",
    "    y_pred = m(context_input, query)\n",
    "    loss = criterion(y_pred, y_query)\n",
    "    optimizer.zero_grad()\n",
    "    loss.backward()\n",
    "    optimizer.step()\n",
    "    train_loss.append(loss.item())\n",
    "    if i % 100 == 0:\n",
    "        print(f\"Epoch {i} - Train loss: {loss.item()}\")\n",
    "\n"
   ]
  },
  {
   "cell_type": "code",
   "execution_count": 205,
   "id": "6fa197fe",
   "metadata": {},
   "outputs": [
    {
     "data": {
      "text/plain": [
       "[<matplotlib.lines.Line2D at 0x198ad2c40>]"
      ]
     },
     "execution_count": 205,
     "metadata": {},
     "output_type": "execute_result"
    },
    {
     "data": {
      "image/png": "[encoded data removed]",
      "text/plain": [
       "<Figure size 640x480 with 1 Axes>"
      ]
     },
     "metadata": {
      "image/png": {
       "height": 422,
       "width": 540
      }
     },
     "output_type": "display_data"
    }
   ],
   "source": [
    "plt.plot(train_loss)"
   ]
  },
  {
   "cell_type": "code",
   "execution_count": 206,
   "id": "f61f3470",
   "metadata": {},
   "outputs": [
    {
     "data": {
      "text/plain": [
       "torch.Size([10, 11])"
      ]
     },
     "execution_count": 206,
     "metadata": {},
     "output_type": "execute_result"
    }
   ],
   "source": [
    "context_input, _, _ = get_context_query(X_train_torch, y_train_torch, 10, query.shape[0])\n",
    "context_input.shape"
   ]
  },
  {
   "cell_type": "code",
   "execution_count": 207,
   "id": "e5d878e8",
   "metadata": {},
   "outputs": [
    {
     "data": {
      "text/plain": [
       "torch.Size([111, 10])"
      ]
     },
     "execution_count": 207,
     "metadata": {},
     "output_type": "execute_result"
    }
   ],
   "source": [
    "X_test_torch.shape"
   ]
  },
  {
   "cell_type": "code",
   "execution_count": 208,
   "id": "7fac95ee",
   "metadata": {},
   "outputs": [
    {
     "data": {
      "text/plain": [
       "torch.Size([2, 10])"
      ]
     },
     "execution_count": 208,
     "metadata": {},
     "output_type": "execute_result"
    }
   ],
   "source": [
    "query.shape"
   ]
  },
  {
   "cell_type": "code",
   "execution_count": 209,
   "id": "2d538c55",
   "metadata": {},
   "outputs": [
    {
     "data": {
      "text/plain": [
       "torch.Size([10, 11])"
      ]
     },
     "execution_count": 209,
     "metadata": {},
     "output_type": "execute_result"
    }
   ],
   "source": [
    "context_input.shape"
   ]
  },
  {
   "cell_type": "code",
   "execution_count": 210,
   "id": "1fe8d270",
   "metadata": {},
   "outputs": [
    {
     "name": "stdout",
     "output_type": "stream",
     "text": [
      "Test loss: 72.43473815917969\n"
     ]
    }
   ],
   "source": [
    "# Use whole of the test set as the query set\n",
    "query = X_test_torch\n",
    "y_query = y_test_torch\n",
    "\n",
    "# get context from the training set\n",
    "context_input, _, _ = get_context_query(X_train_torch, y_train_torch, 10, query.shape[0])\n",
    "\n",
    "m = Meta(C=10, Q=query.shape[0])\n",
    "\n",
    "y_pred = m(context_input, query)\n",
    "\n",
    "# Use inverse transform to get the original values\n",
    "\n",
    "y_pred = scaler.inverse_transform(y_pred.detach().numpy())\n",
    "print(f\"Test loss: {np.sqrt(mean_squared_error(y_query, y_pred))}\")\n"
   ]
  },
  {
   "cell_type": "code",
   "execution_count": 211,
   "id": "69513933",
   "metadata": {},
   "outputs": [
    {
     "data": {
      "text/html": [
       "<div>\n",
       "<style scoped>\n",
       "    .dataframe tbody tr th:only-of-type {\n",
       "        vertical-align: middle;\n",
       "    }\n",
       "\n",
       "    .dataframe tbody tr th {\n",
       "        vertical-align: top;\n",
       "    }\n",
       "\n",
       "    .dataframe thead th {\n",
       "        text-align: right;\n",
       "    }\n",
       "</style>\n",
       "<table border=\"1\" class=\"dataframe\">\n",
       "  <thead>\n",
       "    <tr style=\"text-align: right;\">\n",
       "      <th></th>\n",
       "      <th>y_pred</th>\n",
       "      <th>y_query</th>\n",
       "    </tr>\n",
       "  </thead>\n",
       "  <tbody>\n",
       "    <tr>\n",
       "      <th>0</th>\n",
       "      <td>152.657257</td>\n",
       "      <td>78.0</td>\n",
       "    </tr>\n",
       "    <tr>\n",
       "      <th>1</th>\n",
       "      <td>152.657257</td>\n",
       "      <td>152.0</td>\n",
       "    </tr>\n",
       "    <tr>\n",
       "      <th>2</th>\n",
       "      <td>152.657257</td>\n",
       "      <td>200.0</td>\n",
       "    </tr>\n",
       "    <tr>\n",
       "      <th>3</th>\n",
       "      <td>152.657257</td>\n",
       "      <td>59.0</td>\n",
       "    </tr>\n",
       "    <tr>\n",
       "      <th>4</th>\n",
       "      <td>152.657257</td>\n",
       "      <td>311.0</td>\n",
       "    </tr>\n",
       "    <tr>\n",
       "      <th>...</th>\n",
       "      <td>...</td>\n",
       "      <td>...</td>\n",
       "    </tr>\n",
       "    <tr>\n",
       "      <th>106</th>\n",
       "      <td>152.657257</td>\n",
       "      <td>281.0</td>\n",
       "    </tr>\n",
       "    <tr>\n",
       "      <th>107</th>\n",
       "      <td>152.657257</td>\n",
       "      <td>281.0</td>\n",
       "    </tr>\n",
       "    <tr>\n",
       "      <th>108</th>\n",
       "      <td>152.657257</td>\n",
       "      <td>214.0</td>\n",
       "    </tr>\n",
       "    <tr>\n",
       "      <th>109</th>\n",
       "      <td>152.657257</td>\n",
       "      <td>96.0</td>\n",
       "    </tr>\n",
       "    <tr>\n",
       "      <th>110</th>\n",
       "      <td>152.657257</td>\n",
       "      <td>146.0</td>\n",
       "    </tr>\n",
       "  </tbody>\n",
       "</table>\n",
       "<p>111 rows × 2 columns</p>\n",
       "</div>"
      ],
      "text/plain": [
       "         y_pred  y_query\n",
       "0    152.657257     78.0\n",
       "1    152.657257    152.0\n",
       "2    152.657257    200.0\n",
       "3    152.657257     59.0\n",
       "4    152.657257    311.0\n",
       "..          ...      ...\n",
       "106  152.657257    281.0\n",
       "107  152.657257    281.0\n",
       "108  152.657257    214.0\n",
       "109  152.657257     96.0\n",
       "110  152.657257    146.0\n",
       "\n",
       "[111 rows x 2 columns]"
      ]
     },
     "execution_count": 211,
     "metadata": {},
     "output_type": "execute_result"
    }
   ],
   "source": [
    "pd.DataFrame({\"y_pred\": y_pred.reshape(-1), \"y_query\": y_query})"
   ]
  },
  {
   "cell_type": "code",
   "execution_count": null,
   "id": "42d5f7e0",
   "metadata": {},
   "outputs": [],
   "source": []
  }
 ],
 "metadata": {
  "kernelspec": {
   "display_name": "base",
   "language": "python",
   "name": "python3"
  },
  "language_info": {
   "codemirror_mode": {
    "name": "ipython",
    "version": 3
   },
   "file_extension": ".py",
   "mimetype": "text/x-python",
   "name": "python",
   "nbconvert_exporter": "python",
   "pygments_lexer": "ipython3",
   "version": "3.9.15"
  },
  "vscode": {
   "interpreter": {
    "hash": "a5a8a649fae9f7dd41e8adc1d2fca9d99b1b7a58cc684de3b9310442441ba4ba"
   }
  }
 },
 "nbformat": 4,
 "nbformat_minor": 5
}
